{
 "cells": [
  {
   "cell_type": "markdown",
   "metadata": {},
   "source": [
    "# Prepare the Data for Modeling and feature importance visual\n",
    "\n",
    "## Feature Selection\n",
    "\n",
    "In this section, I will select specific features for model training. The original dataset contains 265 features, most of which are categorical attributes, dominantly the list of drug names that are approved as pain medications that need special AED licensed prescriber.Here,my main target is to predict the overdoses using the  the list of prescriber specialists with NPI information and the FDA approved drug lists. The data set has only total opiod cliams and total claim counts and i took the standard prescription for opiod drugs is 84 days which is 12 weeks. Therefore, an additional feature was created in the data cleaning, pre processing that shows avg_op_supply which i limit to the standard to be 84 and any ones who prescribes the category of medications under the controlled substance act(CSA). The CSA is used for organizing drugs based on the risk of abuse or harm to users in five and my capestone focuses on the approved by [FDA](https://www.fda.gov/drugs/drugsafety/informationbydrugclass/ucm251735.htm) and [DEA](https://www.deadiversion.usdoj.gov/schedules/) to be prescribed by licensed and certified health professional.  These drug lists that are considered controlled substances under the Controlled Substances Act (CSA) are divided into five schedules.  An updated and complete list of the schedules is published annually in [Title 21 Code of Federal Regulations (C.F.R.) §§ 1308.11 through 1308.15](https://www.deadiversion.usdoj.gov/21cfr/cfr/2108cfrt.htm).\n",
    "\n",
    "Therfore, for analysis and visualization  i only took those physicians who have greater opood cliams from the center for medical services dataset and created a feature average opiod supply  by dividing the total cliam by the opiod cliam and reviewed those specialists who prescribe more than the set limit of 12 weeks and that also become a new feature that measures the length of opiod prescription supply more than 84 days. As been visualized in notebook 1.3, significant amount of prescribers are family physicians, followed by internal medicine,nurse practitioners, Physicain Assistant and physical medicine and rehabilitation. When i group based on speciality and the vsuals can be accessed   [here top 20](https://plot.ly/~kiros/112) and the lists are as follows:-\n",
    "  > $'Cardiology', 'Nephrology', 'Endocrinology', 'Neurology'  'General Practice', 'Internal Medicine', 'Urology'$,   > $'Pulmonary Disease', 'Gastroenterology', 'Family Practice', 'Infectious Disease','Psychiatry'$ \n",
    "  >$'Nurse Practitioner', 'Ophthalmology','Allergy/Immunology', 'Otolaryngology', 'Psychiatry & Neurology'$ , $'Rheumatology', 'Dermatology', 'Obstetrics/Gynecology'$"
   ]
  },
  {
   "cell_type": "code",
   "execution_count": 1,
   "metadata": {},
   "outputs": [],
   "source": [
    "# importing necessary libraries and packages\n",
    "import pandas as pd\n",
    "import numpy as np\n",
    "import seaborn as sns\n",
    "import matplotlib.pyplot as plt\n",
    "from sklearn.model_selection import train_test_split\n",
    "np.random.seed(2018)\n",
    "\n",
    "# Configure visual settings:\n",
    "plt.style.use('fivethirtyeight')\n",
    "sns.set(font_scale=2)\n",
    "cmap = sns.diverging_palette(220, 10, as_cmap=True) # one of the many color mappings\n",
    "sns.set_style('whitegrid')\n",
    "plt.rcParams['figure.figsize'] = (10.0, 8.0) \n",
    "%config InlineBackend.figure_format = 'retina'\n",
    "%matplotlib inline"
   ]
  },
  {
   "cell_type": "code",
   "execution_count": 2,
   "metadata": {},
   "outputs": [
    {
     "name": "stderr",
     "output_type": "stream",
     "text": [
      "/Users/kirosgebremariam/anaconda3/envs/dsi/lib/python3.6/site-packages/IPython/core/interactiveshell.py:2785: DtypeWarning: Columns (5,6) have mixed types. Specify dtype option on import or set low_memory=False.\n",
      "  interactivity=interactivity, compiler=compiler, result=result)\n"
     ]
    },
    {
     "data": {
      "text/html": [
       "<div>\n",
       "<style scoped>\n",
       "    .dataframe tbody tr th:only-of-type {\n",
       "        vertical-align: middle;\n",
       "    }\n",
       "\n",
       "    .dataframe tbody tr th {\n",
       "        vertical-align: top;\n",
       "    }\n",
       "\n",
       "    .dataframe thead th {\n",
       "        text-align: right;\n",
       "    }\n",
       "</style>\n",
       "<table border=\"1\" class=\"dataframe\">\n",
       "  <thead>\n",
       "    <tr style=\"text-align: right;\">\n",
       "      <th></th>\n",
       "      <th>NPI</th>\n",
       "      <th>Gender</th>\n",
       "      <th>State</th>\n",
       "      <th>Credentials</th>\n",
       "      <th>Specialty</th>\n",
       "      <th>NPPES Provider Last Name</th>\n",
       "      <th>NPPES Provider First Name</th>\n",
       "      <th>NPPES Provider ZIP Code</th>\n",
       "      <th>NPPES Provider State</th>\n",
       "      <th>Totalclaimcount</th>\n",
       "      <th>...</th>\n",
       "      <th>VYTORIN</th>\n",
       "      <th>WARFARIN.SODIUM</th>\n",
       "      <th>XARELTO</th>\n",
       "      <th>ZETIA</th>\n",
       "      <th>ZIPRASIDONE.HCL</th>\n",
       "      <th>ZOLPIDEM.TARTRATE</th>\n",
       "      <th>avg_op_supply</th>\n",
       "      <th>op_longer</th>\n",
       "      <th>Opioid_Prescriber</th>\n",
       "      <th>op_prescriber</th>\n",
       "    </tr>\n",
       "  </thead>\n",
       "  <tbody>\n",
       "    <tr>\n",
       "      <th>0</th>\n",
       "      <td>1003002320</td>\n",
       "      <td>M</td>\n",
       "      <td>MS</td>\n",
       "      <td>D.M.D. P.A.</td>\n",
       "      <td>Dentist</td>\n",
       "      <td>EKLUND</td>\n",
       "      <td>D.</td>\n",
       "      <td>39208.0</td>\n",
       "      <td>MS</td>\n",
       "      <td>129</td>\n",
       "      <td>...</td>\n",
       "      <td>0</td>\n",
       "      <td>0</td>\n",
       "      <td>0</td>\n",
       "      <td>0</td>\n",
       "      <td>0</td>\n",
       "      <td>0</td>\n",
       "      <td>4.5</td>\n",
       "      <td>1.0</td>\n",
       "      <td>1</td>\n",
       "      <td>1.0</td>\n",
       "    </tr>\n",
       "    <tr>\n",
       "      <th>1</th>\n",
       "      <td>1003004771</td>\n",
       "      <td>F</td>\n",
       "      <td>CO</td>\n",
       "      <td>M.D.</td>\n",
       "      <td>Pulmonary Disease</td>\n",
       "      <td>RIGGLE</td>\n",
       "      <td>ERIN</td>\n",
       "      <td>80120.0</td>\n",
       "      <td>CO</td>\n",
       "      <td>537</td>\n",
       "      <td>...</td>\n",
       "      <td>0</td>\n",
       "      <td>0</td>\n",
       "      <td>16</td>\n",
       "      <td>0</td>\n",
       "      <td>0</td>\n",
       "      <td>0</td>\n",
       "      <td>4.5</td>\n",
       "      <td>0.0</td>\n",
       "      <td>0</td>\n",
       "      <td>0.0</td>\n",
       "    </tr>\n",
       "  </tbody>\n",
       "</table>\n",
       "<p>2 rows × 264 columns</p>\n",
       "</div>"
      ],
      "text/plain": [
       "          NPI Gender State  Credentials          Specialty  \\\n",
       "0  1003002320      M    MS  D.M.D. P.A.            Dentist   \n",
       "1  1003004771      F    CO         M.D.  Pulmonary Disease   \n",
       "\n",
       "  NPPES Provider Last Name NPPES Provider First Name  NPPES Provider ZIP Code  \\\n",
       "0                   EKLUND                        D.                  39208.0   \n",
       "1                   RIGGLE                      ERIN                  80120.0   \n",
       "\n",
       "  NPPES Provider State  Totalclaimcount      ...        VYTORIN  \\\n",
       "0                   MS              129      ...              0   \n",
       "1                   CO              537      ...              0   \n",
       "\n",
       "   WARFARIN.SODIUM  XARELTO  ZETIA  ZIPRASIDONE.HCL  ZOLPIDEM.TARTRATE  \\\n",
       "0                0        0      0                0                  0   \n",
       "1                0       16      0                0                  0   \n",
       "\n",
       "   avg_op_supply  op_longer  Opioid_Prescriber  op_prescriber  \n",
       "0            4.5        1.0                  1            1.0  \n",
       "1            4.5        0.0                  0            0.0  \n",
       "\n",
       "[2 rows x 264 columns]"
      ]
     },
     "execution_count": 2,
     "metadata": {},
     "output_type": "execute_result"
    }
   ],
   "source": [
    "## Read Data\n",
    "df=pd.read_csv('./inputs/cleaned_prescriber_info18.csv')\n",
    "df.head()[:2]"
   ]
  },
  {
   "cell_type": "code",
   "execution_count": 3,
   "metadata": {},
   "outputs": [
    {
     "name": "stdout",
     "output_type": "stream",
     "text": [
      "(25000, 264)\n"
     ]
    }
   ],
   "source": [
    "print(df.shape)"
   ]
  },
  {
   "cell_type": "markdown",
   "metadata": {},
   "source": [
    "We have a high dimensional data set again. How can we create an effective predictive model quickily on such a complicated data-set?\n",
    "\n"
   ]
  },
  {
   "cell_type": "markdown",
   "metadata": {},
   "source": [
    "### Data Proprecessing"
   ]
  },
  {
   "cell_type": "markdown",
   "metadata": {},
   "source": [
    "Even a quick and dirty classification model requires the transformation of non-numeric feature, in order to enable Python to identify the variable. My method was so 'dirty' that I even included misleading variables in my model. Now I will modify my Kernel to a more completed, accurate one."
   ]
  },
  {
   "cell_type": "code",
   "execution_count": 4,
   "metadata": {},
   "outputs": [],
   "source": [
    "opioids=pd.read_csv('./inputs/list_opioids.csv')"
   ]
  },
  {
   "cell_type": "code",
   "execution_count": 5,
   "metadata": {},
   "outputs": [],
   "source": [
    "name=opioids['Drug Name']\n",
    "import re\n",
    "new_name=name.apply(lambda x:re.sub(\"\\ |-\",\".\",str(x)))\n",
    "columns=df.columns\n",
    "Abandoned_variables = set(columns).intersection(set(new_name))\n",
    "Kept_variable=[]\n",
    "for each in columns:\n",
    "    if each in Abandoned_variables:\n",
    "        pass\n",
    "    else:\n",
    "        Kept_variable.append(each)"
   ]
  },
  {
   "cell_type": "code",
   "execution_count": 6,
   "metadata": {},
   "outputs": [
    {
     "name": "stdout",
     "output_type": "stream",
     "text": [
      "(25000, 253)\n"
     ]
    }
   ],
   "source": [
    "df=df[Kept_variable]\n",
    "print(df.shape)"
   ]
  },
  {
   "cell_type": "code",
   "execution_count": 7,
   "metadata": {},
   "outputs": [
    {
     "data": {
      "text/html": [
       "<div>\n",
       "<style scoped>\n",
       "    .dataframe tbody tr th:only-of-type {\n",
       "        vertical-align: middle;\n",
       "    }\n",
       "\n",
       "    .dataframe tbody tr th {\n",
       "        vertical-align: top;\n",
       "    }\n",
       "\n",
       "    .dataframe thead th {\n",
       "        text-align: right;\n",
       "    }\n",
       "</style>\n",
       "<table border=\"1\" class=\"dataframe\">\n",
       "  <thead>\n",
       "    <tr style=\"text-align: right;\">\n",
       "      <th></th>\n",
       "      <th>NPI</th>\n",
       "      <th>Gender</th>\n",
       "      <th>State</th>\n",
       "      <th>Credentials</th>\n",
       "      <th>Specialty</th>\n",
       "      <th>NPPES Provider Last Name</th>\n",
       "      <th>NPPES Provider First Name</th>\n",
       "      <th>NPPES Provider ZIP Code</th>\n",
       "      <th>NPPES Provider State</th>\n",
       "      <th>Totalclaimcount</th>\n",
       "      <th>...</th>\n",
       "      <th>VYTORIN</th>\n",
       "      <th>WARFARIN.SODIUM</th>\n",
       "      <th>XARELTO</th>\n",
       "      <th>ZETIA</th>\n",
       "      <th>ZIPRASIDONE.HCL</th>\n",
       "      <th>ZOLPIDEM.TARTRATE</th>\n",
       "      <th>avg_op_supply</th>\n",
       "      <th>op_longer</th>\n",
       "      <th>Opioid_Prescriber</th>\n",
       "      <th>op_prescriber</th>\n",
       "    </tr>\n",
       "  </thead>\n",
       "  <tbody>\n",
       "    <tr>\n",
       "      <th>0</th>\n",
       "      <td>1003002320</td>\n",
       "      <td>M</td>\n",
       "      <td>MS</td>\n",
       "      <td>D.M.D. P.A.</td>\n",
       "      <td>Dentist</td>\n",
       "      <td>EKLUND</td>\n",
       "      <td>D.</td>\n",
       "      <td>39208.0</td>\n",
       "      <td>MS</td>\n",
       "      <td>129</td>\n",
       "      <td>...</td>\n",
       "      <td>0</td>\n",
       "      <td>0</td>\n",
       "      <td>0</td>\n",
       "      <td>0</td>\n",
       "      <td>0</td>\n",
       "      <td>0</td>\n",
       "      <td>4.5</td>\n",
       "      <td>1.0</td>\n",
       "      <td>1</td>\n",
       "      <td>1.0</td>\n",
       "    </tr>\n",
       "    <tr>\n",
       "      <th>1</th>\n",
       "      <td>1003004771</td>\n",
       "      <td>F</td>\n",
       "      <td>CO</td>\n",
       "      <td>M.D.</td>\n",
       "      <td>Pulmonary Disease</td>\n",
       "      <td>RIGGLE</td>\n",
       "      <td>ERIN</td>\n",
       "      <td>80120.0</td>\n",
       "      <td>CO</td>\n",
       "      <td>537</td>\n",
       "      <td>...</td>\n",
       "      <td>0</td>\n",
       "      <td>0</td>\n",
       "      <td>16</td>\n",
       "      <td>0</td>\n",
       "      <td>0</td>\n",
       "      <td>0</td>\n",
       "      <td>4.5</td>\n",
       "      <td>0.0</td>\n",
       "      <td>0</td>\n",
       "      <td>0.0</td>\n",
       "    </tr>\n",
       "  </tbody>\n",
       "</table>\n",
       "<p>2 rows × 253 columns</p>\n",
       "</div>"
      ],
      "text/plain": [
       "          NPI Gender State  Credentials          Specialty  \\\n",
       "0  1003002320      M    MS  D.M.D. P.A.            Dentist   \n",
       "1  1003004771      F    CO         M.D.  Pulmonary Disease   \n",
       "\n",
       "  NPPES Provider Last Name NPPES Provider First Name  NPPES Provider ZIP Code  \\\n",
       "0                   EKLUND                        D.                  39208.0   \n",
       "1                   RIGGLE                      ERIN                  80120.0   \n",
       "\n",
       "  NPPES Provider State  Totalclaimcount      ...        VYTORIN  \\\n",
       "0                   MS              129      ...              0   \n",
       "1                   CO              537      ...              0   \n",
       "\n",
       "   WARFARIN.SODIUM  XARELTO  ZETIA  ZIPRASIDONE.HCL  ZOLPIDEM.TARTRATE  \\\n",
       "0                0        0      0                0                  0   \n",
       "1                0       16      0                0                  0   \n",
       "\n",
       "   avg_op_supply  op_longer  Opioid_Prescriber  op_prescriber  \n",
       "0            4.5        1.0                  1            1.0  \n",
       "1            4.5        0.0                  0            0.0  \n",
       "\n",
       "[2 rows x 253 columns]"
      ]
     },
     "execution_count": 7,
     "metadata": {},
     "output_type": "execute_result"
    }
   ],
   "source": [
    "df.head()[:2]"
   ]
  },
  {
   "cell_type": "code",
   "execution_count": 8,
   "metadata": {},
   "outputs": [],
   "source": [
    "# df['NPPES Provider ZIP Code'] = df['NPPES Provider ZIP Code'].str.replace(',', '')\n",
    "# df['NPPES Provider ZIP Code'] = df['NPPES Provider ZIP Code'].str.replace(' ', '')\n",
    "df['NPPES Provider ZIP Code'] = df['NPPES Provider ZIP Code'].astype(float)"
   ]
  },
  {
   "cell_type": "code",
   "execution_count": 9,
   "metadata": {},
   "outputs": [
    {
     "data": {
      "text/plain": [
       "NPI                                  0\n",
       "Gender                               0\n",
       "State                                0\n",
       "Credentials                         82\n",
       "Specialty                            0\n",
       "NPPES Provider Last Name          2610\n",
       "NPPES Provider First Name         2610\n",
       "NPPES Provider ZIP Code           2610\n",
       "NPPES Provider State                 0\n",
       "Totalclaimcount                      0\n",
       "OpioidClaimCount                     0\n",
       "ACYCLOVIR                            0\n",
       "ADVAIR.DISKUS                        0\n",
       "AGGRENOX                             0\n",
       "ALENDRONATE.SODIUM                   0\n",
       "ALLOPURINOL                          0\n",
       "ALPRAZOLAM                           0\n",
       "AMIODARONE.HCL                       0\n",
       "AMITRIPTYLINE.HCL                    0\n",
       "AMLODIPINE.BESYLATE                  0\n",
       "AMLODIPINE.BESYLATE.BENAZEPRIL       0\n",
       "AMOXICILLIN                          0\n",
       "AMOX.TR.POTASSIUM.CLAVULANATE        0\n",
       "AMPHETAMINE.SALT.COMBO               0\n",
       "ATENOLOL                             0\n",
       "ATORVASTATIN.CALCIUM                 0\n",
       "AVODART                              0\n",
       "AZITHROMYCIN                         0\n",
       "BACLOFEN                             0\n",
       "BD.ULTRA.FINE.PEN.NEEDLE             0\n",
       "                                  ... \n",
       "TERAZOSIN.HCL                        0\n",
       "TIMOLOL.MALEATE                      0\n",
       "TIZANIDINE.HCL                       0\n",
       "TOLTERODINE.TARTRATE.ER              0\n",
       "TOPIRAMATE                           0\n",
       "TOPROL.XL                            0\n",
       "TORSEMIDE                            0\n",
       "TRAVATAN.Z                           0\n",
       "TRAZODONE.HCL                        0\n",
       "TRIAMCINOLONE.ACETONIDE              0\n",
       "TRIAMTERENE.HYDROCHLOROTHIAZID       0\n",
       "VALACYCLOVIR                         0\n",
       "VALSARTAN                            0\n",
       "VALSARTAN.HYDROCHLOROTHIAZIDE        0\n",
       "VENLAFAXINE.HCL                      0\n",
       "VENLAFAXINE.HCL.ER                   0\n",
       "VENTOLIN.HFA                         0\n",
       "VERAPAMIL.ER                         0\n",
       "VESICARE                             0\n",
       "VOLTAREN                             0\n",
       "VYTORIN                              0\n",
       "WARFARIN.SODIUM                      0\n",
       "XARELTO                              0\n",
       "ZETIA                                0\n",
       "ZIPRASIDONE.HCL                      0\n",
       "ZOLPIDEM.TARTRATE                    0\n",
       "avg_op_supply                     2610\n",
       "op_longer                         2610\n",
       "Opioid_Prescriber                    0\n",
       "op_prescriber                     2610\n",
       "Length: 253, dtype: int64"
      ]
     },
     "execution_count": 9,
     "metadata": {},
     "output_type": "execute_result"
    }
   ],
   "source": [
    "df.isnull().sum()"
   ]
  },
  {
   "cell_type": "code",
   "execution_count": 10,
   "metadata": {},
   "outputs": [
    {
     "data": {
      "text/plain": [
       "Index(['NPI', 'Gender', 'State', 'Credentials', 'Specialty',\n",
       "       'NPPES Provider Last Name', 'NPPES Provider First Name',\n",
       "       'NPPES Provider ZIP Code', 'NPPES Provider State', 'Totalclaimcount',\n",
       "       ...\n",
       "       'VYTORIN', 'WARFARIN.SODIUM', 'XARELTO', 'ZETIA', 'ZIPRASIDONE.HCL',\n",
       "       'ZOLPIDEM.TARTRATE', 'avg_op_supply', 'op_longer', 'Opioid_Prescriber',\n",
       "       'op_prescriber'],\n",
       "      dtype='object', length=253)"
      ]
     },
     "execution_count": 10,
     "metadata": {},
     "output_type": "execute_result"
    }
   ],
   "source": [
    "df.columns"
   ]
  },
  {
   "cell_type": "code",
   "execution_count": 11,
   "metadata": {},
   "outputs": [],
   "source": [
    "df.drop(['NPPES Provider Last Name', 'NPPES Provider First Name','NPPES Provider ZIP Code',\n",
    "         'NPPES Provider State'], axis =1, inplace = True)"
   ]
  },
  {
   "cell_type": "code",
   "execution_count": 12,
   "metadata": {},
   "outputs": [
    {
     "data": {
      "text/html": [
       "<div>\n",
       "<style scoped>\n",
       "    .dataframe tbody tr th:only-of-type {\n",
       "        vertical-align: middle;\n",
       "    }\n",
       "\n",
       "    .dataframe tbody tr th {\n",
       "        vertical-align: top;\n",
       "    }\n",
       "\n",
       "    .dataframe thead th {\n",
       "        text-align: right;\n",
       "    }\n",
       "</style>\n",
       "<table border=\"1\" class=\"dataframe\">\n",
       "  <thead>\n",
       "    <tr style=\"text-align: right;\">\n",
       "      <th></th>\n",
       "      <th>NPI</th>\n",
       "      <th>Gender</th>\n",
       "      <th>State</th>\n",
       "      <th>Credentials</th>\n",
       "      <th>Specialty</th>\n",
       "      <th>Totalclaimcount</th>\n",
       "      <th>OpioidClaimCount</th>\n",
       "      <th>ACYCLOVIR</th>\n",
       "      <th>ADVAIR.DISKUS</th>\n",
       "      <th>AGGRENOX</th>\n",
       "      <th>...</th>\n",
       "      <th>VYTORIN</th>\n",
       "      <th>WARFARIN.SODIUM</th>\n",
       "      <th>XARELTO</th>\n",
       "      <th>ZETIA</th>\n",
       "      <th>ZIPRASIDONE.HCL</th>\n",
       "      <th>ZOLPIDEM.TARTRATE</th>\n",
       "      <th>avg_op_supply</th>\n",
       "      <th>op_longer</th>\n",
       "      <th>Opioid_Prescriber</th>\n",
       "      <th>op_prescriber</th>\n",
       "    </tr>\n",
       "  </thead>\n",
       "  <tbody>\n",
       "    <tr>\n",
       "      <th>0</th>\n",
       "      <td>1003002320</td>\n",
       "      <td>M</td>\n",
       "      <td>MS</td>\n",
       "      <td>D.M.D. P.A.</td>\n",
       "      <td>Dentist</td>\n",
       "      <td>129</td>\n",
       "      <td>29</td>\n",
       "      <td>0</td>\n",
       "      <td>0</td>\n",
       "      <td>0</td>\n",
       "      <td>...</td>\n",
       "      <td>0</td>\n",
       "      <td>0</td>\n",
       "      <td>0</td>\n",
       "      <td>0</td>\n",
       "      <td>0</td>\n",
       "      <td>0</td>\n",
       "      <td>4.5</td>\n",
       "      <td>1.0</td>\n",
       "      <td>1</td>\n",
       "      <td>1.0</td>\n",
       "    </tr>\n",
       "    <tr>\n",
       "      <th>1</th>\n",
       "      <td>1003004771</td>\n",
       "      <td>F</td>\n",
       "      <td>CO</td>\n",
       "      <td>M.D.</td>\n",
       "      <td>Pulmonary Disease</td>\n",
       "      <td>537</td>\n",
       "      <td>0</td>\n",
       "      <td>0</td>\n",
       "      <td>61</td>\n",
       "      <td>0</td>\n",
       "      <td>...</td>\n",
       "      <td>0</td>\n",
       "      <td>0</td>\n",
       "      <td>16</td>\n",
       "      <td>0</td>\n",
       "      <td>0</td>\n",
       "      <td>0</td>\n",
       "      <td>4.5</td>\n",
       "      <td>0.0</td>\n",
       "      <td>0</td>\n",
       "      <td>0.0</td>\n",
       "    </tr>\n",
       "  </tbody>\n",
       "</table>\n",
       "<p>2 rows × 249 columns</p>\n",
       "</div>"
      ],
      "text/plain": [
       "          NPI Gender State  Credentials          Specialty  Totalclaimcount  \\\n",
       "0  1003002320      M    MS  D.M.D. P.A.            Dentist              129   \n",
       "1  1003004771      F    CO         M.D.  Pulmonary Disease              537   \n",
       "\n",
       "   OpioidClaimCount  ACYCLOVIR  ADVAIR.DISKUS  AGGRENOX      ...        \\\n",
       "0                29          0              0         0      ...         \n",
       "1                 0          0             61         0      ...         \n",
       "\n",
       "   VYTORIN  WARFARIN.SODIUM  XARELTO  ZETIA  ZIPRASIDONE.HCL  \\\n",
       "0        0                0        0      0                0   \n",
       "1        0                0       16      0                0   \n",
       "\n",
       "   ZOLPIDEM.TARTRATE  avg_op_supply  op_longer  Opioid_Prescriber  \\\n",
       "0                  0            4.5        1.0                  1   \n",
       "1                  0            4.5        0.0                  0   \n",
       "\n",
       "   op_prescriber  \n",
       "0            1.0  \n",
       "1            0.0  \n",
       "\n",
       "[2 rows x 249 columns]"
      ]
     },
     "execution_count": 12,
     "metadata": {},
     "output_type": "execute_result"
    }
   ],
   "source": [
    "df.head()[:2]"
   ]
  },
  {
   "cell_type": "code",
   "execution_count": 13,
   "metadata": {},
   "outputs": [
    {
     "name": "stdout",
     "output_type": "stream",
     "text": [
      "(17500, 249)\n",
      "(7500, 249)\n"
     ]
    }
   ],
   "source": [
    "train,test = train_test_split(df,test_size=0.3,random_state=42)\n",
    "print(train.shape)\n",
    "print(test.shape)"
   ]
  },
  {
   "cell_type": "code",
   "execution_count": 14,
   "metadata": {},
   "outputs": [
    {
     "name": "stderr",
     "output_type": "stream",
     "text": [
      "/Users/kirosgebremariam/anaconda3/envs/dsi/lib/python3.6/site-packages/ipykernel/__main__.py:3: SettingWithCopyWarning: \n",
      "A value is trying to be set on a copy of a slice from a DataFrame.\n",
      "Try using .loc[row_indexer,col_indexer] = value instead\n",
      "\n",
      "See the caveats in the documentation: http://pandas.pydata.org/pandas-docs/stable/indexing.html#indexing-view-versus-copy\n",
      "  app.launch_new_instance()\n",
      "/Users/kirosgebremariam/anaconda3/envs/dsi/lib/python3.6/site-packages/ipykernel/__main__.py:4: SettingWithCopyWarning: \n",
      "A value is trying to be set on a copy of a slice from a DataFrame.\n",
      "Try using .loc[row_indexer,col_indexer] = value instead\n",
      "\n",
      "See the caveats in the documentation: http://pandas.pydata.org/pandas-docs/stable/indexing.html#indexing-view-versus-copy\n"
     ]
    }
   ],
   "source": [
    "Categorical_columns=['Gender','State','Credentials','Specialty']\n",
    "for col in Categorical_columns:\n",
    "    train[col]=pd.factorize(train[col], sort=True)[0]\n",
    "    test[col] =pd.factorize(test[col],sort=True)[0]"
   ]
  },
  {
   "cell_type": "code",
   "execution_count": 15,
   "metadata": {},
   "outputs": [
    {
     "data": {
      "text/html": [
       "<div>\n",
       "<style scoped>\n",
       "    .dataframe tbody tr th:only-of-type {\n",
       "        vertical-align: middle;\n",
       "    }\n",
       "\n",
       "    .dataframe tbody tr th {\n",
       "        vertical-align: top;\n",
       "    }\n",
       "\n",
       "    .dataframe thead th {\n",
       "        text-align: right;\n",
       "    }\n",
       "</style>\n",
       "<table border=\"1\" class=\"dataframe\">\n",
       "  <thead>\n",
       "    <tr style=\"text-align: right;\">\n",
       "      <th></th>\n",
       "      <th>Gender</th>\n",
       "      <th>State</th>\n",
       "      <th>Credentials</th>\n",
       "      <th>Specialty</th>\n",
       "      <th>Totalclaimcount</th>\n",
       "      <th>OpioidClaimCount</th>\n",
       "      <th>ACYCLOVIR</th>\n",
       "      <th>ADVAIR.DISKUS</th>\n",
       "      <th>AGGRENOX</th>\n",
       "      <th>ALENDRONATE.SODIUM</th>\n",
       "      <th>...</th>\n",
       "      <th>VENLAFAXINE.HCL.ER</th>\n",
       "      <th>VENTOLIN.HFA</th>\n",
       "      <th>VERAPAMIL.ER</th>\n",
       "      <th>VESICARE</th>\n",
       "      <th>VOLTAREN</th>\n",
       "      <th>VYTORIN</th>\n",
       "      <th>WARFARIN.SODIUM</th>\n",
       "      <th>XARELTO</th>\n",
       "      <th>ZETIA</th>\n",
       "      <th>ZIPRASIDONE.HCL</th>\n",
       "    </tr>\n",
       "  </thead>\n",
       "  <tbody>\n",
       "    <tr>\n",
       "      <th>4913</th>\n",
       "      <td>0</td>\n",
       "      <td>18</td>\n",
       "      <td>516</td>\n",
       "      <td>48</td>\n",
       "      <td>153</td>\n",
       "      <td>36</td>\n",
       "      <td>0</td>\n",
       "      <td>0</td>\n",
       "      <td>0</td>\n",
       "      <td>0</td>\n",
       "      <td>...</td>\n",
       "      <td>0</td>\n",
       "      <td>0</td>\n",
       "      <td>0</td>\n",
       "      <td>0</td>\n",
       "      <td>0</td>\n",
       "      <td>0</td>\n",
       "      <td>0</td>\n",
       "      <td>0</td>\n",
       "      <td>0</td>\n",
       "      <td>0</td>\n",
       "    </tr>\n",
       "    <tr>\n",
       "      <th>9338</th>\n",
       "      <td>0</td>\n",
       "      <td>6</td>\n",
       "      <td>283</td>\n",
       "      <td>25</td>\n",
       "      <td>229</td>\n",
       "      <td>0</td>\n",
       "      <td>0</td>\n",
       "      <td>0</td>\n",
       "      <td>0</td>\n",
       "      <td>0</td>\n",
       "      <td>...</td>\n",
       "      <td>0</td>\n",
       "      <td>0</td>\n",
       "      <td>0</td>\n",
       "      <td>0</td>\n",
       "      <td>0</td>\n",
       "      <td>0</td>\n",
       "      <td>0</td>\n",
       "      <td>0</td>\n",
       "      <td>14</td>\n",
       "      <td>0</td>\n",
       "    </tr>\n",
       "  </tbody>\n",
       "</table>\n",
       "<p>2 rows × 243 columns</p>\n",
       "</div>"
      ],
      "text/plain": [
       "      Gender  State  Credentials  Specialty  Totalclaimcount  \\\n",
       "4913       0     18          516         48              153   \n",
       "9338       0      6          283         25              229   \n",
       "\n",
       "      OpioidClaimCount  ACYCLOVIR  ADVAIR.DISKUS  AGGRENOX  \\\n",
       "4913                36          0              0         0   \n",
       "9338                 0          0              0         0   \n",
       "\n",
       "      ALENDRONATE.SODIUM       ...         VENLAFAXINE.HCL.ER  VENTOLIN.HFA  \\\n",
       "4913                   0       ...                          0             0   \n",
       "9338                   0       ...                          0             0   \n",
       "\n",
       "      VERAPAMIL.ER  VESICARE  VOLTAREN  VYTORIN  WARFARIN.SODIUM  XARELTO  \\\n",
       "4913             0         0         0        0                0        0   \n",
       "9338             0         0         0        0                0        0   \n",
       "\n",
       "      ZETIA  ZIPRASIDONE.HCL  \n",
       "4913      0                0  \n",
       "9338     14                0  \n",
       "\n",
       "[2 rows x 243 columns]"
      ]
     },
     "execution_count": 15,
     "metadata": {},
     "output_type": "execute_result"
    }
   ],
   "source": [
    "train.iloc[:,1:244][:2]"
   ]
  },
  {
   "cell_type": "code",
   "execution_count": 25,
   "metadata": {},
   "outputs": [
    {
     "data": {
      "text/html": [
       "<div>\n",
       "<style scoped>\n",
       "    .dataframe tbody tr th:only-of-type {\n",
       "        vertical-align: middle;\n",
       "    }\n",
       "\n",
       "    .dataframe tbody tr th {\n",
       "        vertical-align: top;\n",
       "    }\n",
       "\n",
       "    .dataframe thead th {\n",
       "        text-align: right;\n",
       "    }\n",
       "</style>\n",
       "<table border=\"1\" class=\"dataframe\">\n",
       "  <thead>\n",
       "    <tr style=\"text-align: right;\">\n",
       "      <th></th>\n",
       "      <th>Gender</th>\n",
       "      <th>State</th>\n",
       "      <th>Credentials</th>\n",
       "      <th>Specialty</th>\n",
       "      <th>Totalclaimcount</th>\n",
       "      <th>OpioidClaimCount</th>\n",
       "      <th>ACYCLOVIR</th>\n",
       "      <th>ADVAIR.DISKUS</th>\n",
       "      <th>AGGRENOX</th>\n",
       "      <th>ALENDRONATE.SODIUM</th>\n",
       "      <th>...</th>\n",
       "      <th>VENTOLIN.HFA</th>\n",
       "      <th>VERAPAMIL.ER</th>\n",
       "      <th>VESICARE</th>\n",
       "      <th>VOLTAREN</th>\n",
       "      <th>VYTORIN</th>\n",
       "      <th>WARFARIN.SODIUM</th>\n",
       "      <th>XARELTO</th>\n",
       "      <th>ZETIA</th>\n",
       "      <th>ZIPRASIDONE.HCL</th>\n",
       "      <th>ZOLPIDEM.TARTRATE</th>\n",
       "    </tr>\n",
       "  </thead>\n",
       "  <tbody>\n",
       "    <tr>\n",
       "      <th>4913</th>\n",
       "      <td>0</td>\n",
       "      <td>18</td>\n",
       "      <td>516</td>\n",
       "      <td>48</td>\n",
       "      <td>153</td>\n",
       "      <td>36</td>\n",
       "      <td>0</td>\n",
       "      <td>0</td>\n",
       "      <td>0</td>\n",
       "      <td>0</td>\n",
       "      <td>...</td>\n",
       "      <td>0</td>\n",
       "      <td>0</td>\n",
       "      <td>0</td>\n",
       "      <td>0</td>\n",
       "      <td>0</td>\n",
       "      <td>0</td>\n",
       "      <td>0</td>\n",
       "      <td>0</td>\n",
       "      <td>0</td>\n",
       "      <td>0</td>\n",
       "    </tr>\n",
       "    <tr>\n",
       "      <th>9338</th>\n",
       "      <td>0</td>\n",
       "      <td>6</td>\n",
       "      <td>283</td>\n",
       "      <td>25</td>\n",
       "      <td>229</td>\n",
       "      <td>0</td>\n",
       "      <td>0</td>\n",
       "      <td>0</td>\n",
       "      <td>0</td>\n",
       "      <td>0</td>\n",
       "      <td>...</td>\n",
       "      <td>0</td>\n",
       "      <td>0</td>\n",
       "      <td>0</td>\n",
       "      <td>0</td>\n",
       "      <td>0</td>\n",
       "      <td>0</td>\n",
       "      <td>0</td>\n",
       "      <td>14</td>\n",
       "      <td>0</td>\n",
       "      <td>0</td>\n",
       "    </tr>\n",
       "  </tbody>\n",
       "</table>\n",
       "<p>2 rows × 244 columns</p>\n",
       "</div>"
      ],
      "text/plain": [
       "      Gender  State  Credentials  Specialty  Totalclaimcount  \\\n",
       "4913       0     18          516         48              153   \n",
       "9338       0      6          283         25              229   \n",
       "\n",
       "      OpioidClaimCount  ACYCLOVIR  ADVAIR.DISKUS  AGGRENOX  \\\n",
       "4913                36          0              0         0   \n",
       "9338                 0          0              0         0   \n",
       "\n",
       "      ALENDRONATE.SODIUM        ...          VENTOLIN.HFA  VERAPAMIL.ER  \\\n",
       "4913                   0        ...                     0             0   \n",
       "9338                   0        ...                     0             0   \n",
       "\n",
       "      VESICARE  VOLTAREN  VYTORIN  WARFARIN.SODIUM  XARELTO  ZETIA  \\\n",
       "4913         0         0        0                0        0      0   \n",
       "9338         0         0        0                0        0     14   \n",
       "\n",
       "      ZIPRASIDONE.HCL  ZOLPIDEM.TARTRATE  \n",
       "4913                0                  0  \n",
       "9338                0                  0  \n",
       "\n",
       "[2 rows x 244 columns]"
      ]
     },
     "execution_count": 25,
     "metadata": {},
     "output_type": "execute_result"
    }
   ],
   "source": [
    "features=train.iloc[:,1:245]\n",
    "features.head()[:2]"
   ]
  },
  {
   "cell_type": "code",
   "execution_count": 26,
   "metadata": {},
   "outputs": [],
   "source": [
    "import sklearn\n",
    "from sklearn.model_selection import cross_val_score\n",
    "from sklearn.linear_model import LogisticRegression\n",
    "from sklearn.naive_bayes import GaussianNB\n",
    "from sklearn.ensemble import RandomForestClassifier\n",
    "from sklearn.ensemble import GradientBoostingClassifier\n",
    "from sklearn.neighbors import KNeighborsClassifier\n",
    "from sklearn.tree import DecisionTreeClassifier\n",
    "from sklearn.discriminant_analysis import LinearDiscriminantAnalysis\n",
    "from sklearn.ensemble import VotingClassifier"
   ]
  },
  {
   "cell_type": "code",
   "execution_count": 27,
   "metadata": {},
   "outputs": [],
   "source": [
    "features=train.iloc[:,1:245]\n",
    "target = train['Opioid_Prescriber']"
   ]
  },
  {
   "cell_type": "code",
   "execution_count": 28,
   "metadata": {},
   "outputs": [
    {
     "name": "stderr",
     "output_type": "stream",
     "text": [
      "/Users/kirosgebremariam/anaconda3/envs/dsi/lib/python3.6/site-packages/sklearn/model_selection/_split.py:605: Warning: The least populated class in y has only 1 members, which is too few. The minimum number of members in any class cannot be less than n_splits=5.\n",
      "  % (min_groups, self.n_splits)), Warning)\n"
     ]
    },
    {
     "name": "stdout",
     "output_type": "stream",
     "text": [
      "Accuracy: 0.669302 of model Logistic Regression\n"
     ]
    },
    {
     "name": "stderr",
     "output_type": "stream",
     "text": [
      "/Users/kirosgebremariam/anaconda3/envs/dsi/lib/python3.6/site-packages/sklearn/model_selection/_split.py:605: Warning: The least populated class in y has only 1 members, which is too few. The minimum number of members in any class cannot be less than n_splits=5.\n",
      "  % (min_groups, self.n_splits)), Warning)\n"
     ]
    },
    {
     "name": "stdout",
     "output_type": "stream",
     "text": [
      "Accuracy: 0.550866 of model Naive Bayes\n"
     ]
    },
    {
     "name": "stderr",
     "output_type": "stream",
     "text": [
      "/Users/kirosgebremariam/anaconda3/envs/dsi/lib/python3.6/site-packages/sklearn/model_selection/_split.py:605: Warning: The least populated class in y has only 1 members, which is too few. The minimum number of members in any class cannot be less than n_splits=5.\n",
      "  % (min_groups, self.n_splits)), Warning)\n"
     ]
    },
    {
     "name": "stdout",
     "output_type": "stream",
     "text": [
      "Accuracy: 0.877910 of model Random Forest\n"
     ]
    },
    {
     "name": "stderr",
     "output_type": "stream",
     "text": [
      "/Users/kirosgebremariam/anaconda3/envs/dsi/lib/python3.6/site-packages/sklearn/model_selection/_split.py:605: Warning: The least populated class in y has only 1 members, which is too few. The minimum number of members in any class cannot be less than n_splits=5.\n",
      "  % (min_groups, self.n_splits)), Warning)\n"
     ]
    },
    {
     "name": "stdout",
     "output_type": "stream",
     "text": [
      "Accuracy: 0.863012 of model Gradient Boosting\n"
     ]
    },
    {
     "name": "stderr",
     "output_type": "stream",
     "text": [
      "/Users/kirosgebremariam/anaconda3/envs/dsi/lib/python3.6/site-packages/sklearn/model_selection/_split.py:605: Warning: The least populated class in y has only 1 members, which is too few. The minimum number of members in any class cannot be less than n_splits=5.\n",
      "  % (min_groups, self.n_splits)), Warning)\n"
     ]
    },
    {
     "name": "stdout",
     "output_type": "stream",
     "text": [
      "Accuracy: 0.812714 of model KNN\n"
     ]
    },
    {
     "name": "stderr",
     "output_type": "stream",
     "text": [
      "/Users/kirosgebremariam/anaconda3/envs/dsi/lib/python3.6/site-packages/sklearn/model_selection/_split.py:605: Warning: The least populated class in y has only 1 members, which is too few. The minimum number of members in any class cannot be less than n_splits=5.\n",
      "  % (min_groups, self.n_splits)), Warning)\n"
     ]
    },
    {
     "name": "stdout",
     "output_type": "stream",
     "text": [
      "Accuracy: 0.819438 of model Decision Tree\n"
     ]
    },
    {
     "name": "stderr",
     "output_type": "stream",
     "text": [
      "/Users/kirosgebremariam/anaconda3/envs/dsi/lib/python3.6/site-packages/sklearn/model_selection/_split.py:605: Warning: The least populated class in y has only 1 members, which is too few. The minimum number of members in any class cannot be less than n_splits=5.\n",
      "  % (min_groups, self.n_splits)), Warning)\n",
      "/Users/kirosgebremariam/anaconda3/envs/dsi/lib/python3.6/site-packages/sklearn/discriminant_analysis.py:442: UserWarning: The priors do not sum to 1. Renormalizing\n",
      "  UserWarning)\n",
      "/Users/kirosgebremariam/anaconda3/envs/dsi/lib/python3.6/site-packages/sklearn/discriminant_analysis.py:442: UserWarning: The priors do not sum to 1. Renormalizing\n",
      "  UserWarning)\n",
      "/Users/kirosgebremariam/anaconda3/envs/dsi/lib/python3.6/site-packages/sklearn/discriminant_analysis.py:442: UserWarning: The priors do not sum to 1. Renormalizing\n",
      "  UserWarning)\n",
      "/Users/kirosgebremariam/anaconda3/envs/dsi/lib/python3.6/site-packages/sklearn/discriminant_analysis.py:442: UserWarning: The priors do not sum to 1. Renormalizing\n",
      "  UserWarning)\n"
     ]
    },
    {
     "name": "stdout",
     "output_type": "stream",
     "text": [
      "Accuracy: 0.733602 of model LDA\n"
     ]
    },
    {
     "name": "stderr",
     "output_type": "stream",
     "text": [
      "/Users/kirosgebremariam/anaconda3/envs/dsi/lib/python3.6/site-packages/sklearn/model_selection/_split.py:605: Warning: The least populated class in y has only 1 members, which is too few. The minimum number of members in any class cannot be less than n_splits=5.\n",
      "  % (min_groups, self.n_splits)), Warning)\n",
      "/Users/kirosgebremariam/anaconda3/envs/dsi/lib/python3.6/site-packages/sklearn/preprocessing/label.py:151: DeprecationWarning: The truth value of an empty array is ambiguous. Returning False, but in future this will result in an error. Use `array.size > 0` to check that an array is not empty.\n",
      "  if diff:\n",
      "/Users/kirosgebremariam/anaconda3/envs/dsi/lib/python3.6/site-packages/sklearn/discriminant_analysis.py:442: UserWarning: The priors do not sum to 1. Renormalizing\n",
      "  UserWarning)\n",
      "/Users/kirosgebremariam/anaconda3/envs/dsi/lib/python3.6/site-packages/sklearn/preprocessing/label.py:151: DeprecationWarning: The truth value of an empty array is ambiguous. Returning False, but in future this will result in an error. Use `array.size > 0` to check that an array is not empty.\n",
      "  if diff:\n",
      "/Users/kirosgebremariam/anaconda3/envs/dsi/lib/python3.6/site-packages/sklearn/discriminant_analysis.py:442: UserWarning: The priors do not sum to 1. Renormalizing\n",
      "  UserWarning)\n",
      "/Users/kirosgebremariam/anaconda3/envs/dsi/lib/python3.6/site-packages/sklearn/preprocessing/label.py:151: DeprecationWarning: The truth value of an empty array is ambiguous. Returning False, but in future this will result in an error. Use `array.size > 0` to check that an array is not empty.\n",
      "  if diff:\n",
      "/Users/kirosgebremariam/anaconda3/envs/dsi/lib/python3.6/site-packages/sklearn/discriminant_analysis.py:442: UserWarning: The priors do not sum to 1. Renormalizing\n",
      "  UserWarning)\n",
      "/Users/kirosgebremariam/anaconda3/envs/dsi/lib/python3.6/site-packages/sklearn/preprocessing/label.py:151: DeprecationWarning: The truth value of an empty array is ambiguous. Returning False, but in future this will result in an error. Use `array.size > 0` to check that an array is not empty.\n",
      "  if diff:\n",
      "/Users/kirosgebremariam/anaconda3/envs/dsi/lib/python3.6/site-packages/sklearn/discriminant_analysis.py:442: UserWarning: The priors do not sum to 1. Renormalizing\n",
      "  UserWarning)\n",
      "/Users/kirosgebremariam/anaconda3/envs/dsi/lib/python3.6/site-packages/sklearn/preprocessing/label.py:151: DeprecationWarning: The truth value of an empty array is ambiguous. Returning False, but in future this will result in an error. Use `array.size > 0` to check that an array is not empty.\n",
      "  if diff:\n"
     ]
    },
    {
     "name": "stdout",
     "output_type": "stream",
     "text": [
      "Accuracy: 0.865751 of model Ensemble\n"
     ]
    }
   ],
   "source": [
    "Name=[]\n",
    "Accuracy=[]\n",
    "model1=LogisticRegression(random_state=22,C=0.000000001,solver='liblinear',max_iter=200)\n",
    "model2=GaussianNB()\n",
    "model3=RandomForestClassifier(n_estimators=200,random_state=22)\n",
    "model4=GradientBoostingClassifier(n_estimators=200)\n",
    "model5=KNeighborsClassifier()\n",
    "model6=DecisionTreeClassifier()\n",
    "model7=LinearDiscriminantAnalysis()\n",
    "Ensembled_model=VotingClassifier(estimators=[('lr', model1), ('gn', model2), ('rf', model3),('gb',model4),('kn',model5),('dt',model6),('lda',model7)], voting='hard')\n",
    "for model, label in zip([model1, model2, model3, model4,model5,model6,model7,Ensembled_model], ['Logistic Regression','Naive Bayes','Random Forest', 'Gradient Boosting','KNN','Decision Tree','LDA', 'Ensemble']):\n",
    "    scores = cross_val_score(model, features, target, cv=5, scoring='accuracy')\n",
    "    Accuracy.append(scores.mean())\n",
    "    Name.append(model.__class__.__name__)\n",
    "    print(\"Accuracy: %f of model %s\" % (scores.mean(),label))"
   ]
  },
  {
   "cell_type": "markdown",
   "metadata": {},
   "source": [
    "For the model with the accuracy worse than 80%, we drop them and re_ensemble the model."
   ]
  },
  {
   "cell_type": "code",
   "execution_count": 20,
   "metadata": {},
   "outputs": [
    {
     "name": "stderr",
     "output_type": "stream",
     "text": [
      "/Users/kirosgebremariam/anaconda3/envs/dsi/lib/python3.6/site-packages/sklearn/model_selection/_split.py:605: Warning: The least populated class in y has only 1 members, which is too few. The minimum number of members in any class cannot be less than n_splits=5.\n",
      "  % (min_groups, self.n_splits)), Warning)\n"
     ]
    },
    {
     "name": "stdout",
     "output_type": "stream",
     "text": [
      "Accuracy: 0.877110 of model Random Forest\n"
     ]
    },
    {
     "name": "stderr",
     "output_type": "stream",
     "text": [
      "/Users/kirosgebremariam/anaconda3/envs/dsi/lib/python3.6/site-packages/sklearn/model_selection/_split.py:605: Warning: The least populated class in y has only 1 members, which is too few. The minimum number of members in any class cannot be less than n_splits=5.\n",
      "  % (min_groups, self.n_splits)), Warning)\n"
     ]
    },
    {
     "name": "stdout",
     "output_type": "stream",
     "text": [
      "Accuracy: 0.863146 of model Gradient Boosting\n"
     ]
    },
    {
     "name": "stderr",
     "output_type": "stream",
     "text": [
      "/Users/kirosgebremariam/anaconda3/envs/dsi/lib/python3.6/site-packages/sklearn/model_selection/_split.py:605: Warning: The least populated class in y has only 1 members, which is too few. The minimum number of members in any class cannot be less than n_splits=5.\n",
      "  % (min_groups, self.n_splits)), Warning)\n",
      "/Users/kirosgebremariam/anaconda3/envs/dsi/lib/python3.6/site-packages/sklearn/preprocessing/label.py:151: DeprecationWarning: The truth value of an empty array is ambiguous. Returning False, but in future this will result in an error. Use `array.size > 0` to check that an array is not empty.\n",
      "  if diff:\n",
      "/Users/kirosgebremariam/anaconda3/envs/dsi/lib/python3.6/site-packages/sklearn/preprocessing/label.py:151: DeprecationWarning: The truth value of an empty array is ambiguous. Returning False, but in future this will result in an error. Use `array.size > 0` to check that an array is not empty.\n",
      "  if diff:\n",
      "/Users/kirosgebremariam/anaconda3/envs/dsi/lib/python3.6/site-packages/sklearn/preprocessing/label.py:151: DeprecationWarning: The truth value of an empty array is ambiguous. Returning False, but in future this will result in an error. Use `array.size > 0` to check that an array is not empty.\n",
      "  if diff:\n",
      "/Users/kirosgebremariam/anaconda3/envs/dsi/lib/python3.6/site-packages/sklearn/preprocessing/label.py:151: DeprecationWarning: The truth value of an empty array is ambiguous. Returning False, but in future this will result in an error. Use `array.size > 0` to check that an array is not empty.\n",
      "  if diff:\n",
      "/Users/kirosgebremariam/anaconda3/envs/dsi/lib/python3.6/site-packages/sklearn/preprocessing/label.py:151: DeprecationWarning: The truth value of an empty array is ambiguous. Returning False, but in future this will result in an error. Use `array.size > 0` to check that an array is not empty.\n",
      "  if diff:\n"
     ]
    },
    {
     "name": "stdout",
     "output_type": "stream",
     "text": [
      "Accuracy: 0.873749 of model Ensemble\n"
     ]
    }
   ],
   "source": [
    "Name_2=[]\n",
    "Accuracy_2=[]\n",
    "Ensembled_model_2=VotingClassifier(estimators=[('rf', model3),('gb',model4)], voting='hard')\n",
    "for model, label in zip([model3, model4,Ensembled_model_2], ['Random Forest', 'Gradient Boosting','Ensemble']):\n",
    "    scores = cross_val_score(model, features, target, cv=5, scoring='accuracy')\n",
    "    Accuracy_2.append(scores.mean())\n",
    "    Name_2.append(model.__class__.__name__)\n",
    "    print(\"Accuracy: %f of model %s\" % (scores.mean(),label))"
   ]
  },
  {
   "cell_type": "markdown",
   "metadata": {},
   "source": [
    "We can see that the ensembled model putting two models together performed better than the other three models. I will further use the test set to compare the performances between models."
   ]
  },
  {
   "cell_type": "markdown",
   "metadata": {},
   "source": [
    "#### Evaluating with the test set"
   ]
  },
  {
   "cell_type": "code",
   "execution_count": 29,
   "metadata": {},
   "outputs": [
    {
     "name": "stderr",
     "output_type": "stream",
     "text": [
      "/Users/kirosgebremariam/anaconda3/envs/dsi/lib/python3.6/site-packages/sklearn/preprocessing/label.py:151: DeprecationWarning: The truth value of an empty array is ambiguous. Returning False, but in future this will result in an error. Use `array.size > 0` to check that an array is not empty.\n",
      "  if diff:\n"
     ]
    }
   ],
   "source": [
    "from sklearn.metrics import accuracy_score\n",
    "classifers=[model3,model4,Ensembled_model_2]\n",
    "out_sample_accuracy=[]\n",
    "Name_2=[]\n",
    "for each in classifers:\n",
    "    fit=each.fit(features,target)\n",
    "    pred=fit.predict(test.iloc[:,1:245])\n",
    "    accuracy=accuracy_score(test['Opioid_Prescriber'],pred)\n",
    "    Name_2.append(each.__class__.__name__)\n",
    "    out_sample_accuracy.append(accuracy)"
   ]
  },
  {
   "cell_type": "code",
   "execution_count": null,
   "metadata": {},
   "outputs": [],
   "source": [
    "print('KNN: %f ' %cross_val_score(knn, X_train, y_train).mean())\n",
    "knn.fit(X_train,y_train)\n",
    "measure_performance(X_test,y_test,knn)\n",
    "plot_classifier(X_train,y_train,X_test,y_test,knn)"
   ]
  },
  {
   "cell_type": "markdown",
   "metadata": {},
   "source": [
    "#### In-sample and out-sample evaluation"
   ]
  },
  {
   "cell_type": "code",
   "execution_count": null,
   "metadata": {},
   "outputs": [],
   "source": [
    "in_sample_accuracy=Accuracy_2"
   ]
  },
  {
   "cell_type": "code",
   "execution_count": null,
   "metadata": {},
   "outputs": [],
   "source": [
    "Index = [1,2,3]\n",
    "plt.bar(Index,in_sample_accuracy)\n",
    "plt.xticks(Index, Name_2,rotation=45)\n",
    "plt.ylabel('Accuracy')\n",
    "plt.xlabel('Model')\n",
    "plt.title('In sample accuracy of models')\n",
    "plt.show()"
   ]
  },
  {
   "cell_type": "code",
   "execution_count": null,
   "metadata": {},
   "outputs": [],
   "source": [
    "plt.bar(Index,out_sample_accuracy)\n",
    "plt.xticks(Index, Name_2,rotation=45)\n",
    "plt.ylabel('Accuracy')\n",
    "plt.xlabel('Model')\n",
    "plt.title('Out sample accuracies of models')\n",
    "plt.show()"
   ]
  },
  {
   "cell_type": "markdown",
   "metadata": {},
   "source": [
    "\n",
    "\n",
    "\n",
    "The hard-voting classifer does not provide a better result in terms of out sample error. Therefore, in this case, the voting classifer cannot reach the satisfied result. A soft voting method can be considered as a substitute."
   ]
  },
  {
   "cell_type": "markdown",
   "metadata": {},
   "source": [
    "## Box Plot of Model Performance"
   ]
  },
  {
   "cell_type": "code",
   "execution_count": null,
   "metadata": {},
   "outputs": [],
   "source": [
    "# Pandas and numpy for data manipulation\n",
    "import pandas as pd\n",
    "import numpy as np\n",
    "\n",
    "# Matplotlib  for data visualization\n",
    "%matplotlib inline\n",
    "import matplotlib.pyplot as plt\n",
    "\n",
    "# Seaborn for data visualization\n",
    "import seaborn as sns"
   ]
  },
  {
   "cell_type": "code",
   "execution_count": null,
   "metadata": {},
   "outputs": [],
   "source": [
    "# Set font size\n",
    "plt.rcParams.update({'font.size': 15})\n",
    "# Set figure size\n",
    "fig = plt.figure(figsize = (10,5))\n",
    "\n",
    "plt.boxplot(Accuracy, labels = Name)\n",
    "plt.ylabel('Accuracy')\n",
    "plt.title('Model performances')"
   ]
  },
  {
   "cell_type": "markdown",
   "metadata": {},
   "source": [
    "## ROC Curves and AUC of Cross-Validation Prediction\n",
    "\n",
    "Another way to check the performance or  diagnostic ability of a binary classifier is to plot the receiver operating characteristics (ROC) curves and compute the area under the curve (AUC)."
   ]
  },
  {
   "cell_type": "code",
   "execution_count": null,
   "metadata": {},
   "outputs": [],
   "source": [
    "# Metric measurements\n",
    "from sklearn.metrics import roc_curve\n",
    "from sklearn.metrics import roc_auc_score\n",
    "\n",
    "################################################################################################\n",
    "def plot_cv_roc_curve(features, target, cv_fold): \n",
    "    \n",
    "    # Classifiers to be trained \n",
    "    gb_clf = GradientBoostingClassifier(random_state = 42)\n",
    "    forest_clf= RandomForestClassifier(random_state = 42)\n",
    "    svm_clf = SVC(probability = True)\n",
    "\n",
    "\n",
    "   # List of the  classifiers\n",
    "    clf_list = [gb_clf, forest_clf, svm_clf]\n",
    "\n",
    "    y_scores = []\n",
    "    for clf in clf_list:\n",
    "            y_score = cross_val_predict(clf, features, target, cv = cv_fold, \n",
    "                                    method ='predict_proba')\n",
    "            y_scores.append(y_score)\n",
    "    \n",
    "    # Assign the predicted probabilities\n",
    "    y_score_gb =y_scores[0][:,1]\n",
    "    y_score_forest = y_scores[1][:,1]\n",
    "    y_score_svm = y_scores[2][:,1]\n",
    "\n",
    "    # Compute the fpr and tpr for each classifier\n",
    "    fpr_gb, tpr_gb, thresholds_gb = roc_curve(target, y_score_gb)\n",
    "    fpr_forest, tpr_forest, thresholds_forest = roc_curve(target, y_score_forest)\n",
    "    fpr_svm, tpr_svm, thresholds_svm = roc_curve(target, y_score_svm)\n",
    "    \n",
    "    # Compute the area under the curve for each classifier\n",
    "    area_gb =roc_auc_score(training_label, y_score_gb)\n",
    "    area_forest =roc_auc_score(target, y_score_forest)\n",
    "    area_svm =roc_auc_score(target, y_score_svm)\n",
    "    \n",
    "    # Set figure size\n",
    "    fig = plt.figure(figsize = (10,8))\n",
    "    \n",
    "    # Set font size\n",
    "    plt.rcParams.update({'font.size': 15})\n",
    "\n",
    "    # Plotting of the functions\n",
    "    plt.plot(fpr_gb, tpr_gb, 'r--', label = 'GB (AUC = %0.2f)' % area_gb)\n",
    "    plt.plot(fpr_forest, tpr_forest, 'b--', label = 'FOREST (AUC = %0.2f)' % area_forest)\n",
    "    plt.plot(fpr_svm, tpr_svm, 'b-', label = 'SVC (AUC = %0.2f)' % area_svm)\n",
    "    plt.plot([0,1], [0,1], 'k--')\n",
    "    \n",
    "    # Set axis and labels\n",
    "    plt.axis([0,1,0,1])\n",
    "    plt.xlabel('False positive rate (FPR)')\n",
    "    plt.ylabel('True positive rate (TPR)')\n",
    "    plt.title('ROC Curve of Training Set')\n",
    "    plt.legend(loc = 'lower right')\n",
    " ##########################################################\n",
    "\n",
    "# Set paramters of the plot function\n",
    "training_features = X_train_scaled\n",
    "training_label = y_train_label\n",
    "cv_fold = 10\n",
    "\n",
    "# Instantiate the plot function\n",
    "plot_cv_roc_curve(training_features, training_label, cv_fold)\n",
    "plt.show()"
   ]
  },
  {
   "cell_type": "markdown",
   "metadata": {},
   "source": [
    "## Prediction on the Test set\n",
    "\n",
    "The importance of creating a test set is to check if the machine learning models generalize to an unseen data not used during the training process. Having trained our model on the training set, we are ready to test the models on unseen data -- the test set"
   ]
  },
  {
   "cell_type": "code",
   "execution_count": null,
   "metadata": {},
   "outputs": [],
   "source": [
    "def Test_prediction(training_features, training_label, test_features, test_label):\n",
    "    \n",
    "    # Classifiers to be trained \n",
    "    gb_clf = GradientBoostingClassifier(random_state = 42)\n",
    "    forest_clf= RandomForestClassifier(random_state = 42)\n",
    "    svm_clf = SVC()\n",
    " \n",
    "   # List of the  classifiers\n",
    "    clf_list = [gb_clf, forest_clf, svm_clf]\n",
    "\n",
    "    # Empty lists to append the result of each classifier\n",
    "    scores = []\n",
    "    confmaxs = []\n",
    "    clf_reps= []\n",
    "    \n",
    "    for clf in clf_list:\n",
    "        \n",
    "        clf.fit(training_features, training_label)\n",
    "        y_pred = clf.predict(test_features)\n",
    "        score = accuracy_score(test_label, y_pred)\n",
    "        confmax = confusion_matrix(test_label, y_pred)\n",
    "        clf_rep = classification_report(test_label, y_pred)\n",
    "        \n",
    "        scores.append(score)\n",
    "        confmaxs.append(confmax)\n",
    "        clf_reps.append(clf_rep)\n",
    "    \n",
    "    return  scores, confmaxs, clf_reps\n",
    "\n",
    "# Set paramters of the function\n",
    "training_features = X_train_scaled\n",
    "training_label = y_train_label\n",
    "test_features = X_test_scaled\n",
    "test_label = y_test_label\n",
    "\n",
    "# Instantiate the function\n",
    "predictions = Test_prediction(training_features, training_label, test_features, test_label)\n",
    "\n",
    "# Get the values of the function\n",
    "test_scores = predictions[0]\n",
    "test_confmax = predictions[1]\n",
    "test_clf_reps =  predictions[2]"
   ]
  },
  {
   "cell_type": "code",
   "execution_count": null,
   "metadata": {},
   "outputs": [],
   "source": [
    "#  Display the test score in a dataframe\n",
    "pd.DataFrame({'Models': ['GB', 'Forest', 'SVC'], 'Test Accuracy': test_scores})"
   ]
  },
  {
   "cell_type": "markdown",
   "metadata": {},
   "source": [
    "The test accuracy shows that the models generalize very well to unseen data"
   ]
  },
  {
   "cell_type": "code",
   "execution_count": null,
   "metadata": {},
   "outputs": [],
   "source": [
    "# Confusion Matrix and Classification Report of Gradient Boosting\n",
    "print('Confusion Matrix for GB:\\n', test_confmax[0])\n",
    "print('\\n')\n",
    "print('Classification Report for GB:\\n', test_clf_reps[0])"
   ]
  },
  {
   "cell_type": "code",
   "execution_count": null,
   "metadata": {},
   "outputs": [],
   "source": [
    "# Confusion Matrix and Classification Report of Random Forest\n",
    "print('Confusion Matrix for Forest:\\n', test_confmax[1])\n",
    "print('\\n')\n",
    "print('Classification Report for Forest:\\n', test_clf_reps[1])"
   ]
  },
  {
   "cell_type": "code",
   "execution_count": null,
   "metadata": {},
   "outputs": [],
   "source": [
    "# Confusion Matrix and Classification Report of Support Vector Machine\n",
    "print('Confusion Matrix for SVM: \\n', test_confmax[2])\n",
    "print('\\n')\n",
    "print('Classification Report for SVM: \\n', test_clf_reps[2])"
   ]
  },
  {
   "cell_type": "markdown",
   "metadata": {},
   "source": [
    "## ROC Curves and AUC of Test Set"
   ]
  },
  {
   "cell_type": "code",
   "execution_count": null,
   "metadata": {},
   "outputs": [],
   "source": [
    "# Metric measurements\n",
    "from sklearn.metrics import roc_curve\n",
    "from sklearn.metrics import roc_auc_score\n",
    "\n",
    "###############################################################################################################\n",
    "def plot_test_roc_curve(training_features, training_label, test_features, test_label): \n",
    "    \n",
    "    # Classifiers to be trained \n",
    "    gb_clf = GradientBoostingClassifier(random_state = 42)\n",
    "    forest_clf= RandomForestClassifier(random_state = 42)\n",
    "    svm_clf = SVC(probability = True)\n",
    " \n",
    "   # List of the  classifiers\n",
    "    clf_list = [gb_clf, forest_clf, svm_clf]\n",
    "\n",
    "    y_proba = []\n",
    "    for clf in clf_list:\n",
    "        clf.fit(training_features, training_label)\n",
    "        pred_proba = clf.predict_proba(test_features)\n",
    "        y_proba.append(pred_proba)\n",
    "    \n",
    "    # Assign the predicted probabilities\n",
    "    y_proba_gb = y_proba[0][:, 1]\n",
    "    y_proba_forest = y_proba[1][:, 1]\n",
    "    y_proba_svm = y_proba[2][:, 1]\n",
    "    \n",
    "    # Compute the fpr and tpr for each classifier\n",
    "    fpr_gb, tpr_gb, thresholds_gb = roc_curve(test_label, y_proba_gb)\n",
    "    fpr_forest, tpr_forest, thresholds_forest = roc_curve(test_label, y_proba_forest)\n",
    "    fpr_svm, tpr_svm, thresholds_svm = roc_curve(test_label, y_proba_svm)\n",
    "    \n",
    "    # Compute the area under the curve for each classifier\n",
    "    area_gb =roc_auc_score(test_label, y_proba_gb)\n",
    "    area_forest =roc_auc_score(test_label, y_proba_forest)\n",
    "    area_svm =roc_auc_score(test_label, y_proba_svm)\n",
    "    \n",
    "    # Set figure size\n",
    "    fig = plt.figure(figsize = (10,8))\n",
    "    \n",
    "    # Set font size\n",
    "    plt.rcParams.update({'font.size': 15})\n",
    "\n",
    "    # Plotting of the functions\n",
    "    plt.plot(fpr_gb, tpr_gb, 'r--', label = 'GB (AUC = %0.2f)' % area_gb)\n",
    "    plt.plot(fpr_forest, tpr_forest, 'b-', label = 'FOREST (AUC = %0.2f)' % area_forest)\n",
    "    plt.plot(fpr_svm, tpr_svm, 'b--', label = 'SVC (AUC = %0.2f)' % area_svm)\n",
    "    plt.plot([0,1], [0,1], 'k--')\n",
    "    \n",
    "    # Set axis and labels\n",
    "    plt.axis([0,1,0,1])\n",
    "    plt.xlabel('False positive rate (FPR)')\n",
    "    plt.ylabel('True positive rate (TPR)')\n",
    "    plt.title('ROC Curve of Test Set')\n",
    "    plt.legend(loc = 'lower right')\n",
    " ####################################################################################################################\n",
    "\n",
    "# Set paramters of the function\n",
    "training_features = X_train_scaled\n",
    "training_label = y_train_label\n",
    "test_features = X_test_scaled\n",
    "test_label = y_test_label\n",
    "\n",
    "# Instantiate the plot function\n",
    "plot_test_roc_curve(training_features, training_label, test_features, test_label)\n",
    "plt.show()"
   ]
  }
 ],
 "metadata": {
  "kernelspec": {
   "display_name": "Python [conda env:dsi]",
   "language": "python",
   "name": "conda-env-dsi-py"
  },
  "language_info": {
   "codemirror_mode": {
    "name": "ipython",
    "version": 3
   },
   "file_extension": ".py",
   "mimetype": "text/x-python",
   "name": "python",
   "nbconvert_exporter": "python",
   "pygments_lexer": "ipython3",
   "version": "3.6.5"
  }
 },
 "nbformat": 4,
 "nbformat_minor": 2
}
