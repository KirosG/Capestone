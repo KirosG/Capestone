{
 "cells": [
  {
   "cell_type": "markdown",
   "metadata": {},
   "source": [
    "#  Modeling and feature importance visual\n",
    "\n",
    "## Feature Selection\n",
    "\n",
    "In this section, I will select specific features for model training. The original dataset contains 265 features, most of which are categorical attributes, dominantly the list of drug names that are approved as pain medications that need special AED licensed prescriber.Here,my main target is to predict the overdoses using the  the list of prescriber specialists with NPI information and the FDA approved drug lists. The data set has only total opiod cliams and total claim counts and i took the standard prescription for opiod drugs is 84 days which is 12 weeks. Therefore, an additional feature was created in the data cleaning, pre processing that shows avg_op_supply which i limit to the standard to be 84 and any ones who prescribes the category of medications under the controlled substance act(CSA). The CSA is used for organizing drugs based on the risk of abuse or harm to users in five and my capestone focuses on the approved by [FDA](https://www.fda.gov/drugs/drugsafety/informationbydrugclass/ucm251735.htm) and [DEA](https://www.deadiversion.usdoj.gov/schedules/) to be prescribed by licensed and certified health professional.  These drug lists that are considered controlled substances under the Controlled Substances Act (CSA) are divided into five schedules.  An updated and complete list of the schedules is published annually in [Title 21 Code of Federal Regulations (C.F.R.) §§ 1308.11 through 1308.15](https://www.deadiversion.usdoj.gov/21cfr/cfr/2108cfrt.htm).\n",
    "\n",
    "Therfore, for analysis and visualization  i only took those physicians who have greater opood cliams from the center for medical services dataset and created a feature average opiod supply  by dividing the total cliam by the opiod cliam and reviewed those specialists who prescribe more than the set limit of 12 weeks and that also become a new feature that measures the length of opiod prescription supply more than 84 days. As been visualized in notebook 1.3, significant amount of prescribers are family physicians, followed by internal medicine,nurse practitioners, Physicain Assistant and physical medicine and rehabilitation. When i group based on speciality and the vsuals can be accessed   [here top 20](https://plot.ly/~kiros/112) and the lists are as follows:-\n",
    "  > $'Cardiology', 'Nephrology', 'Endocrinology', 'Neurology'  'General Practice', 'Internal Medicine', 'Urology'$,   > $'Pulmonary Disease', 'Gastroenterology', 'Family Practice', 'Infectious Disease','Psychiatry'$ \n",
    "  >$'Nurse Practitioner', 'Ophthalmology','Allergy/Immunology', 'Otolaryngology', 'Psychiatry & Neurology'$ , $'Rheumatology', 'Dermatology', 'Obstetrics/Gynecology'$"
   ]
  },
  {
   "cell_type": "code",
   "execution_count": 1,
   "metadata": {},
   "outputs": [],
   "source": [
    "# importing necessary libraries and packages\n",
    "import pandas as pd\n",
    "import numpy as np\n",
    "import seaborn as sns\n",
    "import matplotlib.pyplot as plt\n",
    "from sklearn.model_selection import train_test_split\n",
    "np.random.seed(42)\n",
    "\n",
    "rcParams.update({'figure.autolayout':True})\n",
    "np.random.seed(2018)\n",
    "\n",
    "# Configure visual settings:\n",
    "plt.style.use('fivethirtyeight')\n",
    "sns.set(font_scale=2)\n",
    "cmap = sns.diverging_palette(220, 10, as_cmap=True) # one of the many color mappings\n",
    "sns.set_style('whitegrid')\n",
    "plt.rcParams['figure.figsize'] = (10.0, 8.0) \n",
    "%config InlineBackend.figure_format = 'retina'\n",
    "%matplotlib inline"
   ]
  },
  {
   "cell_type": "code",
   "execution_count": 2,
   "metadata": {},
   "outputs": [
    {
     "name": "stderr",
     "output_type": "stream",
     "text": [
      "C:\\ProgramData\\Anaconda33\\lib\\site-packages\\IPython\\core\\interactiveshell.py:2785: DtypeWarning: Columns (5,6) have mixed types. Specify dtype option on import or set low_memory=False.\n",
      "  interactivity=interactivity, compiler=compiler, result=result)\n"
     ]
    },
    {
     "data": {
      "text/html": [
       "<div>\n",
       "<style scoped>\n",
       "    .dataframe tbody tr th:only-of-type {\n",
       "        vertical-align: middle;\n",
       "    }\n",
       "\n",
       "    .dataframe tbody tr th {\n",
       "        vertical-align: top;\n",
       "    }\n",
       "\n",
       "    .dataframe thead th {\n",
       "        text-align: right;\n",
       "    }\n",
       "</style>\n",
       "<table border=\"1\" class=\"dataframe\">\n",
       "  <thead>\n",
       "    <tr style=\"text-align: right;\">\n",
       "      <th></th>\n",
       "      <th>NPI</th>\n",
       "      <th>Gender</th>\n",
       "      <th>State</th>\n",
       "      <th>Credentials</th>\n",
       "      <th>Specialty</th>\n",
       "      <th>NPPES Provider Last Name</th>\n",
       "      <th>NPPES Provider First Name</th>\n",
       "      <th>NPPES Provider ZIP Code</th>\n",
       "      <th>NPPES Provider State</th>\n",
       "      <th>Totalclaimcount</th>\n",
       "      <th>...</th>\n",
       "      <th>VYTORIN</th>\n",
       "      <th>WARFARIN.SODIUM</th>\n",
       "      <th>XARELTO</th>\n",
       "      <th>ZETIA</th>\n",
       "      <th>ZIPRASIDONE.HCL</th>\n",
       "      <th>ZOLPIDEM.TARTRATE</th>\n",
       "      <th>avg_op_supply</th>\n",
       "      <th>op_longer</th>\n",
       "      <th>Opioid_Prescriber</th>\n",
       "      <th>op_prescriber</th>\n",
       "    </tr>\n",
       "  </thead>\n",
       "  <tbody>\n",
       "    <tr>\n",
       "      <th>0</th>\n",
       "      <td>1003002320</td>\n",
       "      <td>M</td>\n",
       "      <td>MS</td>\n",
       "      <td>D.M.D. P.A.</td>\n",
       "      <td>Dentist</td>\n",
       "      <td>EKLUND</td>\n",
       "      <td>D.</td>\n",
       "      <td>39208.0</td>\n",
       "      <td>MS</td>\n",
       "      <td>129</td>\n",
       "      <td>...</td>\n",
       "      <td>0</td>\n",
       "      <td>0</td>\n",
       "      <td>0</td>\n",
       "      <td>0</td>\n",
       "      <td>0</td>\n",
       "      <td>0</td>\n",
       "      <td>4.5</td>\n",
       "      <td>1.0</td>\n",
       "      <td>1</td>\n",
       "      <td>1.0</td>\n",
       "    </tr>\n",
       "    <tr>\n",
       "      <th>1</th>\n",
       "      <td>1003004771</td>\n",
       "      <td>F</td>\n",
       "      <td>CO</td>\n",
       "      <td>M.D.</td>\n",
       "      <td>Pulmonary Disease</td>\n",
       "      <td>RIGGLE</td>\n",
       "      <td>ERIN</td>\n",
       "      <td>80120.0</td>\n",
       "      <td>CO</td>\n",
       "      <td>537</td>\n",
       "      <td>...</td>\n",
       "      <td>0</td>\n",
       "      <td>0</td>\n",
       "      <td>16</td>\n",
       "      <td>0</td>\n",
       "      <td>0</td>\n",
       "      <td>0</td>\n",
       "      <td>4.5</td>\n",
       "      <td>0.0</td>\n",
       "      <td>0</td>\n",
       "      <td>0.0</td>\n",
       "    </tr>\n",
       "  </tbody>\n",
       "</table>\n",
       "<p>2 rows × 264 columns</p>\n",
       "</div>"
      ],
      "text/plain": [
       "          NPI Gender State  Credentials          Specialty  \\\n",
       "0  1003002320      M    MS  D.M.D. P.A.            Dentist   \n",
       "1  1003004771      F    CO         M.D.  Pulmonary Disease   \n",
       "\n",
       "  NPPES Provider Last Name NPPES Provider First Name  NPPES Provider ZIP Code  \\\n",
       "0                   EKLUND                        D.                  39208.0   \n",
       "1                   RIGGLE                      ERIN                  80120.0   \n",
       "\n",
       "  NPPES Provider State  Totalclaimcount      ...        VYTORIN  \\\n",
       "0                   MS              129      ...              0   \n",
       "1                   CO              537      ...              0   \n",
       "\n",
       "   WARFARIN.SODIUM  XARELTO  ZETIA  ZIPRASIDONE.HCL  ZOLPIDEM.TARTRATE  \\\n",
       "0                0        0      0                0                  0   \n",
       "1                0       16      0                0                  0   \n",
       "\n",
       "   avg_op_supply  op_longer  Opioid_Prescriber  op_prescriber  \n",
       "0            4.5        1.0                  1            1.0  \n",
       "1            4.5        0.0                  0            0.0  \n",
       "\n",
       "[2 rows x 264 columns]"
      ]
     },
     "execution_count": 2,
     "metadata": {},
     "output_type": "execute_result"
    }
   ],
   "source": [
    "## Read Data\n",
    "df=pd.read_csv('./inputs/cleaned_prescriber_info18.csv')\n",
    "df.head()[:2]"
   ]
  },
  {
   "cell_type": "code",
   "execution_count": 3,
   "metadata": {},
   "outputs": [
    {
     "name": "stdout",
     "output_type": "stream",
     "text": [
      "(25000, 264)\n"
     ]
    }
   ],
   "source": [
    "print(df.shape)"
   ]
  },
  {
   "cell_type": "markdown",
   "metadata": {},
   "source": [
    "We have a high dimensional data set again. How can we create an effective predictive model quickily on such a complicated data-set?\n",
    "\n"
   ]
  },
  {
   "cell_type": "markdown",
   "metadata": {},
   "source": [
    "### Data Proprecessing"
   ]
  },
  {
   "cell_type": "markdown",
   "metadata": {},
   "source": [
    "Even a quick and dirty classification model requires the transformation of non-numeric feature, in order to enable Python to identify the variable. My method was so 'dirty' that I even included misleading variables in my model. Now I will modify my Kernel to a more completed, accurate one."
   ]
  },
  {
   "cell_type": "code",
   "execution_count": 4,
   "metadata": {},
   "outputs": [],
   "source": [
    "opioids=pd.read_csv('./inputs/list_opioids.csv')"
   ]
  },
  {
   "cell_type": "code",
   "execution_count": 5,
   "metadata": {},
   "outputs": [],
   "source": [
    "name=opioids['Drug Name']\n",
    "import re\n",
    "new_name=name.apply(lambda x:re.sub(\"\\ |-\",\".\",str(x)))\n",
    "columns=df.columns\n",
    "Abandoned_variables = set(columns).intersection(set(new_name))\n",
    "Kept_variable=[]\n",
    "for each in columns:\n",
    "    if each in Abandoned_variables:\n",
    "        pass\n",
    "    else:\n",
    "        Kept_variable.append(each)"
   ]
  },
  {
   "cell_type": "code",
   "execution_count": 6,
   "metadata": {},
   "outputs": [
    {
     "name": "stdout",
     "output_type": "stream",
     "text": [
      "(25000, 253)\n"
     ]
    }
   ],
   "source": [
    "df=df[Kept_variable]\n",
    "print(df.shape)"
   ]
  },
  {
   "cell_type": "code",
   "execution_count": 7,
   "metadata": {},
   "outputs": [
    {
     "data": {
      "text/html": [
       "<div>\n",
       "<style scoped>\n",
       "    .dataframe tbody tr th:only-of-type {\n",
       "        vertical-align: middle;\n",
       "    }\n",
       "\n",
       "    .dataframe tbody tr th {\n",
       "        vertical-align: top;\n",
       "    }\n",
       "\n",
       "    .dataframe thead th {\n",
       "        text-align: right;\n",
       "    }\n",
       "</style>\n",
       "<table border=\"1\" class=\"dataframe\">\n",
       "  <thead>\n",
       "    <tr style=\"text-align: right;\">\n",
       "      <th></th>\n",
       "      <th>NPI</th>\n",
       "      <th>Gender</th>\n",
       "      <th>State</th>\n",
       "      <th>Credentials</th>\n",
       "      <th>Specialty</th>\n",
       "      <th>NPPES Provider Last Name</th>\n",
       "      <th>NPPES Provider First Name</th>\n",
       "      <th>NPPES Provider ZIP Code</th>\n",
       "      <th>NPPES Provider State</th>\n",
       "      <th>Totalclaimcount</th>\n",
       "      <th>...</th>\n",
       "      <th>VYTORIN</th>\n",
       "      <th>WARFARIN.SODIUM</th>\n",
       "      <th>XARELTO</th>\n",
       "      <th>ZETIA</th>\n",
       "      <th>ZIPRASIDONE.HCL</th>\n",
       "      <th>ZOLPIDEM.TARTRATE</th>\n",
       "      <th>avg_op_supply</th>\n",
       "      <th>op_longer</th>\n",
       "      <th>Opioid_Prescriber</th>\n",
       "      <th>op_prescriber</th>\n",
       "    </tr>\n",
       "  </thead>\n",
       "  <tbody>\n",
       "    <tr>\n",
       "      <th>0</th>\n",
       "      <td>1003002320</td>\n",
       "      <td>M</td>\n",
       "      <td>MS</td>\n",
       "      <td>D.M.D. P.A.</td>\n",
       "      <td>Dentist</td>\n",
       "      <td>EKLUND</td>\n",
       "      <td>D.</td>\n",
       "      <td>39208.0</td>\n",
       "      <td>MS</td>\n",
       "      <td>129</td>\n",
       "      <td>...</td>\n",
       "      <td>0</td>\n",
       "      <td>0</td>\n",
       "      <td>0</td>\n",
       "      <td>0</td>\n",
       "      <td>0</td>\n",
       "      <td>0</td>\n",
       "      <td>4.5</td>\n",
       "      <td>1.0</td>\n",
       "      <td>1</td>\n",
       "      <td>1.0</td>\n",
       "    </tr>\n",
       "    <tr>\n",
       "      <th>1</th>\n",
       "      <td>1003004771</td>\n",
       "      <td>F</td>\n",
       "      <td>CO</td>\n",
       "      <td>M.D.</td>\n",
       "      <td>Pulmonary Disease</td>\n",
       "      <td>RIGGLE</td>\n",
       "      <td>ERIN</td>\n",
       "      <td>80120.0</td>\n",
       "      <td>CO</td>\n",
       "      <td>537</td>\n",
       "      <td>...</td>\n",
       "      <td>0</td>\n",
       "      <td>0</td>\n",
       "      <td>16</td>\n",
       "      <td>0</td>\n",
       "      <td>0</td>\n",
       "      <td>0</td>\n",
       "      <td>4.5</td>\n",
       "      <td>0.0</td>\n",
       "      <td>0</td>\n",
       "      <td>0.0</td>\n",
       "    </tr>\n",
       "  </tbody>\n",
       "</table>\n",
       "<p>2 rows × 253 columns</p>\n",
       "</div>"
      ],
      "text/plain": [
       "          NPI Gender State  Credentials          Specialty  \\\n",
       "0  1003002320      M    MS  D.M.D. P.A.            Dentist   \n",
       "1  1003004771      F    CO         M.D.  Pulmonary Disease   \n",
       "\n",
       "  NPPES Provider Last Name NPPES Provider First Name  NPPES Provider ZIP Code  \\\n",
       "0                   EKLUND                        D.                  39208.0   \n",
       "1                   RIGGLE                      ERIN                  80120.0   \n",
       "\n",
       "  NPPES Provider State  Totalclaimcount      ...        VYTORIN  \\\n",
       "0                   MS              129      ...              0   \n",
       "1                   CO              537      ...              0   \n",
       "\n",
       "   WARFARIN.SODIUM  XARELTO  ZETIA  ZIPRASIDONE.HCL  ZOLPIDEM.TARTRATE  \\\n",
       "0                0        0      0                0                  0   \n",
       "1                0       16      0                0                  0   \n",
       "\n",
       "   avg_op_supply  op_longer  Opioid_Prescriber  op_prescriber  \n",
       "0            4.5        1.0                  1            1.0  \n",
       "1            4.5        0.0                  0            0.0  \n",
       "\n",
       "[2 rows x 253 columns]"
      ]
     },
     "execution_count": 7,
     "metadata": {},
     "output_type": "execute_result"
    }
   ],
   "source": [
    "df.head()[:2]"
   ]
  },
  {
   "cell_type": "code",
   "execution_count": 8,
   "metadata": {},
   "outputs": [],
   "source": [
    "# df['NPPES Provider ZIP Code'] = df['NPPES Provider ZIP Code'].str.replace(',', '')\n",
    "# df['NPPES Provider ZIP Code'] = df['NPPES Provider ZIP Code'].str.replace(' ', '')\n",
    "df['NPPES Provider ZIP Code'] = df['NPPES Provider ZIP Code'].astype(float)"
   ]
  },
  {
   "cell_type": "code",
   "execution_count": 9,
   "metadata": {},
   "outputs": [
    {
     "data": {
      "text/plain": [
       "NPI                                  0\n",
       "Gender                               0\n",
       "State                                0\n",
       "Credentials                         82\n",
       "Specialty                            0\n",
       "NPPES Provider Last Name          2610\n",
       "NPPES Provider First Name         2610\n",
       "NPPES Provider ZIP Code           2610\n",
       "NPPES Provider State                 0\n",
       "Totalclaimcount                      0\n",
       "OpioidClaimCount                     0\n",
       "ACYCLOVIR                            0\n",
       "ADVAIR.DISKUS                        0\n",
       "AGGRENOX                             0\n",
       "ALENDRONATE.SODIUM                   0\n",
       "ALLOPURINOL                          0\n",
       "ALPRAZOLAM                           0\n",
       "AMIODARONE.HCL                       0\n",
       "AMITRIPTYLINE.HCL                    0\n",
       "AMLODIPINE.BESYLATE                  0\n",
       "AMLODIPINE.BESYLATE.BENAZEPRIL       0\n",
       "AMOXICILLIN                          0\n",
       "AMOX.TR.POTASSIUM.CLAVULANATE        0\n",
       "AMPHETAMINE.SALT.COMBO               0\n",
       "ATENOLOL                             0\n",
       "ATORVASTATIN.CALCIUM                 0\n",
       "AVODART                              0\n",
       "AZITHROMYCIN                         0\n",
       "BACLOFEN                             0\n",
       "BD.ULTRA.FINE.PEN.NEEDLE             0\n",
       "                                  ... \n",
       "TERAZOSIN.HCL                        0\n",
       "TIMOLOL.MALEATE                      0\n",
       "TIZANIDINE.HCL                       0\n",
       "TOLTERODINE.TARTRATE.ER              0\n",
       "TOPIRAMATE                           0\n",
       "TOPROL.XL                            0\n",
       "TORSEMIDE                            0\n",
       "TRAVATAN.Z                           0\n",
       "TRAZODONE.HCL                        0\n",
       "TRIAMCINOLONE.ACETONIDE              0\n",
       "TRIAMTERENE.HYDROCHLOROTHIAZID       0\n",
       "VALACYCLOVIR                         0\n",
       "VALSARTAN                            0\n",
       "VALSARTAN.HYDROCHLOROTHIAZIDE        0\n",
       "VENLAFAXINE.HCL                      0\n",
       "VENLAFAXINE.HCL.ER                   0\n",
       "VENTOLIN.HFA                         0\n",
       "VERAPAMIL.ER                         0\n",
       "VESICARE                             0\n",
       "VOLTAREN                             0\n",
       "VYTORIN                              0\n",
       "WARFARIN.SODIUM                      0\n",
       "XARELTO                              0\n",
       "ZETIA                                0\n",
       "ZIPRASIDONE.HCL                      0\n",
       "ZOLPIDEM.TARTRATE                    0\n",
       "avg_op_supply                     2610\n",
       "op_longer                         2610\n",
       "Opioid_Prescriber                    0\n",
       "op_prescriber                     2610\n",
       "Length: 253, dtype: int64"
      ]
     },
     "execution_count": 9,
     "metadata": {},
     "output_type": "execute_result"
    }
   ],
   "source": [
    "df.isnull().sum()"
   ]
  },
  {
   "cell_type": "code",
   "execution_count": 10,
   "metadata": {},
   "outputs": [],
   "source": [
    "df.fillna(0,inplace = True)"
   ]
  },
  {
   "cell_type": "code",
   "execution_count": 11,
   "metadata": {},
   "outputs": [
    {
     "data": {
      "text/plain": [
       "Index(['NPI', 'Gender', 'State', 'Credentials', 'Specialty',\n",
       "       'NPPES Provider Last Name', 'NPPES Provider First Name',\n",
       "       'NPPES Provider ZIP Code', 'NPPES Provider State', 'Totalclaimcount',\n",
       "       ...\n",
       "       'VYTORIN', 'WARFARIN.SODIUM', 'XARELTO', 'ZETIA', 'ZIPRASIDONE.HCL',\n",
       "       'ZOLPIDEM.TARTRATE', 'avg_op_supply', 'op_longer', 'Opioid_Prescriber',\n",
       "       'op_prescriber'],\n",
       "      dtype='object', length=253)"
      ]
     },
     "execution_count": 11,
     "metadata": {},
     "output_type": "execute_result"
    }
   ],
   "source": [
    "df.columns"
   ]
  },
  {
   "cell_type": "code",
   "execution_count": 12,
   "metadata": {},
   "outputs": [],
   "source": [
    "df.drop(['NPPES Provider Last Name', 'NPPES Provider First Name','NPPES Provider ZIP Code',\n",
    "         'NPPES Provider State'], axis =1, inplace = True)"
   ]
  },
  {
   "cell_type": "code",
   "execution_count": 13,
   "metadata": {},
   "outputs": [
    {
     "data": {
      "text/html": [
       "<div>\n",
       "<style scoped>\n",
       "    .dataframe tbody tr th:only-of-type {\n",
       "        vertical-align: middle;\n",
       "    }\n",
       "\n",
       "    .dataframe tbody tr th {\n",
       "        vertical-align: top;\n",
       "    }\n",
       "\n",
       "    .dataframe thead th {\n",
       "        text-align: right;\n",
       "    }\n",
       "</style>\n",
       "<table border=\"1\" class=\"dataframe\">\n",
       "  <thead>\n",
       "    <tr style=\"text-align: right;\">\n",
       "      <th></th>\n",
       "      <th>NPI</th>\n",
       "      <th>Gender</th>\n",
       "      <th>State</th>\n",
       "      <th>Credentials</th>\n",
       "      <th>Specialty</th>\n",
       "      <th>Totalclaimcount</th>\n",
       "      <th>OpioidClaimCount</th>\n",
       "      <th>ACYCLOVIR</th>\n",
       "      <th>ADVAIR.DISKUS</th>\n",
       "      <th>AGGRENOX</th>\n",
       "      <th>...</th>\n",
       "      <th>VYTORIN</th>\n",
       "      <th>WARFARIN.SODIUM</th>\n",
       "      <th>XARELTO</th>\n",
       "      <th>ZETIA</th>\n",
       "      <th>ZIPRASIDONE.HCL</th>\n",
       "      <th>ZOLPIDEM.TARTRATE</th>\n",
       "      <th>avg_op_supply</th>\n",
       "      <th>op_longer</th>\n",
       "      <th>Opioid_Prescriber</th>\n",
       "      <th>op_prescriber</th>\n",
       "    </tr>\n",
       "  </thead>\n",
       "  <tbody>\n",
       "    <tr>\n",
       "      <th>0</th>\n",
       "      <td>1003002320</td>\n",
       "      <td>M</td>\n",
       "      <td>MS</td>\n",
       "      <td>D.M.D. P.A.</td>\n",
       "      <td>Dentist</td>\n",
       "      <td>129</td>\n",
       "      <td>29</td>\n",
       "      <td>0</td>\n",
       "      <td>0</td>\n",
       "      <td>0</td>\n",
       "      <td>...</td>\n",
       "      <td>0</td>\n",
       "      <td>0</td>\n",
       "      <td>0</td>\n",
       "      <td>0</td>\n",
       "      <td>0</td>\n",
       "      <td>0</td>\n",
       "      <td>4.5</td>\n",
       "      <td>1.0</td>\n",
       "      <td>1</td>\n",
       "      <td>1.0</td>\n",
       "    </tr>\n",
       "    <tr>\n",
       "      <th>1</th>\n",
       "      <td>1003004771</td>\n",
       "      <td>F</td>\n",
       "      <td>CO</td>\n",
       "      <td>M.D.</td>\n",
       "      <td>Pulmonary Disease</td>\n",
       "      <td>537</td>\n",
       "      <td>0</td>\n",
       "      <td>0</td>\n",
       "      <td>61</td>\n",
       "      <td>0</td>\n",
       "      <td>...</td>\n",
       "      <td>0</td>\n",
       "      <td>0</td>\n",
       "      <td>16</td>\n",
       "      <td>0</td>\n",
       "      <td>0</td>\n",
       "      <td>0</td>\n",
       "      <td>4.5</td>\n",
       "      <td>0.0</td>\n",
       "      <td>0</td>\n",
       "      <td>0.0</td>\n",
       "    </tr>\n",
       "  </tbody>\n",
       "</table>\n",
       "<p>2 rows × 249 columns</p>\n",
       "</div>"
      ],
      "text/plain": [
       "          NPI Gender State  Credentials          Specialty  Totalclaimcount  \\\n",
       "0  1003002320      M    MS  D.M.D. P.A.            Dentist              129   \n",
       "1  1003004771      F    CO         M.D.  Pulmonary Disease              537   \n",
       "\n",
       "   OpioidClaimCount  ACYCLOVIR  ADVAIR.DISKUS  AGGRENOX      ...        \\\n",
       "0                29          0              0         0      ...         \n",
       "1                 0          0             61         0      ...         \n",
       "\n",
       "   VYTORIN  WARFARIN.SODIUM  XARELTO  ZETIA  ZIPRASIDONE.HCL  \\\n",
       "0        0                0        0      0                0   \n",
       "1        0                0       16      0                0   \n",
       "\n",
       "   ZOLPIDEM.TARTRATE  avg_op_supply  op_longer  Opioid_Prescriber  \\\n",
       "0                  0            4.5        1.0                  1   \n",
       "1                  0            4.5        0.0                  0   \n",
       "\n",
       "   op_prescriber  \n",
       "0            1.0  \n",
       "1            0.0  \n",
       "\n",
       "[2 rows x 249 columns]"
      ]
     },
     "execution_count": 13,
     "metadata": {},
     "output_type": "execute_result"
    }
   ],
   "source": [
    "df.head()[:2]"
   ]
  },
  {
   "cell_type": "code",
   "execution_count": 14,
   "metadata": {},
   "outputs": [
    {
     "name": "stdout",
     "output_type": "stream",
     "text": [
      "(17500, 249)\n",
      "(7500, 249)\n"
     ]
    }
   ],
   "source": [
    "train,test = train_test_split(df,test_size=0.3,random_state=42)\n",
    "print(train.shape)\n",
    "print(test.shape)"
   ]
  },
  {
   "cell_type": "code",
   "execution_count": 15,
   "metadata": {},
   "outputs": [
    {
     "name": "stderr",
     "output_type": "stream",
     "text": [
      "C:\\ProgramData\\Anaconda33\\lib\\site-packages\\ipykernel_launcher.py:3: SettingWithCopyWarning: \n",
      "A value is trying to be set on a copy of a slice from a DataFrame.\n",
      "Try using .loc[row_indexer,col_indexer] = value instead\n",
      "\n",
      "See the caveats in the documentation: http://pandas.pydata.org/pandas-docs/stable/indexing.html#indexing-view-versus-copy\n",
      "  This is separate from the ipykernel package so we can avoid doing imports until\n",
      "C:\\ProgramData\\Anaconda33\\lib\\site-packages\\ipykernel_launcher.py:4: SettingWithCopyWarning: \n",
      "A value is trying to be set on a copy of a slice from a DataFrame.\n",
      "Try using .loc[row_indexer,col_indexer] = value instead\n",
      "\n",
      "See the caveats in the documentation: http://pandas.pydata.org/pandas-docs/stable/indexing.html#indexing-view-versus-copy\n",
      "  after removing the cwd from sys.path.\n"
     ]
    }
   ],
   "source": [
    "Categorical_columns=['Gender','State','Credentials','Specialty']\n",
    "for col in Categorical_columns:\n",
    "    train[col]=pd.factorize(train[col], sort=True)[0]\n",
    "    test[col] =pd.factorize(test[col],sort=True)[0]"
   ]
  },
  {
   "cell_type": "code",
   "execution_count": 16,
   "metadata": {},
   "outputs": [],
   "source": [
    "from sklearn.model_selection import train_test_split, cross_val_score, GridSearchCV\n",
    "from sklearn.linear_model import LinearRegression\n",
    "from sklearn.neighbors import KNeighborsRegressor\n",
    "from sklearn.tree import DecisionTreeRegressor\n",
    "from sklearn.ensemble import BaggingRegressor, RandomForestRegressor, AdaBoostRegressor\n",
    "from sklearn.svm import SVR\n",
    "\n",
    "y = train['Opioid_Prescriber']\n",
    "\n",
    "X = train.iloc[:,1:245]\n",
    "X_train, X_test, y_train, y_test = train_test_split(X, y)"
   ]
  },
  {
   "cell_type": "code",
   "execution_count": 17,
   "metadata": {},
   "outputs": [
    {
     "data": {
      "text/html": [
       "<div>\n",
       "<style scoped>\n",
       "    .dataframe tbody tr th:only-of-type {\n",
       "        vertical-align: middle;\n",
       "    }\n",
       "\n",
       "    .dataframe tbody tr th {\n",
       "        vertical-align: top;\n",
       "    }\n",
       "\n",
       "    .dataframe thead th {\n",
       "        text-align: right;\n",
       "    }\n",
       "</style>\n",
       "<table border=\"1\" class=\"dataframe\">\n",
       "  <thead>\n",
       "    <tr style=\"text-align: right;\">\n",
       "      <th></th>\n",
       "      <th>Gender</th>\n",
       "      <th>State</th>\n",
       "      <th>Credentials</th>\n",
       "      <th>Specialty</th>\n",
       "      <th>Totalclaimcount</th>\n",
       "      <th>OpioidClaimCount</th>\n",
       "      <th>ACYCLOVIR</th>\n",
       "      <th>ADVAIR.DISKUS</th>\n",
       "      <th>AGGRENOX</th>\n",
       "      <th>ALENDRONATE.SODIUM</th>\n",
       "      <th>...</th>\n",
       "      <th>VENTOLIN.HFA</th>\n",
       "      <th>VERAPAMIL.ER</th>\n",
       "      <th>VESICARE</th>\n",
       "      <th>VOLTAREN</th>\n",
       "      <th>VYTORIN</th>\n",
       "      <th>WARFARIN.SODIUM</th>\n",
       "      <th>XARELTO</th>\n",
       "      <th>ZETIA</th>\n",
       "      <th>ZIPRASIDONE.HCL</th>\n",
       "      <th>ZOLPIDEM.TARTRATE</th>\n",
       "    </tr>\n",
       "  </thead>\n",
       "  <tbody>\n",
       "    <tr>\n",
       "      <th>4913</th>\n",
       "      <td>0</td>\n",
       "      <td>18</td>\n",
       "      <td>517</td>\n",
       "      <td>48</td>\n",
       "      <td>153</td>\n",
       "      <td>36</td>\n",
       "      <td>0</td>\n",
       "      <td>0</td>\n",
       "      <td>0</td>\n",
       "      <td>0</td>\n",
       "      <td>...</td>\n",
       "      <td>0</td>\n",
       "      <td>0</td>\n",
       "      <td>0</td>\n",
       "      <td>0</td>\n",
       "      <td>0</td>\n",
       "      <td>0</td>\n",
       "      <td>0</td>\n",
       "      <td>0</td>\n",
       "      <td>0</td>\n",
       "      <td>0</td>\n",
       "    </tr>\n",
       "    <tr>\n",
       "      <th>9338</th>\n",
       "      <td>0</td>\n",
       "      <td>6</td>\n",
       "      <td>284</td>\n",
       "      <td>25</td>\n",
       "      <td>229</td>\n",
       "      <td>0</td>\n",
       "      <td>0</td>\n",
       "      <td>0</td>\n",
       "      <td>0</td>\n",
       "      <td>0</td>\n",
       "      <td>...</td>\n",
       "      <td>0</td>\n",
       "      <td>0</td>\n",
       "      <td>0</td>\n",
       "      <td>0</td>\n",
       "      <td>0</td>\n",
       "      <td>0</td>\n",
       "      <td>0</td>\n",
       "      <td>14</td>\n",
       "      <td>0</td>\n",
       "      <td>0</td>\n",
       "    </tr>\n",
       "  </tbody>\n",
       "</table>\n",
       "<p>2 rows × 244 columns</p>\n",
       "</div>"
      ],
      "text/plain": [
       "      Gender  State  Credentials  Specialty  Totalclaimcount  \\\n",
       "4913       0     18          517         48              153   \n",
       "9338       0      6          284         25              229   \n",
       "\n",
       "      OpioidClaimCount  ACYCLOVIR  ADVAIR.DISKUS  AGGRENOX  \\\n",
       "4913                36          0              0         0   \n",
       "9338                 0          0              0         0   \n",
       "\n",
       "      ALENDRONATE.SODIUM        ...          VENTOLIN.HFA  VERAPAMIL.ER  \\\n",
       "4913                   0        ...                     0             0   \n",
       "9338                   0        ...                     0             0   \n",
       "\n",
       "      VESICARE  VOLTAREN  VYTORIN  WARFARIN.SODIUM  XARELTO  ZETIA  \\\n",
       "4913         0         0        0                0        0      0   \n",
       "9338         0         0        0                0        0     14   \n",
       "\n",
       "      ZIPRASIDONE.HCL  ZOLPIDEM.TARTRATE  \n",
       "4913                0                  0  \n",
       "9338                0                  0  \n",
       "\n",
       "[2 rows x 244 columns]"
      ]
     },
     "execution_count": 17,
     "metadata": {},
     "output_type": "execute_result"
    }
   ],
   "source": [
    "train.iloc[:,1:245][:2]"
   ]
  },
  {
   "cell_type": "code",
   "execution_count": 18,
   "metadata": {},
   "outputs": [],
   "source": [
    "X =train.iloc[:,1:245]\n",
    "y = train['Opioid_Prescriber']"
   ]
  },
  {
   "cell_type": "code",
   "execution_count": 19,
   "metadata": {},
   "outputs": [
    {
     "name": "stdout",
     "output_type": "stream",
     "text": [
      "====================================Models,5Fold CV and Test Scores==========================================\n",
      "Linear Regrssion: \n",
      "Five cross-val score means: 0.5588333162759325\n",
      "Test score: 0.5913652537140697\n",
      "-----------------------------------------------------------------------------------------------------------------\n",
      "k-nearest:\n",
      "Five cross-val score means: 0.5671962663791562\n",
      "Test score: 0.5269664604001213\n",
      "------------------------------------------------------------------------------------------------------------\n",
      "Decision Tree Regressor: \n",
      "Five cross-val score means: 0.02158379846227975\n",
      "Test score: 0.3185779003291218\n",
      "------------------------------------------------------------------------------------------------------------\n",
      "Bagging Regressor: \n",
      "Five cross-val score means: 0.5475622646936321\n",
      "Test score: 0.6222648709399\n",
      "-----------------------------------------------------------------------------------------------------------\n",
      "Random Forest Regressor: \n",
      "Five cross-val score means: 0.5617690592939093\n",
      "Test score: 0.5484221752906351\n",
      "------------------------------------------------------------------------------------------------------------\n",
      "AdaBoost Regressor:\n",
      "Five cross-val score means: -2.2015968271310635\n",
      "Test score: -1.308676658081274\n",
      "----------------------------------------------------------------------------------------------------------\n",
      "Support Vector Regressor:\n",
      "five cross-val score means: -0.006076829101235237\n",
      "Test score: -0.0060379236471603814\n",
      "----------------------------------------------------------------------------------------------------------------\n"
     ]
    }
   ],
   "source": [
    "print(\"====================================Models,5Fold CV and Test Scores==========================================\")\n",
    "lr_model = LinearRegression()\n",
    "lr_model.fit(X_train, y_train)\n",
    "\n",
    "print(\"Linear Regrssion: \")\n",
    "print(\"Five cross-val score means: {}\".format(cross_val_score(lr_model, X_train, y_train, cv = 5).mean()))\n",
    "print(\"Test score:\", lr_model.score(X_test, y_test))\n",
    "print(\"-----------------------------------------------------------------------------------------------------------------\")\n",
    "\n",
    "knn_reg = KNeighborsRegressor()\n",
    "knn_reg_params = {\n",
    "    'n_neighbors':[1,2,3,4,5,6,7,8,9,10]\n",
    "}\n",
    "gs_knn_reg = GridSearchCV(knn_reg, knn_reg_params)\n",
    "gs_knn_reg.fit(X_train, y_train)\n",
    "\n",
    "print(\"k-nearest:\")\n",
    "print(\"Five cross-val score means: {}\".format(cross_val_score(gs_knn_reg, X_train, y_train, cv = 5).mean()))\n",
    "print(\"Test score:\", gs_knn_reg.score(X_test, y_test))\n",
    "print(\"------------------------------------------------------------------------------------------------------------\")\n",
    "\n",
    "tree_reg = DecisionTreeRegressor()\n",
    "tree_reg_params = {\n",
    "#     'n_neighbors':[1,2,3,4,5,6,7,8,9,10]\n",
    "}\n",
    "gs_tree_reg = GridSearchCV(tree_reg, tree_reg_params)\n",
    "gs_tree_reg.fit(X_train, y_train)\n",
    "\n",
    "print(\"Decision Tree Regressor: \")\n",
    "print(\"Five cross-val score means: {}\".format(cross_val_score(gs_tree_reg, X_train, y_train, cv = 5).mean()))\n",
    "print(\"Test score:\", gs_tree_reg.score(X_test, y_test))\n",
    "print(\"------------------------------------------------------------------------------------------------------------\")\n",
    "\n",
    "bag_reg = BaggingRegressor()\n",
    "bag_reg_params = {}\n",
    "\n",
    "gs_bag_reg = GridSearchCV(bag_reg, bag_reg_params)\n",
    "gs_bag_reg.fit(X_train, y_train)\n",
    "\n",
    "print(\"Bagging Regressor: \")\n",
    "print(\"Five cross-val score means: {}\".format(cross_val_score(gs_bag_reg, X_train, y_train, cv = 5).mean()))\n",
    "print(\"Test score:\", gs_bag_reg.score(X_test, y_test))\n",
    "print(\"-----------------------------------------------------------------------------------------------------------\")\n",
    "\n",
    "rf_reg = RandomForestRegressor()\n",
    "rf_reg_params = {}\n",
    "\n",
    "gs_rf_reg = GridSearchCV(rf_reg, rf_reg_params)\n",
    "gs_rf_reg.fit(X_train, y_train)\n",
    "\n",
    "print(\"Random Forest Regressor: \")\n",
    "print(\"Five cross-val score means: {}\".format(cross_val_score(gs_rf_reg, X_train, y_train, cv = 5).mean()))\n",
    "print(\"Test score:\", gs_rf_reg.score(X_test, y_test))\n",
    "print(\"------------------------------------------------------------------------------------------------------------\")\n",
    "\n",
    "ada_reg = AdaBoostRegressor()\n",
    "ada_reg_params = {}\n",
    "\n",
    "gs_ada_reg = GridSearchCV(ada_reg, ada_reg_params)\n",
    "gs_ada_reg.fit(X_train, y_train)\n",
    "\n",
    "print(\"AdaBoost Regressor:\")\n",
    "print(\"Five cross-val score means: {}\".format(cross_val_score(gs_ada_reg, X_train, y_train, cv = 5).mean()))\n",
    "print(\"Test score:\", gs_ada_reg.score(X_test, y_test))\n",
    "print(\"----------------------------------------------------------------------------------------------------------\")\n",
    "\n",
    "svr = SVR()\n",
    "svr_params = {\n",
    "    'C':[.1,1,.1]\n",
    "}\n",
    "\n",
    "gs_svr = GridSearchCV(svr, svr_params)\n",
    "gs_svr.fit(X_train, y_train)\n",
    "\n",
    "print(\"Support Vector Regressor:\")\n",
    "print(\"five cross-val score means: {}\".format(cross_val_score(gs_svr, X_train, y_train, cv = 5).mean()))\n",
    "print(\"Test score:\", gs_svr.score(X_test, y_test))\n",
    "print(\"----------------------------------------------------------------------------------------------------------------\")"
   ]
  },
  {
   "cell_type": "code",
   "execution_count": 20,
   "metadata": {},
   "outputs": [],
   "source": [
    "from sklearn.pipeline import Pipeline\n",
    "\n",
    "from sklearn.preprocessing import StandardScaler\n",
    "\n",
    "from sklearn.svm import SVR\n",
    "\n",
    "from sklearn.neighbors import KNeighborsRegressor\n",
    "\n",
    "from sklearn.model_selection import cross_val_score\n",
    "\n",
    "from sklearn.ensemble import RandomForestRegressor\n",
    "\n",
    "from sklearn.ensemble import AdaBoostRegressor\n",
    "from sklearn.model_selection import cross_val_score\n",
    "from sklearn import svm\n",
    "from sklearn.datasets import samples_generator\n",
    "from sklearn.feature_selection import SelectKBest\n",
    "from sklearn.feature_selection import f_regression"
   ]
  },
  {
   "cell_type": "code",
   "execution_count": 21,
   "metadata": {},
   "outputs": [
    {
     "name": "stdout",
     "output_type": "stream",
     "text": [
      "=============================================<Root-Mean-Square Error>============================================\n",
      "RMSE scores\n",
      "\n",
      "\n",
      "LR:\n",
      "-----------------------------------------------------------------------------------------------------------\n",
      "Train score: 5.196921296239649\n",
      "Test score: 7.115028225059414\n",
      "\n",
      "\n",
      "KNN:\n",
      "--------------------------------------------------------------------------------------------------------\n",
      "Train score: 6.440482734791147\n",
      "Test score: 7.65517192118225\n",
      "\n",
      "\n",
      "Tree:\n",
      "------------------------------------------------------------------------------------------------------\n",
      "Train score: 0.0\n",
      "Test score: 9.187917531814735\n",
      "\n",
      "\n",
      "Bag:\n",
      "----------------------------------------------------------------------------------------------------------\n",
      "Train score: 3.055023279468626\n",
      "Test score: 6.840733461092772\n",
      "\n",
      "\n",
      "Random Forest:\n",
      "------------------------------------------------------------------------------------------\n",
      "Train score: 3.107677497516663\n",
      "Test score: 7.479546815912617\n",
      "\n",
      "\n",
      "AdaBoost:\n",
      "---------------------------------------------------------------------------------------------\n",
      "Train score: 15.967394170681626\n",
      "Test score: 16.911827385705465\n",
      "\n",
      "\n",
      "SVR:\n",
      "--------------------------------------------------------------------------------------\n",
      "Train score: 11.014892519291795\n",
      "Test score: 11.163905647360451\n"
     ]
    }
   ],
   "source": [
    "print(\"=============================================<Root-Mean-Square Error>============================================\")\n",
    "from sklearn.metrics import mean_squared_error\n",
    "import numpy as np\n",
    "print(\"RMSE scores\")\n",
    "print(\"\\n\")\n",
    "print(\"LR:\\n-----------------------------------------------------------------------------------------------------------\")\n",
    "print(\"Train score:\", np.sqrt(mean_squared_error(lr_model.predict(X_train), y_train)))\n",
    "print(\"Test score:\", np.sqrt(mean_squared_error(lr_model.predict(X_test), y_test)))\n",
    "\n",
    "print(\"\\n\")\n",
    "print(\"KNN:\\n--------------------------------------------------------------------------------------------------------\")\n",
    "print(\"Train score:\", np.sqrt(mean_squared_error(gs_knn_reg.predict(X_train), y_train)))\n",
    "print(\"Test score:\", np.sqrt(mean_squared_error(gs_knn_reg.predict(X_test), y_test)))\n",
    "\n",
    "print(\"\\n\")\n",
    "print(\"Tree:\\n------------------------------------------------------------------------------------------------------\")\n",
    "print(\"Train score:\", np.sqrt(mean_squared_error(gs_tree_reg.predict(X_train), y_train)))\n",
    "print(\"Test score:\", np.sqrt(mean_squared_error(gs_tree_reg.predict(X_test), y_test)))\n",
    "\n",
    "print(\"\\n\")\n",
    "print(\"Bag:\\n----------------------------------------------------------------------------------------------------------\")\n",
    "print(\"Train score:\", np.sqrt(mean_squared_error(gs_bag_reg.predict(X_train), y_train)))\n",
    "print(\"Test score:\", np.sqrt(mean_squared_error(gs_bag_reg.predict(X_test), y_test)))\n",
    "\n",
    "print(\"\\n\")\n",
    "print(\"Random Forest:\\n------------------------------------------------------------------------------------------\")\n",
    "print(\"Train score:\", np.sqrt(mean_squared_error(gs_rf_reg.predict(X_train), y_train)))\n",
    "print(\"Test score:\", np.sqrt(mean_squared_error(gs_rf_reg.predict(X_test), y_test)))\n",
    "\n",
    "print(\"\\n\")\n",
    "print(\"AdaBoost:\\n---------------------------------------------------------------------------------------------\")\n",
    "print(\"Train score:\", np.sqrt(mean_squared_error(gs_ada_reg.predict(X_train), y_train)))\n",
    "print(\"Test score:\", np.sqrt(mean_squared_error(gs_ada_reg.predict(X_test), y_test)))\n",
    "\n",
    "print(\"\\n\")\n",
    "print(\"SVR:\\n--------------------------------------------------------------------------------------\")\n",
    "print(\"Train score:\", np.sqrt(mean_squared_error(gs_svr.predict(X_train), y_train)))\n",
    "print(\"Test score:\", np.sqrt(mean_squared_error(gs_svr.predict(X_test), y_test)))"
   ]
  },
  {
   "cell_type": "code",
   "execution_count": 22,
   "metadata": {},
   "outputs": [
    {
     "data": {
      "text/plain": [
       "Index(['NPI', 'Gender', 'State', 'Credentials', 'Specialty', 'Totalclaimcount',\n",
       "       'OpioidClaimCount', 'ACYCLOVIR', 'ADVAIR.DISKUS', 'AGGRENOX',\n",
       "       ...\n",
       "       'VYTORIN', 'WARFARIN.SODIUM', 'XARELTO', 'ZETIA', 'ZIPRASIDONE.HCL',\n",
       "       'ZOLPIDEM.TARTRATE', 'avg_op_supply', 'op_longer', 'Opioid_Prescriber',\n",
       "       'op_prescriber'],\n",
       "      dtype='object', length=249)"
      ]
     },
     "execution_count": 22,
     "metadata": {},
     "output_type": "execute_result"
    }
   ],
   "source": [
    "df.columns"
   ]
  },
  {
   "cell_type": "markdown",
   "metadata": {},
   "source": [
    "#### 3. Model Building step 2_Rework with tunning"
   ]
  },
  {
   "cell_type": "code",
   "execution_count": 24,
   "metadata": {},
   "outputs": [
    {
     "name": "stdout",
     "output_type": "stream",
     "text": [
      "Ineligible and not Opioid_Prescriber:\t\t 11123 \n",
      "Ineligible and has a Opioid_Prescriber:\t 0 \n",
      "Eligible and noOpioid_Prescriber:\t\t 4 \n",
      "Eligible and has prescribed opiods:\t 13331\n"
     ]
    }
   ],
   "source": [
    "ineligible_noOpioidsPrescriber = (df['Opioid_Prescriber'] == 0) & (df['op_longer'] == 0)\n",
    "ineligible_yesOpioid_Prescriber = (df['Opioid_Prescriber'] == 0) & (df['op_longer'] == 1)\n",
    "eligible_noOpioid_Prescriber = (df['Opioid_Prescriber'] == 1) & (df['op_longer'] == 0)\n",
    "eligible_yesOpioid_Prescriber = (df['Opioid_Prescriber'] == 1) & (df['op_longer'] == 1)\n",
    "print(\n",
    "\"Ineligible and not Opioid_Prescriber:\\t\\t\", df[ineligible_noOpioidsPrescriber].shape[0],\n",
    "\"\\nIneligible and has a Opioid_Prescriber:\\t\", df[ineligible_yesOpioid_Prescriber].shape[0],\n",
    "\"\\nEligible and noOpioid_Prescriber:\\t\\t\", df[eligible_noOpioid_Prescriber].shape[0],\n",
    "\"\\nEligible and has prescribed opiods:\\t\", df[eligible_yesOpioid_Prescriber].shape[0])"
   ]
  },
  {
   "cell_type": "code",
   "execution_count": 25,
   "metadata": {},
   "outputs": [],
   "source": [
    "import re\n",
    "from sklearn import svm\n",
    "from sklearn.pipeline import Pipeline\n",
    "from imblearn.over_sampling import SMOTE\n",
    "from sklearn.preprocessing import StandardScaler\n",
    "from sklearn.linear_model import LogisticRegression\n",
    "from sklearn.linear_model import LinearRegression\n",
    "from sklearn.neighbors import KNeighborsRegressor\n",
    "from sklearn.tree import DecisionTreeRegressor\n",
    "from sklearn.metrics import confusion_matrix as cm\n",
    "from sklearn.ensemble import BaggingRegressor, RandomForestRegressor, AdaBoostRegressor\n",
    "from sklearn.svm import SVR\n",
    "from sklearn.ensemble import RandomForestClassifier, AdaBoostClassifier\n",
    "from sklearn.model_selection import train_test_split,GridSearchCV\n",
    "from sklearn.cross_validation import cross_val_score\n",
    "from sklearn import cross_validation,metrics\n",
    "from sklearn.preprocessing import StandardScaler\n",
    "from matplotlib import rcParams"
   ]
  },
  {
   "cell_type": "code",
   "execution_count": 26,
   "metadata": {},
   "outputs": [],
   "source": []
  },
  {
   "cell_type": "code",
   "execution_count": 27,
   "metadata": {},
   "outputs": [
    {
     "data": {
      "text/html": [
       "<div>\n",
       "<style scoped>\n",
       "    .dataframe tbody tr th:only-of-type {\n",
       "        vertical-align: middle;\n",
       "    }\n",
       "\n",
       "    .dataframe tbody tr th {\n",
       "        vertical-align: top;\n",
       "    }\n",
       "\n",
       "    .dataframe thead th {\n",
       "        text-align: right;\n",
       "    }\n",
       "</style>\n",
       "<table border=\"1\" class=\"dataframe\">\n",
       "  <thead>\n",
       "    <tr style=\"text-align: right;\">\n",
       "      <th></th>\n",
       "      <th>NPI</th>\n",
       "      <th>Gender</th>\n",
       "      <th>State</th>\n",
       "      <th>Credentials</th>\n",
       "      <th>Specialty</th>\n",
       "      <th>Totalclaimcount</th>\n",
       "      <th>OpioidClaimCount</th>\n",
       "      <th>ACYCLOVIR</th>\n",
       "      <th>ADVAIR.DISKUS</th>\n",
       "      <th>AGGRENOX</th>\n",
       "      <th>...</th>\n",
       "      <th>VYTORIN</th>\n",
       "      <th>WARFARIN.SODIUM</th>\n",
       "      <th>XARELTO</th>\n",
       "      <th>ZETIA</th>\n",
       "      <th>ZIPRASIDONE.HCL</th>\n",
       "      <th>ZOLPIDEM.TARTRATE</th>\n",
       "      <th>avg_op_supply</th>\n",
       "      <th>op_longer</th>\n",
       "      <th>Opioid_Prescriber</th>\n",
       "      <th>op_prescriber</th>\n",
       "    </tr>\n",
       "  </thead>\n",
       "  <tbody>\n",
       "    <tr>\n",
       "      <th>0</th>\n",
       "      <td>1003002320</td>\n",
       "      <td>M</td>\n",
       "      <td>MS</td>\n",
       "      <td>D.M.D. P.A.</td>\n",
       "      <td>Dentist</td>\n",
       "      <td>129</td>\n",
       "      <td>29</td>\n",
       "      <td>0</td>\n",
       "      <td>0</td>\n",
       "      <td>0</td>\n",
       "      <td>...</td>\n",
       "      <td>0</td>\n",
       "      <td>0</td>\n",
       "      <td>0</td>\n",
       "      <td>0</td>\n",
       "      <td>0</td>\n",
       "      <td>0</td>\n",
       "      <td>4.5</td>\n",
       "      <td>1.0</td>\n",
       "      <td>1</td>\n",
       "      <td>1.0</td>\n",
       "    </tr>\n",
       "    <tr>\n",
       "      <th>1</th>\n",
       "      <td>1003004771</td>\n",
       "      <td>F</td>\n",
       "      <td>CO</td>\n",
       "      <td>M.D.</td>\n",
       "      <td>Pulmonary Disease</td>\n",
       "      <td>537</td>\n",
       "      <td>0</td>\n",
       "      <td>0</td>\n",
       "      <td>61</td>\n",
       "      <td>0</td>\n",
       "      <td>...</td>\n",
       "      <td>0</td>\n",
       "      <td>0</td>\n",
       "      <td>16</td>\n",
       "      <td>0</td>\n",
       "      <td>0</td>\n",
       "      <td>0</td>\n",
       "      <td>4.5</td>\n",
       "      <td>0.0</td>\n",
       "      <td>0</td>\n",
       "      <td>0.0</td>\n",
       "    </tr>\n",
       "  </tbody>\n",
       "</table>\n",
       "<p>2 rows × 249 columns</p>\n",
       "</div>"
      ],
      "text/plain": [
       "          NPI Gender State  Credentials          Specialty  Totalclaimcount  \\\n",
       "0  1003002320      M    MS  D.M.D. P.A.            Dentist              129   \n",
       "1  1003004771      F    CO         M.D.  Pulmonary Disease              537   \n",
       "\n",
       "   OpioidClaimCount  ACYCLOVIR  ADVAIR.DISKUS  AGGRENOX      ...        \\\n",
       "0                29          0              0         0      ...         \n",
       "1                 0          0             61         0      ...         \n",
       "\n",
       "   VYTORIN  WARFARIN.SODIUM  XARELTO  ZETIA  ZIPRASIDONE.HCL  \\\n",
       "0        0                0        0      0                0   \n",
       "1        0                0       16      0                0   \n",
       "\n",
       "   ZOLPIDEM.TARTRATE  avg_op_supply  op_longer  Opioid_Prescriber  \\\n",
       "0                  0            4.5        1.0                  1   \n",
       "1                  0            4.5        0.0                  0   \n",
       "\n",
       "   op_prescriber  \n",
       "0            1.0  \n",
       "1            0.0  \n",
       "\n",
       "[2 rows x 249 columns]"
      ]
     },
     "execution_count": 27,
     "metadata": {},
     "output_type": "execute_result"
    }
   ],
   "source": [
    "df.head()[:2]"
   ]
  },
  {
   "cell_type": "code",
   "execution_count": 28,
   "metadata": {},
   "outputs": [],
   "source": [
    "# df.drop(columns=[''], axis=1, inplace=True)\n",
    "\n",
    "df = pd.get_dummies(df, columns=['Gender'], drop_first=True)"
   ]
  },
  {
   "cell_type": "code",
   "execution_count": 29,
   "metadata": {},
   "outputs": [
    {
     "data": {
      "text/plain": [
       "Index(['NPI', 'State', 'Credentials', 'Specialty', 'Totalclaimcount',\n",
       "       'OpioidClaimCount', 'ACYCLOVIR', 'ADVAIR.DISKUS', 'AGGRENOX',\n",
       "       'ALENDRONATE.SODIUM',\n",
       "       ...\n",
       "       'WARFARIN.SODIUM', 'XARELTO', 'ZETIA', 'ZIPRASIDONE.HCL',\n",
       "       'ZOLPIDEM.TARTRATE', 'avg_op_supply', 'op_longer', 'Opioid_Prescriber',\n",
       "       'op_prescriber', 'Gender_M'],\n",
       "      dtype='object', length=249)"
      ]
     },
     "execution_count": 29,
     "metadata": {},
     "output_type": "execute_result"
    }
   ],
   "source": [
    "df.columns"
   ]
  },
  {
   "cell_type": "code",
   "execution_count": 30,
   "metadata": {},
   "outputs": [
    {
     "data": {
      "text/plain": [
       "(25000, 249)"
      ]
     },
     "execution_count": 30,
     "metadata": {},
     "output_type": "execute_result"
    }
   ],
   "source": [
    "df.shape"
   ]
  },
  {
   "cell_type": "code",
   "execution_count": 34,
   "metadata": {},
   "outputs": [],
   "source": [
    "# Ustandardization and applying all models at once\n",
    "ss  = StandardScaler()\n",
    "\n",
    "logreg = LogisticRegression()\n",
    "rfc = RandomForestClassifier(n_estimators=14, random_state=42)\n",
    "adb = AdaBoostClassifier(n_estimators=100, learning_rate=0.1, random_state=42)"
   ]
  },
  {
   "cell_type": "code",
   "execution_count": 35,
   "metadata": {},
   "outputs": [],
   "source": [
    "# making pipeline for choosing best model\n",
    "pipe_logreg = Pipeline([\n",
    "    ('ss', ss),\n",
    "    ('logreg', logreg)\n",
    "])\n",
    "pipe_rfc = Pipeline([\n",
    "    ('ss', ss),\n",
    "    ('rfc', rfc),\n",
    "])\n",
    "pipe_adb = Pipeline([\n",
    "    ('ss', ss),\n",
    "    ('adb', adb)\n",
    "])"
   ]
  },
  {
   "cell_type": "code",
   "execution_count": 38,
   "metadata": {
    "scrolled": true
   },
   "outputs": [
    {
     "name": "stdout",
     "output_type": "stream",
     "text": [
      "\n",
      "Score Train/Test: Logistic Regression\n",
      "0.8729904761904762\n",
      "0.8461714285714286\n",
      "\n",
      "Score Train/Test: Random Forest\n",
      "0.9954285714285714\n",
      "0.8731428571428571\n",
      "\n",
      "Score Train/Test: Adaboost\n",
      "0.44739047619047617\n",
      "0.4342857142857143\n",
      "Wall time: 2min 21s\n"
     ]
    }
   ],
   "source": [
    "%%time\n",
    "pipes    = [ \n",
    "    pipe_logreg, \n",
    "    pipe_rfc, \n",
    "    pipe_adb,\n",
    "]\n",
    "pipe_idx = {0: 'Logistic Regression', \n",
    "            1: 'Random Forest', \n",
    "            2: 'Adaboost'\n",
    "           }\n",
    "\n",
    "for idx, pipe in enumerate(pipes):\n",
    "    pipe.fit(X_train, y_train)\n",
    "    print('\\nScore Train/Test: %s' % pipe_idx[idx])\n",
    "    print(pipe.score(X_train, y_train))\n",
    "    print(pipe.score(X_test, y_test))\n",
    "# print('Best params: %s' % pipe.best_params_)"
   ]
  },
  {
   "cell_type": "code",
   "execution_count": 47,
   "metadata": {},
   "outputs": [
    {
     "name": "stderr",
     "output_type": "stream",
     "text": [
      "C:\\ProgramData\\Anaconda33\\lib\\site-packages\\IPython\\core\\interactiveshell.py:2785: DtypeWarning: Columns (5,6) have mixed types. Specify dtype option on import or set low_memory=False.\n",
      "  interactivity=interactivity, compiler=compiler, result=result)\n"
     ]
    },
    {
     "data": {
      "text/html": [
       "<div>\n",
       "<style scoped>\n",
       "    .dataframe tbody tr th:only-of-type {\n",
       "        vertical-align: middle;\n",
       "    }\n",
       "\n",
       "    .dataframe tbody tr th {\n",
       "        vertical-align: top;\n",
       "    }\n",
       "\n",
       "    .dataframe thead th {\n",
       "        text-align: right;\n",
       "    }\n",
       "</style>\n",
       "<table border=\"1\" class=\"dataframe\">\n",
       "  <thead>\n",
       "    <tr style=\"text-align: right;\">\n",
       "      <th></th>\n",
       "      <th>NPI</th>\n",
       "      <th>Gender</th>\n",
       "      <th>State</th>\n",
       "      <th>Credentials</th>\n",
       "      <th>Specialty</th>\n",
       "      <th>NPPES Provider Last Name</th>\n",
       "      <th>NPPES Provider First Name</th>\n",
       "      <th>NPPES Provider ZIP Code</th>\n",
       "      <th>NPPES Provider State</th>\n",
       "      <th>Totalclaimcount</th>\n",
       "      <th>...</th>\n",
       "      <th>VYTORIN</th>\n",
       "      <th>WARFARIN.SODIUM</th>\n",
       "      <th>XARELTO</th>\n",
       "      <th>ZETIA</th>\n",
       "      <th>ZIPRASIDONE.HCL</th>\n",
       "      <th>ZOLPIDEM.TARTRATE</th>\n",
       "      <th>avg_op_supply</th>\n",
       "      <th>op_longer</th>\n",
       "      <th>Opioid_Prescriber</th>\n",
       "      <th>op_prescriber</th>\n",
       "    </tr>\n",
       "  </thead>\n",
       "  <tbody>\n",
       "    <tr>\n",
       "      <th>0</th>\n",
       "      <td>1003002320</td>\n",
       "      <td>M</td>\n",
       "      <td>MS</td>\n",
       "      <td>D.M.D. P.A.</td>\n",
       "      <td>Dentist</td>\n",
       "      <td>EKLUND</td>\n",
       "      <td>D.</td>\n",
       "      <td>39208.0</td>\n",
       "      <td>MS</td>\n",
       "      <td>129</td>\n",
       "      <td>...</td>\n",
       "      <td>0</td>\n",
       "      <td>0</td>\n",
       "      <td>0</td>\n",
       "      <td>0</td>\n",
       "      <td>0</td>\n",
       "      <td>0</td>\n",
       "      <td>4.5</td>\n",
       "      <td>1.0</td>\n",
       "      <td>1</td>\n",
       "      <td>1.0</td>\n",
       "    </tr>\n",
       "    <tr>\n",
       "      <th>1</th>\n",
       "      <td>1003004771</td>\n",
       "      <td>F</td>\n",
       "      <td>CO</td>\n",
       "      <td>M.D.</td>\n",
       "      <td>Pulmonary Disease</td>\n",
       "      <td>RIGGLE</td>\n",
       "      <td>ERIN</td>\n",
       "      <td>80120.0</td>\n",
       "      <td>CO</td>\n",
       "      <td>537</td>\n",
       "      <td>...</td>\n",
       "      <td>0</td>\n",
       "      <td>0</td>\n",
       "      <td>16</td>\n",
       "      <td>0</td>\n",
       "      <td>0</td>\n",
       "      <td>0</td>\n",
       "      <td>4.5</td>\n",
       "      <td>0.0</td>\n",
       "      <td>0</td>\n",
       "      <td>0.0</td>\n",
       "    </tr>\n",
       "  </tbody>\n",
       "</table>\n",
       "<p>2 rows × 264 columns</p>\n",
       "</div>"
      ],
      "text/plain": [
       "          NPI Gender State  Credentials          Specialty  \\\n",
       "0  1003002320      M    MS  D.M.D. P.A.            Dentist   \n",
       "1  1003004771      F    CO         M.D.  Pulmonary Disease   \n",
       "\n",
       "  NPPES Provider Last Name NPPES Provider First Name  NPPES Provider ZIP Code  \\\n",
       "0                   EKLUND                        D.                  39208.0   \n",
       "1                   RIGGLE                      ERIN                  80120.0   \n",
       "\n",
       "  NPPES Provider State  Totalclaimcount      ...        VYTORIN  \\\n",
       "0                   MS              129      ...              0   \n",
       "1                   CO              537      ...              0   \n",
       "\n",
       "   WARFARIN.SODIUM  XARELTO  ZETIA  ZIPRASIDONE.HCL  ZOLPIDEM.TARTRATE  \\\n",
       "0                0        0      0                0                  0   \n",
       "1                0       16      0                0                  0   \n",
       "\n",
       "   avg_op_supply  op_longer  Opioid_Prescriber  op_prescriber  \n",
       "0            4.5        1.0                  1            1.0  \n",
       "1            4.5        0.0                  0            0.0  \n",
       "\n",
       "[2 rows x 264 columns]"
      ]
     },
     "execution_count": 47,
     "metadata": {},
     "output_type": "execute_result"
    }
   ],
   "source": [
    "## Read Data\n",
    "df=pd.read_csv('./inputs/cleaned_prescriber_info18.csv')\n",
    "df.head()[:2]"
   ]
  },
  {
   "cell_type": "code",
   "execution_count": 48,
   "metadata": {},
   "outputs": [
    {
     "name": "stdout",
     "output_type": "stream",
     "text": [
      "(25000, 264)\n"
     ]
    }
   ],
   "source": [
    "print(df.shape)"
   ]
  },
  {
   "cell_type": "code",
   "execution_count": 49,
   "metadata": {},
   "outputs": [],
   "source": [
    "opioids=pd.read_csv('./inputs/list_opioids.csv')"
   ]
  },
  {
   "cell_type": "code",
   "execution_count": 50,
   "metadata": {},
   "outputs": [],
   "source": [
    "name=opioids['Drug Name']\n",
    "import re\n",
    "new_name=name.apply(lambda x:re.sub(\"\\ |-\",\".\",str(x)))\n",
    "columns=df.columns\n",
    "Abandoned_variables = set(columns).intersection(set(new_name))\n",
    "Kept_variable=[]\n",
    "for each in columns:\n",
    "    if each in Abandoned_variables:\n",
    "        pass\n",
    "    else:\n",
    "        Kept_variable.append(each)"
   ]
  },
  {
   "cell_type": "code",
   "execution_count": 51,
   "metadata": {},
   "outputs": [
    {
     "name": "stdout",
     "output_type": "stream",
     "text": [
      "(25000, 253)\n"
     ]
    }
   ],
   "source": [
    "df=df[Kept_variable]\n",
    "print(df.shape)"
   ]
  },
  {
   "cell_type": "code",
   "execution_count": 52,
   "metadata": {},
   "outputs": [
    {
     "data": {
      "text/html": [
       "<div>\n",
       "<style scoped>\n",
       "    .dataframe tbody tr th:only-of-type {\n",
       "        vertical-align: middle;\n",
       "    }\n",
       "\n",
       "    .dataframe tbody tr th {\n",
       "        vertical-align: top;\n",
       "    }\n",
       "\n",
       "    .dataframe thead th {\n",
       "        text-align: right;\n",
       "    }\n",
       "</style>\n",
       "<table border=\"1\" class=\"dataframe\">\n",
       "  <thead>\n",
       "    <tr style=\"text-align: right;\">\n",
       "      <th></th>\n",
       "      <th>NPI</th>\n",
       "      <th>Gender</th>\n",
       "      <th>State</th>\n",
       "      <th>Credentials</th>\n",
       "      <th>Specialty</th>\n",
       "      <th>NPPES Provider Last Name</th>\n",
       "      <th>NPPES Provider First Name</th>\n",
       "      <th>NPPES Provider ZIP Code</th>\n",
       "      <th>NPPES Provider State</th>\n",
       "      <th>Totalclaimcount</th>\n",
       "      <th>...</th>\n",
       "      <th>VYTORIN</th>\n",
       "      <th>WARFARIN.SODIUM</th>\n",
       "      <th>XARELTO</th>\n",
       "      <th>ZETIA</th>\n",
       "      <th>ZIPRASIDONE.HCL</th>\n",
       "      <th>ZOLPIDEM.TARTRATE</th>\n",
       "      <th>avg_op_supply</th>\n",
       "      <th>op_longer</th>\n",
       "      <th>Opioid_Prescriber</th>\n",
       "      <th>op_prescriber</th>\n",
       "    </tr>\n",
       "  </thead>\n",
       "  <tbody>\n",
       "    <tr>\n",
       "      <th>0</th>\n",
       "      <td>1003002320</td>\n",
       "      <td>M</td>\n",
       "      <td>MS</td>\n",
       "      <td>D.M.D. P.A.</td>\n",
       "      <td>Dentist</td>\n",
       "      <td>EKLUND</td>\n",
       "      <td>D.</td>\n",
       "      <td>39208.0</td>\n",
       "      <td>MS</td>\n",
       "      <td>129</td>\n",
       "      <td>...</td>\n",
       "      <td>0</td>\n",
       "      <td>0</td>\n",
       "      <td>0</td>\n",
       "      <td>0</td>\n",
       "      <td>0</td>\n",
       "      <td>0</td>\n",
       "      <td>4.5</td>\n",
       "      <td>1.0</td>\n",
       "      <td>1</td>\n",
       "      <td>1.0</td>\n",
       "    </tr>\n",
       "    <tr>\n",
       "      <th>1</th>\n",
       "      <td>1003004771</td>\n",
       "      <td>F</td>\n",
       "      <td>CO</td>\n",
       "      <td>M.D.</td>\n",
       "      <td>Pulmonary Disease</td>\n",
       "      <td>RIGGLE</td>\n",
       "      <td>ERIN</td>\n",
       "      <td>80120.0</td>\n",
       "      <td>CO</td>\n",
       "      <td>537</td>\n",
       "      <td>...</td>\n",
       "      <td>0</td>\n",
       "      <td>0</td>\n",
       "      <td>16</td>\n",
       "      <td>0</td>\n",
       "      <td>0</td>\n",
       "      <td>0</td>\n",
       "      <td>4.5</td>\n",
       "      <td>0.0</td>\n",
       "      <td>0</td>\n",
       "      <td>0.0</td>\n",
       "    </tr>\n",
       "  </tbody>\n",
       "</table>\n",
       "<p>2 rows × 253 columns</p>\n",
       "</div>"
      ],
      "text/plain": [
       "          NPI Gender State  Credentials          Specialty  \\\n",
       "0  1003002320      M    MS  D.M.D. P.A.            Dentist   \n",
       "1  1003004771      F    CO         M.D.  Pulmonary Disease   \n",
       "\n",
       "  NPPES Provider Last Name NPPES Provider First Name  NPPES Provider ZIP Code  \\\n",
       "0                   EKLUND                        D.                  39208.0   \n",
       "1                   RIGGLE                      ERIN                  80120.0   \n",
       "\n",
       "  NPPES Provider State  Totalclaimcount      ...        VYTORIN  \\\n",
       "0                   MS              129      ...              0   \n",
       "1                   CO              537      ...              0   \n",
       "\n",
       "   WARFARIN.SODIUM  XARELTO  ZETIA  ZIPRASIDONE.HCL  ZOLPIDEM.TARTRATE  \\\n",
       "0                0        0      0                0                  0   \n",
       "1                0       16      0                0                  0   \n",
       "\n",
       "   avg_op_supply  op_longer  Opioid_Prescriber  op_prescriber  \n",
       "0            4.5        1.0                  1            1.0  \n",
       "1            4.5        0.0                  0            0.0  \n",
       "\n",
       "[2 rows x 253 columns]"
      ]
     },
     "execution_count": 52,
     "metadata": {},
     "output_type": "execute_result"
    }
   ],
   "source": [
    "df.head()[:2]"
   ]
  },
  {
   "cell_type": "code",
   "execution_count": 53,
   "metadata": {},
   "outputs": [],
   "source": [
    "# df['NPPES Provider ZIP Code'] = df['NPPES Provider ZIP Code'].str.replace(',', '')\n",
    "# df['NPPES Provider ZIP Code'] = df['NPPES Provider ZIP Code'].str.replace(' ', '')\n",
    "df['NPPES Provider ZIP Code'] = df['NPPES Provider ZIP Code'].astype(float)"
   ]
  },
  {
   "cell_type": "code",
   "execution_count": 54,
   "metadata": {},
   "outputs": [
    {
     "data": {
      "text/plain": [
       "NPI                                  0\n",
       "Gender                               0\n",
       "State                                0\n",
       "Credentials                         82\n",
       "Specialty                            0\n",
       "NPPES Provider Last Name          2610\n",
       "NPPES Provider First Name         2610\n",
       "NPPES Provider ZIP Code           2610\n",
       "NPPES Provider State                 0\n",
       "Totalclaimcount                      0\n",
       "OpioidClaimCount                     0\n",
       "ACYCLOVIR                            0\n",
       "ADVAIR.DISKUS                        0\n",
       "AGGRENOX                             0\n",
       "ALENDRONATE.SODIUM                   0\n",
       "ALLOPURINOL                          0\n",
       "ALPRAZOLAM                           0\n",
       "AMIODARONE.HCL                       0\n",
       "AMITRIPTYLINE.HCL                    0\n",
       "AMLODIPINE.BESYLATE                  0\n",
       "AMLODIPINE.BESYLATE.BENAZEPRIL       0\n",
       "AMOXICILLIN                          0\n",
       "AMOX.TR.POTASSIUM.CLAVULANATE        0\n",
       "AMPHETAMINE.SALT.COMBO               0\n",
       "ATENOLOL                             0\n",
       "ATORVASTATIN.CALCIUM                 0\n",
       "AVODART                              0\n",
       "AZITHROMYCIN                         0\n",
       "BACLOFEN                             0\n",
       "BD.ULTRA.FINE.PEN.NEEDLE             0\n",
       "                                  ... \n",
       "TERAZOSIN.HCL                        0\n",
       "TIMOLOL.MALEATE                      0\n",
       "TIZANIDINE.HCL                       0\n",
       "TOLTERODINE.TARTRATE.ER              0\n",
       "TOPIRAMATE                           0\n",
       "TOPROL.XL                            0\n",
       "TORSEMIDE                            0\n",
       "TRAVATAN.Z                           0\n",
       "TRAZODONE.HCL                        0\n",
       "TRIAMCINOLONE.ACETONIDE              0\n",
       "TRIAMTERENE.HYDROCHLOROTHIAZID       0\n",
       "VALACYCLOVIR                         0\n",
       "VALSARTAN                            0\n",
       "VALSARTAN.HYDROCHLOROTHIAZIDE        0\n",
       "VENLAFAXINE.HCL                      0\n",
       "VENLAFAXINE.HCL.ER                   0\n",
       "VENTOLIN.HFA                         0\n",
       "VERAPAMIL.ER                         0\n",
       "VESICARE                             0\n",
       "VOLTAREN                             0\n",
       "VYTORIN                              0\n",
       "WARFARIN.SODIUM                      0\n",
       "XARELTO                              0\n",
       "ZETIA                                0\n",
       "ZIPRASIDONE.HCL                      0\n",
       "ZOLPIDEM.TARTRATE                    0\n",
       "avg_op_supply                     2610\n",
       "op_longer                         2610\n",
       "Opioid_Prescriber                    0\n",
       "op_prescriber                     2610\n",
       "Length: 253, dtype: int64"
      ]
     },
     "execution_count": 54,
     "metadata": {},
     "output_type": "execute_result"
    }
   ],
   "source": [
    "df.isnull().sum()"
   ]
  },
  {
   "cell_type": "code",
   "execution_count": 55,
   "metadata": {},
   "outputs": [],
   "source": [
    "df.fillna(0,inplace = True)"
   ]
  },
  {
   "cell_type": "code",
   "execution_count": 56,
   "metadata": {},
   "outputs": [
    {
     "data": {
      "text/plain": [
       "Index(['NPI', 'Gender', 'State', 'Credentials', 'Specialty',\n",
       "       'NPPES Provider Last Name', 'NPPES Provider First Name',\n",
       "       'NPPES Provider ZIP Code', 'NPPES Provider State', 'Totalclaimcount',\n",
       "       ...\n",
       "       'VYTORIN', 'WARFARIN.SODIUM', 'XARELTO', 'ZETIA', 'ZIPRASIDONE.HCL',\n",
       "       'ZOLPIDEM.TARTRATE', 'avg_op_supply', 'op_longer', 'Opioid_Prescriber',\n",
       "       'op_prescriber'],\n",
       "      dtype='object', length=253)"
      ]
     },
     "execution_count": 56,
     "metadata": {},
     "output_type": "execute_result"
    }
   ],
   "source": [
    "df.columns"
   ]
  },
  {
   "cell_type": "code",
   "execution_count": 57,
   "metadata": {},
   "outputs": [],
   "source": [
    "df.drop(['NPPES Provider Last Name', 'NPPES Provider First Name','NPPES Provider ZIP Code',\n",
    "         'NPPES Provider State'], axis =1, inplace = True)"
   ]
  },
  {
   "cell_type": "code",
   "execution_count": 58,
   "metadata": {},
   "outputs": [
    {
     "data": {
      "text/html": [
       "<div>\n",
       "<style scoped>\n",
       "    .dataframe tbody tr th:only-of-type {\n",
       "        vertical-align: middle;\n",
       "    }\n",
       "\n",
       "    .dataframe tbody tr th {\n",
       "        vertical-align: top;\n",
       "    }\n",
       "\n",
       "    .dataframe thead th {\n",
       "        text-align: right;\n",
       "    }\n",
       "</style>\n",
       "<table border=\"1\" class=\"dataframe\">\n",
       "  <thead>\n",
       "    <tr style=\"text-align: right;\">\n",
       "      <th></th>\n",
       "      <th>NPI</th>\n",
       "      <th>Gender</th>\n",
       "      <th>State</th>\n",
       "      <th>Credentials</th>\n",
       "      <th>Specialty</th>\n",
       "      <th>Totalclaimcount</th>\n",
       "      <th>OpioidClaimCount</th>\n",
       "      <th>ACYCLOVIR</th>\n",
       "      <th>ADVAIR.DISKUS</th>\n",
       "      <th>AGGRENOX</th>\n",
       "      <th>...</th>\n",
       "      <th>VYTORIN</th>\n",
       "      <th>WARFARIN.SODIUM</th>\n",
       "      <th>XARELTO</th>\n",
       "      <th>ZETIA</th>\n",
       "      <th>ZIPRASIDONE.HCL</th>\n",
       "      <th>ZOLPIDEM.TARTRATE</th>\n",
       "      <th>avg_op_supply</th>\n",
       "      <th>op_longer</th>\n",
       "      <th>Opioid_Prescriber</th>\n",
       "      <th>op_prescriber</th>\n",
       "    </tr>\n",
       "  </thead>\n",
       "  <tbody>\n",
       "    <tr>\n",
       "      <th>0</th>\n",
       "      <td>1003002320</td>\n",
       "      <td>M</td>\n",
       "      <td>MS</td>\n",
       "      <td>D.M.D. P.A.</td>\n",
       "      <td>Dentist</td>\n",
       "      <td>129</td>\n",
       "      <td>29</td>\n",
       "      <td>0</td>\n",
       "      <td>0</td>\n",
       "      <td>0</td>\n",
       "      <td>...</td>\n",
       "      <td>0</td>\n",
       "      <td>0</td>\n",
       "      <td>0</td>\n",
       "      <td>0</td>\n",
       "      <td>0</td>\n",
       "      <td>0</td>\n",
       "      <td>4.5</td>\n",
       "      <td>1.0</td>\n",
       "      <td>1</td>\n",
       "      <td>1.0</td>\n",
       "    </tr>\n",
       "    <tr>\n",
       "      <th>1</th>\n",
       "      <td>1003004771</td>\n",
       "      <td>F</td>\n",
       "      <td>CO</td>\n",
       "      <td>M.D.</td>\n",
       "      <td>Pulmonary Disease</td>\n",
       "      <td>537</td>\n",
       "      <td>0</td>\n",
       "      <td>0</td>\n",
       "      <td>61</td>\n",
       "      <td>0</td>\n",
       "      <td>...</td>\n",
       "      <td>0</td>\n",
       "      <td>0</td>\n",
       "      <td>16</td>\n",
       "      <td>0</td>\n",
       "      <td>0</td>\n",
       "      <td>0</td>\n",
       "      <td>4.5</td>\n",
       "      <td>0.0</td>\n",
       "      <td>0</td>\n",
       "      <td>0.0</td>\n",
       "    </tr>\n",
       "  </tbody>\n",
       "</table>\n",
       "<p>2 rows × 249 columns</p>\n",
       "</div>"
      ],
      "text/plain": [
       "          NPI Gender State  Credentials          Specialty  Totalclaimcount  \\\n",
       "0  1003002320      M    MS  D.M.D. P.A.            Dentist              129   \n",
       "1  1003004771      F    CO         M.D.  Pulmonary Disease              537   \n",
       "\n",
       "   OpioidClaimCount  ACYCLOVIR  ADVAIR.DISKUS  AGGRENOX      ...        \\\n",
       "0                29          0              0         0      ...         \n",
       "1                 0          0             61         0      ...         \n",
       "\n",
       "   VYTORIN  WARFARIN.SODIUM  XARELTO  ZETIA  ZIPRASIDONE.HCL  \\\n",
       "0        0                0        0      0                0   \n",
       "1        0                0       16      0                0   \n",
       "\n",
       "   ZOLPIDEM.TARTRATE  avg_op_supply  op_longer  Opioid_Prescriber  \\\n",
       "0                  0            4.5        1.0                  1   \n",
       "1                  0            4.5        0.0                  0   \n",
       "\n",
       "   op_prescriber  \n",
       "0            1.0  \n",
       "1            0.0  \n",
       "\n",
       "[2 rows x 249 columns]"
      ]
     },
     "execution_count": 58,
     "metadata": {},
     "output_type": "execute_result"
    }
   ],
   "source": [
    "df.head()[:2]"
   ]
  },
  {
   "cell_type": "code",
   "execution_count": 59,
   "metadata": {},
   "outputs": [
    {
     "data": {
      "text/html": [
       "<div>\n",
       "<style scoped>\n",
       "    .dataframe tbody tr th:only-of-type {\n",
       "        vertical-align: middle;\n",
       "    }\n",
       "\n",
       "    .dataframe tbody tr th {\n",
       "        vertical-align: top;\n",
       "    }\n",
       "\n",
       "    .dataframe thead th {\n",
       "        text-align: right;\n",
       "    }\n",
       "</style>\n",
       "<table border=\"1\" class=\"dataframe\">\n",
       "  <thead>\n",
       "    <tr style=\"text-align: right;\">\n",
       "      <th></th>\n",
       "      <th>NPI</th>\n",
       "      <th>Gender</th>\n",
       "      <th>State</th>\n",
       "      <th>Credentials</th>\n",
       "      <th>Specialty</th>\n",
       "      <th>Totalclaimcount</th>\n",
       "      <th>OpioidClaimCount</th>\n",
       "      <th>ACYCLOVIR</th>\n",
       "      <th>ADVAIR.DISKUS</th>\n",
       "      <th>AGGRENOX</th>\n",
       "      <th>...</th>\n",
       "      <th>VYTORIN</th>\n",
       "      <th>WARFARIN.SODIUM</th>\n",
       "      <th>XARELTO</th>\n",
       "      <th>ZETIA</th>\n",
       "      <th>ZIPRASIDONE.HCL</th>\n",
       "      <th>ZOLPIDEM.TARTRATE</th>\n",
       "      <th>avg_op_supply</th>\n",
       "      <th>op_longer</th>\n",
       "      <th>Opioid_Prescriber</th>\n",
       "      <th>op_prescriber</th>\n",
       "    </tr>\n",
       "  </thead>\n",
       "  <tbody>\n",
       "    <tr>\n",
       "      <th>0</th>\n",
       "      <td>1003002320</td>\n",
       "      <td>M</td>\n",
       "      <td>MS</td>\n",
       "      <td>D.M.D. P.A.</td>\n",
       "      <td>Dentist</td>\n",
       "      <td>129</td>\n",
       "      <td>29</td>\n",
       "      <td>0</td>\n",
       "      <td>0</td>\n",
       "      <td>0</td>\n",
       "      <td>...</td>\n",
       "      <td>0</td>\n",
       "      <td>0</td>\n",
       "      <td>0</td>\n",
       "      <td>0</td>\n",
       "      <td>0</td>\n",
       "      <td>0</td>\n",
       "      <td>4.5</td>\n",
       "      <td>1.0</td>\n",
       "      <td>1</td>\n",
       "      <td>1.0</td>\n",
       "    </tr>\n",
       "    <tr>\n",
       "      <th>1</th>\n",
       "      <td>1003004771</td>\n",
       "      <td>F</td>\n",
       "      <td>CO</td>\n",
       "      <td>M.D.</td>\n",
       "      <td>Pulmonary Disease</td>\n",
       "      <td>537</td>\n",
       "      <td>0</td>\n",
       "      <td>0</td>\n",
       "      <td>61</td>\n",
       "      <td>0</td>\n",
       "      <td>...</td>\n",
       "      <td>0</td>\n",
       "      <td>0</td>\n",
       "      <td>16</td>\n",
       "      <td>0</td>\n",
       "      <td>0</td>\n",
       "      <td>0</td>\n",
       "      <td>4.5</td>\n",
       "      <td>0.0</td>\n",
       "      <td>0</td>\n",
       "      <td>0.0</td>\n",
       "    </tr>\n",
       "  </tbody>\n",
       "</table>\n",
       "<p>2 rows × 249 columns</p>\n",
       "</div>"
      ],
      "text/plain": [
       "          NPI Gender State  Credentials          Specialty  Totalclaimcount  \\\n",
       "0  1003002320      M    MS  D.M.D. P.A.            Dentist              129   \n",
       "1  1003004771      F    CO         M.D.  Pulmonary Disease              537   \n",
       "\n",
       "   OpioidClaimCount  ACYCLOVIR  ADVAIR.DISKUS  AGGRENOX      ...        \\\n",
       "0                29          0              0         0      ...         \n",
       "1                 0          0             61         0      ...         \n",
       "\n",
       "   VYTORIN  WARFARIN.SODIUM  XARELTO  ZETIA  ZIPRASIDONE.HCL  \\\n",
       "0        0                0        0      0                0   \n",
       "1        0                0       16      0                0   \n",
       "\n",
       "   ZOLPIDEM.TARTRATE  avg_op_supply  op_longer  Opioid_Prescriber  \\\n",
       "0                  0            4.5        1.0                  1   \n",
       "1                  0            4.5        0.0                  0   \n",
       "\n",
       "   op_prescriber  \n",
       "0            1.0  \n",
       "1            0.0  \n",
       "\n",
       "[2 rows x 249 columns]"
      ]
     },
     "execution_count": 59,
     "metadata": {},
     "output_type": "execute_result"
    }
   ],
   "source": [
    "df.head()[:2]"
   ]
  },
  {
   "cell_type": "code",
   "execution_count": null,
   "metadata": {},
   "outputs": [],
   "source": [
    "def get_me_dummies(dsi):\n",
    "category_t_keep = ['gender', 'state', 'specialty'] results = {}\n",
    "for category in category_t_keep:\n",
    "names = dsi[category].unique()\n",
    "dummies = [category + '_' + s for s in names] results[category] = dummies\n",
    "return results['gender'] + results['state'] + results['specialty']"
   ]
  },
  {
   "cell_type": "code",
   "execution_count": 60,
   "metadata": {},
   "outputs": [
    {
     "name": "stdout",
     "output_type": "stream",
     "text": [
      "(17500, 249)\n",
      "(7500, 249)\n"
     ]
    }
   ],
   "source": [
    "train,test = train_test_split(df,test_size=0.3,random_state=42)\n",
    "print(train.shape)\n",
    "print(test.shape)"
   ]
  },
  {
   "cell_type": "code",
   "execution_count": 61,
   "metadata": {},
   "outputs": [
    {
     "name": "stderr",
     "output_type": "stream",
     "text": [
      "C:\\ProgramData\\Anaconda33\\lib\\site-packages\\ipykernel_launcher.py:3: SettingWithCopyWarning: \n",
      "A value is trying to be set on a copy of a slice from a DataFrame.\n",
      "Try using .loc[row_indexer,col_indexer] = value instead\n",
      "\n",
      "See the caveats in the documentation: http://pandas.pydata.org/pandas-docs/stable/indexing.html#indexing-view-versus-copy\n",
      "  This is separate from the ipykernel package so we can avoid doing imports until\n",
      "C:\\ProgramData\\Anaconda33\\lib\\site-packages\\ipykernel_launcher.py:4: SettingWithCopyWarning: \n",
      "A value is trying to be set on a copy of a slice from a DataFrame.\n",
      "Try using .loc[row_indexer,col_indexer] = value instead\n",
      "\n",
      "See the caveats in the documentation: http://pandas.pydata.org/pandas-docs/stable/indexing.html#indexing-view-versus-copy\n",
      "  after removing the cwd from sys.path.\n"
     ]
    }
   ],
   "source": [
    "Categorical_columns=['Gender','State','Credentials','Specialty']\n",
    "for col in Categorical_columns:\n",
    "    train[col]=pd.factorize(train[col], sort=True)[0]\n",
    "    test[col] =pd.factorize(test[col],sort=True)[0]"
   ]
  },
  {
   "cell_type": "code",
   "execution_count": 62,
   "metadata": {},
   "outputs": [],
   "source": [
    "y = train['Opioid_Prescriber']\n",
    "\n",
    "X = train.iloc[:,1:245]\n",
    "X_train, X_test, y_train, y_test = train_test_split(X, y)"
   ]
  },
  {
   "cell_type": "code",
   "execution_count": 63,
   "metadata": {},
   "outputs": [
    {
     "data": {
      "text/html": [
       "<div>\n",
       "<style scoped>\n",
       "    .dataframe tbody tr th:only-of-type {\n",
       "        vertical-align: middle;\n",
       "    }\n",
       "\n",
       "    .dataframe tbody tr th {\n",
       "        vertical-align: top;\n",
       "    }\n",
       "\n",
       "    .dataframe thead th {\n",
       "        text-align: right;\n",
       "    }\n",
       "</style>\n",
       "<table border=\"1\" class=\"dataframe\">\n",
       "  <thead>\n",
       "    <tr style=\"text-align: right;\">\n",
       "      <th></th>\n",
       "      <th>Gender</th>\n",
       "      <th>State</th>\n",
       "      <th>Credentials</th>\n",
       "      <th>Specialty</th>\n",
       "      <th>Totalclaimcount</th>\n",
       "      <th>OpioidClaimCount</th>\n",
       "      <th>ACYCLOVIR</th>\n",
       "      <th>ADVAIR.DISKUS</th>\n",
       "      <th>AGGRENOX</th>\n",
       "      <th>ALENDRONATE.SODIUM</th>\n",
       "      <th>...</th>\n",
       "      <th>VENTOLIN.HFA</th>\n",
       "      <th>VERAPAMIL.ER</th>\n",
       "      <th>VESICARE</th>\n",
       "      <th>VOLTAREN</th>\n",
       "      <th>VYTORIN</th>\n",
       "      <th>WARFARIN.SODIUM</th>\n",
       "      <th>XARELTO</th>\n",
       "      <th>ZETIA</th>\n",
       "      <th>ZIPRASIDONE.HCL</th>\n",
       "      <th>ZOLPIDEM.TARTRATE</th>\n",
       "    </tr>\n",
       "  </thead>\n",
       "  <tbody>\n",
       "    <tr>\n",
       "      <th>4913</th>\n",
       "      <td>0</td>\n",
       "      <td>18</td>\n",
       "      <td>517</td>\n",
       "      <td>48</td>\n",
       "      <td>153</td>\n",
       "      <td>36</td>\n",
       "      <td>0</td>\n",
       "      <td>0</td>\n",
       "      <td>0</td>\n",
       "      <td>0</td>\n",
       "      <td>...</td>\n",
       "      <td>0</td>\n",
       "      <td>0</td>\n",
       "      <td>0</td>\n",
       "      <td>0</td>\n",
       "      <td>0</td>\n",
       "      <td>0</td>\n",
       "      <td>0</td>\n",
       "      <td>0</td>\n",
       "      <td>0</td>\n",
       "      <td>0</td>\n",
       "    </tr>\n",
       "    <tr>\n",
       "      <th>9338</th>\n",
       "      <td>0</td>\n",
       "      <td>6</td>\n",
       "      <td>284</td>\n",
       "      <td>25</td>\n",
       "      <td>229</td>\n",
       "      <td>0</td>\n",
       "      <td>0</td>\n",
       "      <td>0</td>\n",
       "      <td>0</td>\n",
       "      <td>0</td>\n",
       "      <td>...</td>\n",
       "      <td>0</td>\n",
       "      <td>0</td>\n",
       "      <td>0</td>\n",
       "      <td>0</td>\n",
       "      <td>0</td>\n",
       "      <td>0</td>\n",
       "      <td>0</td>\n",
       "      <td>14</td>\n",
       "      <td>0</td>\n",
       "      <td>0</td>\n",
       "    </tr>\n",
       "  </tbody>\n",
       "</table>\n",
       "<p>2 rows × 244 columns</p>\n",
       "</div>"
      ],
      "text/plain": [
       "      Gender  State  Credentials  Specialty  Totalclaimcount  \\\n",
       "4913       0     18          517         48              153   \n",
       "9338       0      6          284         25              229   \n",
       "\n",
       "      OpioidClaimCount  ACYCLOVIR  ADVAIR.DISKUS  AGGRENOX  \\\n",
       "4913                36          0              0         0   \n",
       "9338                 0          0              0         0   \n",
       "\n",
       "      ALENDRONATE.SODIUM        ...          VENTOLIN.HFA  VERAPAMIL.ER  \\\n",
       "4913                   0        ...                     0             0   \n",
       "9338                   0        ...                     0             0   \n",
       "\n",
       "      VESICARE  VOLTAREN  VYTORIN  WARFARIN.SODIUM  XARELTO  ZETIA  \\\n",
       "4913         0         0        0                0        0      0   \n",
       "9338         0         0        0                0        0     14   \n",
       "\n",
       "      ZIPRASIDONE.HCL  ZOLPIDEM.TARTRATE  \n",
       "4913                0                  0  \n",
       "9338                0                  0  \n",
       "\n",
       "[2 rows x 244 columns]"
      ]
     },
     "execution_count": 63,
     "metadata": {},
     "output_type": "execute_result"
    }
   ],
   "source": [
    "train.iloc[:,1:245][:2]"
   ]
  },
  {
   "cell_type": "code",
   "execution_count": 64,
   "metadata": {},
   "outputs": [],
   "source": [
    "X =train.iloc[:,1:245]\n",
    "y = train['Opioid_Prescriber']"
   ]
  },
  {
   "cell_type": "code",
   "execution_count": 65,
   "metadata": {},
   "outputs": [],
   "source": [
    "rfc=RandomForestClassifier()"
   ]
  },
  {
   "cell_type": "code",
   "execution_count": 66,
   "metadata": {},
   "outputs": [],
   "source": [
    "hyperparameters={\n",
    "                'n_estimators': [100],\n",
    "                'max_depth': [30],\n",
    "                'min_samples_split': [30],\n",
    "                'class_weight': ['balanced']\n",
    "}\n",
    "                \n",
    "rfgrid = GridSearchCV(rfc, hyperparameters, cv=3, scoring='roc_auc')"
   ]
  },
  {
   "cell_type": "code",
   "execution_count": null,
   "metadata": {
    "scrolled": true
   },
   "outputs": [],
   "source": [
    "# df[columns] = df.columns.apply(lambda x: float(x.split()[0].replace(',', '')))\n",
    "# df[columns] = df.columns.apply(lambda x: float(x.split()[0].replace(',', '')))"
   ]
  },
  {
   "cell_type": "code",
   "execution_count": null,
   "metadata": {},
   "outputs": [],
   "source": [
    "# #making sure index is in order\n",
    "# df = df.sort_values(by=['Id'])"
   ]
  },
  {
   "cell_type": "code",
   "execution_count": null,
   "metadata": {},
   "outputs": [],
   "source": [
    "target = df.Opioid_Prescriber\n",
    "features = df.drop(columns=['Opioid_Prescriber', \"op_longer\",'op_prescriber','avg_op_supply'])"
   ]
  },
  {
   "cell_type": "code",
   "execution_count": null,
   "metadata": {},
   "outputs": [],
   "source": [
    "!pip install imbalanced-learn"
   ]
  },
  {
   "cell_type": "code",
   "execution_count": null,
   "metadata": {},
   "outputs": [],
   "source": [
    "!pip install msgpack"
   ]
  },
  {
   "cell_type": "code",
   "execution_count": null,
   "metadata": {},
   "outputs": [],
   "source": [
    "!pip install distributed"
   ]
  },
  {
   "cell_type": "code",
   "execution_count": null,
   "metadata": {},
   "outputs": [],
   "source": [
    "!pip install xgboost"
   ]
  },
  {
   "cell_type": "code",
   "execution_count": null,
   "metadata": {},
   "outputs": [],
   "source": [
    "!conda install -c https://conda.anaconda.org/akode xgboost"
   ]
  },
  {
   "cell_type": "code",
   "execution_count": 84,
   "metadata": {
    "scrolled": true
   },
   "outputs": [],
   "source": []
  },
  {
   "cell_type": "code",
   "execution_count": 74,
   "metadata": {},
   "outputs": [],
   "source": [
    "ss = StandardScaler()\n",
    "X_train = ss.fit_transform(X_train)\n",
    "X_test = ss.transform(X_test)"
   ]
  },
  {
   "cell_type": "code",
   "execution_count": 75,
   "metadata": {
    "scrolled": true
   },
   "outputs": [],
   "source": [
    "from sklearn.preprocessing import scale\n",
    "X_test = scale(X_test)"
   ]
  },
  {
   "cell_type": "code",
   "execution_count": 76,
   "metadata": {},
   "outputs": [],
   "source": [
    "df1 = df[df['Opioid_Prescriber'] == 0]\n",
    "df2 = df[df['Opioid_Prescriber'] == 1]"
   ]
  },
  {
   "cell_type": "code",
   "execution_count": 77,
   "metadata": {},
   "outputs": [
    {
     "name": "stdout",
     "output_type": "stream",
     "text": [
      "total 25000\n",
      "Non opiod 11123\n",
      "opiod 13335\n"
     ]
    }
   ],
   "source": [
    "print ('total', len(df))\n",
    "print ('Non opiod', len(df1))\n",
    "print ('opiod', len(df2))"
   ]
  },
  {
   "cell_type": "code",
   "execution_count": null,
   "metadata": {},
   "outputs": [],
   "source": [
    "def bootstrap_sample(sample, n=100, replicate = False, size=100):\n",
    "    ''' Generates bootstrap samples and bootstrap replicates. \n",
    "    Bootstrap sample size defaults to 100. \n",
    "    Returns bootstrap samples unless replicate function supplied.'''\n",
    "        \n",
    "    bootstraps = [list(np.random.choice(sample, size = size)) for i in range(n)]\n",
    "    \n",
    "    if replicate == False:\n",
    "        return(bootstraps)\n",
    "    else:\n",
    "        return(list(map(replicate, bootstraps)))"
   ]
  },
  {
   "cell_type": "markdown",
   "metadata": {},
   "source": [
    "##### Repeating the above process after checking the existance of Data gap"
   ]
  },
  {
   "cell_type": "code",
   "execution_count": 78,
   "metadata": {},
   "outputs": [],
   "source": [
    "y = df.Opioid_Prescriber\n",
    "X = df.drop(['Opioid_Prescriber', \"op_longer\",'op_prescriber','avg_op_supply'], axis =1)"
   ]
  },
  {
   "cell_type": "code",
   "execution_count": 80,
   "metadata": {},
   "outputs": [
    {
     "data": {
      "text/plain": [
       "(13125, 244)"
      ]
     },
     "execution_count": 80,
     "metadata": {},
     "output_type": "execute_result"
    }
   ],
   "source": [
    "# Verifying shapes are the same \n",
    "\n",
    "X_train.shape"
   ]
  },
  {
   "cell_type": "code",
   "execution_count": 81,
   "metadata": {},
   "outputs": [
    {
     "data": {
      "text/plain": [
       "(13125,)"
      ]
     },
     "execution_count": 81,
     "metadata": {},
     "output_type": "execute_result"
    }
   ],
   "source": [
    "# Verifying shapes are the same \n",
    "\n",
    "\n",
    "y_train.shape"
   ]
  },
  {
   "cell_type": "code",
   "execution_count": 82,
   "metadata": {},
   "outputs": [
    {
     "data": {
      "text/plain": [
       "(4375, 244)"
      ]
     },
     "execution_count": 82,
     "metadata": {},
     "output_type": "execute_result"
    }
   ],
   "source": [
    "# Verifying shapes are the same \n",
    "\n",
    "X_test.shape"
   ]
  },
  {
   "cell_type": "code",
   "execution_count": 83,
   "metadata": {},
   "outputs": [
    {
     "data": {
      "text/plain": [
       "(4375,)"
      ]
     },
     "execution_count": 83,
     "metadata": {},
     "output_type": "execute_result"
    }
   ],
   "source": [
    "# Verifying shapes are the same \n",
    "\n",
    "y_test.shape"
   ]
  },
  {
   "cell_type": "code",
   "execution_count": 87,
   "metadata": {},
   "outputs": [
    {
     "name": "stdout",
     "output_type": "stream",
     "text": [
      "Collecting tpot\n",
      "  Downloading https://files.pythonhosted.org/packages/c4/e6/a41be0ddb23a411dc78b92f6a90b8129e65856a8248f8f11b2f14d8eeee3/TPOT-0.9.3.tar.gz (888kB)\n",
      "Requirement already satisfied: numpy>=1.12.1 in c:\\programdata\\anaconda33\\lib\\site-packages (from tpot) (1.14.3)\n",
      "Requirement already satisfied: scipy>=0.19.0 in c:\\programdata\\anaconda33\\lib\\site-packages (from tpot) (1.1.0)\n",
      "Requirement already satisfied: scikit-learn>=0.18.1 in c:\\programdata\\anaconda33\\lib\\site-packages (from tpot) (0.19.1)\n",
      "Collecting deap>=1.0 (from tpot)\n",
      "  Downloading https://files.pythonhosted.org/packages/af/29/e7f2ecbe02997b16a768baed076f5fc4781d7057cd5d9adf7c94027845ba/deap-1.2.2.tar.gz (936kB)\n",
      "Collecting update_checker>=0.16 (from tpot)\n",
      "  Using cached https://files.pythonhosted.org/packages/17/c9/ab11855af164d03be0ff4fddd4c46a5bd44799a9ecc1770e01a669c21168/update_checker-0.16-py2.py3-none-any.whl\n",
      "Collecting tqdm>=4.11.2 (from tpot)\n",
      "  Downloading https://files.pythonhosted.org/packages/93/24/6ab1df969db228aed36a648a8959d1027099ce45fad67532b9673d533318/tqdm-4.23.4-py2.py3-none-any.whl (42kB)\n",
      "Collecting stopit>=1.1.1 (from tpot)\n",
      "  Downloading https://files.pythonhosted.org/packages/35/58/e8bb0b0fb05baf07bbac1450c447d753da65f9701f551dca79823ce15d50/stopit-1.1.2.tar.gz\n",
      "Requirement already satisfied: pandas>=0.20.2 in c:\\programdata\\anaconda33\\lib\\site-packages (from tpot) (0.23.0)\n",
      "Requirement already satisfied: requests>=2.3.0 in c:\\programdata\\anaconda33\\lib\\site-packages (from update_checker>=0.16->tpot) (2.18.4)\n",
      "Requirement already satisfied: python-dateutil>=2.5.0 in c:\\programdata\\anaconda33\\lib\\site-packages (from pandas>=0.20.2->tpot) (2.7.3)\n",
      "Requirement already satisfied: pytz>=2011k in c:\\programdata\\anaconda33\\lib\\site-packages (from pandas>=0.20.2->tpot) (2018.4)\n",
      "Requirement already satisfied: chardet<3.1.0,>=3.0.2 in c:\\programdata\\anaconda33\\lib\\site-packages (from requests>=2.3.0->update_checker>=0.16->tpot) (3.0.4)\n",
      "Requirement already satisfied: idna<2.7,>=2.5 in c:\\programdata\\anaconda33\\lib\\site-packages (from requests>=2.3.0->update_checker>=0.16->tpot) (2.6)\n",
      "Requirement already satisfied: urllib3<1.23,>=1.21.1 in c:\\programdata\\anaconda33\\lib\\site-packages (from requests>=2.3.0->update_checker>=0.16->tpot) (1.22)\n",
      "Requirement already satisfied: certifi>=2017.4.17 in c:\\programdata\\anaconda33\\lib\\site-packages (from requests>=2.3.0->update_checker>=0.16->tpot) (2018.4.16)\n",
      "Requirement already satisfied: six>=1.5 in c:\\programdata\\anaconda33\\lib\\site-packages (from python-dateutil>=2.5.0->pandas>=0.20.2->tpot) (1.11.0)\n",
      "Building wheels for collected packages: tpot, deap, stopit\n",
      "  Running setup.py bdist_wheel for tpot: started\n",
      "  Running setup.py bdist_wheel for tpot: finished with status 'done'\n",
      "  Stored in directory: C:\\Users\\kiraz\\AppData\\Local\\pip\\Cache\\wheels\\00\\f3\\4d\\8d28f69c59669ba720eebaa4ebc8a3b28da2a61662367b38e8\n",
      "  Running setup.py bdist_wheel for deap: started\n",
      "  Running setup.py bdist_wheel for deap: finished with status 'done'\n",
      "  Stored in directory: C:\\Users\\kiraz\\AppData\\Local\\pip\\Cache\\wheels\\22\\ea\\bf\\dc7c8a2262025a0ab5da9ef02282c198be88902791ca0c6658\n",
      "  Running setup.py bdist_wheel for stopit: started\n",
      "  Running setup.py bdist_wheel for stopit: finished with status 'done'\n",
      "  Stored in directory: C:\\Users\\kiraz\\AppData\\Local\\pip\\Cache\\wheels\\3c\\85\\2b\\2580190404636bfc63e8de3dff629c03bb795021e1983a6cc7\n",
      "Successfully built tpot deap stopit\n",
      "Installing collected packages: deap, update-checker, tqdm, stopit, tpot\n",
      "Successfully installed deap-1.2.2 stopit-1.1.2 tpot-0.9.3 tqdm-4.23.4 update-checker-0.16\n"
     ]
    },
    {
     "name": "stderr",
     "output_type": "stream",
     "text": [
      "distributed 1.21.8 requires msgpack, which is not installed.\n"
     ]
    }
   ],
   "source": [
    "!pip install tpot"
   ]
  },
  {
   "cell_type": "code",
   "execution_count": 88,
   "metadata": {},
   "outputs": [
    {
     "name": "stderr",
     "output_type": "stream",
     "text": [
      "C:\\ProgramData\\Anaconda33\\lib\\site-packages\\deap\\tools\\_hypervolume\\pyhv.py:33: ImportWarning: Falling back to the python version of hypervolume module. Expect this to be very slow.\n",
      "  \"module. Expect this to be very slow.\", ImportWarning)\n",
      "C:\\ProgramData\\Anaconda33\\lib\\importlib\\_bootstrap_external.py:426: ImportWarning: Not importing directory C:\\ProgramData\\Anaconda33\\lib\\site-packages\\mpl_toolkits: missing __init__\n",
      "  _warnings.warn(msg.format(portions[0]), ImportWarning)\n",
      "C:\\ProgramData\\Anaconda33\\lib\\importlib\\_bootstrap_external.py:426: ImportWarning: Not importing directory c:\\programdata\\anaconda33\\lib\\site-packages\\mpl_toolkits: missing __init__\n",
      "  _warnings.warn(msg.format(portions[0]), ImportWarning)\n"
     ]
    }
   ],
   "source": [
    "\n",
    "# TPOT used to optimize and model pipelines# TPOT u \n",
    "\n",
    "from tpot import TPOTClassifier"
   ]
  },
  {
   "cell_type": "code",
   "execution_count": 89,
   "metadata": {},
   "outputs": [
    {
     "name": "stderr",
     "output_type": "stream",
     "text": [
      "C:\\ProgramData\\Anaconda33\\lib\\importlib\\_bootstrap.py:219: ImportWarning: can't resolve package from __spec__ or __package__, falling back on __name__ and __path__\n",
      "  return f(*args, **kwds)\n"
     ]
    }
   ],
   "source": [
    "pipeline_optimizer = TPOTClassifier(generations=2, population_size=20,cv=5, verbosity=2,\n",
    "                      config_dict='TPOT light')"
   ]
  },
  {
   "cell_type": "code",
   "execution_count": 90,
   "metadata": {},
   "outputs": [
    {
     "name": "stderr",
     "output_type": "stream",
     "text": [
      "                                                                              \r"
     ]
    },
    {
     "name": "stdout",
     "output_type": "stream",
     "text": [
      "Generation 1 - Current best internal CV score: 0.8700846686836219\n"
     ]
    },
    {
     "name": "stderr",
     "output_type": "stream",
     "text": [
      "                                                                              \r"
     ]
    },
    {
     "name": "stdout",
     "output_type": "stream",
     "text": [
      "Generation 2 - Current best internal CV score: 0.8702285343683833\n"
     ]
    },
    {
     "name": "stderr",
     "output_type": "stream",
     "text": [
      "                                                          \r"
     ]
    },
    {
     "name": "stdout",
     "output_type": "stream",
     "text": [
      "\n",
      "Best pipeline: DecisionTreeClassifier(CombineDFs(input_matrix, input_matrix), criterion=entropy, max_depth=4, min_samples_leaf=16, min_samples_split=19)\n"
     ]
    },
    {
     "data": {
      "text/plain": [
       "TPOTClassifier(config_dict={'sklearn.naive_bayes.GaussianNB': {}, 'sklearn.naive_bayes.BernoulliNB': {'alpha': [0.001, 0.01, 0.1, 1.0, 10.0, 100.0], 'fit_prior': [True, False]}, 'sklearn.naive_bayes.MultinomialNB': {'alpha': [0.001, 0.01, 0.1, 1.0, 10.0, 100.0], 'fit_prior': [True, False]}, 'sklearn.tree.DecisionT...e_selection.VarianceThreshold': {'threshold': [0.0001, 0.0005, 0.001, 0.005, 0.01, 0.05, 0.1, 0.2]}},\n",
       "        crossover_rate=0.1, cv=5, disable_update_check=False,\n",
       "        early_stop=None, generations=2, max_eval_time_mins=5,\n",
       "        max_time_mins=None, memory=None, mutation_rate=0.9, n_jobs=1,\n",
       "        offspring_size=20, periodic_checkpoint_folder=None,\n",
       "        population_size=20, random_state=None, scoring=None, subsample=1.0,\n",
       "        verbosity=2, warm_start=False)"
      ]
     },
     "execution_count": 90,
     "metadata": {},
     "output_type": "execute_result"
    }
   ],
   "source": [
    "pipeline_optimizer.fit(X_train,y_train)"
   ]
  },
  {
   "cell_type": "code",
   "execution_count": 91,
   "metadata": {},
   "outputs": [
    {
     "name": "stdout",
     "output_type": "stream",
     "text": [
      "0.8633142857142857\n"
     ]
    }
   ],
   "source": [
    "print(pipeline_optimizer.score(X_test, y_test))"
   ]
  },
  {
   "cell_type": "code",
   "execution_count": 93,
   "metadata": {},
   "outputs": [],
   "source": [
    "# Machine learning library/functions\n",
    "from sklearn.tree import DecisionTreeClassifier\n",
    "from sklearn.linear_model import LogisticRegression\n",
    "from sklearn.svm import SVC, LinearSVC\n",
    "from sklearn.ensemble import RandomForestClassifier\n",
    "from sklearn.neighbors import KNeighborsClassifier\n",
    "from sklearn.naive_bayes import GaussianNB\n",
    "np.random.seed(42)"
   ]
  },
  {
   "cell_type": "code",
   "execution_count": 94,
   "metadata": {},
   "outputs": [],
   "source": [
    "dt = DecisionTreeClassifier(criterion='gini', max_depth=9, min_samples_leaf=13, min_samples_split=12)"
   ]
  },
  {
   "cell_type": "code",
   "execution_count": 95,
   "metadata": {},
   "outputs": [
    {
     "data": {
      "text/plain": [
       "DecisionTreeClassifier(class_weight=None, criterion='gini', max_depth=9,\n",
       "            max_features=None, max_leaf_nodes=None,\n",
       "            min_impurity_decrease=0.0, min_impurity_split=None,\n",
       "            min_samples_leaf=13, min_samples_split=12,\n",
       "            min_weight_fraction_leaf=0.0, presort=False, random_state=None,\n",
       "            splitter='best')"
      ]
     },
     "execution_count": 95,
     "metadata": {},
     "output_type": "execute_result"
    }
   ],
   "source": [
    "dt.fit(X_train,y_train)"
   ]
  },
  {
   "cell_type": "code",
   "execution_count": 96,
   "metadata": {},
   "outputs": [
    {
     "data": {
      "text/plain": [
       "0.8835809523809524"
      ]
     },
     "execution_count": 96,
     "metadata": {},
     "output_type": "execute_result"
    }
   ],
   "source": [
    "dt.score(X_train,y_train)"
   ]
  },
  {
   "cell_type": "code",
   "execution_count": 97,
   "metadata": {},
   "outputs": [
    {
     "data": {
      "text/plain": [
       "0.8585142857142857"
      ]
     },
     "execution_count": 97,
     "metadata": {},
     "output_type": "execute_result"
    }
   ],
   "source": [
    "dt.score(X_test,y_test)"
   ]
  },
  {
   "cell_type": "code",
   "execution_count": 98,
   "metadata": {},
   "outputs": [
    {
     "name": "stderr",
     "output_type": "stream",
     "text": [
      "C:\\ProgramData\\Anaconda33\\lib\\site-packages\\sklearn\\cross_validation.py:553: Warning: The least populated class in y has only 1 members, which is too few. The minimum number of labels for any class cannot be less than n_folds=5.\n",
      "  % (min_labels, self.n_folds)), Warning)\n"
     ]
    },
    {
     "data": {
      "text/plain": [
       "0.8618660859609195"
      ]
     },
     "execution_count": 98,
     "metadata": {},
     "output_type": "execute_result"
    }
   ],
   "source": [
    "cross_val_score(dt, X, y,scoring='accuracy',cv=5).mean()"
   ]
  },
  {
   "cell_type": "code",
   "execution_count": null,
   "metadata": {},
   "outputs": [],
   "source": [
    "important_features"
   ]
  },
  {
   "cell_type": "code",
   "execution_count": 102,
   "metadata": {},
   "outputs": [],
   "source": [
    "rf = RandomForestClassifier(criterion='gini', max_depth=9, min_samples_leaf=13, min_samples_split=12)"
   ]
  },
  {
   "cell_type": "code",
   "execution_count": 104,
   "metadata": {},
   "outputs": [
    {
     "data": {
      "text/plain": [
       "RandomForestClassifier(bootstrap=True, class_weight=None, criterion='gini',\n",
       "            max_depth=9, max_features='auto', max_leaf_nodes=None,\n",
       "            min_impurity_decrease=0.0, min_impurity_split=None,\n",
       "            min_samples_leaf=13, min_samples_split=12,\n",
       "            min_weight_fraction_leaf=0.0, n_estimators=10, n_jobs=1,\n",
       "            oob_score=False, random_state=None, verbose=0,\n",
       "            warm_start=False)"
      ]
     },
     "execution_count": 104,
     "metadata": {},
     "output_type": "execute_result"
    }
   ],
   "source": [
    "rf.fit(X_train,y_train)"
   ]
  },
  {
   "cell_type": "code",
   "execution_count": 105,
   "metadata": {},
   "outputs": [
    {
     "data": {
      "text/plain": [
       "0.8730666666666667"
      ]
     },
     "execution_count": 105,
     "metadata": {},
     "output_type": "execute_result"
    }
   ],
   "source": [
    "rf.score(X_train,y_train)"
   ]
  },
  {
   "cell_type": "code",
   "execution_count": 106,
   "metadata": {},
   "outputs": [
    {
     "data": {
      "text/plain": [
       "0.8386285714285714"
      ]
     },
     "execution_count": 106,
     "metadata": {},
     "output_type": "execute_result"
    }
   ],
   "source": [
    "rf.score(X_test,y_test)"
   ]
  },
  {
   "cell_type": "code",
   "execution_count": 108,
   "metadata": {},
   "outputs": [
    {
     "name": "stderr",
     "output_type": "stream",
     "text": [
      "C:\\ProgramData\\Anaconda33\\lib\\site-packages\\sklearn\\cross_validation.py:553: Warning: The least populated class in y has only 1 members, which is too few. The minimum number of labels for any class cannot be less than n_folds=5.\n",
      "  % (min_labels, self.n_folds)), Warning)\n"
     ]
    },
    {
     "data": {
      "text/plain": [
       "0.864993981430213"
      ]
     },
     "execution_count": 108,
     "metadata": {},
     "output_type": "execute_result"
    }
   ],
   "source": [
    "cross_val_score(rf, X, y,scoring='accuracy',cv=5).mean()"
   ]
  },
  {
   "cell_type": "code",
   "execution_count": 109,
   "metadata": {},
   "outputs": [],
   "source": [
    "important_features = pd.Series(data=rf.feature_importances_,index=X.columns)\n",
    "important_features.sort_values(ascending=False,inplace=True)"
   ]
  },
  {
   "cell_type": "code",
   "execution_count": null,
   "metadata": {},
   "outputs": [],
   "source": [
    "explanation=pd.DataFrame({'features':features, 'importance':importance})"
   ]
  },
  {
   "cell_type": "code",
   "execution_count": 110,
   "metadata": {},
   "outputs": [
    {
     "data": {
      "text/plain": [
       "OpioidClaimCount                 0.317451\n",
       "LEVOTHYROXINE.SODIUM             0.075466\n",
       "Totalclaimcount                  0.063568\n",
       "WARFARIN.SODIUM                  0.036520\n",
       "AZITHROMYCIN                     0.034418\n",
       "METFORMIN.HCL                    0.027922\n",
       "MELOXICAM                        0.026876\n",
       "POTASSIUM.CHLORIDE               0.025078\n",
       "SIMVASTATIN                      0.022521\n",
       "LATANOPROST                      0.021165\n",
       "PROAIR.HFA                       0.021024\n",
       "CIPROFLOXACIN.HCL                0.020841\n",
       "PREDNISONE                       0.019741\n",
       "RANITIDINE.HCL                   0.017100\n",
       "LISINOPRIL                       0.015476\n",
       "Specialty                        0.015435\n",
       "OMEPRAZOLE                       0.013755\n",
       "TAMSULOSIN.HCL                   0.012033\n",
       "RESTASIS                         0.008964\n",
       "SULFAMETHOXAZOLE.TRIMETHOPRIM    0.008697\n",
       "NAPROXEN                         0.007941\n",
       "FLUTICASONE.PROPIONATE           0.007820\n",
       "HYDROCORTISONE                   0.007767\n",
       "METOPROLOL.TARTRATE              0.007192\n",
       "LEVOFLOXACIN                     0.006970\n",
       "IBUPROFEN                        0.006610\n",
       "CELEBREX                         0.006119\n",
       "CYCLOBENZAPRINE.HCL              0.005971\n",
       "AMLODIPINE.BESYLATE              0.005944\n",
       "LIDOCAINE                        0.005589\n",
       "                                   ...   \n",
       "MIRTAZAPINE                      0.000000\n",
       "METHOCARBAMOL                    0.000000\n",
       "METHOTREXATE                     0.000000\n",
       "IRBESARTAN                       0.000000\n",
       "HYDROXYZINE.HCL                  0.000000\n",
       "CLOTRIMAZOLE.BETAMETHASONE       0.000000\n",
       "DONEPEZIL.HCL                    0.000000\n",
       "COLCRYS                          0.000000\n",
       "COMBIVENT.RESPIMAT               0.000000\n",
       "DEXILANT                         0.000000\n",
       "DIAZEPAM                         0.000000\n",
       "DICYCLOMINE.HCL                  0.000000\n",
       "DIGOX                            0.000000\n",
       "DILTIAZEM.ER                     0.000000\n",
       "DILTIAZEM.HCL                    0.000000\n",
       "DIPHENOXYLATE.ATROPINE           0.000000\n",
       "DIVALPROEX.SODIUM.ER             0.000000\n",
       "METOLAZONE                       0.000000\n",
       "ONGLYZA                          0.000000\n",
       "DOXAZOSIN.MESYLATE               0.000000\n",
       "PRAMIPEXOLE.DIHYDROCHLORIDE      0.000000\n",
       "FAMOTIDINE                       0.000000\n",
       "FLOVENT.HFA                      0.000000\n",
       "PIOGLITAZONE.HCL                 0.000000\n",
       "PHENYTOIN.SODIUM.EXTENDED        0.000000\n",
       "OXYBUTYNIN.CHLORIDE.ER           0.000000\n",
       "GLIPIZIDE.XL                     0.000000\n",
       "GLYBURIDE                        0.000000\n",
       "OXCARBAZEPINE                    0.000000\n",
       "LANSOPRAZOLE                     0.000000\n",
       "Length: 244, dtype: float64"
      ]
     },
     "execution_count": 110,
     "metadata": {},
     "output_type": "execute_result"
    }
   ],
   "source": [
    "important_features"
   ]
  },
  {
   "cell_type": "code",
   "execution_count": 132,
   "metadata": {},
   "outputs": [],
   "source": [
    "# pd.DataFrame(important_features).plot(kind = 'barh', grid=True)"
   ]
  },
  {
   "cell_type": "code",
   "execution_count": 133,
   "metadata": {},
   "outputs": [],
   "source": [
    "# pd.DataFrame(important_features).plot(kind = 'barh', grid=False)"
   ]
  },
  {
   "cell_type": "code",
   "execution_count": 121,
   "metadata": {},
   "outputs": [],
   "source": [
    "# Importing more packages for model evaluation\n",
    "\n",
    "from sklearn.metrics import roc_auc_score\n",
    "from sklearn.metrics import roc_curve, auc\n",
    "from sklearn.metrics import classification_report\n",
    "from sklearn.metrics import confusion_matrix\n",
    "from sklearn import metrics\n",
    "from sklearn.multiclass import OneVsRestClassifier\n",
    "from sklearn.preprocessing import label_binarize, LabelBinarizer\n",
    "from sklearn.svm import LinearSVC"
   ]
  },
  {
   "cell_type": "code",
   "execution_count": 122,
   "metadata": {},
   "outputs": [],
   "source": [
    "y_pred = rf.predict(X_test)"
   ]
  },
  {
   "cell_type": "code",
   "execution_count": 123,
   "metadata": {},
   "outputs": [],
   "source": [
    "# Function to allow us to obtain aucroc score for a multi-class y variable\n",
    "\n",
    "def multiclass_roc_auc_score(y_test, y_pred, average=\"macro\"):\n",
    "\n",
    "    lb = LabelBinarizer()\n",
    "    lb.fit(y_test)\n",
    "\n",
    "    y_test = lb.transform(y_test)\n",
    "    y_pred = lb.transform(y_pred)\n",
    "\n",
    "    return roc_auc_score(y_test, y_pred, average=average)"
   ]
  },
  {
   "cell_type": "code",
   "execution_count": 124,
   "metadata": {},
   "outputs": [
    {
     "data": {
      "text/plain": [
       "0.5120118679963719"
      ]
     },
     "execution_count": 124,
     "metadata": {},
     "output_type": "execute_result"
    }
   ],
   "source": [
    "multiclass_roc_auc_score(y_test,y_pred)"
   ]
  },
  {
   "cell_type": "code",
   "execution_count": 125,
   "metadata": {},
   "outputs": [
    {
     "data": {
      "text/plain": [
       "0.8386285714285714"
      ]
     },
     "execution_count": 125,
     "metadata": {},
     "output_type": "execute_result"
    }
   ],
   "source": [
    "metrics.precision_score(y_test, y_pred,average='micro')"
   ]
  },
  {
   "cell_type": "code",
   "execution_count": 126,
   "metadata": {},
   "outputs": [
    {
     "data": {
      "text/plain": [
       "0.029201309481382984"
      ]
     },
     "execution_count": 126,
     "metadata": {},
     "output_type": "execute_result"
    }
   ],
   "source": [
    "metrics.recall_score(y_test, y_pred, average='macro')"
   ]
  },
  {
   "cell_type": "code",
   "execution_count": 127,
   "metadata": {},
   "outputs": [],
   "source": [
    "# Function to produce confusion matrix, precision, recall and f1-score# Functio \n",
    "\n",
    "def classifications(y_test, y_pred):\n",
    "    print('Mean accuracy score %s ' % metrics.accuracy_score(y_test, y_pred), '\\n')\n",
    "    print(confusion_matrix(y_test, y_pred), '\\n')\n",
    "    print(classification_report(y_test, y_pred))"
   ]
  },
  {
   "cell_type": "code",
   "execution_count": 128,
   "metadata": {},
   "outputs": [
    {
     "name": "stdout",
     "output_type": "stream",
     "text": [
      "Mean accuracy score 0.8386285714285714  \n",
      "\n",
      "[[1681  196    0 ...    0    0    0]\n",
      " [ 415 1988    0 ...    0    0    0]\n",
      " [   4    0    0 ...    0    0    0]\n",
      " ...\n",
      " [   0    1    0 ...    0    0    0]\n",
      " [   0    1    0 ...    0    0    0]\n",
      " [   1    0    0 ...    0    0    0]] \n",
      "\n"
     ]
    },
    {
     "name": "stderr",
     "output_type": "stream",
     "text": [
      "C:\\ProgramData\\Anaconda33\\lib\\site-packages\\sklearn\\metrics\\classification.py:1135: UndefinedMetricWarning: Precision and F-score are ill-defined and being set to 0.0 in labels with no predicted samples.\n",
      "  'precision', 'predicted', average, warn_for)\n"
     ]
    },
    {
     "name": "stdout",
     "output_type": "stream",
     "text": [
      "             precision    recall  f1-score   support\n",
      "\n",
      "          0       0.77      0.90      0.83      1877\n",
      "          1       0.90      0.83      0.86      2403\n",
      "         12       0.00      0.00      0.00         4\n",
      "         13       0.00      0.00      0.00         7\n",
      "         14       0.00      0.00      0.00         2\n",
      "         15       0.00      0.00      0.00         3\n",
      "         16       0.00      0.00      0.00         2\n",
      "         17       0.00      0.00      0.00         4\n",
      "         18       0.00      0.00      0.00         4\n",
      "         20       0.00      0.00      0.00         4\n",
      "         22       0.00      0.00      0.00         3\n",
      "         23       0.00      0.00      0.00         1\n",
      "         24       0.00      0.00      0.00         2\n",
      "         25       0.00      0.00      0.00         2\n",
      "         26       0.00      0.00      0.00         1\n",
      "         27       0.00      0.00      0.00         1\n",
      "         28       0.00      0.00      0.00         2\n",
      "         29       0.00      0.00      0.00         1\n",
      "         31       0.00      0.00      0.00         2\n",
      "         32       0.00      0.00      0.00         1\n",
      "         33       0.00      0.00      0.00         2\n",
      "         35       0.00      0.00      0.00         1\n",
      "         36       0.00      0.00      0.00         1\n",
      "         38       0.00      0.00      0.00         2\n",
      "         39       0.00      0.00      0.00         1\n",
      "         40       0.00      0.00      0.00         1\n",
      "         42       0.00      0.00      0.00         1\n",
      "         43       0.00      0.00      0.00         1\n",
      "         47       0.00      0.00      0.00         1\n",
      "         48       0.00      0.00      0.00         2\n",
      "         49       0.00      0.00      0.00         1\n",
      "         50       0.00      0.00      0.00         2\n",
      "         52       0.00      0.00      0.00         1\n",
      "         53       0.00      0.00      0.00         2\n",
      "         55       0.00      0.00      0.00         2\n",
      "         57       0.00      0.00      0.00         1\n",
      "         63       0.00      0.00      0.00         1\n",
      "         66       0.00      0.00      0.00         1\n",
      "         67       0.00      0.00      0.00         2\n",
      "         70       0.00      0.00      0.00         1\n",
      "         72       0.00      0.00      0.00         1\n",
      "         75       0.00      0.00      0.00         1\n",
      "         79       0.00      0.00      0.00         1\n",
      "         80       0.00      0.00      0.00         2\n",
      "         83       0.00      0.00      0.00         2\n",
      "         85       0.00      0.00      0.00         2\n",
      "         86       0.00      0.00      0.00         1\n",
      "         99       0.00      0.00      0.00         1\n",
      "        101       0.00      0.00      0.00         1\n",
      "        110       0.00      0.00      0.00         1\n",
      "        115       0.00      0.00      0.00         1\n",
      "        128       0.00      0.00      0.00         1\n",
      "        155       0.00      0.00      0.00         1\n",
      "        159       0.00      0.00      0.00         1\n",
      "        160       0.00      0.00      0.00         1\n",
      "        200       0.00      0.00      0.00         1\n",
      "        272       0.00      0.00      0.00         1\n",
      "        414       0.00      0.00      0.00         1\n",
      "        454       0.00      0.00      0.00         1\n",
      "\n",
      "avg / total       0.83      0.84      0.83      4375\n",
      "\n"
     ]
    }
   ],
   "source": [
    "classifications(y_test,y_pred)"
   ]
  },
  {
   "cell_type": "code",
   "execution_count": 129,
   "metadata": {},
   "outputs": [],
   "source": [
    "cm = confusion_matrix(y_test,y_pred)"
   ]
  },
  {
   "cell_type": "code",
   "execution_count": 130,
   "metadata": {},
   "outputs": [
    {
     "data": {
      "text/plain": [
       "array([[1681,  196,    0, ...,    0,    0,    0],\n",
       "       [ 415, 1988,    0, ...,    0,    0,    0],\n",
       "       [   4,    0,    0, ...,    0,    0,    0],\n",
       "       ...,\n",
       "       [   0,    1,    0, ...,    0,    0,    0],\n",
       "       [   0,    1,    0, ...,    0,    0,    0],\n",
       "       [   1,    0,    0, ...,    0,    0,    0]], dtype=int64)"
      ]
     },
     "execution_count": 130,
     "metadata": {},
     "output_type": "execute_result"
    }
   ],
   "source": [
    "cm"
   ]
  },
  {
   "cell_type": "code",
   "execution_count": null,
   "metadata": {},
   "outputs": [],
   "source": []
  },
  {
   "cell_type": "code",
   "execution_count": null,
   "metadata": {},
   "outputs": [],
   "source": []
  },
  {
   "cell_type": "code",
   "execution_count": null,
   "metadata": {},
   "outputs": [],
   "source": []
  },
  {
   "cell_type": "code",
   "execution_count": null,
   "metadata": {},
   "outputs": [],
   "source": []
  },
  {
   "cell_type": "code",
   "execution_count": null,
   "metadata": {},
   "outputs": [],
   "source": []
  },
  {
   "cell_type": "code",
   "execution_count": null,
   "metadata": {},
   "outputs": [],
   "source": []
  },
  {
   "cell_type": "code",
   "execution_count": null,
   "metadata": {},
   "outputs": [],
   "source": []
  },
  {
   "cell_type": "markdown",
   "metadata": {},
   "source": [
    "##### Decision Tree Classifier"
   ]
  },
  {
   "cell_type": "code",
   "execution_count": 134,
   "metadata": {},
   "outputs": [
    {
     "name": "stderr",
     "output_type": "stream",
     "text": [
      "C:\\ProgramData\\Anaconda33\\lib\\site-packages\\sklearn\\model_selection\\_split.py:605: Warning: The least populated class in y has only 1 members, which is too few. The minimum number of members in any class cannot be less than n_splits=3.\n",
      "  % (min_groups, self.n_splits)), Warning)\n"
     ]
    },
    {
     "name": "stdout",
     "output_type": "stream",
     "text": [
      "0.7611428571428571\n",
      "{'max_depth': 10, 'max_features': 5}\n"
     ]
    }
   ],
   "source": [
    "from sklearn.tree import DecisionTreeClassifier\n",
    "from sklearn.model_selection import GridSearchCV\n",
    "dt_c = DecisionTreeClassifier(max_depth=5)\n",
    "\n",
    "\n",
    "params = {\n",
    "    'max_depth':[1, 2, 3, 5, 7, 10],\n",
    "    'max_features':[1, 2,  3, 5]\n",
    "}\n",
    "\n",
    "\n",
    "gs_dt = GridSearchCV(estimator = dt_c, param_grid = params)\n",
    "gs_dt.fit(X_train, y_train)\n",
    "print(gs_dt.best_score_)\n",
    "print(gs_dt.best_params_)"
   ]
  },
  {
   "cell_type": "code",
   "execution_count": 135,
   "metadata": {},
   "outputs": [
    {
     "data": {
      "text/plain": [
       "dict_keys(['class_weight', 'criterion', 'max_depth', 'max_features', 'max_leaf_nodes', 'min_impurity_decrease', 'min_impurity_split', 'min_samples_leaf', 'min_samples_split', 'min_weight_fraction_leaf', 'presort', 'random_state', 'splitter'])"
      ]
     },
     "execution_count": 135,
     "metadata": {},
     "output_type": "execute_result"
    }
   ],
   "source": [
    "dt_c.get_params().keys()"
   ]
  },
  {
   "cell_type": "markdown",
   "metadata": {},
   "source": [
    "##### Random Forest Classifier"
   ]
  },
  {
   "cell_type": "code",
   "execution_count": 137,
   "metadata": {},
   "outputs": [
    {
     "name": "stderr",
     "output_type": "stream",
     "text": [
      "C:\\ProgramData\\Anaconda33\\lib\\site-packages\\sklearn\\model_selection\\_split.py:605: Warning: The least populated class in y has only 1 members, which is too few. The minimum number of members in any class cannot be less than n_splits=3.\n",
      "  % (min_groups, self.n_splits)), Warning)\n"
     ]
    },
    {
     "name": "stdout",
     "output_type": "stream",
     "text": [
      "0.7929904761904762\n",
      "{'max_depth': 4, 'max_features': 5, 'n_estimators': 10}\n"
     ]
    }
   ],
   "source": [
    "from sklearn.model_selection import GridSearchCV\n",
    "from sklearn.ensemble import RandomForestClassifier\n",
    "rf_c = RandomForestClassifier()\n",
    "\n",
    "\n",
    "params = {\n",
    "    'n_estimators': [3,5,7,10], \n",
    "    'max_features': [3, 5, 7],\n",
    "    'max_depth': [1, 2 , 3, 4]\n",
    "}\n",
    "gs_rf = GridSearchCV(rf_c, param_grid=params)\n",
    "gs_rf.fit(X_train, y_train)\n",
    "print(gs_rf.best_score_)\n",
    "print(gs_rf.best_params_)"
   ]
  },
  {
   "cell_type": "code",
   "execution_count": 138,
   "metadata": {},
   "outputs": [
    {
     "data": {
      "text/plain": [
       "dict_keys(['bootstrap', 'class_weight', 'criterion', 'max_depth', 'max_features', 'max_leaf_nodes', 'min_impurity_decrease', 'min_impurity_split', 'min_samples_leaf', 'min_samples_split', 'min_weight_fraction_leaf', 'n_estimators', 'n_jobs', 'oob_score', 'random_state', 'verbose', 'warm_start'])"
      ]
     },
     "execution_count": 138,
     "metadata": {},
     "output_type": "execute_result"
    }
   ],
   "source": [
    "rf_c.get_params().keys()"
   ]
  },
  {
   "cell_type": "markdown",
   "metadata": {},
   "source": [
    "##### AdaBoost"
   ]
  },
  {
   "cell_type": "code",
   "execution_count": 139,
   "metadata": {},
   "outputs": [
    {
     "name": "stderr",
     "output_type": "stream",
     "text": [
      "C:\\ProgramData\\Anaconda33\\lib\\site-packages\\sklearn\\model_selection\\_split.py:605: Warning: The least populated class in y has only 1 members, which is too few. The minimum number of members in any class cannot be less than n_splits=3.\n",
      "  % (min_groups, self.n_splits)), Warning)\n"
     ]
    },
    {
     "name": "stdout",
     "output_type": "stream",
     "text": [
      "0.8547809523809524\n",
      "{'n_estimators': 1}\n"
     ]
    }
   ],
   "source": [
    "from sklearn.ensemble import AdaBoostClassifier\n",
    "ada_r = AdaBoostClassifier()\n",
    "\n",
    "params = {\n",
    "    'n_estimators':range(1,7)\n",
    "}\n",
    "gs_ada = GridSearchCV(ada_r, param_grid = params)\n",
    "gs_ada.fit(X_train, y_train)\n",
    "print(gs_ada.best_score_)\n",
    "print(gs_ada.best_params_)"
   ]
  },
  {
   "cell_type": "code",
   "execution_count": 140,
   "metadata": {},
   "outputs": [
    {
     "data": {
      "text/plain": [
       "dict_keys(['cv', 'error_score', 'estimator__algorithm', 'estimator__base_estimator', 'estimator__learning_rate', 'estimator__n_estimators', 'estimator__random_state', 'estimator', 'fit_params', 'iid', 'n_jobs', 'param_grid', 'pre_dispatch', 'refit', 'return_train_score', 'scoring', 'verbose'])"
      ]
     },
     "execution_count": 140,
     "metadata": {},
     "output_type": "execute_result"
    }
   ],
   "source": [
    "gs_ada.get_params().keys()"
   ]
  },
  {
   "cell_type": "code",
   "execution_count": 143,
   "metadata": {},
   "outputs": [
    {
     "name": "stdout",
     "output_type": "stream",
     "text": [
      "Collecting keras\n",
      "  Using cached https://files.pythonhosted.org/packages/68/12/4cabc5c01451eb3b413d19ea151f36e33026fc0efb932bf51bcaf54acbf5/Keras-2.2.0-py2.py3-none-any.whl\n",
      "Collecting keras-applications==1.0.2 (from keras)\n",
      "  Using cached https://files.pythonhosted.org/packages/e2/60/c557075e586e968d7a9c314aa38c236b37cb3ee6b37e8d57152b1a5e0b47/Keras_Applications-1.0.2-py2.py3-none-any.whl\n",
      "Requirement already satisfied: numpy>=1.9.1 in c:\\programdata\\anaconda33\\lib\\site-packages (from keras) (1.14.3)\n",
      "Requirement already satisfied: pyyaml in c:\\programdata\\anaconda33\\lib\\site-packages (from keras) (3.12)\n",
      "Requirement already satisfied: six>=1.9.0 in c:\\programdata\\anaconda33\\lib\\site-packages (from keras) (1.11.0)\n",
      "Requirement already satisfied: scipy>=0.14 in c:\\programdata\\anaconda33\\lib\\site-packages (from keras) (1.1.0)\n",
      "Requirement already satisfied: h5py in c:\\programdata\\anaconda33\\lib\\site-packages (from keras) (2.7.1)\n",
      "Collecting keras-preprocessing==1.0.1 (from keras)\n",
      "  Using cached https://files.pythonhosted.org/packages/f8/33/275506afe1d96b221f66f95adba94d1b73f6b6087cfb6132a5655b6fe338/Keras_Preprocessing-1.0.1-py2.py3-none-any.whl\n",
      "Installing collected packages: keras-applications, keras-preprocessing, keras\n",
      "Successfully installed keras-2.2.0 keras-applications-1.0.2 keras-preprocessing-1.0.1\n"
     ]
    },
    {
     "name": "stderr",
     "output_type": "stream",
     "text": [
      "distributed 1.21.8 requires msgpack, which is not installed.\n"
     ]
    }
   ],
   "source": [
    "!pip install keras"
   ]
  },
  {
   "cell_type": "code",
   "execution_count": 146,
   "metadata": {},
   "outputs": [
    {
     "name": "stdout",
     "output_type": "stream",
     "text": [
      "Requirement already satisfied: tensorflow in c:\\programdata\\anaconda33\\lib\\site-packages (1.9.0)\n",
      "Requirement already satisfied: grpcio>=1.8.6 in c:\\programdata\\anaconda33\\lib\\site-packages (from tensorflow) (1.13.0)\n",
      "Requirement already satisfied: gast>=0.2.0 in c:\\programdata\\anaconda33\\lib\\site-packages (from tensorflow) (0.2.0)\n",
      "Requirement already satisfied: six>=1.10.0 in c:\\programdata\\anaconda33\\lib\\site-packages (from tensorflow) (1.11.0)\n",
      "Requirement already satisfied: termcolor>=1.1.0 in c:\\programdata\\anaconda33\\lib\\site-packages (from tensorflow) (1.1.0)\n",
      "Requirement already satisfied: wheel>=0.26 in c:\\programdata\\anaconda33\\lib\\site-packages (from tensorflow) (0.31.1)\n",
      "Requirement already satisfied: protobuf>=3.4.0 in c:\\programdata\\anaconda33\\lib\\site-packages (from tensorflow) (3.6.0)\n",
      "Requirement already satisfied: numpy>=1.13.3 in c:\\programdata\\anaconda33\\lib\\site-packages (from tensorflow) (1.14.3)\n",
      "Requirement already satisfied: setuptools<=39.1.0 in c:\\programdata\\anaconda33\\lib\\site-packages (from tensorflow) (39.1.0)\n",
      "Requirement already satisfied: astor>=0.6.0 in c:\\programdata\\anaconda33\\lib\\site-packages (from tensorflow) (0.7.1)\n",
      "Requirement already satisfied: tensorboard<1.10.0,>=1.9.0 in c:\\programdata\\anaconda33\\lib\\site-packages (from tensorflow) (1.9.0)\n",
      "Requirement already satisfied: absl-py>=0.1.6 in c:\\programdata\\anaconda33\\lib\\site-packages (from tensorflow) (0.2.2)\n",
      "Requirement already satisfied: markdown>=2.6.8 in c:\\programdata\\anaconda33\\lib\\site-packages (from tensorboard<1.10.0,>=1.9.0->tensorflow) (2.6.11)\n",
      "Requirement already satisfied: werkzeug>=0.11.10 in c:\\programdata\\anaconda33\\lib\\site-packages (from tensorboard<1.10.0,>=1.9.0->tensorflow) (0.14.1)\n"
     ]
    },
    {
     "name": "stderr",
     "output_type": "stream",
     "text": [
      "distributed 1.21.8 requires msgpack, which is not installed.\n"
     ]
    }
   ],
   "source": [
    "!pip install tensorflow"
   ]
  },
  {
   "cell_type": "markdown",
   "metadata": {},
   "source": [
    "##### CNN"
   ]
  },
  {
   "cell_type": "code",
   "execution_count": 147,
   "metadata": {},
   "outputs": [
    {
     "name": "stderr",
     "output_type": "stream",
     "text": [
      "Using TensorFlow backend.\n",
      "C:\\ProgramData\\Anaconda33\\lib\\importlib\\_bootstrap_external.py:426: ImportWarning: Not importing directory C:\\ProgramData\\Anaconda33\\lib\\site-packages\\google: missing __init__\n",
      "  _warnings.warn(msg.format(portions[0]), ImportWarning)\n"
     ]
    }
   ],
   "source": [
    "from keras.models import Sequential\n",
    "from keras.layers import Dense\n",
    "import matplotlib.pyplot as plt"
   ]
  },
  {
   "cell_type": "code",
   "execution_count": 148,
   "metadata": {},
   "outputs": [],
   "source": [
    "ss = StandardScaler()\n",
    "X_train = ss.fit_transform(X_train)\n",
    "X_test = ss.transform(X_test)"
   ]
  },
  {
   "cell_type": "code",
   "execution_count": 149,
   "metadata": {},
   "outputs": [
    {
     "name": "stdout",
     "output_type": "stream",
     "text": [
      "Train on 13125 samples, validate on 4375 samples\n",
      "Epoch 1/30\n",
      "13125/13125 [==============================] - ETA: 2:58 - loss: 0.7999 - acc: 0.468 - ETA: 8s - loss: -3.2125 - acc: 0.542 - ETA: 3s - loss: -4.8137 - acc: 0.53 - ETA: 2s - loss: -5.4196 - acc: 0.54 - ETA: 1s - loss: -5.5248 - acc: 0.54 - ETA: 1s - loss: -7.8988 - acc: 0.54 - ETA: 1s - loss: -8.1043 - acc: 0.54 - ETA: 0s - loss: -10.2299 - acc: 0.552 - ETA: 0s - loss: -11.3652 - acc: 0.556 - ETA: 0s - loss: -11.8105 - acc: 0.560 - ETA: 0s - loss: -11.5419 - acc: 0.569 - ETA: 0s - loss: -11.9297 - acc: 0.577 - ETA: 0s - loss: -12.0448 - acc: 0.582 - ETA: 0s - loss: -13.0548 - acc: 0.584 - ETA: 0s - loss: -13.8903 - acc: 0.585 - ETA: 0s - loss: -14.0544 - acc: 0.588 - 1s 103us/step - loss: -13.8995 - acc: 0.5925 - val_loss: -18.0190 - val_acc: 0.6811\n",
      "Epoch 2/30\n",
      "13125/13125 [==============================] - ETA: 2s - loss: -27.9663 - acc: 0.687 - ETA: 0s - loss: -31.2234 - acc: 0.668 - ETA: 0s - loss: -24.1047 - acc: 0.691 - ETA: 0s - loss: -24.0586 - acc: 0.686 - ETA: 0s - loss: -18.8468 - acc: 0.680 - ETA: 0s - loss: -18.1938 - acc: 0.681 - ETA: 0s - loss: -18.8062 - acc: 0.681 - ETA: 0s - loss: -18.2990 - acc: 0.680 - ETA: 0s - loss: -17.7554 - acc: 0.684 - ETA: 0s - loss: -17.3206 - acc: 0.684 - ETA: 0s - loss: -16.9337 - acc: 0.684 - ETA: 0s - loss: -16.8209 - acc: 0.683 - ETA: 0s - loss: -16.6377 - acc: 0.681 - ETA: 0s - loss: -16.2948 - acc: 0.680 - ETA: 0s - loss: -16.2002 - acc: 0.679 - ETA: 0s - loss: -16.0256 - acc: 0.681 - 1s 66us/step - loss: -16.2150 - acc: 0.6814 - val_loss: -18.1787 - val_acc: 0.7029\n",
      "Epoch 3/30\n",
      "13125/13125 [==============================] - ETA: 1s - loss: 1.2003 - acc: 0.656 - ETA: 0s - loss: -17.9723 - acc: 0.701 - ETA: 0s - loss: -20.2984 - acc: 0.700 - ETA: 0s - loss: -20.4341 - acc: 0.698 - ETA: 0s - loss: -20.7946 - acc: 0.709 - ETA: 0s - loss: -20.0133 - acc: 0.708 - ETA: 0s - loss: -18.3977 - acc: 0.707 - ETA: 0s - loss: -17.6240 - acc: 0.710 - ETA: 0s - loss: -16.7946 - acc: 0.711 - ETA: 0s - loss: -17.1009 - acc: 0.712 - ETA: 0s - loss: -17.1950 - acc: 0.714 - ETA: 0s - loss: -16.6762 - acc: 0.715 - ETA: 0s - loss: -17.0003 - acc: 0.716 - ETA: 0s - loss: -16.6181 - acc: 0.719 - ETA: 0s - loss: -16.6360 - acc: 0.718 - ETA: 0s - loss: -16.4654 - acc: 0.717 - 1s 66us/step - loss: -16.4132 - acc: 0.7184 - val_loss: -18.0935 - val_acc: 0.7122\n",
      "Epoch 4/30\n",
      "13125/13125 [==============================] - ETA: 1s - loss: 0.9038 - acc: 0.718 - ETA: 0s - loss: -17.0706 - acc: 0.740 - ETA: 0s - loss: -16.9748 - acc: 0.743 - ETA: 0s - loss: -15.5434 - acc: 0.743 - ETA: 0s - loss: -16.8904 - acc: 0.742 - ETA: 0s - loss: -16.9410 - acc: 0.742 - ETA: 0s - loss: -17.1191 - acc: 0.739 - ETA: 0s - loss: -15.5981 - acc: 0.740 - ETA: 0s - loss: -16.2414 - acc: 0.739 - ETA: 0s - loss: -15.9816 - acc: 0.741 - ETA: 0s - loss: -16.8632 - acc: 0.740 - ETA: 0s - loss: -17.8624 - acc: 0.741 - ETA: 0s - loss: -17.5956 - acc: 0.741 - ETA: 0s - loss: -17.6052 - acc: 0.740 - ETA: 0s - loss: -16.8703 - acc: 0.743 - ETA: 0s - loss: -16.6693 - acc: 0.746 - ETA: 0s - loss: -16.5953 - acc: 0.746 - ETA: 0s - loss: -16.7520 - acc: 0.744 - ETA: 0s - loss: -16.5415 - acc: 0.744 - 1s 80us/step - loss: -16.4727 - acc: 0.7438 - val_loss: -17.9984 - val_acc: 0.6473\n",
      "Epoch 5/30\n",
      "13125/13125 [==============================] - ETA: 2s - loss: 0.5254 - acc: 0.750 - ETA: 0s - loss: -11.9955 - acc: 0.721 - ETA: 0s - loss: -14.6292 - acc: 0.743 - ETA: 0s - loss: -16.5684 - acc: 0.745 - ETA: 0s - loss: -17.5352 - acc: 0.750 - ETA: 0s - loss: -17.9926 - acc: 0.755 - ETA: 0s - loss: -17.5676 - acc: 0.758 - ETA: 0s - loss: -18.3976 - acc: 0.755 - ETA: 0s - loss: -18.1529 - acc: 0.755 - ETA: 0s - loss: -17.3319 - acc: 0.755 - ETA: 0s - loss: -16.4421 - acc: 0.756 - ETA: 0s - loss: -16.7057 - acc: 0.753 - ETA: 0s - loss: -16.7304 - acc: 0.753 - ETA: 0s - loss: -16.3671 - acc: 0.756 - ETA: 0s - loss: -16.3163 - acc: 0.754 - ETA: 0s - loss: -16.7512 - acc: 0.752 - 1s 68us/step - loss: -16.5373 - acc: 0.7534 - val_loss: -18.1532 - val_acc: 0.7445\n",
      "Epoch 6/30\n",
      "13125/13125 [==============================] - ETA: 1s - loss: 0.5642 - acc: 0.781 - ETA: 0s - loss: -12.1388 - acc: 0.779 - ETA: 0s - loss: -12.1161 - acc: 0.761 - ETA: 0s - loss: -11.7040 - acc: 0.760 - ETA: 0s - loss: -14.8740 - acc: 0.762 - ETA: 0s - loss: -14.7819 - acc: 0.758 - ETA: 0s - loss: -15.2347 - acc: 0.761 - ETA: 0s - loss: -14.6783 - acc: 0.767 - ETA: 0s - loss: -14.9069 - acc: 0.769 - ETA: 0s - loss: -15.5277 - acc: 0.768 - ETA: 0s - loss: -15.3557 - acc: 0.768 - ETA: 0s - loss: -15.5078 - acc: 0.769 - ETA: 0s - loss: -15.5481 - acc: 0.769 - ETA: 0s - loss: -16.4030 - acc: 0.770 - ETA: 0s - loss: -16.8189 - acc: 0.764 - ETA: 0s - loss: -16.4702 - acc: 0.763 - 1s 66us/step - loss: -16.5471 - acc: 0.7628 - val_loss: -18.0845 - val_acc: 0.7461\n",
      "Epoch 7/30\n",
      "13125/13125 [==============================] - ETA: 1s - loss: 1.0768 - acc: 0.750 - ETA: 0s - loss: -16.8144 - acc: 0.753 - ETA: 0s - loss: -15.8522 - acc: 0.762 - ETA: 0s - loss: -15.4267 - acc: 0.760 - ETA: 0s - loss: -15.3240 - acc: 0.756 - ETA: 0s - loss: -18.1880 - acc: 0.758 - ETA: 0s - loss: -17.5234 - acc: 0.759 - ETA: 0s - loss: -16.9909 - acc: 0.764 - ETA: 0s - loss: -17.5157 - acc: 0.761 - ETA: 0s - loss: -17.0490 - acc: 0.761 - ETA: 0s - loss: -16.9161 - acc: 0.763 - ETA: 0s - loss: -16.6847 - acc: 0.764 - ETA: 0s - loss: -16.7099 - acc: 0.764 - ETA: 0s - loss: -16.0201 - acc: 0.765 - ETA: 0s - loss: -15.9995 - acc: 0.766 - ETA: 0s - loss: -16.0215 - acc: 0.766 - ETA: 0s - loss: -15.9860 - acc: 0.769 - ETA: 0s - loss: -16.1522 - acc: 0.769 - 1s 78us/step - loss: -16.6090 - acc: 0.7688 - val_loss: -18.1563 - val_acc: 0.7131\n",
      "Epoch 8/30\n",
      "13125/13125 [==============================] - ETA: 1s - loss: 0.4884 - acc: 0.718 - ETA: 0s - loss: -22.1200 - acc: 0.768 - ETA: 0s - loss: -18.0251 - acc: 0.781 - ETA: 0s - loss: -15.4560 - acc: 0.787 - ETA: 0s - loss: -16.3611 - acc: 0.790 - ETA: 0s - loss: -17.6268 - acc: 0.787 - ETA: 0s - loss: -16.6182 - acc: 0.788 - ETA: 0s - loss: -16.3924 - acc: 0.782 - ETA: 0s - loss: -17.3312 - acc: 0.782 - ETA: 0s - loss: -17.8388 - acc: 0.784 - ETA: 0s - loss: -17.8143 - acc: 0.782 - ETA: 0s - loss: -17.1931 - acc: 0.781 - ETA: 0s - loss: -16.9974 - acc: 0.780 - ETA: 0s - loss: -16.8116 - acc: 0.781 - ETA: 0s - loss: -16.6607 - acc: 0.781 - ETA: 0s - loss: -16.7726 - acc: 0.779 - ETA: 0s - loss: -16.7625 - acc: 0.779 - 1s 72us/step - loss: -16.6506 - acc: 0.7796 - val_loss: -18.0775 - val_acc: 0.7835\n",
      "Epoch 9/30\n",
      "13125/13125 [==============================] - ETA: 2s - loss: 0.2505 - acc: 0.906 - ETA: 1s - loss: -20.1978 - acc: 0.788 - ETA: 1s - loss: -14.1650 - acc: 0.788 - ETA: 0s - loss: -13.9583 - acc: 0.787 - ETA: 0s - loss: -15.7143 - acc: 0.783 - ETA: 0s - loss: -15.6151 - acc: 0.778 - ETA: 0s - loss: -17.8675 - acc: 0.777 - ETA: 0s - loss: -16.9663 - acc: 0.773 - ETA: 0s - loss: -16.1340 - acc: 0.774 - ETA: 0s - loss: -16.6285 - acc: 0.773 - ETA: 0s - loss: -16.4216 - acc: 0.773 - ETA: 0s - loss: -15.9177 - acc: 0.776 - ETA: 0s - loss: -15.9492 - acc: 0.777 - ETA: 0s - loss: -16.1139 - acc: 0.779 - ETA: 0s - loss: -16.2485 - acc: 0.778 - ETA: 0s - loss: -16.4004 - acc: 0.780 - ETA: 0s - loss: -16.7281 - acc: 0.781 - ETA: 0s - loss: -17.0111 - acc: 0.781 - 1s 77us/step - loss: -16.6601 - acc: 0.7815 - val_loss: -17.9797 - val_acc: 0.7925\n",
      "Epoch 10/30\n",
      "13125/13125 [==============================] - ETA: 1s - loss: -51.4895 - acc: 0.718 - ETA: 0s - loss: -13.1950 - acc: 0.788 - ETA: 0s - loss: -13.0615 - acc: 0.808 - ETA: 0s - loss: -14.3015 - acc: 0.809 - ETA: 0s - loss: -17.9797 - acc: 0.805 - ETA: 0s - loss: -17.8443 - acc: 0.792 - ETA: 0s - loss: -17.4696 - acc: 0.792 - ETA: 0s - loss: -16.0653 - acc: 0.791 - ETA: 0s - loss: -15.3870 - acc: 0.791 - ETA: 0s - loss: -14.1866 - acc: 0.792 - ETA: 0s - loss: -15.6544 - acc: 0.793 - ETA: 0s - loss: -15.9998 - acc: 0.793 - ETA: 0s - loss: -16.2731 - acc: 0.788 - ETA: 0s - loss: -16.5964 - acc: 0.788 - ETA: 0s - loss: -16.9489 - acc: 0.788 - ETA: 0s - loss: -16.8585 - acc: 0.788 - ETA: 0s - loss: -16.7991 - acc: 0.787 - 1s 74us/step - loss: -16.6931 - acc: 0.7865 - val_loss: -17.9645 - val_acc: 0.7671\n"
     ]
    },
    {
     "name": "stdout",
     "output_type": "stream",
     "text": [
      "Epoch 11/30\n",
      "13125/13125 [==============================] - ETA: 1s - loss: 0.2688 - acc: 0.843 - ETA: 0s - loss: -13.0944 - acc: 0.821 - ETA: 0s - loss: -11.8766 - acc: 0.821 - ETA: 0s - loss: -12.9436 - acc: 0.814 - ETA: 0s - loss: -13.1221 - acc: 0.815 - ETA: 0s - loss: -14.7087 - acc: 0.814 - ETA: 0s - loss: -16.3708 - acc: 0.813 - ETA: 0s - loss: -16.7969 - acc: 0.807 - ETA: 0s - loss: -17.0094 - acc: 0.806 - ETA: 0s - loss: -16.4561 - acc: 0.804 - ETA: 0s - loss: -17.7305 - acc: 0.801 - ETA: 0s - loss: -16.8019 - acc: 0.797 - ETA: 0s - loss: -17.5709 - acc: 0.793 - ETA: 0s - loss: -17.6477 - acc: 0.793 - ETA: 0s - loss: -17.1852 - acc: 0.792 - ETA: 0s - loss: -17.1295 - acc: 0.792 - 1s 68us/step - loss: -16.6581 - acc: 0.7926 - val_loss: -18.1798 - val_acc: 0.8032\n",
      "Epoch 12/30\n",
      "13125/13125 [==============================] - ETA: 1s - loss: 0.7108 - acc: 0.875 - ETA: 0s - loss: -15.3211 - acc: 0.787 - ETA: 0s - loss: -17.3405 - acc: 0.790 - ETA: 0s - loss: -17.1436 - acc: 0.798 - ETA: 0s - loss: -16.5667 - acc: 0.800 - ETA: 0s - loss: -16.6878 - acc: 0.796 - ETA: 0s - loss: -15.9828 - acc: 0.795 - ETA: 0s - loss: -14.6133 - acc: 0.797 - ETA: 0s - loss: -16.1431 - acc: 0.796 - ETA: 0s - loss: -16.6135 - acc: 0.797 - ETA: 0s - loss: -16.9652 - acc: 0.796 - ETA: 0s - loss: -16.5866 - acc: 0.796 - ETA: 0s - loss: -16.8338 - acc: 0.796 - ETA: 0s - loss: -16.2485 - acc: 0.793 - ETA: 0s - loss: -17.0003 - acc: 0.792 - ETA: 0s - loss: -16.8572 - acc: 0.794 - 1s 68us/step - loss: -16.7095 - acc: 0.7941 - val_loss: -18.1010 - val_acc: 0.7831\n",
      "Epoch 13/30\n",
      "13125/13125 [==============================] - ETA: 2s - loss: 0.2535 - acc: 0.843 - ETA: 0s - loss: -15.4238 - acc: 0.790 - ETA: 0s - loss: -13.3556 - acc: 0.805 - ETA: 0s - loss: -16.6155 - acc: 0.800 - ETA: 0s - loss: -16.4798 - acc: 0.806 - ETA: 0s - loss: -15.2681 - acc: 0.805 - ETA: 0s - loss: -15.8258 - acc: 0.802 - ETA: 0s - loss: -16.0637 - acc: 0.805 - ETA: 0s - loss: -17.3843 - acc: 0.799 - ETA: 0s - loss: -17.9460 - acc: 0.799 - ETA: 0s - loss: -17.0827 - acc: 0.801 - ETA: 0s - loss: -17.1258 - acc: 0.800 - ETA: 0s - loss: -16.4980 - acc: 0.801 - ETA: 0s - loss: -16.2030 - acc: 0.801 - ETA: 0s - loss: -17.1000 - acc: 0.801 - ETA: 0s - loss: -16.8281 - acc: 0.802 - 1s 68us/step - loss: -16.7538 - acc: 0.8027 - val_loss: -18.0682 - val_acc: 0.8041\n",
      "Epoch 14/30\n",
      "13125/13125 [==============================] - ETA: 1s - loss: 0.5456 - acc: 0.843 - ETA: 0s - loss: -16.6762 - acc: 0.820 - ETA: 0s - loss: -15.5492 - acc: 0.806 - ETA: 0s - loss: -14.3138 - acc: 0.817 - ETA: 0s - loss: -14.0173 - acc: 0.814 - ETA: 0s - loss: -13.3197 - acc: 0.811 - ETA: 0s - loss: -14.8438 - acc: 0.804 - ETA: 0s - loss: -15.7873 - acc: 0.807 - ETA: 0s - loss: -15.6856 - acc: 0.809 - ETA: 0s - loss: -16.4987 - acc: 0.809 - ETA: 0s - loss: -17.3334 - acc: 0.808 - ETA: 0s - loss: -16.8590 - acc: 0.810 - ETA: 0s - loss: -16.6956 - acc: 0.812 - ETA: 0s - loss: -16.7311 - acc: 0.812 - ETA: 0s - loss: -16.9119 - acc: 0.812 - ETA: 0s - loss: -16.7945 - acc: 0.813 - 1s 66us/step - loss: -16.7972 - acc: 0.8131 - val_loss: -17.6502 - val_acc: 0.6613\n",
      "Epoch 15/30\n",
      "13125/13125 [==============================] - ETA: 1s - loss: 0.3437 - acc: 0.781 - ETA: 0s - loss: -9.2089 - acc: 0.70 - ETA: 0s - loss: -12.2201 - acc: 0.754 - ETA: 0s - loss: -12.8650 - acc: 0.768 - ETA: 0s - loss: -13.6635 - acc: 0.779 - ETA: 0s - loss: -15.3462 - acc: 0.779 - ETA: 0s - loss: -15.7720 - acc: 0.784 - ETA: 0s - loss: -15.0717 - acc: 0.785 - ETA: 0s - loss: -15.0381 - acc: 0.786 - ETA: 0s - loss: -14.6102 - acc: 0.790 - ETA: 0s - loss: -14.9645 - acc: 0.793 - ETA: 0s - loss: -16.5075 - acc: 0.794 - ETA: 0s - loss: -17.0249 - acc: 0.795 - ETA: 0s - loss: -17.1244 - acc: 0.796 - ETA: 0s - loss: -16.9338 - acc: 0.795 - 1s 66us/step - loss: -16.7568 - acc: 0.7967 - val_loss: -18.0241 - val_acc: 0.7872\n",
      "Epoch 16/30\n",
      "13125/13125 [==============================] - ETA: 2s - loss: -6.1272 - acc: 0.87 - ETA: 0s - loss: -21.2321 - acc: 0.845 - ETA: 0s - loss: -17.9588 - acc: 0.814 - ETA: 0s - loss: -15.4472 - acc: 0.801 - ETA: 0s - loss: -15.4316 - acc: 0.802 - ETA: 0s - loss: -15.3604 - acc: 0.803 - ETA: 0s - loss: -14.5734 - acc: 0.810 - ETA: 0s - loss: -15.8401 - acc: 0.814 - ETA: 0s - loss: -16.9558 - acc: 0.813 - ETA: 0s - loss: -16.8988 - acc: 0.814 - ETA: 0s - loss: -16.8240 - acc: 0.814 - ETA: 0s - loss: -16.9287 - acc: 0.815 - ETA: 0s - loss: -16.6931 - acc: 0.815 - ETA: 0s - loss: -16.4502 - acc: 0.815 - ETA: 0s - loss: -17.4577 - acc: 0.813 - ETA: 0s - loss: -17.0098 - acc: 0.812 - ETA: 0s - loss: -17.3791 - acc: 0.811 - ETA: 0s - loss: -17.2411 - acc: 0.811 - ETA: 0s - loss: -17.1121 - acc: 0.809 - 1s 84us/step - loss: -16.8003 - acc: 0.8093 - val_loss: -18.0278 - val_acc: 0.7735\n",
      "Epoch 17/30\n",
      "13125/13125 [==============================] - ETA: 2s - loss: 0.3061 - acc: 0.937 - ETA: 0s - loss: -19.2951 - acc: 0.809 - ETA: 0s - loss: -17.8562 - acc: 0.790 - ETA: 0s - loss: -16.8774 - acc: 0.797 - ETA: 0s - loss: -16.2888 - acc: 0.803 - ETA: 0s - loss: -17.4520 - acc: 0.794 - ETA: 0s - loss: -17.7939 - acc: 0.789 - ETA: 0s - loss: -16.8901 - acc: 0.786 - ETA: 0s - loss: -17.7119 - acc: 0.790 - ETA: 0s - loss: -17.9955 - acc: 0.792 - ETA: 0s - loss: -18.3825 - acc: 0.794 - ETA: 0s - loss: -17.3486 - acc: 0.798 - ETA: 0s - loss: -17.4119 - acc: 0.800 - ETA: 0s - loss: -17.3965 - acc: 0.803 - ETA: 0s - loss: -17.4975 - acc: 0.804 - ETA: 0s - loss: -17.9479 - acc: 0.806 - ETA: 0s - loss: -17.4524 - acc: 0.808 - ETA: 0s - loss: -16.9531 - acc: 0.809 - ETA: 0s - loss: -16.7614 - acc: 0.809 - 1s 82us/step - loss: -16.8060 - acc: 0.8098 - val_loss: -17.8928 - val_acc: 0.7977\n",
      "Epoch 18/30\n",
      "13125/13125 [==============================] - ETA: 1s - loss: 0.7237 - acc: 0.812 - ETA: 0s - loss: -9.9542 - acc: 0.85 - ETA: 0s - loss: -10.3633 - acc: 0.842 - ETA: 0s - loss: -15.2646 - acc: 0.840 - ETA: 0s - loss: -15.3679 - acc: 0.839 - ETA: 0s - loss: -16.4732 - acc: 0.835 - ETA: 0s - loss: -16.4347 - acc: 0.833 - ETA: 0s - loss: -16.1749 - acc: 0.830 - ETA: 0s - loss: -15.9527 - acc: 0.829 - ETA: 0s - loss: -16.7107 - acc: 0.827 - ETA: 0s - loss: -16.6148 - acc: 0.827 - ETA: 0s - loss: -16.5034 - acc: 0.826 - ETA: 0s - loss: -16.1570 - acc: 0.824 - ETA: 0s - loss: -16.4460 - acc: 0.820 - ETA: 0s - loss: -16.3082 - acc: 0.819 - ETA: 0s - loss: -16.4035 - acc: 0.818 - 1s 71us/step - loss: -16.8285 - acc: 0.8184 - val_loss: -17.9274 - val_acc: 0.7952\n",
      "Epoch 19/30\n",
      "13125/13125 [==============================] - ETA: 1s - loss: -40.1693 - acc: 0.843 - ETA: 0s - loss: -10.7823 - acc: 0.838 - ETA: 0s - loss: -12.7575 - acc: 0.836 - ETA: 0s - loss: -16.2942 - acc: 0.829 - ETA: 0s - loss: -17.8423 - acc: 0.828 - ETA: 0s - loss: -17.0609 - acc: 0.828 - ETA: 0s - loss: -17.1502 - acc: 0.832 - ETA: 0s - loss: -17.6427 - acc: 0.824 - ETA: 0s - loss: -17.4155 - acc: 0.826 - ETA: 0s - loss: -18.7047 - acc: 0.827 - ETA: 0s - loss: -18.4728 - acc: 0.827 - ETA: 0s - loss: -18.0509 - acc: 0.825 - ETA: 0s - loss: -17.5513 - acc: 0.823 - ETA: 0s - loss: -17.9692 - acc: 0.822 - ETA: 0s - loss: -17.6616 - acc: 0.822 - ETA: 0s - loss: -17.5964 - acc: 0.821 - ETA: 0s - loss: -16.9020 - acc: 0.821 - 1s 70us/step - loss: -16.8408 - acc: 0.8217 - val_loss: -18.0604 - val_acc: 0.7943\n",
      "Epoch 20/30\n",
      "13125/13125 [==============================] - ETA: 1s - loss: -54.0176 - acc: 0.875 - ETA: 0s - loss: -16.9099 - acc: 0.837 - ETA: 0s - loss: -17.7931 - acc: 0.839 - ETA: 0s - loss: -18.6450 - acc: 0.830 - ETA: 0s - loss: -17.9126 - acc: 0.821 - ETA: 0s - loss: -16.6978 - acc: 0.823 - ETA: 0s - loss: -16.1515 - acc: 0.822 - ETA: 0s - loss: -16.8290 - acc: 0.826 - ETA: 0s - loss: -16.5309 - acc: 0.826 - ETA: 0s - loss: -16.0882 - acc: 0.828 - ETA: 0s - loss: -16.8603 - acc: 0.828 - ETA: 0s - loss: -17.1571 - acc: 0.830 - ETA: 0s - loss: -17.6377 - acc: 0.829 - ETA: 0s - loss: -16.8588 - acc: 0.829 - ETA: 0s - loss: -18.0278 - acc: 0.827 - ETA: 0s - loss: -17.8186 - acc: 0.827 - ETA: 0s - loss: -17.2142 - acc: 0.828 - 1s 75us/step - loss: -16.8622 - acc: 0.8270 - val_loss: -17.9969 - val_acc: 0.7856\n",
      "Epoch 21/30\n",
      "13125/13125 [==============================] - ETA: 1s - loss: 0.3928 - acc: 0.812 - ETA: 0s - loss: -11.1610 - acc: 0.842 - ETA: 0s - loss: -16.0875 - acc: 0.854 - ETA: 0s - loss: -19.2510 - acc: 0.844 - ETA: 0s - loss: -16.8460 - acc: 0.845 - ETA: 0s - loss: -16.5848 - acc: 0.844 - ETA: 0s - loss: -16.4440 - acc: 0.845 - ETA: 0s - loss: -17.0969 - acc: 0.843 - ETA: 0s - loss: -17.1350 - acc: 0.843 - ETA: 0s - loss: -17.2560 - acc: 0.841 - ETA: 0s - loss: -17.2666 - acc: 0.839 - ETA: 0s - loss: -17.3813 - acc: 0.837 - ETA: 0s - loss: -17.6566 - acc: 0.836 - ETA: 0s - loss: -17.1359 - acc: 0.836 - ETA: 0s - loss: -16.9893 - acc: 0.835 - ETA: 0s - loss: -17.1550 - acc: 0.836 - ETA: 0s - loss: -17.0697 - acc: 0.836 - ETA: 0s - loss: -16.9029 - acc: 0.836 - 1s 78us/step - loss: -16.8805 - acc: 0.8367 - val_loss: -17.8739 - val_acc: 0.8078\n",
      "Epoch 22/30\n",
      "13125/13125 [==============================] - ETA: 3s - loss: 0.3157 - acc: 0.906 - ETA: 0s - loss: -21.1677 - acc: 0.828 - ETA: 0s - loss: -17.4779 - acc: 0.813 - ETA: 0s - loss: -17.9303 - acc: 0.811 - ETA: 0s - loss: -18.1343 - acc: 0.816 - ETA: 0s - loss: -17.1548 - acc: 0.821 - ETA: 0s - loss: -17.9737 - acc: 0.822 - ETA: 0s - loss: -20.7982 - acc: 0.821 - ETA: 0s - loss: -19.9421 - acc: 0.820 - ETA: 0s - loss: -17.8571 - acc: 0.824 - ETA: 0s - loss: -17.8990 - acc: 0.825 - ETA: 0s - loss: -17.4898 - acc: 0.825 - ETA: 0s - loss: -17.2938 - acc: 0.825 - ETA: 0s - loss: -17.4936 - acc: 0.825 - ETA: 0s - loss: -16.6198 - acc: 0.827 - ETA: 0s - loss: -16.6778 - acc: 0.828 - ETA: 0s - loss: -16.4398 - acc: 0.830 - ETA: 0s - loss: -16.8386 - acc: 0.831 - 1s 75us/step - loss: -16.8790 - acc: 0.8316 - val_loss: -17.8954 - val_acc: 0.7918\n",
      "Epoch 23/30\n",
      "13125/13125 [==============================] - ETA: 1s - loss: 0.6728 - acc: 0.968 - ETA: 0s - loss: -10.6689 - acc: 0.871 - ETA: 0s - loss: -13.8662 - acc: 0.836 - ETA: 0s - loss: -14.9714 - acc: 0.832 - ETA: 0s - loss: -18.0596 - acc: 0.830 - ETA: 0s - loss: -18.1271 - acc: 0.829 - ETA: 0s - loss: -17.5410 - acc: 0.828 - ETA: 0s - loss: -18.1507 - acc: 0.831 - ETA: 0s - loss: -17.5308 - acc: 0.834 - ETA: 0s - loss: -17.0788 - acc: 0.834 - ETA: 0s - loss: -16.2797 - acc: 0.835 - ETA: 0s - loss: -16.9719 - acc: 0.834 - ETA: 0s - loss: -17.0456 - acc: 0.834 - ETA: 0s - loss: -17.5190 - acc: 0.834 - ETA: 0s - loss: -16.8331 - acc: 0.834 - ETA: 0s - loss: -17.2304 - acc: 0.834 - ETA: 0s - loss: -16.9988 - acc: 0.835 - 1s 75us/step - loss: -16.9010 - acc: 0.8350 - val_loss: -17.8729 - val_acc: 0.8080\n",
      "Epoch 24/30\n",
      "13125/13125 [==============================] - ETA: 1s - loss: 0.7221 - acc: 0.875 - ETA: 0s - loss: -18.0916 - acc: 0.870 - ETA: 0s - loss: -19.0479 - acc: 0.868 - ETA: 0s - loss: -15.7261 - acc: 0.864 - ETA: 0s - loss: -16.3761 - acc: 0.859 - ETA: 0s - loss: -17.1792 - acc: 0.853 - ETA: 0s - loss: -16.0407 - acc: 0.845 - ETA: 0s - loss: -15.6635 - acc: 0.839 - ETA: 0s - loss: -19.4525 - acc: 0.836 - ETA: 0s - loss: -18.5953 - acc: 0.834 - ETA: 0s - loss: -18.4288 - acc: 0.836 - ETA: 0s - loss: -17.5792 - acc: 0.834 - ETA: 0s - loss: -17.4311 - acc: 0.833 - ETA: 0s - loss: -17.2796 - acc: 0.832 - ETA: 0s - loss: -17.2567 - acc: 0.831 - ETA: 0s - loss: -16.9968 - acc: 0.832 - ETA: 0s - loss: -16.7403 - acc: 0.832 - 1s 72us/step - loss: -16.8130 - acc: 0.8322 - val_loss: -17.9566 - val_acc: 0.7966\n",
      "Epoch 25/30\n",
      "13125/13125 [==============================] - ETA: 2s - loss: -28.6849 - acc: 0.875 - ETA: 0s - loss: -11.3859 - acc: 0.845 - ETA: 0s - loss: -13.4079 - acc: 0.848 - ETA: 0s - loss: -12.2431 - acc: 0.851 - ETA: 0s - loss: -15.7376 - acc: 0.844 - ETA: 0s - loss: -15.0612 - acc: 0.840 - ETA: 0s - loss: -14.9306 - acc: 0.842 - ETA: 0s - loss: -15.3029 - acc: 0.843 - ETA: 0s - loss: -16.1365 - acc: 0.845 - ETA: 0s - loss: -16.3015 - acc: 0.843 - ETA: 0s - loss: -16.3740 - acc: 0.842 - ETA: 0s - loss: -15.7644 - acc: 0.841 - ETA: 0s - loss: -15.9926 - acc: 0.841 - ETA: 0s - loss: -16.3139 - acc: 0.840 - ETA: 0s - loss: -16.8697 - acc: 0.840 - ETA: 0s - loss: -16.1422 - acc: 0.839 - ETA: 0s - loss: -16.9394 - acc: 0.837 - 1s 73us/step - loss: -16.9052 - acc: 0.8376 - val_loss: -17.9736 - val_acc: 0.8066\n",
      "Epoch 26/30\n",
      "13125/13125 [==============================] - ETA: 1s - loss: 0.6473 - acc: 0.750 - ETA: 0s - loss: -27.5982 - acc: 0.843 - ETA: 0s - loss: -16.6752 - acc: 0.847 - ETA: 0s - loss: -16.4341 - acc: 0.851 - ETA: 0s - loss: -19.4272 - acc: 0.844 - ETA: 0s - loss: -21.1178 - acc: 0.845 - ETA: 0s - loss: -21.1396 - acc: 0.844 - ETA: 0s - loss: -20.3536 - acc: 0.845 - ETA: 0s - loss: -19.7009 - acc: 0.846 - ETA: 0s - loss: -20.1131 - acc: 0.846 - ETA: 0s - loss: -18.9946 - acc: 0.847 - ETA: 0s - loss: -18.6197 - acc: 0.842 - ETA: 0s - loss: -18.4526 - acc: 0.838 - ETA: 0s - loss: -17.8889 - acc: 0.837 - ETA: 0s - loss: -17.3121 - acc: 0.835 - ETA: 0s - loss: -16.8179 - acc: 0.835 - 1s 70us/step - loss: -16.8824 - acc: 0.8344 - val_loss: -17.9976 - val_acc: 0.7735\n",
      "Epoch 27/30\n",
      "13125/13125 [==============================] - ETA: 2s - loss: 0.3343 - acc: 0.937 - ETA: 0s - loss: -28.4593 - acc: 0.839 - ETA: 0s - loss: -23.9379 - acc: 0.826 - ETA: 0s - loss: -21.4712 - acc: 0.832 - ETA: 0s - loss: -18.2870 - acc: 0.838 - ETA: 0s - loss: -17.2510 - acc: 0.837 - ETA: 0s - loss: -17.1613 - acc: 0.839 - ETA: 0s - loss: -17.7786 - acc: 0.842 - ETA: 0s - loss: -17.1498 - acc: 0.842 - ETA: 0s - loss: -18.0199 - acc: 0.842 - ETA: 0s - loss: -17.8484 - acc: 0.842 - ETA: 0s - loss: -17.9923 - acc: 0.842 - ETA: 0s - loss: -17.4568 - acc: 0.844 - ETA: 0s - loss: -17.2008 - acc: 0.843 - ETA: 0s - loss: -17.5140 - acc: 0.841 - ETA: 0s - loss: -17.2224 - acc: 0.840 - ETA: 0s - loss: -16.8427 - acc: 0.840 - 1s 73us/step - loss: -16.9037 - acc: 0.8410 - val_loss: -18.0022 - val_acc: 0.8101\n",
      "Epoch 28/30\n",
      "13125/13125 [==============================] - ETA: 2s - loss: 0.0957 - acc: 0.968 - ETA: 0s - loss: -11.1372 - acc: 0.852 - ETA: 0s - loss: -12.9540 - acc: 0.862 - ETA: 0s - loss: -14.4459 - acc: 0.858 - ETA: 0s - loss: -13.2086 - acc: 0.854 - ETA: 0s - loss: -14.4452 - acc: 0.849 - ETA: 0s - loss: -15.4062 - acc: 0.848 - ETA: 0s - loss: -15.7432 - acc: 0.849 - ETA: 0s - loss: -16.9958 - acc: 0.853 - ETA: 0s - loss: -18.7700 - acc: 0.854 - ETA: 0s - loss: -18.2034 - acc: 0.855 - ETA: 0s - loss: -17.1176 - acc: 0.856 - ETA: 0s - loss: -16.8319 - acc: 0.855 - ETA: 0s - loss: -17.2620 - acc: 0.853 - ETA: 0s - loss: -16.9936 - acc: 0.854 - ETA: 0s - loss: -16.9161 - acc: 0.854 - ETA: 0s - loss: -16.9291 - acc: 0.852 - 1s 74us/step - loss: -16.9375 - acc: 0.8517 - val_loss: -17.9089 - val_acc: 0.8181\n",
      "Epoch 29/30\n",
      "13125/13125 [==============================] - ETA: 1s - loss: 0.2740 - acc: 0.906 - ETA: 0s - loss: -16.8902 - acc: 0.853 - ETA: 0s - loss: -18.6111 - acc: 0.858 - ETA: 0s - loss: -17.5684 - acc: 0.859 - ETA: 0s - loss: -18.1612 - acc: 0.851 - ETA: 0s - loss: -17.3400 - acc: 0.855 - ETA: 0s - loss: -16.4926 - acc: 0.856 - ETA: 0s - loss: -18.2689 - acc: 0.854 - ETA: 0s - loss: -17.9389 - acc: 0.850 - ETA: 0s - loss: -18.4549 - acc: 0.847 - ETA: 0s - loss: -18.3042 - acc: 0.846 - ETA: 0s - loss: -18.1271 - acc: 0.848 - ETA: 0s - loss: -17.6348 - acc: 0.849 - ETA: 0s - loss: -18.2029 - acc: 0.849 - ETA: 0s - loss: -18.0396 - acc: 0.849 - ETA: 0s - loss: -16.9954 - acc: 0.850 - ETA: 0s - loss: -17.2396 - acc: 0.850 - 1s 73us/step - loss: -16.9483 - acc: 0.8491 - val_loss: -17.8020 - val_acc: 0.8005\n",
      "Epoch 30/30\n",
      "13125/13125 [==============================] - ETA: 1s - loss: -43.7244 - acc: 0.843 - ETA: 0s - loss: -18.5451 - acc: 0.842 - ETA: 0s - loss: -16.5626 - acc: 0.853 - ETA: 0s - loss: -15.3047 - acc: 0.859 - ETA: 0s - loss: -16.2051 - acc: 0.861 - ETA: 0s - loss: -15.5521 - acc: 0.860 - ETA: 0s - loss: -16.5873 - acc: 0.854 - ETA: 0s - loss: -17.5946 - acc: 0.854 - ETA: 0s - loss: -16.8486 - acc: 0.854 - ETA: 0s - loss: -16.5296 - acc: 0.852 - ETA: 0s - loss: -17.5988 - acc: 0.851 - ETA: 0s - loss: -17.0660 - acc: 0.852 - ETA: 0s - loss: -17.0345 - acc: 0.850 - ETA: 0s - loss: -16.5095 - acc: 0.853 - ETA: 0s - loss: -16.6011 - acc: 0.852 - ETA: 0s - loss: -16.7283 - acc: 0.853 - ETA: 0s - loss: -16.4141 - acc: 0.853 - 1s 73us/step - loss: -16.9552 - acc: 0.8534 - val_loss: -17.8071 - val_acc: 0.8117\n"
     ]
    }
   ],
   "source": [
    "from keras import regularizers\n",
    "import numpy as np\n",
    "from keras.layers import Dropout\n",
    "from keras.callbacks import EarlyStopping\n",
    "\n",
    "np.random.seed(42)\n",
    "\n",
    "model= Sequential()\n",
    "\n",
    "n_input = X_train.shape[1]\n",
    "n_hidden = n_input\n",
    "n_output = 1\n",
    "\n",
    "model.add(Dense(n_hidden, input_dim=n_input, activation='relu'))\n",
    "model.add(Dense(n_output, activation='sigmoid'))\n",
    "\n",
    "model.compile(loss='binary_crossentropy', optimizer='adam', \n",
    "                metrics=['acc'])\n",
    "\n",
    "#early_stop = EarlyStopping(monitor='val_loss', min_delta=0) \n",
    "\n",
    "\n",
    "history = model.fit(X_train, y_train, validation_data=(X_test, y_test),\n",
    "                      epochs=30, batch_size=None)\n",
    "                     # callbacks=[early_stop])"
   ]
  },
  {
   "cell_type": "code",
   "execution_count": 150,
   "metadata": {},
   "outputs": [
    {
     "data": {
      "text/plain": [
       "<matplotlib.legend.Legend at 0x1b30c4a5f60>"
      ]
     },
     "execution_count": 150,
     "metadata": {},
     "output_type": "execute_result"
    },
    {
     "name": "stderr",
     "output_type": "stream",
     "text": [
      "C:\\ProgramData\\Anaconda33\\lib\\site-packages\\matplotlib\\figure.py:2267: UserWarning: This figure includes Axes that are not compatible with tight_layout, so results might be incorrect.\n",
      "  warnings.warn(\"This figure includes Axes that are not compatible \"\n"
     ]
    },
    {
     "data": {
      "image/png": "[encoded data removed]",
      "text/plain": [
       "<Figure size 432x288 with 1 Axes>"
      ]
     },
     "metadata": {
      "image/png": {
       "height": 280,
       "width": 424
      }
     },
     "output_type": "display_data"
    }
   ],
   "source": [
    "train_loss = history.history['loss']\n",
    "test_loss = history.history['val_loss']\n",
    "plt.plot(train_loss, label='Training loss')\n",
    "plt.plot(test_loss, label='Testing loss')\n",
    "plt.legend()"
   ]
  },
  {
   "cell_type": "code",
   "execution_count": null,
   "metadata": {},
   "outputs": [],
   "source": []
  },
  {
   "cell_type": "code",
   "execution_count": null,
   "metadata": {},
   "outputs": [],
   "source": []
  }
 ],
 "metadata": {
  "kernelspec": {
   "display_name": "Python [default]",
   "language": "python",
   "name": "python3"
  },
  "language_info": {
   "codemirror_mode": {
    "name": "ipython",
    "version": 3
   },
   "file_extension": ".py",
   "mimetype": "text/x-python",
   "name": "python",
   "nbconvert_exporter": "python",
   "pygments_lexer": "ipython3",
   "version": "3.6.5"
  }
 },
 "nbformat": 4,
 "nbformat_minor": 2
}
