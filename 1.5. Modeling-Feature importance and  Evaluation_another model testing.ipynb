{
 "cells": [
  {
   "cell_type": "markdown",
   "metadata": {},
   "source": [
    "#  Modeling and feature importance visual\n",
    "\n",
    "## Feature Selection\n",
    "\n",
    "In this section, I will select specific features for model training. The original dataset contains 265 features, most of which are categorical attributes, dominantly the list of drug names that are approved as pain medications that need special AED licensed prescriber.Here,my main target is to predict the overdoses using the  the list of prescriber specialists with NPI information and the FDA approved drug lists. The data set has only total opiod cliams and total claim counts and i took the standard prescription for opiod drugs is 84 days which is 12 weeks. Therefore, an additional feature was created in the data cleaning, pre processing that shows avg_op_supply which i limit to the standard to be 84 and any ones who prescribes the category of medications under the controlled substance act(CSA). The CSA is used for organizing drugs based on the risk of abuse or harm to users in five and my capestone focuses on the approved by [FDA](https://www.fda.gov/drugs/drugsafety/informationbydrugclass/ucm251735.htm) and [DEA](https://www.deadiversion.usdoj.gov/schedules/) to be prescribed by licensed and certified health professional.  These drug lists that are considered controlled substances under the Controlled Substances Act (CSA) are divided into five schedules.  An updated and complete list of the schedules is published annually in [Title 21 Code of Federal Regulations (C.F.R.) §§ 1308.11 through 1308.15](https://www.deadiversion.usdoj.gov/21cfr/cfr/2108cfrt.htm).\n",
    "\n",
    "Therfore, for analysis and visualization  i only took those physicians who have greater opood cliams from the center for medical services dataset and created a feature average opiod supply  by dividing the total cliam by the opiod cliam and reviewed those specialists who prescribe more than the set limit of 12 weeks and that also become a new feature that measures the length of opiod prescription supply more than 84 days. As been visualized in notebook 1.3, significant amount of prescribers are family physicians, followed by internal medicine,nurse practitioners, Physicain Assistant and physical medicine and rehabilitation. When i group based on speciality and the vsuals can be accessed   [here top 20](https://plot.ly/~kiros/112) and the lists are as follows:-\n",
    "  > $'Cardiology', 'Nephrology', 'Endocrinology', 'Neurology'  'General Practice', 'Internal Medicine', 'Urology'$,   > $'Pulmonary Disease', 'Gastroenterology', 'Family Practice', 'Infectious Disease','Psychiatry'$ \n",
    "  >$'Nurse Practitioner', 'Ophthalmology','Allergy/Immunology', 'Otolaryngology', 'Psychiatry & Neurology'$ , $'Rheumatology', 'Dermatology', 'Obstetrics/Gynecology'$"
   ]
  },
  {
   "cell_type": "code",
   "execution_count": 1,
   "metadata": {},
   "outputs": [],
   "source": [
    "# importing necessary libraries and packages\n",
    "import pandas as pd\n",
    "import numpy as np\n",
    "import seaborn as sns\n",
    "import matplotlib.pyplot as plt\n",
    "from sklearn.model_selection import train_test_split\n",
    "np.random.seed(2018)\n",
    "\n",
    "# Configure visual settings:\n",
    "from matplotlib import rcParams\n",
    "rcParams.update({'figure.autolayout':True})\n",
    "plt.style.use('fivethirtyeight')\n",
    "sns.set(font_scale=2)\n",
    "cmap = sns.diverging_palette(220, 10, as_cmap=True) # one of the many color mappings\n",
    "sns.set_style('whitegrid')\n",
    "plt.rcParams['figure.figsize'] = (10.0, 8.0) \n",
    "%config InlineBackend.figure_format = 'retina'\n",
    "%matplotlib inline"
   ]
  },
  {
   "cell_type": "code",
   "execution_count": 2,
   "metadata": {},
   "outputs": [
    {
     "name": "stderr",
     "output_type": "stream",
     "text": [
      "/Users/kirosgebremariam/anaconda3/envs/dsi/lib/python3.6/site-packages/IPython/core/interactiveshell.py:2785: DtypeWarning: Columns (5,6) have mixed types. Specify dtype option on import or set low_memory=False.\n",
      "  interactivity=interactivity, compiler=compiler, result=result)\n"
     ]
    },
    {
     "data": {
      "text/html": [
       "<div>\n",
       "<style scoped>\n",
       "    .dataframe tbody tr th:only-of-type {\n",
       "        vertical-align: middle;\n",
       "    }\n",
       "\n",
       "    .dataframe tbody tr th {\n",
       "        vertical-align: top;\n",
       "    }\n",
       "\n",
       "    .dataframe thead th {\n",
       "        text-align: right;\n",
       "    }\n",
       "</style>\n",
       "<table border=\"1\" class=\"dataframe\">\n",
       "  <thead>\n",
       "    <tr style=\"text-align: right;\">\n",
       "      <th></th>\n",
       "      <th>NPI</th>\n",
       "      <th>Gender</th>\n",
       "      <th>State</th>\n",
       "      <th>Credentials</th>\n",
       "      <th>Specialty</th>\n",
       "      <th>NPPES Provider Last Name</th>\n",
       "      <th>NPPES Provider First Name</th>\n",
       "      <th>NPPES Provider ZIP Code</th>\n",
       "      <th>NPPES Provider State</th>\n",
       "      <th>Totalclaimcount</th>\n",
       "      <th>...</th>\n",
       "      <th>VYTORIN</th>\n",
       "      <th>WARFARIN.SODIUM</th>\n",
       "      <th>XARELTO</th>\n",
       "      <th>ZETIA</th>\n",
       "      <th>ZIPRASIDONE.HCL</th>\n",
       "      <th>ZOLPIDEM.TARTRATE</th>\n",
       "      <th>avg_op_supply</th>\n",
       "      <th>op_longer</th>\n",
       "      <th>Opioid_Prescriber</th>\n",
       "      <th>op_prescriber</th>\n",
       "    </tr>\n",
       "  </thead>\n",
       "  <tbody>\n",
       "    <tr>\n",
       "      <th>0</th>\n",
       "      <td>1003002320</td>\n",
       "      <td>M</td>\n",
       "      <td>MS</td>\n",
       "      <td>D.M.D. P.A.</td>\n",
       "      <td>Dentist</td>\n",
       "      <td>EKLUND</td>\n",
       "      <td>D.</td>\n",
       "      <td>39208.0</td>\n",
       "      <td>MS</td>\n",
       "      <td>129</td>\n",
       "      <td>...</td>\n",
       "      <td>0</td>\n",
       "      <td>0</td>\n",
       "      <td>0</td>\n",
       "      <td>0</td>\n",
       "      <td>0</td>\n",
       "      <td>0</td>\n",
       "      <td>4.5</td>\n",
       "      <td>1.0</td>\n",
       "      <td>1</td>\n",
       "      <td>1.0</td>\n",
       "    </tr>\n",
       "    <tr>\n",
       "      <th>1</th>\n",
       "      <td>1003004771</td>\n",
       "      <td>F</td>\n",
       "      <td>CO</td>\n",
       "      <td>M.D.</td>\n",
       "      <td>Pulmonary Disease</td>\n",
       "      <td>RIGGLE</td>\n",
       "      <td>ERIN</td>\n",
       "      <td>80120.0</td>\n",
       "      <td>CO</td>\n",
       "      <td>537</td>\n",
       "      <td>...</td>\n",
       "      <td>0</td>\n",
       "      <td>0</td>\n",
       "      <td>16</td>\n",
       "      <td>0</td>\n",
       "      <td>0</td>\n",
       "      <td>0</td>\n",
       "      <td>4.5</td>\n",
       "      <td>0.0</td>\n",
       "      <td>0</td>\n",
       "      <td>0.0</td>\n",
       "    </tr>\n",
       "  </tbody>\n",
       "</table>\n",
       "<p>2 rows × 264 columns</p>\n",
       "</div>"
      ],
      "text/plain": [
       "          NPI Gender State  Credentials          Specialty  \\\n",
       "0  1003002320      M    MS  D.M.D. P.A.            Dentist   \n",
       "1  1003004771      F    CO         M.D.  Pulmonary Disease   \n",
       "\n",
       "  NPPES Provider Last Name NPPES Provider First Name  NPPES Provider ZIP Code  \\\n",
       "0                   EKLUND                        D.                  39208.0   \n",
       "1                   RIGGLE                      ERIN                  80120.0   \n",
       "\n",
       "  NPPES Provider State  Totalclaimcount      ...        VYTORIN  \\\n",
       "0                   MS              129      ...              0   \n",
       "1                   CO              537      ...              0   \n",
       "\n",
       "   WARFARIN.SODIUM  XARELTO  ZETIA  ZIPRASIDONE.HCL  ZOLPIDEM.TARTRATE  \\\n",
       "0                0        0      0                0                  0   \n",
       "1                0       16      0                0                  0   \n",
       "\n",
       "   avg_op_supply  op_longer  Opioid_Prescriber  op_prescriber  \n",
       "0            4.5        1.0                  1            1.0  \n",
       "1            4.5        0.0                  0            0.0  \n",
       "\n",
       "[2 rows x 264 columns]"
      ]
     },
     "execution_count": 2,
     "metadata": {},
     "output_type": "execute_result"
    }
   ],
   "source": [
    "## Read Data\n",
    "df=pd.read_csv('./inputs/cleaned_prescriber_info18.csv')\n",
    "df.head()[:2]"
   ]
  },
  {
   "cell_type": "code",
   "execution_count": 3,
   "metadata": {},
   "outputs": [
    {
     "name": "stdout",
     "output_type": "stream",
     "text": [
      "(25000, 264)\n"
     ]
    }
   ],
   "source": [
    "print(df.shape)"
   ]
  },
  {
   "cell_type": "code",
   "execution_count": 4,
   "metadata": {},
   "outputs": [],
   "source": [
    "opioids=pd.read_csv('./inputs/list_opioids.csv')"
   ]
  },
  {
   "cell_type": "code",
   "execution_count": 5,
   "metadata": {},
   "outputs": [],
   "source": [
    "name=opioids['Drug Name']\n",
    "import re\n",
    "new_name=name.apply(lambda x:re.sub(\"\\ |-\",\".\",str(x)))\n",
    "columns=df.columns\n",
    "Abandoned_variables = set(columns).intersection(set(new_name))\n",
    "Kept_variable=[]\n",
    "for each in columns:\n",
    "    if each in Abandoned_variables:\n",
    "        pass\n",
    "    else:\n",
    "        Kept_variable.append(each)"
   ]
  },
  {
   "cell_type": "code",
   "execution_count": 6,
   "metadata": {},
   "outputs": [
    {
     "name": "stdout",
     "output_type": "stream",
     "text": [
      "(25000, 253)\n"
     ]
    }
   ],
   "source": [
    "df=df[Kept_variable]\n",
    "print(df.shape)"
   ]
  },
  {
   "cell_type": "code",
   "execution_count": 7,
   "metadata": {},
   "outputs": [
    {
     "data": {
      "text/html": [
       "<div>\n",
       "<style scoped>\n",
       "    .dataframe tbody tr th:only-of-type {\n",
       "        vertical-align: middle;\n",
       "    }\n",
       "\n",
       "    .dataframe tbody tr th {\n",
       "        vertical-align: top;\n",
       "    }\n",
       "\n",
       "    .dataframe thead th {\n",
       "        text-align: right;\n",
       "    }\n",
       "</style>\n",
       "<table border=\"1\" class=\"dataframe\">\n",
       "  <thead>\n",
       "    <tr style=\"text-align: right;\">\n",
       "      <th></th>\n",
       "      <th>NPI</th>\n",
       "      <th>Gender</th>\n",
       "      <th>State</th>\n",
       "      <th>Credentials</th>\n",
       "      <th>Specialty</th>\n",
       "      <th>NPPES Provider Last Name</th>\n",
       "      <th>NPPES Provider First Name</th>\n",
       "      <th>NPPES Provider ZIP Code</th>\n",
       "      <th>NPPES Provider State</th>\n",
       "      <th>Totalclaimcount</th>\n",
       "      <th>...</th>\n",
       "      <th>VYTORIN</th>\n",
       "      <th>WARFARIN.SODIUM</th>\n",
       "      <th>XARELTO</th>\n",
       "      <th>ZETIA</th>\n",
       "      <th>ZIPRASIDONE.HCL</th>\n",
       "      <th>ZOLPIDEM.TARTRATE</th>\n",
       "      <th>avg_op_supply</th>\n",
       "      <th>op_longer</th>\n",
       "      <th>Opioid_Prescriber</th>\n",
       "      <th>op_prescriber</th>\n",
       "    </tr>\n",
       "  </thead>\n",
       "  <tbody>\n",
       "    <tr>\n",
       "      <th>0</th>\n",
       "      <td>1003002320</td>\n",
       "      <td>M</td>\n",
       "      <td>MS</td>\n",
       "      <td>D.M.D. P.A.</td>\n",
       "      <td>Dentist</td>\n",
       "      <td>EKLUND</td>\n",
       "      <td>D.</td>\n",
       "      <td>39208.0</td>\n",
       "      <td>MS</td>\n",
       "      <td>129</td>\n",
       "      <td>...</td>\n",
       "      <td>0</td>\n",
       "      <td>0</td>\n",
       "      <td>0</td>\n",
       "      <td>0</td>\n",
       "      <td>0</td>\n",
       "      <td>0</td>\n",
       "      <td>4.5</td>\n",
       "      <td>1.0</td>\n",
       "      <td>1</td>\n",
       "      <td>1.0</td>\n",
       "    </tr>\n",
       "    <tr>\n",
       "      <th>1</th>\n",
       "      <td>1003004771</td>\n",
       "      <td>F</td>\n",
       "      <td>CO</td>\n",
       "      <td>M.D.</td>\n",
       "      <td>Pulmonary Disease</td>\n",
       "      <td>RIGGLE</td>\n",
       "      <td>ERIN</td>\n",
       "      <td>80120.0</td>\n",
       "      <td>CO</td>\n",
       "      <td>537</td>\n",
       "      <td>...</td>\n",
       "      <td>0</td>\n",
       "      <td>0</td>\n",
       "      <td>16</td>\n",
       "      <td>0</td>\n",
       "      <td>0</td>\n",
       "      <td>0</td>\n",
       "      <td>4.5</td>\n",
       "      <td>0.0</td>\n",
       "      <td>0</td>\n",
       "      <td>0.0</td>\n",
       "    </tr>\n",
       "  </tbody>\n",
       "</table>\n",
       "<p>2 rows × 253 columns</p>\n",
       "</div>"
      ],
      "text/plain": [
       "          NPI Gender State  Credentials          Specialty  \\\n",
       "0  1003002320      M    MS  D.M.D. P.A.            Dentist   \n",
       "1  1003004771      F    CO         M.D.  Pulmonary Disease   \n",
       "\n",
       "  NPPES Provider Last Name NPPES Provider First Name  NPPES Provider ZIP Code  \\\n",
       "0                   EKLUND                        D.                  39208.0   \n",
       "1                   RIGGLE                      ERIN                  80120.0   \n",
       "\n",
       "  NPPES Provider State  Totalclaimcount      ...        VYTORIN  \\\n",
       "0                   MS              129      ...              0   \n",
       "1                   CO              537      ...              0   \n",
       "\n",
       "   WARFARIN.SODIUM  XARELTO  ZETIA  ZIPRASIDONE.HCL  ZOLPIDEM.TARTRATE  \\\n",
       "0                0        0      0                0                  0   \n",
       "1                0       16      0                0                  0   \n",
       "\n",
       "   avg_op_supply  op_longer  Opioid_Prescriber  op_prescriber  \n",
       "0            4.5        1.0                  1            1.0  \n",
       "1            4.5        0.0                  0            0.0  \n",
       "\n",
       "[2 rows x 253 columns]"
      ]
     },
     "execution_count": 7,
     "metadata": {},
     "output_type": "execute_result"
    }
   ],
   "source": [
    "df.head()[:2]"
   ]
  },
  {
   "cell_type": "code",
   "execution_count": 8,
   "metadata": {},
   "outputs": [],
   "source": [
    "# df['NPPES Provider ZIP Code'] = df['NPPES Provider ZIP Code'].str.replace(',', '')\n",
    "# df['NPPES Provider ZIP Code'] = df['NPPES Provider ZIP Code'].str.replace(' ', '')\n",
    "df['NPPES Provider ZIP Code'] = df['NPPES Provider ZIP Code'].astype(float)"
   ]
  },
  {
   "cell_type": "code",
   "execution_count": 9,
   "metadata": {},
   "outputs": [
    {
     "data": {
      "text/plain": [
       "NPI                                  0\n",
       "Gender                               0\n",
       "State                                0\n",
       "Credentials                         82\n",
       "Specialty                            0\n",
       "NPPES Provider Last Name          2610\n",
       "NPPES Provider First Name         2610\n",
       "NPPES Provider ZIP Code           2610\n",
       "NPPES Provider State                 0\n",
       "Totalclaimcount                      0\n",
       "OpioidClaimCount                     0\n",
       "ACYCLOVIR                            0\n",
       "ADVAIR.DISKUS                        0\n",
       "AGGRENOX                             0\n",
       "ALENDRONATE.SODIUM                   0\n",
       "ALLOPURINOL                          0\n",
       "ALPRAZOLAM                           0\n",
       "AMIODARONE.HCL                       0\n",
       "AMITRIPTYLINE.HCL                    0\n",
       "AMLODIPINE.BESYLATE                  0\n",
       "AMLODIPINE.BESYLATE.BENAZEPRIL       0\n",
       "AMOXICILLIN                          0\n",
       "AMOX.TR.POTASSIUM.CLAVULANATE        0\n",
       "AMPHETAMINE.SALT.COMBO               0\n",
       "ATENOLOL                             0\n",
       "ATORVASTATIN.CALCIUM                 0\n",
       "AVODART                              0\n",
       "AZITHROMYCIN                         0\n",
       "BACLOFEN                             0\n",
       "BD.ULTRA.FINE.PEN.NEEDLE             0\n",
       "                                  ... \n",
       "TERAZOSIN.HCL                        0\n",
       "TIMOLOL.MALEATE                      0\n",
       "TIZANIDINE.HCL                       0\n",
       "TOLTERODINE.TARTRATE.ER              0\n",
       "TOPIRAMATE                           0\n",
       "TOPROL.XL                            0\n",
       "TORSEMIDE                            0\n",
       "TRAVATAN.Z                           0\n",
       "TRAZODONE.HCL                        0\n",
       "TRIAMCINOLONE.ACETONIDE              0\n",
       "TRIAMTERENE.HYDROCHLOROTHIAZID       0\n",
       "VALACYCLOVIR                         0\n",
       "VALSARTAN                            0\n",
       "VALSARTAN.HYDROCHLOROTHIAZIDE        0\n",
       "VENLAFAXINE.HCL                      0\n",
       "VENLAFAXINE.HCL.ER                   0\n",
       "VENTOLIN.HFA                         0\n",
       "VERAPAMIL.ER                         0\n",
       "VESICARE                             0\n",
       "VOLTAREN                             0\n",
       "VYTORIN                              0\n",
       "WARFARIN.SODIUM                      0\n",
       "XARELTO                              0\n",
       "ZETIA                                0\n",
       "ZIPRASIDONE.HCL                      0\n",
       "ZOLPIDEM.TARTRATE                    0\n",
       "avg_op_supply                     2610\n",
       "op_longer                         2610\n",
       "Opioid_Prescriber                    0\n",
       "op_prescriber                     2610\n",
       "Length: 253, dtype: int64"
      ]
     },
     "execution_count": 9,
     "metadata": {},
     "output_type": "execute_result"
    }
   ],
   "source": [
    "df.isnull().sum()"
   ]
  },
  {
   "cell_type": "code",
   "execution_count": 10,
   "metadata": {},
   "outputs": [],
   "source": [
    "df.fillna(0,inplace = True)"
   ]
  },
  {
   "cell_type": "code",
   "execution_count": 11,
   "metadata": {},
   "outputs": [
    {
     "data": {
      "text/plain": [
       "Index(['NPI', 'Gender', 'State', 'Credentials', 'Specialty',\n",
       "       'NPPES Provider Last Name', 'NPPES Provider First Name',\n",
       "       'NPPES Provider ZIP Code', 'NPPES Provider State', 'Totalclaimcount',\n",
       "       ...\n",
       "       'VYTORIN', 'WARFARIN.SODIUM', 'XARELTO', 'ZETIA', 'ZIPRASIDONE.HCL',\n",
       "       'ZOLPIDEM.TARTRATE', 'avg_op_supply', 'op_longer', 'Opioid_Prescriber',\n",
       "       'op_prescriber'],\n",
       "      dtype='object', length=253)"
      ]
     },
     "execution_count": 11,
     "metadata": {},
     "output_type": "execute_result"
    }
   ],
   "source": [
    "df.columns"
   ]
  },
  {
   "cell_type": "code",
   "execution_count": 12,
   "metadata": {},
   "outputs": [],
   "source": [
    "df.drop(['NPPES Provider Last Name', 'NPPES Provider First Name','NPPES Provider ZIP Code',\n",
    "         'NPPES Provider State'], axis =1, inplace = True)"
   ]
  },
  {
   "cell_type": "code",
   "execution_count": 13,
   "metadata": {},
   "outputs": [
    {
     "data": {
      "text/html": [
       "<div>\n",
       "<style scoped>\n",
       "    .dataframe tbody tr th:only-of-type {\n",
       "        vertical-align: middle;\n",
       "    }\n",
       "\n",
       "    .dataframe tbody tr th {\n",
       "        vertical-align: top;\n",
       "    }\n",
       "\n",
       "    .dataframe thead th {\n",
       "        text-align: right;\n",
       "    }\n",
       "</style>\n",
       "<table border=\"1\" class=\"dataframe\">\n",
       "  <thead>\n",
       "    <tr style=\"text-align: right;\">\n",
       "      <th></th>\n",
       "      <th>NPI</th>\n",
       "      <th>Gender</th>\n",
       "      <th>State</th>\n",
       "      <th>Credentials</th>\n",
       "      <th>Specialty</th>\n",
       "      <th>Totalclaimcount</th>\n",
       "      <th>OpioidClaimCount</th>\n",
       "      <th>ACYCLOVIR</th>\n",
       "      <th>ADVAIR.DISKUS</th>\n",
       "      <th>AGGRENOX</th>\n",
       "      <th>...</th>\n",
       "      <th>VYTORIN</th>\n",
       "      <th>WARFARIN.SODIUM</th>\n",
       "      <th>XARELTO</th>\n",
       "      <th>ZETIA</th>\n",
       "      <th>ZIPRASIDONE.HCL</th>\n",
       "      <th>ZOLPIDEM.TARTRATE</th>\n",
       "      <th>avg_op_supply</th>\n",
       "      <th>op_longer</th>\n",
       "      <th>Opioid_Prescriber</th>\n",
       "      <th>op_prescriber</th>\n",
       "    </tr>\n",
       "  </thead>\n",
       "  <tbody>\n",
       "    <tr>\n",
       "      <th>0</th>\n",
       "      <td>1003002320</td>\n",
       "      <td>M</td>\n",
       "      <td>MS</td>\n",
       "      <td>D.M.D. P.A.</td>\n",
       "      <td>Dentist</td>\n",
       "      <td>129</td>\n",
       "      <td>29</td>\n",
       "      <td>0</td>\n",
       "      <td>0</td>\n",
       "      <td>0</td>\n",
       "      <td>...</td>\n",
       "      <td>0</td>\n",
       "      <td>0</td>\n",
       "      <td>0</td>\n",
       "      <td>0</td>\n",
       "      <td>0</td>\n",
       "      <td>0</td>\n",
       "      <td>4.5</td>\n",
       "      <td>1.0</td>\n",
       "      <td>1</td>\n",
       "      <td>1.0</td>\n",
       "    </tr>\n",
       "    <tr>\n",
       "      <th>1</th>\n",
       "      <td>1003004771</td>\n",
       "      <td>F</td>\n",
       "      <td>CO</td>\n",
       "      <td>M.D.</td>\n",
       "      <td>Pulmonary Disease</td>\n",
       "      <td>537</td>\n",
       "      <td>0</td>\n",
       "      <td>0</td>\n",
       "      <td>61</td>\n",
       "      <td>0</td>\n",
       "      <td>...</td>\n",
       "      <td>0</td>\n",
       "      <td>0</td>\n",
       "      <td>16</td>\n",
       "      <td>0</td>\n",
       "      <td>0</td>\n",
       "      <td>0</td>\n",
       "      <td>4.5</td>\n",
       "      <td>0.0</td>\n",
       "      <td>0</td>\n",
       "      <td>0.0</td>\n",
       "    </tr>\n",
       "  </tbody>\n",
       "</table>\n",
       "<p>2 rows × 249 columns</p>\n",
       "</div>"
      ],
      "text/plain": [
       "          NPI Gender State  Credentials          Specialty  Totalclaimcount  \\\n",
       "0  1003002320      M    MS  D.M.D. P.A.            Dentist              129   \n",
       "1  1003004771      F    CO         M.D.  Pulmonary Disease              537   \n",
       "\n",
       "   OpioidClaimCount  ACYCLOVIR  ADVAIR.DISKUS  AGGRENOX      ...        \\\n",
       "0                29          0              0         0      ...         \n",
       "1                 0          0             61         0      ...         \n",
       "\n",
       "   VYTORIN  WARFARIN.SODIUM  XARELTO  ZETIA  ZIPRASIDONE.HCL  \\\n",
       "0        0                0        0      0                0   \n",
       "1        0                0       16      0                0   \n",
       "\n",
       "   ZOLPIDEM.TARTRATE  avg_op_supply  op_longer  Opioid_Prescriber  \\\n",
       "0                  0            4.5        1.0                  1   \n",
       "1                  0            4.5        0.0                  0   \n",
       "\n",
       "   op_prescriber  \n",
       "0            1.0  \n",
       "1            0.0  \n",
       "\n",
       "[2 rows x 249 columns]"
      ]
     },
     "execution_count": 13,
     "metadata": {},
     "output_type": "execute_result"
    }
   ],
   "source": [
    "df.head()[:2]"
   ]
  },
  {
   "cell_type": "code",
   "execution_count": 14,
   "metadata": {},
   "outputs": [
    {
     "name": "stdout",
     "output_type": "stream",
     "text": [
      "(17500, 249)\n",
      "(7500, 249)\n"
     ]
    }
   ],
   "source": [
    "train,test = train_test_split(df,test_size=0.3,random_state=42)\n",
    "print(train.shape)\n",
    "print(test.shape)"
   ]
  },
  {
   "cell_type": "code",
   "execution_count": 15,
   "metadata": {},
   "outputs": [
    {
     "name": "stderr",
     "output_type": "stream",
     "text": [
      "/Users/kirosgebremariam/anaconda3/envs/dsi/lib/python3.6/site-packages/ipykernel/__main__.py:3: SettingWithCopyWarning: \n",
      "A value is trying to be set on a copy of a slice from a DataFrame.\n",
      "Try using .loc[row_indexer,col_indexer] = value instead\n",
      "\n",
      "See the caveats in the documentation: http://pandas.pydata.org/pandas-docs/stable/indexing.html#indexing-view-versus-copy\n",
      "  app.launch_new_instance()\n",
      "/Users/kirosgebremariam/anaconda3/envs/dsi/lib/python3.6/site-packages/ipykernel/__main__.py:4: SettingWithCopyWarning: \n",
      "A value is trying to be set on a copy of a slice from a DataFrame.\n",
      "Try using .loc[row_indexer,col_indexer] = value instead\n",
      "\n",
      "See the caveats in the documentation: http://pandas.pydata.org/pandas-docs/stable/indexing.html#indexing-view-versus-copy\n"
     ]
    }
   ],
   "source": [
    "Categorical_columns=['Gender','State','Credentials','Specialty']\n",
    "for col in Categorical_columns:\n",
    "    train[col]=pd.factorize(train[col], sort=True)[0]\n",
    "    test[col] =pd.factorize(test[col],sort=True)[0]"
   ]
  },
  {
   "cell_type": "code",
   "execution_count": 16,
   "metadata": {},
   "outputs": [],
   "source": [
    "from sklearn.model_selection import train_test_split, cross_val_score, GridSearchCV\n",
    "from sklearn.linear_model import LinearRegression\n",
    "from sklearn.neighbors import KNeighborsRegressor\n",
    "from sklearn.tree import DecisionTreeRegressor\n",
    "from sklearn.ensemble import BaggingRegressor, RandomForestRegressor, AdaBoostRegressor\n",
    "from sklearn.svm import SVR\n",
    "\n",
    "y = train['Opioid_Prescriber']\n",
    "\n",
    "X = train.iloc[:,1:245]\n",
    "X_train, X_test, y_train, y_test = train_test_split(X, y)"
   ]
  },
  {
   "cell_type": "code",
   "execution_count": 17,
   "metadata": {},
   "outputs": [
    {
     "data": {
      "text/html": [
       "<div>\n",
       "<style scoped>\n",
       "    .dataframe tbody tr th:only-of-type {\n",
       "        vertical-align: middle;\n",
       "    }\n",
       "\n",
       "    .dataframe tbody tr th {\n",
       "        vertical-align: top;\n",
       "    }\n",
       "\n",
       "    .dataframe thead th {\n",
       "        text-align: right;\n",
       "    }\n",
       "</style>\n",
       "<table border=\"1\" class=\"dataframe\">\n",
       "  <thead>\n",
       "    <tr style=\"text-align: right;\">\n",
       "      <th></th>\n",
       "      <th>Gender</th>\n",
       "      <th>State</th>\n",
       "      <th>Credentials</th>\n",
       "      <th>Specialty</th>\n",
       "      <th>Totalclaimcount</th>\n",
       "      <th>OpioidClaimCount</th>\n",
       "      <th>ACYCLOVIR</th>\n",
       "      <th>ADVAIR.DISKUS</th>\n",
       "      <th>AGGRENOX</th>\n",
       "      <th>ALENDRONATE.SODIUM</th>\n",
       "      <th>...</th>\n",
       "      <th>VENTOLIN.HFA</th>\n",
       "      <th>VERAPAMIL.ER</th>\n",
       "      <th>VESICARE</th>\n",
       "      <th>VOLTAREN</th>\n",
       "      <th>VYTORIN</th>\n",
       "      <th>WARFARIN.SODIUM</th>\n",
       "      <th>XARELTO</th>\n",
       "      <th>ZETIA</th>\n",
       "      <th>ZIPRASIDONE.HCL</th>\n",
       "      <th>ZOLPIDEM.TARTRATE</th>\n",
       "    </tr>\n",
       "  </thead>\n",
       "  <tbody>\n",
       "    <tr>\n",
       "      <th>4913</th>\n",
       "      <td>0</td>\n",
       "      <td>18</td>\n",
       "      <td>517</td>\n",
       "      <td>48</td>\n",
       "      <td>153</td>\n",
       "      <td>36</td>\n",
       "      <td>0</td>\n",
       "      <td>0</td>\n",
       "      <td>0</td>\n",
       "      <td>0</td>\n",
       "      <td>...</td>\n",
       "      <td>0</td>\n",
       "      <td>0</td>\n",
       "      <td>0</td>\n",
       "      <td>0</td>\n",
       "      <td>0</td>\n",
       "      <td>0</td>\n",
       "      <td>0</td>\n",
       "      <td>0</td>\n",
       "      <td>0</td>\n",
       "      <td>0</td>\n",
       "    </tr>\n",
       "    <tr>\n",
       "      <th>9338</th>\n",
       "      <td>0</td>\n",
       "      <td>6</td>\n",
       "      <td>284</td>\n",
       "      <td>25</td>\n",
       "      <td>229</td>\n",
       "      <td>0</td>\n",
       "      <td>0</td>\n",
       "      <td>0</td>\n",
       "      <td>0</td>\n",
       "      <td>0</td>\n",
       "      <td>...</td>\n",
       "      <td>0</td>\n",
       "      <td>0</td>\n",
       "      <td>0</td>\n",
       "      <td>0</td>\n",
       "      <td>0</td>\n",
       "      <td>0</td>\n",
       "      <td>0</td>\n",
       "      <td>14</td>\n",
       "      <td>0</td>\n",
       "      <td>0</td>\n",
       "    </tr>\n",
       "  </tbody>\n",
       "</table>\n",
       "<p>2 rows × 244 columns</p>\n",
       "</div>"
      ],
      "text/plain": [
       "      Gender  State  Credentials  Specialty  Totalclaimcount  \\\n",
       "4913       0     18          517         48              153   \n",
       "9338       0      6          284         25              229   \n",
       "\n",
       "      OpioidClaimCount  ACYCLOVIR  ADVAIR.DISKUS  AGGRENOX  \\\n",
       "4913                36          0              0         0   \n",
       "9338                 0          0              0         0   \n",
       "\n",
       "      ALENDRONATE.SODIUM        ...          VENTOLIN.HFA  VERAPAMIL.ER  \\\n",
       "4913                   0        ...                     0             0   \n",
       "9338                   0        ...                     0             0   \n",
       "\n",
       "      VESICARE  VOLTAREN  VYTORIN  WARFARIN.SODIUM  XARELTO  ZETIA  \\\n",
       "4913         0         0        0                0        0      0   \n",
       "9338         0         0        0                0        0     14   \n",
       "\n",
       "      ZIPRASIDONE.HCL  ZOLPIDEM.TARTRATE  \n",
       "4913                0                  0  \n",
       "9338                0                  0  \n",
       "\n",
       "[2 rows x 244 columns]"
      ]
     },
     "execution_count": 17,
     "metadata": {},
     "output_type": "execute_result"
    }
   ],
   "source": [
    "train.iloc[:,1:245][:2]"
   ]
  },
  {
   "cell_type": "code",
   "execution_count": 18,
   "metadata": {},
   "outputs": [],
   "source": [
    "X =train.iloc[:,1:245]\n",
    "y = train['Opioid_Prescriber']"
   ]
  },
  {
   "cell_type": "code",
   "execution_count": 19,
   "metadata": {},
   "outputs": [
    {
     "name": "stdout",
     "output_type": "stream",
     "text": [
      "====================================Models,5Fold CV and Test Scores==========================================\n",
      "Linear Regrssion: \n",
      "Five cross-val score means: 0.558833316275933\n",
      "Test score: 0.5913652537140699\n",
      "-----------------------------------------------------------------------------------------------------------------\n",
      "k-nearest:\n",
      "Five cross-val score means: 0.5671962663791562\n",
      "Test score: 0.5269664604001213\n",
      "------------------------------------------------------------------------------------------------------------\n",
      "Decision Tree Regressor: \n",
      "Five cross-val score means: 0.02158379846227975\n",
      "Test score: 0.3185779003291218\n",
      "------------------------------------------------------------------------------------------------------------\n",
      "Bagging Regressor: \n",
      "Five cross-val score means: 0.5475622646936321\n",
      "Test score: 0.6222648709399\n",
      "-----------------------------------------------------------------------------------------------------------\n",
      "Random Forest Regressor: \n",
      "Five cross-val score means: 0.5617690592939093\n",
      "Test score: 0.5484221752906351\n",
      "------------------------------------------------------------------------------------------------------------\n",
      "AdaBoost Regressor:\n",
      "Five cross-val score means: -2.2015968271310635\n",
      "Test score: -1.308676658081274\n",
      "----------------------------------------------------------------------------------------------------------\n",
      "Support Vector Regressor:\n",
      "five cross-val score means: -0.006076829101235237\n",
      "Test score: -0.0060379236471603814\n",
      "----------------------------------------------------------------------------------------------------------------\n"
     ]
    }
   ],
   "source": [
    "print(\"====================================Models,5Fold CV and Test Scores==========================================\")\n",
    "lr_model = LinearRegression()\n",
    "lr_model.fit(X_train, y_train)\n",
    "\n",
    "print(\"Linear Regrssion: \")\n",
    "print(\"Five cross-val score means: {}\".format(cross_val_score(lr_model, X_train, y_train, cv = 5).mean()))\n",
    "print(\"Test score:\", lr_model.score(X_test, y_test))\n",
    "print(\"-----------------------------------------------------------------------------------------------------------------\")\n",
    "\n",
    "knn_reg = KNeighborsRegressor()\n",
    "knn_reg_params = {\n",
    "    'n_neighbors':[1,2,3,4,5,6,7,8,9,10]\n",
    "}\n",
    "gs_knn_reg = GridSearchCV(knn_reg, knn_reg_params)\n",
    "gs_knn_reg.fit(X_train, y_train)\n",
    "\n",
    "print(\"k-nearest:\")\n",
    "print(\"Five cross-val score means: {}\".format(cross_val_score(gs_knn_reg, X_train, y_train, cv = 5).mean()))\n",
    "print(\"Test score:\", gs_knn_reg.score(X_test, y_test))\n",
    "print(\"------------------------------------------------------------------------------------------------------------\")\n",
    "\n",
    "tree_reg = DecisionTreeRegressor()\n",
    "tree_reg_params = {\n",
    "#     'n_neighbors':[1,2,3,4,5,6,7,8,9,10]\n",
    "}\n",
    "gs_tree_reg = GridSearchCV(tree_reg, tree_reg_params)\n",
    "gs_tree_reg.fit(X_train, y_train)\n",
    "\n",
    "print(\"Decision Tree Regressor: \")\n",
    "print(\"Five cross-val score means: {}\".format(cross_val_score(gs_tree_reg, X_train, y_train, cv = 5).mean()))\n",
    "print(\"Test score:\", gs_tree_reg.score(X_test, y_test))\n",
    "print(\"------------------------------------------------------------------------------------------------------------\")\n",
    "\n",
    "bag_reg = BaggingRegressor()\n",
    "bag_reg_params = {}\n",
    "\n",
    "gs_bag_reg = GridSearchCV(bag_reg, bag_reg_params)\n",
    "gs_bag_reg.fit(X_train, y_train)\n",
    "\n",
    "print(\"Bagging Regressor: \")\n",
    "print(\"Five cross-val score means: {}\".format(cross_val_score(gs_bag_reg, X_train, y_train, cv = 5).mean()))\n",
    "print(\"Test score:\", gs_bag_reg.score(X_test, y_test))\n",
    "print(\"-----------------------------------------------------------------------------------------------------------\")\n",
    "\n",
    "rf_reg = RandomForestRegressor()\n",
    "rf_reg_params = {}\n",
    "\n",
    "gs_rf_reg = GridSearchCV(rf_reg, rf_reg_params)\n",
    "gs_rf_reg.fit(X_train, y_train)\n",
    "\n",
    "print(\"Random Forest Regressor: \")\n",
    "print(\"Five cross-val score means: {}\".format(cross_val_score(gs_rf_reg, X_train, y_train, cv = 5).mean()))\n",
    "print(\"Test score:\", gs_rf_reg.score(X_test, y_test))\n",
    "print(\"------------------------------------------------------------------------------------------------------------\")\n",
    "\n",
    "ada_reg = AdaBoostRegressor()\n",
    "ada_reg_params = {}\n",
    "\n",
    "gs_ada_reg = GridSearchCV(ada_reg, ada_reg_params)\n",
    "gs_ada_reg.fit(X_train, y_train)\n",
    "\n",
    "print(\"AdaBoost Regressor:\")\n",
    "print(\"Five cross-val score means: {}\".format(cross_val_score(gs_ada_reg, X_train, y_train, cv = 5).mean()))\n",
    "print(\"Test score:\", gs_ada_reg.score(X_test, y_test))\n",
    "print(\"----------------------------------------------------------------------------------------------------------\")\n",
    "\n",
    "svr = SVR()\n",
    "svr_params = {\n",
    "    'C':[.1,1,.1]\n",
    "}\n",
    "\n",
    "gs_svr = GridSearchCV(svr, svr_params)\n",
    "gs_svr.fit(X_train, y_train)\n",
    "\n",
    "print(\"Support Vector Regressor:\")\n",
    "print(\"five cross-val score means: {}\".format(cross_val_score(gs_svr, X_train, y_train, cv = 5).mean()))\n",
    "print(\"Test score:\", gs_svr.score(X_test, y_test))\n",
    "print(\"----------------------------------------------------------------------------------------------------------------\")"
   ]
  },
  {
   "cell_type": "code",
   "execution_count": 20,
   "metadata": {},
   "outputs": [],
   "source": [
    "from sklearn.pipeline import Pipeline\n",
    "\n",
    "from sklearn.preprocessing import StandardScaler\n",
    "\n",
    "from sklearn.svm import SVR\n",
    "\n",
    "from sklearn.neighbors import KNeighborsRegressor\n",
    "\n",
    "from sklearn.model_selection import cross_val_score\n",
    "\n",
    "from sklearn.ensemble import RandomForestRegressor\n",
    "\n",
    "from sklearn.ensemble import AdaBoostRegressor\n",
    "from sklearn.model_selection import cross_val_score\n",
    "from sklearn import svm\n",
    "from sklearn.datasets import samples_generator\n",
    "from sklearn.feature_selection import SelectKBest\n",
    "from sklearn.feature_selection import f_regression"
   ]
  },
  {
   "cell_type": "code",
   "execution_count": 21,
   "metadata": {},
   "outputs": [
    {
     "name": "stdout",
     "output_type": "stream",
     "text": [
      "=============================================<Root-Mean-Square Error>============================================\n",
      "RMSE scores\n",
      "\n",
      "\n",
      "LR:\n",
      "-----------------------------------------------------------------------------------------------------------\n",
      "Train score: 5.196921296239649\n",
      "Test score: 7.115028225059413\n",
      "\n",
      "\n",
      "KNN:\n",
      "--------------------------------------------------------------------------------------------------------\n",
      "Train score: 6.440482734791147\n",
      "Test score: 7.65517192118225\n",
      "\n",
      "\n",
      "Tree:\n",
      "------------------------------------------------------------------------------------------------------\n",
      "Train score: 0.0\n",
      "Test score: 9.187917531814735\n",
      "\n",
      "\n",
      "Bag:\n",
      "----------------------------------------------------------------------------------------------------------\n",
      "Train score: 3.055023279468626\n",
      "Test score: 6.840733461092772\n",
      "\n",
      "\n",
      "Random Forest:\n",
      "------------------------------------------------------------------------------------------\n",
      "Train score: 3.107677497516663\n",
      "Test score: 7.479546815912617\n",
      "\n",
      "\n",
      "AdaBoost:\n",
      "---------------------------------------------------------------------------------------------\n",
      "Train score: 15.967394170681626\n",
      "Test score: 16.911827385705465\n",
      "\n",
      "\n",
      "SVR:\n",
      "--------------------------------------------------------------------------------------\n",
      "Train score: 11.014892519291795\n",
      "Test score: 11.163905647360451\n"
     ]
    }
   ],
   "source": [
    "print(\"=============================================<Root-Mean-Square Error>============================================\")\n",
    "from sklearn.metrics import mean_squared_error\n",
    "import numpy as np\n",
    "print(\"RMSE scores\")\n",
    "print(\"\\n\")\n",
    "print(\"LR:\\n-------------------------------------------------------------------------------------------------------\")\n",
    "print(\"Train score:\", np.sqrt(mean_squared_error(lr_model.predict(X_train), y_train)))\n",
    "print(\"Test score:\", np.sqrt(mean_squared_error(lr_model.predict(X_test), y_test)))\n",
    "\n",
    "print(\"\\n\")\n",
    "print(\"KNN:\\n-------------------------------------------------------------------------------------------------------\")\n",
    "print(\"Train score:\", np.sqrt(mean_squared_error(gs_knn_reg.predict(X_train), y_train)))\n",
    "print(\"Test score:\", np.sqrt(mean_squared_error(gs_knn_reg.predict(X_test), y_test)))\n",
    "\n",
    "print(\"\\n\")\n",
    "print(\"Tree:\\n-----------------------------------------------------------------------------------------------------\")\n",
    "print(\"Train score:\", np.sqrt(mean_squared_error(gs_tree_reg.predict(X_train), y_train)))\n",
    "print(\"Test score:\", np.sqrt(mean_squared_error(gs_tree_reg.predict(X_test), y_test)))\n",
    "\n",
    "print(\"\\n\")\n",
    "print(\"Bag:\\n------------------------------------------------------------------------------------------------------\")\n",
    "print(\"Train score:\", np.sqrt(mean_squared_error(gs_bag_reg.predict(X_train), y_train)))\n",
    "print(\"Test score:\", np.sqrt(mean_squared_error(gs_bag_reg.predict(X_test), y_test)))\n",
    "\n",
    "print(\"\\n\")\n",
    "print(\"Random Forest:\\n--------------------------------------------------------------------------------------------\")\n",
    "print(\"Train score:\", np.sqrt(mean_squared_error(gs_rf_reg.predict(X_train), y_train)))\n",
    "print(\"Test score:\", np.sqrt(mean_squared_error(gs_rf_reg.predict(X_test), y_test)))\n",
    "\n",
    "print(\"\\n\")\n",
    "print(\"AdaBoost:\\n------------------------------------------------------------------------------------------------\")\n",
    "print(\"Train score:\", np.sqrt(mean_squared_error(gs_ada_reg.predict(X_train), y_train)))\n",
    "print(\"Test score:\", np.sqrt(mean_squared_error(gs_ada_reg.predict(X_test), y_test)))\n",
    "\n",
    "print(\"\\n\")\n",
    "print(\"SVR:\\n---------------------------------------------------------------------------------------------------\")\n",
    "print(\"Train score:\", np.sqrt(mean_squared_error(gs_svr.predict(X_train), y_train)))\n",
    "print(\"Test score:\", np.sqrt(mean_squared_error(gs_svr.predict(X_test), y_test)))"
   ]
  },
  {
   "cell_type": "markdown",
   "metadata": {},
   "source": [
    "According to the models the data was split in to training,validation and test in the ratio of 70:30:1. The models were developed and trained  using the training dataset and then calculated the root mean square error(RMSE) for each of the models pipelined above. Then i tried to compare the models using the RMSE of the validation performance. The model with the lowest RMSE is technically supposed to be chosen as highest performing model. bagging tree was with the lowest RMSE(3.01 on traing and 6.8 on test). The thing here is that to generalize the model its important to  evaluate it using the methods you choose."
   ]
  },
  {
   "cell_type": "code",
   "execution_count": 22,
   "metadata": {},
   "outputs": [
    {
     "data": {
      "text/plain": [
       "Index(['NPI', 'Gender', 'State', 'Credentials', 'Specialty', 'Totalclaimcount',\n",
       "       'OpioidClaimCount', 'ACYCLOVIR', 'ADVAIR.DISKUS', 'AGGRENOX',\n",
       "       ...\n",
       "       'VYTORIN', 'WARFARIN.SODIUM', 'XARELTO', 'ZETIA', 'ZIPRASIDONE.HCL',\n",
       "       'ZOLPIDEM.TARTRATE', 'avg_op_supply', 'op_longer', 'Opioid_Prescriber',\n",
       "       'op_prescriber'],\n",
       "      dtype='object', length=249)"
      ]
     },
     "execution_count": 22,
     "metadata": {},
     "output_type": "execute_result"
    }
   ],
   "source": [
    "df.columns"
   ]
  },
  {
   "cell_type": "markdown",
   "metadata": {},
   "source": [
    "#### 3. Model Building step 2_Rework with tunning"
   ]
  },
  {
   "cell_type": "code",
   "execution_count": 23,
   "metadata": {},
   "outputs": [
    {
     "name": "stdout",
     "output_type": "stream",
     "text": [
      "Ineligible and not Opioid_Prescriber:\t\t 11123 \n",
      "Ineligible and has a Opioid_Prescriber:\t 0 \n",
      "Eligible and noOpioid_Prescriber:\t\t 4 \n",
      "Eligible and has prescribed opiods:\t 13331\n"
     ]
    }
   ],
   "source": [
    "ineligible_noOpioidsPrescriber = (df['Opioid_Prescriber'] == 0) & (df['op_longer'] == 0)\n",
    "ineligible_yesOpioid_Prescriber = (df['Opioid_Prescriber'] == 0) & (df['op_longer'] == 1)\n",
    "eligible_noOpioid_Prescriber = (df['Opioid_Prescriber'] == 1) & (df['op_longer'] == 0)\n",
    "eligible_yesOpioid_Prescriber = (df['Opioid_Prescriber'] == 1) & (df['op_longer'] == 1)\n",
    "print(\n",
    "\"Ineligible and not Opioid_Prescriber:\\t\\t\", df[ineligible_noOpioidsPrescriber].shape[0],\n",
    "\"\\nIneligible and has a Opioid_Prescriber:\\t\", df[ineligible_yesOpioid_Prescriber].shape[0],\n",
    "\"\\nEligible and noOpioid_Prescriber:\\t\\t\", df[eligible_noOpioid_Prescriber].shape[0],\n",
    "\"\\nEligible and has prescribed opiods:\\t\", df[eligible_yesOpioid_Prescriber].shape[0])"
   ]
  },
  {
   "cell_type": "code",
   "execution_count": 24,
   "metadata": {},
   "outputs": [
    {
     "name": "stderr",
     "output_type": "stream",
     "text": [
      "/Users/kirosgebremariam/anaconda3/envs/dsi/lib/python3.6/site-packages/sklearn/cross_validation.py:41: DeprecationWarning: This module was deprecated in version 0.18 in favor of the model_selection module into which all the refactored classes and functions are moved. Also note that the interface of the new CV iterators are different from that of this module. This module will be removed in 0.20.\n",
      "  \"This module will be removed in 0.20.\", DeprecationWarning)\n"
     ]
    }
   ],
   "source": [
    "import re\n",
    "from sklearn import svm\n",
    "from sklearn.pipeline import Pipeline\n",
    "from imblearn.over_sampling import SMOTE\n",
    "from sklearn.preprocessing import StandardScaler\n",
    "from sklearn.linear_model import LogisticRegression\n",
    "from sklearn.linear_model import LinearRegression\n",
    "from sklearn.neighbors import KNeighborsRegressor\n",
    "from sklearn.tree import DecisionTreeRegressor\n",
    "from sklearn.metrics import confusion_matrix as cm\n",
    "from sklearn.ensemble import BaggingRegressor, RandomForestRegressor, AdaBoostRegressor\n",
    "from sklearn.svm import SVR\n",
    "from sklearn.ensemble import RandomForestClassifier, AdaBoostClassifier\n",
    "from sklearn.model_selection import train_test_split,GridSearchCV\n",
    "from sklearn.cross_validation import cross_val_score\n",
    "from sklearn import cross_validation,metrics\n",
    "from sklearn.preprocessing import StandardScaler\n",
    "from matplotlib import rcParams"
   ]
  },
  {
   "cell_type": "code",
   "execution_count": 25,
   "metadata": {},
   "outputs": [
    {
     "data": {
      "text/html": [
       "<div>\n",
       "<style scoped>\n",
       "    .dataframe tbody tr th:only-of-type {\n",
       "        vertical-align: middle;\n",
       "    }\n",
       "\n",
       "    .dataframe tbody tr th {\n",
       "        vertical-align: top;\n",
       "    }\n",
       "\n",
       "    .dataframe thead th {\n",
       "        text-align: right;\n",
       "    }\n",
       "</style>\n",
       "<table border=\"1\" class=\"dataframe\">\n",
       "  <thead>\n",
       "    <tr style=\"text-align: right;\">\n",
       "      <th></th>\n",
       "      <th>NPI</th>\n",
       "      <th>Gender</th>\n",
       "      <th>State</th>\n",
       "      <th>Credentials</th>\n",
       "      <th>Specialty</th>\n",
       "      <th>Totalclaimcount</th>\n",
       "      <th>OpioidClaimCount</th>\n",
       "      <th>ACYCLOVIR</th>\n",
       "      <th>ADVAIR.DISKUS</th>\n",
       "      <th>AGGRENOX</th>\n",
       "      <th>...</th>\n",
       "      <th>VYTORIN</th>\n",
       "      <th>WARFARIN.SODIUM</th>\n",
       "      <th>XARELTO</th>\n",
       "      <th>ZETIA</th>\n",
       "      <th>ZIPRASIDONE.HCL</th>\n",
       "      <th>ZOLPIDEM.TARTRATE</th>\n",
       "      <th>avg_op_supply</th>\n",
       "      <th>op_longer</th>\n",
       "      <th>Opioid_Prescriber</th>\n",
       "      <th>op_prescriber</th>\n",
       "    </tr>\n",
       "  </thead>\n",
       "  <tbody>\n",
       "    <tr>\n",
       "      <th>0</th>\n",
       "      <td>1003002320</td>\n",
       "      <td>M</td>\n",
       "      <td>MS</td>\n",
       "      <td>D.M.D. P.A.</td>\n",
       "      <td>Dentist</td>\n",
       "      <td>129</td>\n",
       "      <td>29</td>\n",
       "      <td>0</td>\n",
       "      <td>0</td>\n",
       "      <td>0</td>\n",
       "      <td>...</td>\n",
       "      <td>0</td>\n",
       "      <td>0</td>\n",
       "      <td>0</td>\n",
       "      <td>0</td>\n",
       "      <td>0</td>\n",
       "      <td>0</td>\n",
       "      <td>4.5</td>\n",
       "      <td>1.0</td>\n",
       "      <td>1</td>\n",
       "      <td>1.0</td>\n",
       "    </tr>\n",
       "    <tr>\n",
       "      <th>1</th>\n",
       "      <td>1003004771</td>\n",
       "      <td>F</td>\n",
       "      <td>CO</td>\n",
       "      <td>M.D.</td>\n",
       "      <td>Pulmonary Disease</td>\n",
       "      <td>537</td>\n",
       "      <td>0</td>\n",
       "      <td>0</td>\n",
       "      <td>61</td>\n",
       "      <td>0</td>\n",
       "      <td>...</td>\n",
       "      <td>0</td>\n",
       "      <td>0</td>\n",
       "      <td>16</td>\n",
       "      <td>0</td>\n",
       "      <td>0</td>\n",
       "      <td>0</td>\n",
       "      <td>4.5</td>\n",
       "      <td>0.0</td>\n",
       "      <td>0</td>\n",
       "      <td>0.0</td>\n",
       "    </tr>\n",
       "  </tbody>\n",
       "</table>\n",
       "<p>2 rows × 249 columns</p>\n",
       "</div>"
      ],
      "text/plain": [
       "          NPI Gender State  Credentials          Specialty  Totalclaimcount  \\\n",
       "0  1003002320      M    MS  D.M.D. P.A.            Dentist              129   \n",
       "1  1003004771      F    CO         M.D.  Pulmonary Disease              537   \n",
       "\n",
       "   OpioidClaimCount  ACYCLOVIR  ADVAIR.DISKUS  AGGRENOX      ...        \\\n",
       "0                29          0              0         0      ...         \n",
       "1                 0          0             61         0      ...         \n",
       "\n",
       "   VYTORIN  WARFARIN.SODIUM  XARELTO  ZETIA  ZIPRASIDONE.HCL  \\\n",
       "0        0                0        0      0                0   \n",
       "1        0                0       16      0                0   \n",
       "\n",
       "   ZOLPIDEM.TARTRATE  avg_op_supply  op_longer  Opioid_Prescriber  \\\n",
       "0                  0            4.5        1.0                  1   \n",
       "1                  0            4.5        0.0                  0   \n",
       "\n",
       "   op_prescriber  \n",
       "0            1.0  \n",
       "1            0.0  \n",
       "\n",
       "[2 rows x 249 columns]"
      ]
     },
     "execution_count": 25,
     "metadata": {},
     "output_type": "execute_result"
    }
   ],
   "source": [
    "df.head()[:2]"
   ]
  },
  {
   "cell_type": "code",
   "execution_count": 26,
   "metadata": {},
   "outputs": [],
   "source": [
    "# df.drop(columns=[''], axis=1, inplace=True)\n",
    "\n",
    "df = pd.get_dummies(df, columns=['Gender'], drop_first=True)"
   ]
  },
  {
   "cell_type": "code",
   "execution_count": 27,
   "metadata": {},
   "outputs": [
    {
     "data": {
      "text/plain": [
       "Index(['NPI', 'State', 'Credentials', 'Specialty', 'Totalclaimcount',\n",
       "       'OpioidClaimCount', 'ACYCLOVIR', 'ADVAIR.DISKUS', 'AGGRENOX',\n",
       "       'ALENDRONATE.SODIUM',\n",
       "       ...\n",
       "       'WARFARIN.SODIUM', 'XARELTO', 'ZETIA', 'ZIPRASIDONE.HCL',\n",
       "       'ZOLPIDEM.TARTRATE', 'avg_op_supply', 'op_longer', 'Opioid_Prescriber',\n",
       "       'op_prescriber', 'Gender_M'],\n",
       "      dtype='object', length=249)"
      ]
     },
     "execution_count": 27,
     "metadata": {},
     "output_type": "execute_result"
    }
   ],
   "source": [
    "df.columns"
   ]
  },
  {
   "cell_type": "code",
   "execution_count": 28,
   "metadata": {},
   "outputs": [
    {
     "data": {
      "text/plain": [
       "(25000, 249)"
      ]
     },
     "execution_count": 28,
     "metadata": {},
     "output_type": "execute_result"
    }
   ],
   "source": [
    "df.shape"
   ]
  },
  {
   "cell_type": "code",
   "execution_count": 29,
   "metadata": {},
   "outputs": [],
   "source": [
    "# Ustandardization and applying all models at once\n",
    "ss  = StandardScaler()\n",
    "\n",
    "logreg = LogisticRegression()\n",
    "rfc = RandomForestClassifier(n_estimators=14, random_state=42)\n",
    "adb = AdaBoostClassifier(n_estimators=100, learning_rate=0.1, random_state=42)"
   ]
  },
  {
   "cell_type": "code",
   "execution_count": 30,
   "metadata": {},
   "outputs": [],
   "source": [
    "# making pipeline for choosing best model\n",
    "pipe_logreg = Pipeline([\n",
    "    ('ss', ss),\n",
    "    ('logreg', logreg)\n",
    "])\n",
    "pipe_rfc = Pipeline([\n",
    "    ('ss', ss),\n",
    "    ('rfc', rfc),\n",
    "])\n",
    "pipe_adb = Pipeline([\n",
    "    ('ss', ss),\n",
    "    ('adb', adb)\n",
    "])"
   ]
  },
  {
   "cell_type": "code",
   "execution_count": 31,
   "metadata": {
    "scrolled": true
   },
   "outputs": [
    {
     "name": "stdout",
     "output_type": "stream",
     "text": [
      "\n",
      "Score Train/Test: Logistic Regression\n",
      "0.8729904761904762\n",
      "0.8464\n",
      "\n",
      "Score Train/Test: Random Forest\n",
      "0.9954285714285714\n",
      "0.8731428571428571\n",
      "\n",
      "Score Train/Test: Adaboost\n",
      "0.44739047619047617\n",
      "0.4342857142857143\n",
      "CPU times: user 2min 47s, sys: 3.5 s, total: 2min 51s\n",
      "Wall time: 2min 45s\n"
     ]
    }
   ],
   "source": [
    "%%time\n",
    "pipes    = [ \n",
    "    pipe_logreg, \n",
    "    pipe_rfc, \n",
    "    pipe_adb,\n",
    "]\n",
    "pipe_idx = {0: 'Logistic Regression', \n",
    "            1: 'Random Forest', \n",
    "            2: 'Adaboost'\n",
    "           }\n",
    "\n",
    "for idx, pipe in enumerate(pipes):\n",
    "    pipe.fit(X_train, y_train)\n",
    "    print('\\nScore Train/Test: %s' % pipe_idx[idx])\n",
    "    print(pipe.score(X_train, y_train))\n",
    "    print(pipe.score(X_test, y_test))\n",
    "# print('Best params: %s' % pipe.best_params_)"
   ]
  },
  {
   "cell_type": "code",
   "execution_count": 32,
   "metadata": {},
   "outputs": [
    {
     "name": "stderr",
     "output_type": "stream",
     "text": [
      "/Users/kirosgebremariam/anaconda3/envs/dsi/lib/python3.6/site-packages/IPython/core/interactiveshell.py:2785: DtypeWarning: Columns (5,6) have mixed types. Specify dtype option on import or set low_memory=False.\n",
      "  interactivity=interactivity, compiler=compiler, result=result)\n"
     ]
    },
    {
     "data": {
      "text/html": [
       "<div>\n",
       "<style scoped>\n",
       "    .dataframe tbody tr th:only-of-type {\n",
       "        vertical-align: middle;\n",
       "    }\n",
       "\n",
       "    .dataframe tbody tr th {\n",
       "        vertical-align: top;\n",
       "    }\n",
       "\n",
       "    .dataframe thead th {\n",
       "        text-align: right;\n",
       "    }\n",
       "</style>\n",
       "<table border=\"1\" class=\"dataframe\">\n",
       "  <thead>\n",
       "    <tr style=\"text-align: right;\">\n",
       "      <th></th>\n",
       "      <th>NPI</th>\n",
       "      <th>Gender</th>\n",
       "      <th>State</th>\n",
       "      <th>Credentials</th>\n",
       "      <th>Specialty</th>\n",
       "      <th>NPPES Provider Last Name</th>\n",
       "      <th>NPPES Provider First Name</th>\n",
       "      <th>NPPES Provider ZIP Code</th>\n",
       "      <th>NPPES Provider State</th>\n",
       "      <th>Totalclaimcount</th>\n",
       "      <th>...</th>\n",
       "      <th>VYTORIN</th>\n",
       "      <th>WARFARIN.SODIUM</th>\n",
       "      <th>XARELTO</th>\n",
       "      <th>ZETIA</th>\n",
       "      <th>ZIPRASIDONE.HCL</th>\n",
       "      <th>ZOLPIDEM.TARTRATE</th>\n",
       "      <th>avg_op_supply</th>\n",
       "      <th>op_longer</th>\n",
       "      <th>Opioid_Prescriber</th>\n",
       "      <th>op_prescriber</th>\n",
       "    </tr>\n",
       "  </thead>\n",
       "  <tbody>\n",
       "    <tr>\n",
       "      <th>0</th>\n",
       "      <td>1003002320</td>\n",
       "      <td>M</td>\n",
       "      <td>MS</td>\n",
       "      <td>D.M.D. P.A.</td>\n",
       "      <td>Dentist</td>\n",
       "      <td>EKLUND</td>\n",
       "      <td>D.</td>\n",
       "      <td>39208.0</td>\n",
       "      <td>MS</td>\n",
       "      <td>129</td>\n",
       "      <td>...</td>\n",
       "      <td>0</td>\n",
       "      <td>0</td>\n",
       "      <td>0</td>\n",
       "      <td>0</td>\n",
       "      <td>0</td>\n",
       "      <td>0</td>\n",
       "      <td>4.5</td>\n",
       "      <td>1.0</td>\n",
       "      <td>1</td>\n",
       "      <td>1.0</td>\n",
       "    </tr>\n",
       "    <tr>\n",
       "      <th>1</th>\n",
       "      <td>1003004771</td>\n",
       "      <td>F</td>\n",
       "      <td>CO</td>\n",
       "      <td>M.D.</td>\n",
       "      <td>Pulmonary Disease</td>\n",
       "      <td>RIGGLE</td>\n",
       "      <td>ERIN</td>\n",
       "      <td>80120.0</td>\n",
       "      <td>CO</td>\n",
       "      <td>537</td>\n",
       "      <td>...</td>\n",
       "      <td>0</td>\n",
       "      <td>0</td>\n",
       "      <td>16</td>\n",
       "      <td>0</td>\n",
       "      <td>0</td>\n",
       "      <td>0</td>\n",
       "      <td>4.5</td>\n",
       "      <td>0.0</td>\n",
       "      <td>0</td>\n",
       "      <td>0.0</td>\n",
       "    </tr>\n",
       "  </tbody>\n",
       "</table>\n",
       "<p>2 rows × 264 columns</p>\n",
       "</div>"
      ],
      "text/plain": [
       "          NPI Gender State  Credentials          Specialty  \\\n",
       "0  1003002320      M    MS  D.M.D. P.A.            Dentist   \n",
       "1  1003004771      F    CO         M.D.  Pulmonary Disease   \n",
       "\n",
       "  NPPES Provider Last Name NPPES Provider First Name  NPPES Provider ZIP Code  \\\n",
       "0                   EKLUND                        D.                  39208.0   \n",
       "1                   RIGGLE                      ERIN                  80120.0   \n",
       "\n",
       "  NPPES Provider State  Totalclaimcount      ...        VYTORIN  \\\n",
       "0                   MS              129      ...              0   \n",
       "1                   CO              537      ...              0   \n",
       "\n",
       "   WARFARIN.SODIUM  XARELTO  ZETIA  ZIPRASIDONE.HCL  ZOLPIDEM.TARTRATE  \\\n",
       "0                0        0      0                0                  0   \n",
       "1                0       16      0                0                  0   \n",
       "\n",
       "   avg_op_supply  op_longer  Opioid_Prescriber  op_prescriber  \n",
       "0            4.5        1.0                  1            1.0  \n",
       "1            4.5        0.0                  0            0.0  \n",
       "\n",
       "[2 rows x 264 columns]"
      ]
     },
     "execution_count": 32,
     "metadata": {},
     "output_type": "execute_result"
    }
   ],
   "source": [
    "## Read Data\n",
    "df=pd.read_csv('./inputs/cleaned_prescriber_info18.csv')\n",
    "df.head()[:2]"
   ]
  },
  {
   "cell_type": "code",
   "execution_count": 33,
   "metadata": {},
   "outputs": [
    {
     "name": "stdout",
     "output_type": "stream",
     "text": [
      "(25000, 264)\n"
     ]
    }
   ],
   "source": [
    "print(df.shape)"
   ]
  },
  {
   "cell_type": "code",
   "execution_count": 34,
   "metadata": {},
   "outputs": [],
   "source": [
    "opioids=pd.read_csv('./inputs/list_opioids.csv')"
   ]
  },
  {
   "cell_type": "code",
   "execution_count": 35,
   "metadata": {},
   "outputs": [],
   "source": [
    "name=opioids['Drug Name']\n",
    "import re\n",
    "new_name=name.apply(lambda x:re.sub(\"\\ |-\",\".\",str(x)))\n",
    "columns=df.columns\n",
    "Abandoned_variables = set(columns).intersection(set(new_name))\n",
    "Kept_variable=[]\n",
    "for each in columns:\n",
    "    if each in Abandoned_variables:\n",
    "        pass\n",
    "    else:\n",
    "        Kept_variable.append(each)"
   ]
  },
  {
   "cell_type": "code",
   "execution_count": 36,
   "metadata": {},
   "outputs": [
    {
     "name": "stdout",
     "output_type": "stream",
     "text": [
      "(25000, 253)\n"
     ]
    }
   ],
   "source": [
    "df=df[Kept_variable]\n",
    "print(df.shape)"
   ]
  },
  {
   "cell_type": "code",
   "execution_count": 37,
   "metadata": {},
   "outputs": [
    {
     "data": {
      "text/html": [
       "<div>\n",
       "<style scoped>\n",
       "    .dataframe tbody tr th:only-of-type {\n",
       "        vertical-align: middle;\n",
       "    }\n",
       "\n",
       "    .dataframe tbody tr th {\n",
       "        vertical-align: top;\n",
       "    }\n",
       "\n",
       "    .dataframe thead th {\n",
       "        text-align: right;\n",
       "    }\n",
       "</style>\n",
       "<table border=\"1\" class=\"dataframe\">\n",
       "  <thead>\n",
       "    <tr style=\"text-align: right;\">\n",
       "      <th></th>\n",
       "      <th>NPI</th>\n",
       "      <th>Gender</th>\n",
       "      <th>State</th>\n",
       "      <th>Credentials</th>\n",
       "      <th>Specialty</th>\n",
       "      <th>NPPES Provider Last Name</th>\n",
       "      <th>NPPES Provider First Name</th>\n",
       "      <th>NPPES Provider ZIP Code</th>\n",
       "      <th>NPPES Provider State</th>\n",
       "      <th>Totalclaimcount</th>\n",
       "      <th>...</th>\n",
       "      <th>VYTORIN</th>\n",
       "      <th>WARFARIN.SODIUM</th>\n",
       "      <th>XARELTO</th>\n",
       "      <th>ZETIA</th>\n",
       "      <th>ZIPRASIDONE.HCL</th>\n",
       "      <th>ZOLPIDEM.TARTRATE</th>\n",
       "      <th>avg_op_supply</th>\n",
       "      <th>op_longer</th>\n",
       "      <th>Opioid_Prescriber</th>\n",
       "      <th>op_prescriber</th>\n",
       "    </tr>\n",
       "  </thead>\n",
       "  <tbody>\n",
       "    <tr>\n",
       "      <th>0</th>\n",
       "      <td>1003002320</td>\n",
       "      <td>M</td>\n",
       "      <td>MS</td>\n",
       "      <td>D.M.D. P.A.</td>\n",
       "      <td>Dentist</td>\n",
       "      <td>EKLUND</td>\n",
       "      <td>D.</td>\n",
       "      <td>39208.0</td>\n",
       "      <td>MS</td>\n",
       "      <td>129</td>\n",
       "      <td>...</td>\n",
       "      <td>0</td>\n",
       "      <td>0</td>\n",
       "      <td>0</td>\n",
       "      <td>0</td>\n",
       "      <td>0</td>\n",
       "      <td>0</td>\n",
       "      <td>4.5</td>\n",
       "      <td>1.0</td>\n",
       "      <td>1</td>\n",
       "      <td>1.0</td>\n",
       "    </tr>\n",
       "    <tr>\n",
       "      <th>1</th>\n",
       "      <td>1003004771</td>\n",
       "      <td>F</td>\n",
       "      <td>CO</td>\n",
       "      <td>M.D.</td>\n",
       "      <td>Pulmonary Disease</td>\n",
       "      <td>RIGGLE</td>\n",
       "      <td>ERIN</td>\n",
       "      <td>80120.0</td>\n",
       "      <td>CO</td>\n",
       "      <td>537</td>\n",
       "      <td>...</td>\n",
       "      <td>0</td>\n",
       "      <td>0</td>\n",
       "      <td>16</td>\n",
       "      <td>0</td>\n",
       "      <td>0</td>\n",
       "      <td>0</td>\n",
       "      <td>4.5</td>\n",
       "      <td>0.0</td>\n",
       "      <td>0</td>\n",
       "      <td>0.0</td>\n",
       "    </tr>\n",
       "  </tbody>\n",
       "</table>\n",
       "<p>2 rows × 253 columns</p>\n",
       "</div>"
      ],
      "text/plain": [
       "          NPI Gender State  Credentials          Specialty  \\\n",
       "0  1003002320      M    MS  D.M.D. P.A.            Dentist   \n",
       "1  1003004771      F    CO         M.D.  Pulmonary Disease   \n",
       "\n",
       "  NPPES Provider Last Name NPPES Provider First Name  NPPES Provider ZIP Code  \\\n",
       "0                   EKLUND                        D.                  39208.0   \n",
       "1                   RIGGLE                      ERIN                  80120.0   \n",
       "\n",
       "  NPPES Provider State  Totalclaimcount      ...        VYTORIN  \\\n",
       "0                   MS              129      ...              0   \n",
       "1                   CO              537      ...              0   \n",
       "\n",
       "   WARFARIN.SODIUM  XARELTO  ZETIA  ZIPRASIDONE.HCL  ZOLPIDEM.TARTRATE  \\\n",
       "0                0        0      0                0                  0   \n",
       "1                0       16      0                0                  0   \n",
       "\n",
       "   avg_op_supply  op_longer  Opioid_Prescriber  op_prescriber  \n",
       "0            4.5        1.0                  1            1.0  \n",
       "1            4.5        0.0                  0            0.0  \n",
       "\n",
       "[2 rows x 253 columns]"
      ]
     },
     "execution_count": 37,
     "metadata": {},
     "output_type": "execute_result"
    }
   ],
   "source": [
    "df.head()[:2]"
   ]
  },
  {
   "cell_type": "code",
   "execution_count": 38,
   "metadata": {},
   "outputs": [],
   "source": [
    "# df['NPPES Provider ZIP Code'] = df['NPPES Provider ZIP Code'].str.replace(',', '')\n",
    "# df['NPPES Provider ZIP Code'] = df['NPPES Provider ZIP Code'].str.replace(' ', '')\n",
    "df['NPPES Provider ZIP Code'] = df['NPPES Provider ZIP Code'].astype(float)"
   ]
  },
  {
   "cell_type": "code",
   "execution_count": 39,
   "metadata": {},
   "outputs": [
    {
     "data": {
      "text/plain": [
       "NPI                                  0\n",
       "Gender                               0\n",
       "State                                0\n",
       "Credentials                         82\n",
       "Specialty                            0\n",
       "NPPES Provider Last Name          2610\n",
       "NPPES Provider First Name         2610\n",
       "NPPES Provider ZIP Code           2610\n",
       "NPPES Provider State                 0\n",
       "Totalclaimcount                      0\n",
       "OpioidClaimCount                     0\n",
       "ACYCLOVIR                            0\n",
       "ADVAIR.DISKUS                        0\n",
       "AGGRENOX                             0\n",
       "ALENDRONATE.SODIUM                   0\n",
       "ALLOPURINOL                          0\n",
       "ALPRAZOLAM                           0\n",
       "AMIODARONE.HCL                       0\n",
       "AMITRIPTYLINE.HCL                    0\n",
       "AMLODIPINE.BESYLATE                  0\n",
       "AMLODIPINE.BESYLATE.BENAZEPRIL       0\n",
       "AMOXICILLIN                          0\n",
       "AMOX.TR.POTASSIUM.CLAVULANATE        0\n",
       "AMPHETAMINE.SALT.COMBO               0\n",
       "ATENOLOL                             0\n",
       "ATORVASTATIN.CALCIUM                 0\n",
       "AVODART                              0\n",
       "AZITHROMYCIN                         0\n",
       "BACLOFEN                             0\n",
       "BD.ULTRA.FINE.PEN.NEEDLE             0\n",
       "                                  ... \n",
       "TERAZOSIN.HCL                        0\n",
       "TIMOLOL.MALEATE                      0\n",
       "TIZANIDINE.HCL                       0\n",
       "TOLTERODINE.TARTRATE.ER              0\n",
       "TOPIRAMATE                           0\n",
       "TOPROL.XL                            0\n",
       "TORSEMIDE                            0\n",
       "TRAVATAN.Z                           0\n",
       "TRAZODONE.HCL                        0\n",
       "TRIAMCINOLONE.ACETONIDE              0\n",
       "TRIAMTERENE.HYDROCHLOROTHIAZID       0\n",
       "VALACYCLOVIR                         0\n",
       "VALSARTAN                            0\n",
       "VALSARTAN.HYDROCHLOROTHIAZIDE        0\n",
       "VENLAFAXINE.HCL                      0\n",
       "VENLAFAXINE.HCL.ER                   0\n",
       "VENTOLIN.HFA                         0\n",
       "VERAPAMIL.ER                         0\n",
       "VESICARE                             0\n",
       "VOLTAREN                             0\n",
       "VYTORIN                              0\n",
       "WARFARIN.SODIUM                      0\n",
       "XARELTO                              0\n",
       "ZETIA                                0\n",
       "ZIPRASIDONE.HCL                      0\n",
       "ZOLPIDEM.TARTRATE                    0\n",
       "avg_op_supply                     2610\n",
       "op_longer                         2610\n",
       "Opioid_Prescriber                    0\n",
       "op_prescriber                     2610\n",
       "Length: 253, dtype: int64"
      ]
     },
     "execution_count": 39,
     "metadata": {},
     "output_type": "execute_result"
    }
   ],
   "source": [
    "df.isnull().sum()"
   ]
  },
  {
   "cell_type": "code",
   "execution_count": 40,
   "metadata": {},
   "outputs": [],
   "source": [
    "df.fillna(0,inplace = True)"
   ]
  },
  {
   "cell_type": "code",
   "execution_count": 41,
   "metadata": {},
   "outputs": [
    {
     "data": {
      "text/plain": [
       "Index(['NPI', 'Gender', 'State', 'Credentials', 'Specialty',\n",
       "       'NPPES Provider Last Name', 'NPPES Provider First Name',\n",
       "       'NPPES Provider ZIP Code', 'NPPES Provider State', 'Totalclaimcount',\n",
       "       ...\n",
       "       'VYTORIN', 'WARFARIN.SODIUM', 'XARELTO', 'ZETIA', 'ZIPRASIDONE.HCL',\n",
       "       'ZOLPIDEM.TARTRATE', 'avg_op_supply', 'op_longer', 'Opioid_Prescriber',\n",
       "       'op_prescriber'],\n",
       "      dtype='object', length=253)"
      ]
     },
     "execution_count": 41,
     "metadata": {},
     "output_type": "execute_result"
    }
   ],
   "source": [
    "df.columns"
   ]
  },
  {
   "cell_type": "code",
   "execution_count": 42,
   "metadata": {},
   "outputs": [],
   "source": [
    "df.drop(['NPPES Provider Last Name', 'NPPES Provider First Name','NPPES Provider ZIP Code',\n",
    "         'NPPES Provider State'], axis =1, inplace = True)"
   ]
  },
  {
   "cell_type": "code",
   "execution_count": 43,
   "metadata": {},
   "outputs": [
    {
     "data": {
      "text/html": [
       "<div>\n",
       "<style scoped>\n",
       "    .dataframe tbody tr th:only-of-type {\n",
       "        vertical-align: middle;\n",
       "    }\n",
       "\n",
       "    .dataframe tbody tr th {\n",
       "        vertical-align: top;\n",
       "    }\n",
       "\n",
       "    .dataframe thead th {\n",
       "        text-align: right;\n",
       "    }\n",
       "</style>\n",
       "<table border=\"1\" class=\"dataframe\">\n",
       "  <thead>\n",
       "    <tr style=\"text-align: right;\">\n",
       "      <th></th>\n",
       "      <th>NPI</th>\n",
       "      <th>Gender</th>\n",
       "      <th>State</th>\n",
       "      <th>Credentials</th>\n",
       "      <th>Specialty</th>\n",
       "      <th>Totalclaimcount</th>\n",
       "      <th>OpioidClaimCount</th>\n",
       "      <th>ACYCLOVIR</th>\n",
       "      <th>ADVAIR.DISKUS</th>\n",
       "      <th>AGGRENOX</th>\n",
       "      <th>...</th>\n",
       "      <th>VYTORIN</th>\n",
       "      <th>WARFARIN.SODIUM</th>\n",
       "      <th>XARELTO</th>\n",
       "      <th>ZETIA</th>\n",
       "      <th>ZIPRASIDONE.HCL</th>\n",
       "      <th>ZOLPIDEM.TARTRATE</th>\n",
       "      <th>avg_op_supply</th>\n",
       "      <th>op_longer</th>\n",
       "      <th>Opioid_Prescriber</th>\n",
       "      <th>op_prescriber</th>\n",
       "    </tr>\n",
       "  </thead>\n",
       "  <tbody>\n",
       "    <tr>\n",
       "      <th>0</th>\n",
       "      <td>1003002320</td>\n",
       "      <td>M</td>\n",
       "      <td>MS</td>\n",
       "      <td>D.M.D. P.A.</td>\n",
       "      <td>Dentist</td>\n",
       "      <td>129</td>\n",
       "      <td>29</td>\n",
       "      <td>0</td>\n",
       "      <td>0</td>\n",
       "      <td>0</td>\n",
       "      <td>...</td>\n",
       "      <td>0</td>\n",
       "      <td>0</td>\n",
       "      <td>0</td>\n",
       "      <td>0</td>\n",
       "      <td>0</td>\n",
       "      <td>0</td>\n",
       "      <td>4.5</td>\n",
       "      <td>1.0</td>\n",
       "      <td>1</td>\n",
       "      <td>1.0</td>\n",
       "    </tr>\n",
       "    <tr>\n",
       "      <th>1</th>\n",
       "      <td>1003004771</td>\n",
       "      <td>F</td>\n",
       "      <td>CO</td>\n",
       "      <td>M.D.</td>\n",
       "      <td>Pulmonary Disease</td>\n",
       "      <td>537</td>\n",
       "      <td>0</td>\n",
       "      <td>0</td>\n",
       "      <td>61</td>\n",
       "      <td>0</td>\n",
       "      <td>...</td>\n",
       "      <td>0</td>\n",
       "      <td>0</td>\n",
       "      <td>16</td>\n",
       "      <td>0</td>\n",
       "      <td>0</td>\n",
       "      <td>0</td>\n",
       "      <td>4.5</td>\n",
       "      <td>0.0</td>\n",
       "      <td>0</td>\n",
       "      <td>0.0</td>\n",
       "    </tr>\n",
       "  </tbody>\n",
       "</table>\n",
       "<p>2 rows × 249 columns</p>\n",
       "</div>"
      ],
      "text/plain": [
       "          NPI Gender State  Credentials          Specialty  Totalclaimcount  \\\n",
       "0  1003002320      M    MS  D.M.D. P.A.            Dentist              129   \n",
       "1  1003004771      F    CO         M.D.  Pulmonary Disease              537   \n",
       "\n",
       "   OpioidClaimCount  ACYCLOVIR  ADVAIR.DISKUS  AGGRENOX      ...        \\\n",
       "0                29          0              0         0      ...         \n",
       "1                 0          0             61         0      ...         \n",
       "\n",
       "   VYTORIN  WARFARIN.SODIUM  XARELTO  ZETIA  ZIPRASIDONE.HCL  \\\n",
       "0        0                0        0      0                0   \n",
       "1        0                0       16      0                0   \n",
       "\n",
       "   ZOLPIDEM.TARTRATE  avg_op_supply  op_longer  Opioid_Prescriber  \\\n",
       "0                  0            4.5        1.0                  1   \n",
       "1                  0            4.5        0.0                  0   \n",
       "\n",
       "   op_prescriber  \n",
       "0            1.0  \n",
       "1            0.0  \n",
       "\n",
       "[2 rows x 249 columns]"
      ]
     },
     "execution_count": 43,
     "metadata": {},
     "output_type": "execute_result"
    }
   ],
   "source": [
    "df.head()[:2]"
   ]
  },
  {
   "cell_type": "code",
   "execution_count": 44,
   "metadata": {},
   "outputs": [
    {
     "data": {
      "text/html": [
       "<div>\n",
       "<style scoped>\n",
       "    .dataframe tbody tr th:only-of-type {\n",
       "        vertical-align: middle;\n",
       "    }\n",
       "\n",
       "    .dataframe tbody tr th {\n",
       "        vertical-align: top;\n",
       "    }\n",
       "\n",
       "    .dataframe thead th {\n",
       "        text-align: right;\n",
       "    }\n",
       "</style>\n",
       "<table border=\"1\" class=\"dataframe\">\n",
       "  <thead>\n",
       "    <tr style=\"text-align: right;\">\n",
       "      <th></th>\n",
       "      <th>NPI</th>\n",
       "      <th>Gender</th>\n",
       "      <th>State</th>\n",
       "      <th>Credentials</th>\n",
       "      <th>Specialty</th>\n",
       "      <th>Totalclaimcount</th>\n",
       "      <th>OpioidClaimCount</th>\n",
       "      <th>ACYCLOVIR</th>\n",
       "      <th>ADVAIR.DISKUS</th>\n",
       "      <th>AGGRENOX</th>\n",
       "      <th>...</th>\n",
       "      <th>VYTORIN</th>\n",
       "      <th>WARFARIN.SODIUM</th>\n",
       "      <th>XARELTO</th>\n",
       "      <th>ZETIA</th>\n",
       "      <th>ZIPRASIDONE.HCL</th>\n",
       "      <th>ZOLPIDEM.TARTRATE</th>\n",
       "      <th>avg_op_supply</th>\n",
       "      <th>op_longer</th>\n",
       "      <th>Opioid_Prescriber</th>\n",
       "      <th>op_prescriber</th>\n",
       "    </tr>\n",
       "  </thead>\n",
       "  <tbody>\n",
       "    <tr>\n",
       "      <th>0</th>\n",
       "      <td>1003002320</td>\n",
       "      <td>M</td>\n",
       "      <td>MS</td>\n",
       "      <td>D.M.D. P.A.</td>\n",
       "      <td>Dentist</td>\n",
       "      <td>129</td>\n",
       "      <td>29</td>\n",
       "      <td>0</td>\n",
       "      <td>0</td>\n",
       "      <td>0</td>\n",
       "      <td>...</td>\n",
       "      <td>0</td>\n",
       "      <td>0</td>\n",
       "      <td>0</td>\n",
       "      <td>0</td>\n",
       "      <td>0</td>\n",
       "      <td>0</td>\n",
       "      <td>4.5</td>\n",
       "      <td>1.0</td>\n",
       "      <td>1</td>\n",
       "      <td>1.0</td>\n",
       "    </tr>\n",
       "    <tr>\n",
       "      <th>1</th>\n",
       "      <td>1003004771</td>\n",
       "      <td>F</td>\n",
       "      <td>CO</td>\n",
       "      <td>M.D.</td>\n",
       "      <td>Pulmonary Disease</td>\n",
       "      <td>537</td>\n",
       "      <td>0</td>\n",
       "      <td>0</td>\n",
       "      <td>61</td>\n",
       "      <td>0</td>\n",
       "      <td>...</td>\n",
       "      <td>0</td>\n",
       "      <td>0</td>\n",
       "      <td>16</td>\n",
       "      <td>0</td>\n",
       "      <td>0</td>\n",
       "      <td>0</td>\n",
       "      <td>4.5</td>\n",
       "      <td>0.0</td>\n",
       "      <td>0</td>\n",
       "      <td>0.0</td>\n",
       "    </tr>\n",
       "  </tbody>\n",
       "</table>\n",
       "<p>2 rows × 249 columns</p>\n",
       "</div>"
      ],
      "text/plain": [
       "          NPI Gender State  Credentials          Specialty  Totalclaimcount  \\\n",
       "0  1003002320      M    MS  D.M.D. P.A.            Dentist              129   \n",
       "1  1003004771      F    CO         M.D.  Pulmonary Disease              537   \n",
       "\n",
       "   OpioidClaimCount  ACYCLOVIR  ADVAIR.DISKUS  AGGRENOX      ...        \\\n",
       "0                29          0              0         0      ...         \n",
       "1                 0          0             61         0      ...         \n",
       "\n",
       "   VYTORIN  WARFARIN.SODIUM  XARELTO  ZETIA  ZIPRASIDONE.HCL  \\\n",
       "0        0                0        0      0                0   \n",
       "1        0                0       16      0                0   \n",
       "\n",
       "   ZOLPIDEM.TARTRATE  avg_op_supply  op_longer  Opioid_Prescriber  \\\n",
       "0                  0            4.5        1.0                  1   \n",
       "1                  0            4.5        0.0                  0   \n",
       "\n",
       "   op_prescriber  \n",
       "0            1.0  \n",
       "1            0.0  \n",
       "\n",
       "[2 rows x 249 columns]"
      ]
     },
     "execution_count": 44,
     "metadata": {},
     "output_type": "execute_result"
    }
   ],
   "source": [
    "df.head()[:2]"
   ]
  },
  {
   "cell_type": "code",
   "execution_count": 46,
   "metadata": {},
   "outputs": [
    {
     "name": "stdout",
     "output_type": "stream",
     "text": [
      "(17500, 249)\n",
      "(7500, 249)\n"
     ]
    }
   ],
   "source": [
    "train,test = train_test_split(df,test_size=0.3,random_state=42)\n",
    "print(train.shape)\n",
    "print(test.shape)"
   ]
  },
  {
   "cell_type": "code",
   "execution_count": 47,
   "metadata": {},
   "outputs": [
    {
     "name": "stderr",
     "output_type": "stream",
     "text": [
      "/Users/kirosgebremariam/anaconda3/envs/dsi/lib/python3.6/site-packages/ipykernel/__main__.py:3: SettingWithCopyWarning: \n",
      "A value is trying to be set on a copy of a slice from a DataFrame.\n",
      "Try using .loc[row_indexer,col_indexer] = value instead\n",
      "\n",
      "See the caveats in the documentation: http://pandas.pydata.org/pandas-docs/stable/indexing.html#indexing-view-versus-copy\n",
      "  app.launch_new_instance()\n",
      "/Users/kirosgebremariam/anaconda3/envs/dsi/lib/python3.6/site-packages/ipykernel/__main__.py:4: SettingWithCopyWarning: \n",
      "A value is trying to be set on a copy of a slice from a DataFrame.\n",
      "Try using .loc[row_indexer,col_indexer] = value instead\n",
      "\n",
      "See the caveats in the documentation: http://pandas.pydata.org/pandas-docs/stable/indexing.html#indexing-view-versus-copy\n"
     ]
    }
   ],
   "source": [
    "Categorical_columns=['Gender','State','Credentials','Specialty']\n",
    "for col in Categorical_columns:\n",
    "    train[col]=pd.factorize(train[col], sort=True)[0]\n",
    "    test[col] =pd.factorize(test[col],sort=True)[0]"
   ]
  },
  {
   "cell_type": "code",
   "execution_count": 48,
   "metadata": {},
   "outputs": [],
   "source": [
    "y = train['Opioid_Prescriber']\n",
    "\n",
    "X = train.iloc[:,1:245]\n",
    "X_train, X_test, y_train, y_test = train_test_split(X, y)"
   ]
  },
  {
   "cell_type": "code",
   "execution_count": 49,
   "metadata": {},
   "outputs": [
    {
     "data": {
      "text/html": [
       "<div>\n",
       "<style scoped>\n",
       "    .dataframe tbody tr th:only-of-type {\n",
       "        vertical-align: middle;\n",
       "    }\n",
       "\n",
       "    .dataframe tbody tr th {\n",
       "        vertical-align: top;\n",
       "    }\n",
       "\n",
       "    .dataframe thead th {\n",
       "        text-align: right;\n",
       "    }\n",
       "</style>\n",
       "<table border=\"1\" class=\"dataframe\">\n",
       "  <thead>\n",
       "    <tr style=\"text-align: right;\">\n",
       "      <th></th>\n",
       "      <th>Gender</th>\n",
       "      <th>State</th>\n",
       "      <th>Credentials</th>\n",
       "      <th>Specialty</th>\n",
       "      <th>Totalclaimcount</th>\n",
       "      <th>OpioidClaimCount</th>\n",
       "      <th>ACYCLOVIR</th>\n",
       "      <th>ADVAIR.DISKUS</th>\n",
       "      <th>AGGRENOX</th>\n",
       "      <th>ALENDRONATE.SODIUM</th>\n",
       "      <th>...</th>\n",
       "      <th>VENTOLIN.HFA</th>\n",
       "      <th>VERAPAMIL.ER</th>\n",
       "      <th>VESICARE</th>\n",
       "      <th>VOLTAREN</th>\n",
       "      <th>VYTORIN</th>\n",
       "      <th>WARFARIN.SODIUM</th>\n",
       "      <th>XARELTO</th>\n",
       "      <th>ZETIA</th>\n",
       "      <th>ZIPRASIDONE.HCL</th>\n",
       "      <th>ZOLPIDEM.TARTRATE</th>\n",
       "    </tr>\n",
       "  </thead>\n",
       "  <tbody>\n",
       "    <tr>\n",
       "      <th>4913</th>\n",
       "      <td>0</td>\n",
       "      <td>18</td>\n",
       "      <td>517</td>\n",
       "      <td>48</td>\n",
       "      <td>153</td>\n",
       "      <td>36</td>\n",
       "      <td>0</td>\n",
       "      <td>0</td>\n",
       "      <td>0</td>\n",
       "      <td>0</td>\n",
       "      <td>...</td>\n",
       "      <td>0</td>\n",
       "      <td>0</td>\n",
       "      <td>0</td>\n",
       "      <td>0</td>\n",
       "      <td>0</td>\n",
       "      <td>0</td>\n",
       "      <td>0</td>\n",
       "      <td>0</td>\n",
       "      <td>0</td>\n",
       "      <td>0</td>\n",
       "    </tr>\n",
       "    <tr>\n",
       "      <th>9338</th>\n",
       "      <td>0</td>\n",
       "      <td>6</td>\n",
       "      <td>284</td>\n",
       "      <td>25</td>\n",
       "      <td>229</td>\n",
       "      <td>0</td>\n",
       "      <td>0</td>\n",
       "      <td>0</td>\n",
       "      <td>0</td>\n",
       "      <td>0</td>\n",
       "      <td>...</td>\n",
       "      <td>0</td>\n",
       "      <td>0</td>\n",
       "      <td>0</td>\n",
       "      <td>0</td>\n",
       "      <td>0</td>\n",
       "      <td>0</td>\n",
       "      <td>0</td>\n",
       "      <td>14</td>\n",
       "      <td>0</td>\n",
       "      <td>0</td>\n",
       "    </tr>\n",
       "  </tbody>\n",
       "</table>\n",
       "<p>2 rows × 244 columns</p>\n",
       "</div>"
      ],
      "text/plain": [
       "      Gender  State  Credentials  Specialty  Totalclaimcount  \\\n",
       "4913       0     18          517         48              153   \n",
       "9338       0      6          284         25              229   \n",
       "\n",
       "      OpioidClaimCount  ACYCLOVIR  ADVAIR.DISKUS  AGGRENOX  \\\n",
       "4913                36          0              0         0   \n",
       "9338                 0          0              0         0   \n",
       "\n",
       "      ALENDRONATE.SODIUM        ...          VENTOLIN.HFA  VERAPAMIL.ER  \\\n",
       "4913                   0        ...                     0             0   \n",
       "9338                   0        ...                     0             0   \n",
       "\n",
       "      VESICARE  VOLTAREN  VYTORIN  WARFARIN.SODIUM  XARELTO  ZETIA  \\\n",
       "4913         0         0        0                0        0      0   \n",
       "9338         0         0        0                0        0     14   \n",
       "\n",
       "      ZIPRASIDONE.HCL  ZOLPIDEM.TARTRATE  \n",
       "4913                0                  0  \n",
       "9338                0                  0  \n",
       "\n",
       "[2 rows x 244 columns]"
      ]
     },
     "execution_count": 49,
     "metadata": {},
     "output_type": "execute_result"
    }
   ],
   "source": [
    "train.iloc[:,1:245][:2]"
   ]
  },
  {
   "cell_type": "code",
   "execution_count": 50,
   "metadata": {},
   "outputs": [],
   "source": [
    "X =train.iloc[:,1:245]\n",
    "y = train['Opioid_Prescriber']"
   ]
  },
  {
   "cell_type": "code",
   "execution_count": 51,
   "metadata": {},
   "outputs": [],
   "source": [
    "rfc=RandomForestClassifier()"
   ]
  },
  {
   "cell_type": "code",
   "execution_count": 52,
   "metadata": {},
   "outputs": [],
   "source": [
    "hyperparameters={\n",
    "                'n_estimators': [100],\n",
    "                'max_depth': [30],\n",
    "                'min_samples_split': [30],\n",
    "                'class_weight': ['balanced']\n",
    "}\n",
    "                \n",
    "rfgrid = GridSearchCV(rfc, hyperparameters, cv=3, scoring='roc_auc')"
   ]
  },
  {
   "cell_type": "code",
   "execution_count": 53,
   "metadata": {
    "scrolled": true
   },
   "outputs": [],
   "source": [
    "# df[columns] = df.columns.apply(lambda x: float(x.split()[0].replace(',', '')))\n",
    "# df[columns] = df.columns.apply(lambda x: float(x.split()[0].replace(',', '')))"
   ]
  },
  {
   "cell_type": "code",
   "execution_count": 54,
   "metadata": {},
   "outputs": [],
   "source": [
    "ss = StandardScaler()\n",
    "X_train = ss.fit_transform(X_train)\n",
    "X_test = ss.transform(X_test)"
   ]
  },
  {
   "cell_type": "code",
   "execution_count": 55,
   "metadata": {
    "scrolled": true
   },
   "outputs": [],
   "source": [
    "from sklearn.preprocessing import scale\n",
    "X_test = scale(X_test)"
   ]
  },
  {
   "cell_type": "code",
   "execution_count": 56,
   "metadata": {},
   "outputs": [],
   "source": [
    "df1 = df[df['Opioid_Prescriber'] == 0]\n",
    "df2 = df[df['Opioid_Prescriber'] == 1]"
   ]
  },
  {
   "cell_type": "code",
   "execution_count": 57,
   "metadata": {},
   "outputs": [
    {
     "name": "stdout",
     "output_type": "stream",
     "text": [
      "total 25000\n",
      "Non opiod 11123\n",
      "opiod 13335\n"
     ]
    }
   ],
   "source": [
    "print ('total', len(df))\n",
    "print ('Non opiod', len(df1))\n",
    "print ('opiod', len(df2))"
   ]
  },
  {
   "cell_type": "markdown",
   "metadata": {},
   "source": [
    "##### Repeating the above process after checking the existance of Data gap"
   ]
  },
  {
   "cell_type": "code",
   "execution_count": 58,
   "metadata": {},
   "outputs": [],
   "source": [
    "y = df.Opioid_Prescriber\n",
    "X = df.drop(['Opioid_Prescriber','Speciality' \"op_longer\",'op_prescriber','avg_op_supply'], axis =1)"
   ]
  },
  {
   "cell_type": "code",
   "execution_count": 59,
   "metadata": {},
   "outputs": [
    {
     "data": {
      "text/plain": [
       "(13125, 244)"
      ]
     },
     "execution_count": 59,
     "metadata": {},
     "output_type": "execute_result"
    }
   ],
   "source": [
    "# Verifying shapes are the same \n",
    "\n",
    "X_train.shape"
   ]
  },
  {
   "cell_type": "code",
   "execution_count": 60,
   "metadata": {},
   "outputs": [
    {
     "data": {
      "text/plain": [
       "(13125,)"
      ]
     },
     "execution_count": 60,
     "metadata": {},
     "output_type": "execute_result"
    }
   ],
   "source": [
    "# Verifying shapes are the same \n",
    "\n",
    "\n",
    "y_train.shape"
   ]
  },
  {
   "cell_type": "code",
   "execution_count": 61,
   "metadata": {},
   "outputs": [
    {
     "data": {
      "text/plain": [
       "(4375, 244)"
      ]
     },
     "execution_count": 61,
     "metadata": {},
     "output_type": "execute_result"
    }
   ],
   "source": [
    "# Verifying shapes are the same \n",
    "\n",
    "X_test.shape"
   ]
  },
  {
   "cell_type": "code",
   "execution_count": 62,
   "metadata": {},
   "outputs": [
    {
     "data": {
      "text/plain": [
       "(4375,)"
      ]
     },
     "execution_count": 62,
     "metadata": {},
     "output_type": "execute_result"
    }
   ],
   "source": [
    "# Verifying shapes are the same \n",
    "\n",
    "y_test.shape"
   ]
  },
  {
   "cell_type": "code",
   "execution_count": null,
   "metadata": {},
   "outputs": [],
   "source": [
    "# !pip install tpot"
   ]
  },
  {
   "cell_type": "code",
   "execution_count": 63,
   "metadata": {},
   "outputs": [],
   "source": [
    "\n",
    "# TPOT used to optimize and model pipelines# TPOT u \n",
    "\n",
    "from tpot import TPOTClassifier"
   ]
  },
  {
   "cell_type": "code",
   "execution_count": 64,
   "metadata": {},
   "outputs": [],
   "source": [
    "pipeline_optimizer = TPOTClassifier(generations=2, population_size=20,cv=5, verbosity=2,\n",
    "                      config_dict='TPOT light')"
   ]
  },
  {
   "cell_type": "code",
   "execution_count": 65,
   "metadata": {},
   "outputs": [
    {
     "name": "stderr",
     "output_type": "stream",
     "text": [
      "Optimization Progress:  68%|██████▊   | 41/60 [37:08<25:40, 81.08s/pipeline]   "
     ]
    },
    {
     "name": "stdout",
     "output_type": "stream",
     "text": [
      "Generation 1 - Current best internal CV score: 0.8687291181299026\n"
     ]
    },
    {
     "name": "stderr",
     "output_type": "stream",
     "text": [
      "                                                                             \r"
     ]
    },
    {
     "name": "stdout",
     "output_type": "stream",
     "text": [
      "Generation 2 - Current best internal CV score: 0.8687291181299026\n",
      "\n",
      "Best pipeline: DecisionTreeClassifier(input_matrix, criterion=entropy, max_depth=6, min_samples_leaf=6, min_samples_split=8)\n"
     ]
    },
    {
     "data": {
      "text/plain": [
       "TPOTClassifier(config_dict={'sklearn.naive_bayes.GaussianNB': {}, 'sklearn.naive_bayes.BernoulliNB': {'alpha': [0.001, 0.01, 0.1, 1.0, 10.0, 100.0], 'fit_prior': [True, False]}, 'sklearn.naive_bayes.MultinomialNB': {'alpha': [0.001, 0.01, 0.1, 1.0, 10.0, 100.0], 'fit_prior': [True, False]}, 'sklearn.tree.DecisionT...e_selection.VarianceThreshold': {'threshold': [0.0001, 0.0005, 0.001, 0.005, 0.01, 0.05, 0.1, 0.2]}},\n",
       "        crossover_rate=0.1, cv=5, disable_update_check=False,\n",
       "        early_stop=None, generations=2, max_eval_time_mins=5,\n",
       "        max_time_mins=None, memory=None, mutation_rate=0.9, n_jobs=1,\n",
       "        offspring_size=20, periodic_checkpoint_folder=None,\n",
       "        population_size=20, random_state=None, scoring=None, subsample=1.0,\n",
       "        verbosity=2, warm_start=False)"
      ]
     },
     "execution_count": 65,
     "metadata": {},
     "output_type": "execute_result"
    }
   ],
   "source": [
    "pipeline_optimizer.fit(X_train,y_train)"
   ]
  },
  {
   "cell_type": "code",
   "execution_count": 66,
   "metadata": {},
   "outputs": [
    {
     "name": "stdout",
     "output_type": "stream",
     "text": [
      "0.8637714285714285\n"
     ]
    }
   ],
   "source": [
    "print(pipeline_optimizer.score(X_test, y_test))"
   ]
  },
  {
   "cell_type": "code",
   "execution_count": 67,
   "metadata": {},
   "outputs": [],
   "source": [
    "# Machine learning library/functions\n",
    "from sklearn.tree import DecisionTreeClassifier\n",
    "from sklearn.linear_model import LogisticRegression\n",
    "from sklearn.svm import SVC, LinearSVC\n",
    "from sklearn.ensemble import RandomForestClassifier\n",
    "from sklearn.neighbors import KNeighborsClassifier\n",
    "from sklearn.naive_bayes import GaussianNB\n",
    "np.random.seed(42)"
   ]
  },
  {
   "cell_type": "code",
   "execution_count": 68,
   "metadata": {},
   "outputs": [],
   "source": [
    "dt = DecisionTreeClassifier(criterion='gini', max_depth=9, min_samples_leaf=13, min_samples_split=12)"
   ]
  },
  {
   "cell_type": "code",
   "execution_count": 69,
   "metadata": {},
   "outputs": [
    {
     "data": {
      "text/plain": [
       "DecisionTreeClassifier(class_weight=None, criterion='gini', max_depth=9,\n",
       "            max_features=None, max_leaf_nodes=None,\n",
       "            min_impurity_decrease=0.0, min_impurity_split=None,\n",
       "            min_samples_leaf=13, min_samples_split=12,\n",
       "            min_weight_fraction_leaf=0.0, presort=False, random_state=None,\n",
       "            splitter='best')"
      ]
     },
     "execution_count": 69,
     "metadata": {},
     "output_type": "execute_result"
    }
   ],
   "source": [
    "dt.fit(X_train,y_train)"
   ]
  },
  {
   "cell_type": "code",
   "execution_count": 70,
   "metadata": {},
   "outputs": [
    {
     "data": {
      "text/plain": [
       "0.881447619047619"
      ]
     },
     "execution_count": 70,
     "metadata": {},
     "output_type": "execute_result"
    }
   ],
   "source": [
    "dt.score(X_train,y_train)"
   ]
  },
  {
   "cell_type": "code",
   "execution_count": 71,
   "metadata": {},
   "outputs": [
    {
     "data": {
      "text/plain": [
       "0.8562285714285714"
      ]
     },
     "execution_count": 71,
     "metadata": {},
     "output_type": "execute_result"
    }
   ],
   "source": [
    "dt.score(X_test,y_test)"
   ]
  },
  {
   "cell_type": "code",
   "execution_count": 73,
   "metadata": {},
   "outputs": [
    {
     "name": "stderr",
     "output_type": "stream",
     "text": [
      "/Users/kirosgebremariam/anaconda3/envs/dsi/lib/python3.6/site-packages/sklearn/cross_validation.py:553: Warning: The least populated class in y has only 1 members, which is too few. The minimum number of labels for any class cannot be less than n_folds=5.\n",
      "  % (min_labels, self.n_folds)), Warning)\n"
     ]
    },
    {
     "data": {
      "text/plain": [
       "0.8532112382876257"
      ]
     },
     "execution_count": 73,
     "metadata": {},
     "output_type": "execute_result"
    }
   ],
   "source": [
    "cross_val_score(dt, X_test,y_test,scoring='accuracy',cv=5).mean()"
   ]
  },
  {
   "cell_type": "code",
   "execution_count": 75,
   "metadata": {},
   "outputs": [],
   "source": [
    "rf = RandomForestClassifier(criterion='gini', max_depth=9, min_samples_leaf=13, min_samples_split=12)"
   ]
  },
  {
   "cell_type": "code",
   "execution_count": 76,
   "metadata": {},
   "outputs": [
    {
     "data": {
      "text/plain": [
       "RandomForestClassifier(bootstrap=True, class_weight=None, criterion='gini',\n",
       "            max_depth=9, max_features='auto', max_leaf_nodes=None,\n",
       "            min_impurity_decrease=0.0, min_impurity_split=None,\n",
       "            min_samples_leaf=13, min_samples_split=12,\n",
       "            min_weight_fraction_leaf=0.0, n_estimators=10, n_jobs=1,\n",
       "            oob_score=False, random_state=None, verbose=0,\n",
       "            warm_start=False)"
      ]
     },
     "execution_count": 76,
     "metadata": {},
     "output_type": "execute_result"
    }
   ],
   "source": [
    "rf.fit(X_train,y_train)"
   ]
  },
  {
   "cell_type": "code",
   "execution_count": 77,
   "metadata": {},
   "outputs": [
    {
     "data": {
      "text/plain": [
       "0.8758857142857143"
      ]
     },
     "execution_count": 77,
     "metadata": {},
     "output_type": "execute_result"
    }
   ],
   "source": [
    "rf.score(X_train,y_train)"
   ]
  },
  {
   "cell_type": "code",
   "execution_count": 78,
   "metadata": {},
   "outputs": [
    {
     "data": {
      "text/plain": [
       "0.8669714285714286"
      ]
     },
     "execution_count": 78,
     "metadata": {},
     "output_type": "execute_result"
    }
   ],
   "source": [
    "rf.score(X_test,y_test)"
   ]
  },
  {
   "cell_type": "code",
   "execution_count": null,
   "metadata": {},
   "outputs": [],
   "source": [
    "# pd.DataFrame(important_features).plot(kind = 'barh', grid=True)"
   ]
  },
  {
   "cell_type": "code",
   "execution_count": null,
   "metadata": {},
   "outputs": [],
   "source": [
    "# pd.DataFrame(important_features).plot(kind = 'barh', grid=False)"
   ]
  },
  {
   "cell_type": "code",
   "execution_count": 86,
   "metadata": {},
   "outputs": [],
   "source": [
    "# Importing more packages for model evaluation\n",
    "from sklearn.metrics import roc_auc_score\n",
    "from sklearn.metrics import roc_curve, auc\n",
    "from sklearn.metrics import classification_report\n",
    "from sklearn.metrics import confusion_matrix\n",
    "from sklearn import metrics\n",
    "from sklearn.multiclass import OneVsRestClassifier\n",
    "from sklearn.preprocessing import label_binarize, LabelBinarizer\n",
    "from sklearn.svm import LinearSVC"
   ]
  },
  {
   "cell_type": "code",
   "execution_count": 87,
   "metadata": {},
   "outputs": [],
   "source": [
    "y_pred = rf.predict(X_test)"
   ]
  },
  {
   "cell_type": "code",
   "execution_count": 88,
   "metadata": {},
   "outputs": [],
   "source": [
    "# Function to allow us to obtain aucroc score for a multi-class y variable\n",
    "\n",
    "def multiclass_roc_auc_score(y_test, y_pred, average=\"macro\"):\n",
    "\n",
    "    lb = LabelBinarizer()\n",
    "    lb.fit(y_test)\n",
    "\n",
    "    y_test = lb.transform(y_test)\n",
    "    y_pred = lb.transform(y_pred)\n",
    "\n",
    "    return roc_auc_score(y_test, y_pred, average=average)"
   ]
  },
  {
   "cell_type": "code",
   "execution_count": 89,
   "metadata": {},
   "outputs": [
    {
     "data": {
      "text/plain": [
       "0.5122934678929896"
      ]
     },
     "execution_count": 89,
     "metadata": {},
     "output_type": "execute_result"
    }
   ],
   "source": [
    "multiclass_roc_auc_score(y_test,y_pred)"
   ]
  },
  {
   "cell_type": "code",
   "execution_count": 90,
   "metadata": {},
   "outputs": [
    {
     "data": {
      "text/plain": [
       "0.8669714285714286"
      ]
     },
     "execution_count": 90,
     "metadata": {},
     "output_type": "execute_result"
    }
   ],
   "source": [
    "metrics.precision_score(y_test, y_pred,average='micro')"
   ]
  },
  {
   "cell_type": "code",
   "execution_count": 91,
   "metadata": {},
   "outputs": [
    {
     "name": "stderr",
     "output_type": "stream",
     "text": [
      "/Users/kirosgebremariam/anaconda3/envs/dsi/lib/python3.6/site-packages/sklearn/metrics/classification.py:1137: UndefinedMetricWarning: Recall is ill-defined and being set to 0.0 in labels with no true samples.\n",
      "  'recall', 'true', average, warn_for)\n"
     ]
    },
    {
     "data": {
      "text/plain": [
       "0.028210924936126643"
      ]
     },
     "execution_count": 91,
     "metadata": {},
     "output_type": "execute_result"
    }
   ],
   "source": [
    "metrics.recall_score(y_test, y_pred, average='macro')"
   ]
  },
  {
   "cell_type": "code",
   "execution_count": 92,
   "metadata": {},
   "outputs": [],
   "source": [
    "# Function to produce confusion matrix, precision, recall and f1-score# Functio \n",
    "\n",
    "def classifications(y_test, y_pred):\n",
    "    print('Mean accuracy score %s ' % metrics.accuracy_score(y_test, y_pred), '\\n')\n",
    "    print(confusion_matrix(y_test, y_pred), '\\n')\n",
    "    print(classification_report(y_test, y_pred))"
   ]
  },
  {
   "cell_type": "code",
   "execution_count": 93,
   "metadata": {},
   "outputs": [
    {
     "name": "stdout",
     "output_type": "stream",
     "text": [
      "Mean accuracy score 0.8669714285714286  \n",
      "\n",
      "[[1727  184    0 ...    0    0    0]\n",
      " [ 299 2066    0 ...    0    0    0]\n",
      " [   6    0    0 ...    0    0    0]\n",
      " ...\n",
      " [   1    0    0 ...    0    0    0]\n",
      " [   0    1    0 ...    0    0    0]\n",
      " [   1    0    0 ...    0    0    0]] \n",
      "\n",
      "             precision    recall  f1-score   support\n",
      "\n",
      "          0       0.82      0.90      0.86      1911\n",
      "          1       0.92      0.87      0.89      2365\n",
      "         11       0.00      0.00      0.00         6\n",
      "         12       0.00      0.00      0.00         4\n",
      "         13       0.00      0.00      0.00         4\n",
      "         14       0.00      0.00      0.00         1\n",
      "         15       0.00      0.00      0.00         4\n",
      "         16       0.00      0.00      0.00         2\n",
      "         17       0.00      0.00      0.00         1\n",
      "         18       0.00      0.00      0.00         3\n",
      "         19       0.00      0.00      0.00         1\n",
      "         20       0.00      0.00      0.00         4\n",
      "         21       0.00      0.00      0.00         1\n",
      "         22       0.00      0.00      0.00         2\n",
      "         23       0.00      0.00      0.00         1\n",
      "         24       0.00      0.00      0.00         3\n",
      "         25       0.00      0.00      0.00         2\n",
      "         26       0.00      0.00      0.00         1\n",
      "         27       0.00      0.00      0.00         2\n",
      "         28       0.00      0.00      0.00         3\n",
      "         29       0.00      0.00      0.00         2\n",
      "         31       0.00      0.00      0.00         1\n",
      "         32       0.00      0.00      0.00         1\n",
      "         33       0.00      0.00      0.00         3\n",
      "         35       0.00      0.00      0.00         1\n",
      "         36       0.00      0.00      0.00         1\n",
      "         37       0.00      0.00      0.00         1\n",
      "         41       0.00      0.00      0.00         1\n",
      "         43       0.00      0.00      0.00         1\n",
      "         44       0.00      0.00      0.00         1\n",
      "         46       0.00      0.00      0.00         2\n",
      "         47       0.00      0.00      0.00         1\n",
      "         48       0.00      0.00      0.00         4\n",
      "         49       0.00      0.00      0.00         1\n",
      "         52       0.00      0.00      0.00         2\n",
      "         55       0.00      0.00      0.00         3\n",
      "         57       0.00      0.00      0.00         1\n",
      "         58       0.00      0.00      0.00         1\n",
      "         60       0.00      0.00      0.00         1\n",
      "         61       0.00      0.00      0.00         2\n",
      "         63       0.00      0.00      0.00         1\n",
      "         64       0.00      0.00      0.00         1\n",
      "         67       0.00      0.00      0.00         1\n",
      "         73       0.00      0.00      0.00         1\n",
      "         75       0.00      0.00      0.00         1\n",
      "         80       0.00      0.00      0.00         2\n",
      "         83       0.00      0.00      0.00         0\n",
      "         85       0.00      0.00      0.00         1\n",
      "         86       0.00      0.00      0.00         1\n",
      "         99       0.00      0.00      0.00         1\n",
      "        100       0.00      0.00      0.00         1\n",
      "        102       0.00      0.00      0.00         1\n",
      "        107       0.00      0.00      0.00         1\n",
      "        109       0.00      0.00      0.00         1\n",
      "        114       0.00      0.00      0.00         1\n",
      "        119       0.00      0.00      0.00         1\n",
      "        124       0.00      0.00      0.00         1\n",
      "        136       0.00      0.00      0.00         1\n",
      "        151       0.00      0.00      0.00         1\n",
      "        199       0.00      0.00      0.00         1\n",
      "        200       0.00      0.00      0.00         1\n",
      "        222       0.00      0.00      0.00         1\n",
      "        272       0.00      0.00      0.00         1\n",
      "\n",
      "avg / total       0.85      0.87      0.86      4375\n",
      "\n"
     ]
    },
    {
     "name": "stderr",
     "output_type": "stream",
     "text": [
      "/Users/kirosgebremariam/anaconda3/envs/dsi/lib/python3.6/site-packages/sklearn/metrics/classification.py:1135: UndefinedMetricWarning: Precision and F-score are ill-defined and being set to 0.0 in labels with no predicted samples.\n",
      "  'precision', 'predicted', average, warn_for)\n",
      "/Users/kirosgebremariam/anaconda3/envs/dsi/lib/python3.6/site-packages/sklearn/metrics/classification.py:1137: UndefinedMetricWarning: Recall and F-score are ill-defined and being set to 0.0 in labels with no true samples.\n",
      "  'recall', 'true', average, warn_for)\n"
     ]
    }
   ],
   "source": [
    "classifications(y_test,y_pred)"
   ]
  },
  {
   "cell_type": "code",
   "execution_count": 94,
   "metadata": {},
   "outputs": [],
   "source": [
    "cm = confusion_matrix(y_test,y_pred)"
   ]
  },
  {
   "cell_type": "code",
   "execution_count": 95,
   "metadata": {},
   "outputs": [
    {
     "data": {
      "text/plain": [
       "array([[1727,  184,    0, ...,    0,    0,    0],\n",
       "       [ 299, 2066,    0, ...,    0,    0,    0],\n",
       "       [   6,    0,    0, ...,    0,    0,    0],\n",
       "       ...,\n",
       "       [   1,    0,    0, ...,    0,    0,    0],\n",
       "       [   0,    1,    0, ...,    0,    0,    0],\n",
       "       [   1,    0,    0, ...,    0,    0,    0]])"
      ]
     },
     "execution_count": 95,
     "metadata": {},
     "output_type": "execute_result"
    }
   ],
   "source": [
    "cm"
   ]
  },
  {
   "cell_type": "code",
   "execution_count": 96,
   "metadata": {},
   "outputs": [],
   "source": [
    "def roc(probas, true, step=0.01):\n",
    "    \"\"\"\n",
    "    probas should be a numpy array of predict_probas\n",
    "    true is a pandas series of true labels\n",
    "    step is the step size for checking thresholds\n",
    "    \"\"\"\n",
    "    \n",
    "    probas = probas[:,1]  # The output of predict_proba() is an array of the probabilities for every class, but we only want the probabilities for class 1\n",
    "    true = true.values    # We need to convert the class labels from a Pandas Series to a numpy array. We do this using the .values attribute\n",
    "    assert(len(probas) == len(true)) # We're making sure that our probabilities vector is the same length as our true class labesl vector\n",
    "    \n",
    "    TPRs = [] # Setting up empty list of True Positive Rate\n",
    "    FPRs = [] # Setting up empty list of False Positive Rate\n",
    "    \n",
    "    for i in np.arange(0.0,1.0,step): # np.arange allows us to use step sizes that are decimals\n",
    "        preds_class = probas > i # Numpy arrays have a feature called 'broadcasting.' Check the documentation: https://docs.scipy.org/doc/numpy-1.13.0/user/basics.broadcasting.html to see what this does.\n",
    "        TP = 0 \n",
    "        FP = 0\n",
    "        TN = 0\n",
    "        FN = 0\n",
    "        for index in range(len(preds_class)): # We're comparing each prediction with each true value here\n",
    "\n",
    "            if preds_class[index] == 1 and true[index] == 1:\n",
    "                TP += 1\n",
    "            elif preds_class[index] == 1 and true[index] == 0:\n",
    "                FP += 1\n",
    "            elif preds_class[index] == 0 and true[index] == 0:\n",
    "                TN += 1 \n",
    "            elif preds_class[index] == 0 and true[index] == 1:\n",
    "                FN += 1\n",
    "                \n",
    "        TPR = TP/(TP + FN) # Calculating TPR and FPR and appending to our lists\n",
    "        FPR = FP/(FP + TN)\n",
    "        \n",
    "        TPRs.append(TPR)\n",
    "        FPRs.append(FPR)\n",
    "         \n",
    "    plt.rcParams['font.size'] = 14\n",
    "    plt.plot(FPRs, TPRs, color=\"r\")\n",
    "    plt.plot([0,1],[0,1], color='y', lw=2, linestyle='--')\n",
    "    plt.xlim([0.0, 1.0])\n",
    "    plt.ylim([0.0, 1.0])\n",
    "    plt.title('Receiver Operating Characteristic')\n",
    "    plt.xlabel(\"False Positive Rate (1 - Specificity)\")\n",
    "    plt.ylabel(\"True Positive Rate (Sensitivity)\")\n",
    "    plt.show();"
   ]
  },
  {
   "cell_type": "markdown",
   "metadata": {},
   "source": [
    "##### Decision Tree Classifier"
   ]
  },
  {
   "cell_type": "code",
   "execution_count": 97,
   "metadata": {},
   "outputs": [
    {
     "name": "stderr",
     "output_type": "stream",
     "text": [
      "/Users/kirosgebremariam/anaconda3/envs/dsi/lib/python3.6/site-packages/sklearn/model_selection/_split.py:605: Warning: The least populated class in y has only 1 members, which is too few. The minimum number of members in any class cannot be less than n_splits=3.\n",
      "  % (min_groups, self.n_splits)), Warning)\n"
     ]
    },
    {
     "name": "stdout",
     "output_type": "stream",
     "text": [
      "0.7468190476190476\n",
      "{'max_depth': 7, 'max_features': 5}\n"
     ]
    }
   ],
   "source": [
    "from sklearn.tree import DecisionTreeClassifier\n",
    "from sklearn.model_selection import GridSearchCV\n",
    "dt_c = DecisionTreeClassifier(max_depth=5)\n",
    "\n",
    "\n",
    "params = {\n",
    "    'max_depth':[1, 2, 3, 5, 7, 10],\n",
    "    'max_features':[1, 2,  3, 5]\n",
    "}\n",
    "\n",
    "\n",
    "gs_dt = GridSearchCV(estimator = dt_c, param_grid = params)\n",
    "gs_dt.fit(X_train, y_train)\n",
    "print(gs_dt.best_score_)\n",
    "print(gs_dt.best_params_)"
   ]
  },
  {
   "cell_type": "code",
   "execution_count": 98,
   "metadata": {},
   "outputs": [
    {
     "data": {
      "text/plain": [
       "dict_keys(['class_weight', 'criterion', 'max_depth', 'max_features', 'max_leaf_nodes', 'min_impurity_decrease', 'min_impurity_split', 'min_samples_leaf', 'min_samples_split', 'min_weight_fraction_leaf', 'presort', 'random_state', 'splitter'])"
      ]
     },
     "execution_count": 98,
     "metadata": {},
     "output_type": "execute_result"
    }
   ],
   "source": [
    "dt_c.get_params().keys()"
   ]
  },
  {
   "cell_type": "markdown",
   "metadata": {},
   "source": [
    "##### Random Forest Classifier"
   ]
  },
  {
   "cell_type": "code",
   "execution_count": 100,
   "metadata": {},
   "outputs": [
    {
     "name": "stderr",
     "output_type": "stream",
     "text": [
      "/Users/kirosgebremariam/anaconda3/envs/dsi/lib/python3.6/site-packages/sklearn/model_selection/_split.py:605: Warning: The least populated class in y has only 1 members, which is too few. The minimum number of members in any class cannot be less than n_splits=3.\n",
      "  % (min_groups, self.n_splits)), Warning)\n"
     ]
    },
    {
     "name": "stdout",
     "output_type": "stream",
     "text": [
      "0.856\n",
      "{'max_depth': 4, 'max_features': 7, 'n_estimators': 7}\n"
     ]
    }
   ],
   "source": [
    "from sklearn.model_selection import GridSearchCV\n",
    "from sklearn.ensemble import RandomForestClassifier\n",
    "rf_c = RandomForestClassifier()\n",
    "\n",
    "\n",
    "params = {\n",
    "    'n_estimators': [3,5,7,10], \n",
    "    'max_features': [3, 5, 7],\n",
    "    'max_depth': [1, 2 , 3, 4]\n",
    "}\n",
    "gs_rf = GridSearchCV(rf_c, param_grid=params)\n",
    "gs_rf.fit(X_train, y_train)\n",
    "print(gs_rf.best_score_)\n",
    "print(gs_rf.best_params_)"
   ]
  },
  {
   "cell_type": "code",
   "execution_count": 101,
   "metadata": {},
   "outputs": [
    {
     "data": {
      "text/plain": [
       "dict_keys(['bootstrap', 'class_weight', 'criterion', 'max_depth', 'max_features', 'max_leaf_nodes', 'min_impurity_decrease', 'min_impurity_split', 'min_samples_leaf', 'min_samples_split', 'min_weight_fraction_leaf', 'n_estimators', 'n_jobs', 'oob_score', 'random_state', 'verbose', 'warm_start'])"
      ]
     },
     "execution_count": 101,
     "metadata": {},
     "output_type": "execute_result"
    }
   ],
   "source": [
    "rf_c.get_params().keys()"
   ]
  },
  {
   "cell_type": "markdown",
   "metadata": {},
   "source": [
    "##### AdaBoost"
   ]
  },
  {
   "cell_type": "code",
   "execution_count": 102,
   "metadata": {},
   "outputs": [
    {
     "name": "stderr",
     "output_type": "stream",
     "text": [
      "/Users/kirosgebremariam/anaconda3/envs/dsi/lib/python3.6/site-packages/sklearn/model_selection/_split.py:605: Warning: The least populated class in y has only 1 members, which is too few. The minimum number of members in any class cannot be less than n_splits=3.\n",
      "  % (min_groups, self.n_splits)), Warning)\n"
     ]
    },
    {
     "name": "stdout",
     "output_type": "stream",
     "text": [
      "0.8552380952380952\n",
      "{'n_estimators': 6}\n"
     ]
    }
   ],
   "source": [
    "from sklearn.ensemble import AdaBoostClassifier\n",
    "ada_r = AdaBoostClassifier()\n",
    "\n",
    "params = {\n",
    "    'n_estimators':range(1,7)\n",
    "}\n",
    "gs_ada = GridSearchCV(ada_r, param_grid = params)\n",
    "gs_ada.fit(X_train, y_train)\n",
    "print(gs_ada.best_score_)\n",
    "print(gs_ada.best_params_)"
   ]
  },
  {
   "cell_type": "code",
   "execution_count": 103,
   "metadata": {},
   "outputs": [
    {
     "data": {
      "text/plain": [
       "dict_keys(['cv', 'error_score', 'estimator__algorithm', 'estimator__base_estimator', 'estimator__learning_rate', 'estimator__n_estimators', 'estimator__random_state', 'estimator', 'fit_params', 'iid', 'n_jobs', 'param_grid', 'pre_dispatch', 'refit', 'return_train_score', 'scoring', 'verbose'])"
      ]
     },
     "execution_count": 103,
     "metadata": {},
     "output_type": "execute_result"
    }
   ],
   "source": [
    "gs_ada.get_params().keys()"
   ]
  },
  {
   "cell_type": "code",
   "execution_count": null,
   "metadata": {},
   "outputs": [],
   "source": [
    "!pip install keras"
   ]
  },
  {
   "cell_type": "code",
   "execution_count": null,
   "metadata": {},
   "outputs": [],
   "source": [
    "!pip install tensorflow"
   ]
  },
  {
   "cell_type": "markdown",
   "metadata": {},
   "source": [
    "##### CNN"
   ]
  },
  {
   "cell_type": "code",
   "execution_count": 105,
   "metadata": {},
   "outputs": [
    {
     "name": "stderr",
     "output_type": "stream",
     "text": [
      "Using TensorFlow backend.\n"
     ]
    }
   ],
   "source": [
    "from keras.models import Sequential\n",
    "from keras.layers import Dense\n",
    "import matplotlib.pyplot as plt"
   ]
  },
  {
   "cell_type": "code",
   "execution_count": 106,
   "metadata": {},
   "outputs": [],
   "source": [
    "ss = StandardScaler()\n",
    "X_train = ss.fit_transform(X_train)\n",
    "X_test = ss.transform(X_test)"
   ]
  },
  {
   "cell_type": "code",
   "execution_count": 107,
   "metadata": {},
   "outputs": [
    {
     "name": "stdout",
     "output_type": "stream",
     "text": [
      "Train on 13125 samples, validate on 4375 samples\n",
      "Epoch 1/30\n",
      "13125/13125 [==============================] - 3s 265us/step - loss: -15.2629 - acc: 0.6035 - val_loss: -16.4067 - val_acc: 0.6473\n",
      "Epoch 2/30\n",
      "13125/13125 [==============================] - 2s 128us/step - loss: -16.8374 - acc: 0.6841 - val_loss: -16.3960 - val_acc: 0.6891\n",
      "Epoch 3/30\n",
      "13125/13125 [==============================] - 2s 126us/step - loss: -16.9694 - acc: 0.7259 - val_loss: -16.5211 - val_acc: 0.7161\n",
      "Epoch 4/30\n",
      "13125/13125 [==============================] - 2s 134us/step - loss: -17.0732 - acc: 0.7387 - val_loss: -16.3704 - val_acc: 0.7488\n",
      "Epoch 5/30\n",
      "13125/13125 [==============================] - 2s 125us/step - loss: -17.1284 - acc: 0.7622 - val_loss: -16.3839 - val_acc: 0.7166\n",
      "Epoch 6/30\n",
      "13125/13125 [==============================] - 2s 135us/step - loss: -17.0763 - acc: 0.7595 - val_loss: -16.3532 - val_acc: 0.7456\n",
      "Epoch 7/30\n",
      "13125/13125 [==============================] - 2s 128us/step - loss: -17.1946 - acc: 0.7783 - val_loss: -16.3263 - val_acc: 0.7422\n",
      "Epoch 8/30\n",
      "13125/13125 [==============================] - 2s 125us/step - loss: -17.2266 - acc: 0.7855 - val_loss: -16.5380 - val_acc: 0.7447\n",
      "Epoch 9/30\n",
      "13125/13125 [==============================] - 2s 131us/step - loss: -17.2201 - acc: 0.7879 - val_loss: -16.6140 - val_acc: 0.7781\n",
      "Epoch 10/30\n",
      "13125/13125 [==============================] - 2s 126us/step - loss: -17.2562 - acc: 0.7928 - val_loss: -16.6024 - val_acc: 0.7838\n",
      "Epoch 11/30\n",
      "13125/13125 [==============================] - 2s 120us/step - loss: -17.2869 - acc: 0.8029 - val_loss: -16.6419 - val_acc: 0.7831\n",
      "Epoch 12/30\n",
      "13125/13125 [==============================] - 2s 139us/step - loss: -17.3267 - acc: 0.8093 - val_loss: -16.3867 - val_acc: 0.7806\n",
      "Epoch 13/30\n",
      "13125/13125 [==============================] - 2s 129us/step - loss: -17.3513 - acc: 0.8146 - val_loss: -16.2958 - val_acc: 0.7815\n",
      "Epoch 14/30\n",
      "13125/13125 [==============================] - 2s 129us/step - loss: -17.3727 - acc: 0.8146 - val_loss: -16.5178 - val_acc: 0.7584\n",
      "Epoch 15/30\n",
      "13125/13125 [==============================] - 2s 127us/step - loss: -17.3562 - acc: 0.8153 - val_loss: -16.3608 - val_acc: 0.6686\n",
      "Epoch 16/30\n",
      "13125/13125 [==============================] - 2s 135us/step - loss: -17.3671 - acc: 0.8167 - val_loss: -16.4392 - val_acc: 0.7927\n",
      "Epoch 17/30\n",
      "13125/13125 [==============================] - 2s 139us/step - loss: -17.2646 - acc: 0.8082 - val_loss: -16.4812 - val_acc: 0.7915\n",
      "Epoch 18/30\n",
      "13125/13125 [==============================] - 2s 122us/step - loss: -17.3674 - acc: 0.8210 - val_loss: -16.4678 - val_acc: 0.7893\n",
      "Epoch 19/30\n",
      "13125/13125 [==============================] - 2s 128us/step - loss: -17.4255 - acc: 0.8325 - val_loss: -16.4440 - val_acc: 0.8041\n",
      "Epoch 20/30\n",
      "13125/13125 [==============================] - 2s 129us/step - loss: -17.4305 - acc: 0.8314 - val_loss: -16.3358 - val_acc: 0.7849\n",
      "Epoch 21/30\n",
      "13125/13125 [==============================] - 2s 123us/step - loss: -17.4488 - acc: 0.8375 - val_loss: -16.2968 - val_acc: 0.8080\n",
      "Epoch 22/30\n",
      "13125/13125 [==============================] - 2s 142us/step - loss: -17.4535 - acc: 0.8398 - val_loss: -16.2952 - val_acc: 0.8046\n",
      "Epoch 23/30\n",
      "13125/13125 [==============================] - 2s 128us/step - loss: -17.4587 - acc: 0.8427 - val_loss: -16.2697 - val_acc: 0.7920\n",
      "Epoch 24/30\n",
      "13125/13125 [==============================] - 2s 142us/step - loss: -17.4748 - acc: 0.8434 - val_loss: -16.2885 - val_acc: 0.8103\n",
      "Epoch 25/30\n",
      "13125/13125 [==============================] - 2s 121us/step - loss: -17.4788 - acc: 0.8451 - val_loss: -16.3645 - val_acc: 0.7970\n",
      "Epoch 26/30\n",
      "13125/13125 [==============================] - 2s 123us/step - loss: -17.4662 - acc: 0.8465 - val_loss: -16.2410 - val_acc: 0.8080\n",
      "Epoch 27/30\n",
      "13125/13125 [==============================] - 2s 127us/step - loss: -17.4973 - acc: 0.8474 - val_loss: -16.2572 - val_acc: 0.8103\n",
      "Epoch 28/30\n",
      "13125/13125 [==============================] - 2s 136us/step - loss: -17.4675 - acc: 0.8488 - val_loss: -16.3507 - val_acc: 0.7440\n",
      "Epoch 29/30\n",
      "13125/13125 [==============================] - 2s 142us/step - loss: -17.5026 - acc: 0.8526 - val_loss: -16.2108 - val_acc: 0.8053\n",
      "Epoch 30/30\n",
      "13125/13125 [==============================] - 2s 123us/step - loss: -17.5276 - acc: 0.8587 - val_loss: -16.1949 - val_acc: 0.8053\n"
     ]
    }
   ],
   "source": [
    "from keras import regularizers\n",
    "import numpy as np\n",
    "from keras.layers import Dropout\n",
    "from keras.callbacks import EarlyStopping\n",
    "\n",
    "np.random.seed(42)\n",
    "\n",
    "model= Sequential()\n",
    "\n",
    "n_input = X_train.shape[1]\n",
    "n_hidden = n_input\n",
    "n_output = 1\n",
    "#first layer defines the shape of the input which is X_train.shape\n",
    "#then add a layer defining the activation function - relu is on of the most popular\n",
    "#activation - should the neuron be fired or not - relu is quite efficient.\n",
    "model.add(Dense(n_hidden, input_dim=n_input, activation='relu'))\n",
    "#A dense layer is a classic fully connected neural network layer : each input node is connected to each output node.\n",
    "#for this layer use the sigmoid activation function\n",
    "#sigmoid will assign a propability to each tag (total output = 1) since its a classification problem\n",
    "model.add(Dense(n_output, activation='sigmoid'))\n",
    "\n",
    "#now we compile the model\n",
    "#optimizer is the function used to search for the right weights\n",
    "#here we are using Adaptive Moment Estimation (Adam) that also uses adaptive learning rates\n",
    "#The loss function, also called the objective function is the evaluation of the model used by the optimizer \n",
    "# to navigate the weight space; only accuracy is supported at the moment for metrics.\n",
    "model.compile(loss='binary_crossentropy', optimizer='adam', \n",
    "                metrics=['acc'])\n",
    "\n",
    "#early_stop = EarlyStopping(monitor='val_loss', min_delta=0) \n",
    "\n",
    "\n",
    "history = model.fit(X_train, y_train, validation_data=(X_test, y_test),\n",
    "                      epochs=30, batch_size=None)\n",
    "                     # callbacks=[early_stop])"
   ]
  },
  {
   "cell_type": "code",
   "execution_count": 108,
   "metadata": {},
   "outputs": [
    {
     "data": {
      "text/plain": [
       "<matplotlib.legend.Legend at 0x1a447060b8>"
      ]
     },
     "execution_count": 108,
     "metadata": {},
     "output_type": "execute_result"
    },
    {
     "name": "stderr",
     "output_type": "stream",
     "text": [
      "/Users/kirosgebremariam/anaconda3/envs/dsi/lib/python3.6/site-packages/matplotlib/figure.py:2267: UserWarning: This figure includes Axes that are not compatible with tight_layout, so results might be incorrect.\n",
      "  warnings.warn(\"This figure includes Axes that are not compatible \"\n"
     ]
    },
    {
     "data": {
      "image/png": "[encoded data removed]",
      "text/plain": [
       "<Figure size 432x288 with 1 Axes>"
      ]
     },
     "metadata": {
      "image/png": {
       "height": 280,
       "width": 424
      }
     },
     "output_type": "display_data"
    }
   ],
   "source": [
    "train_loss = history.history['loss']\n",
    "test_loss = history.history['val_loss']\n",
    "plt.plot(train_loss, label='Training loss')\n",
    "plt.plot(test_loss, label='Testing loss')\n",
    "plt.legend()"
   ]
  },
  {
   "cell_type": "code",
   "execution_count": 109,
   "metadata": {},
   "outputs": [
    {
     "data": {
      "text/plain": [
       "(0.8586666666666667, 0.8052571428162711)"
      ]
     },
     "execution_count": 109,
     "metadata": {},
     "output_type": "execute_result"
    }
   ],
   "source": [
    "history.history['acc'][-1], history.history['val_acc'][-1]"
   ]
  }
 ],
 "metadata": {
  "kernelspec": {
   "display_name": "Python [conda env:dsi]",
   "language": "python",
   "name": "conda-env-dsi-py"
  },
  "language_info": {
   "codemirror_mode": {
    "name": "ipython",
    "version": 3
   },
   "file_extension": ".py",
   "mimetype": "text/x-python",
   "name": "python",
   "nbconvert_exporter": "python",
   "pygments_lexer": "ipython3",
   "version": "3.6.5"
  }
 },
 "nbformat": 4,
 "nbformat_minor": 2
}
