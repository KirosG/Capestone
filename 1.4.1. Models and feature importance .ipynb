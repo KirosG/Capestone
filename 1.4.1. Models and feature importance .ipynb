{
 "cells": [
  {
   "cell_type": "markdown",
   "metadata": {},
   "source": [
    "## Predicting Prescriber induced Overdose"
   ]
  },
  {
   "cell_type": "markdown",
   "metadata": {},
   "source": [
    "**Author : Kiros Gebremariam**\n",
    "\n",
    "Cohorts of the Data Science Immersive, General Assembly @ Washington DC campus"
   ]
  },
  {
   "cell_type": "markdown",
   "metadata": {},
   "source": [
    "#  Modeling and feature importance visual\n",
    "\n",
    "## Feature Selection\n",
    "\n",
    "In this section, I will select specific features for model training. The original dataset contains 265 features, most of which are categorical attributes, dominantly the list of drug names that are approved as pain medications that need special AED licensed prescriber.Here,my main target is to predict the overdoses using the  the list of prescriber specialists with NPI information and the FDA approved drug lists. The data set has only total opiod cliams and total claim counts and i took the standard prescription for opiod drugs is 84 days which is 12 weeks. Therefore, an additional feature was created in the data cleaning, pre processing that shows avg_op_supply which i limit to the standard to be 84 and any ones who prescribes the category of medications under the controlled substance act(CSA). The CSA is used for organizing drugs based on the risk of abuse or harm to users in five and my capestone focuses on the approved by [FDA](https://www.fda.gov/drugs/drugsafety/informationbydrugclass/ucm251735.htm) and [DEA](https://www.deadiversion.usdoj.gov/schedules/) to be prescribed by licensed and certified health professional.  These drug lists that are considered controlled substances under the Controlled Substances Act (CSA) are divided into five schedules.  An updated and complete list of the schedules is published annually in [Title 21 Code of Federal Regulations (C.F.R.) §§ 1308.11 through 1308.15](https://www.deadiversion.usdoj.gov/21cfr/cfr/2108cfrt.htm).\n",
    "\n",
    "Therfore, for analysis and visualization  i only took those physicians who have greater opood cliams from the center for medical services dataset and created a feature average opiod supply  by dividing the total cliam by the opiod cliam and reviewed those specialists who prescribe more than the set limit of 12 weeks and that also become a new feature that measures the length of opiod prescription supply more than 84 days. As been visualized in notebook 1.3, significant amount of prescribers are family physicians, followed by internal medicine,nurse practitioners, Physicain Assistant and physical medicine and rehabilitation. When i group based on speciality and the vsuals can be accessed   [here top 20](https://plot.ly/~kiros/112) and the lists are as follows:-\n",
    "  > $'Cardiology', 'Nephrology', 'Endocrinology', 'Neurology'  'General Practice', 'Internal Medicine', 'Urology'$,   > $'Pulmonary Disease', 'Gastroenterology', 'Family Practice', 'Infectious Disease','Psychiatry'$ \n",
    "  >$'Nurse Practitioner', 'Ophthalmology','Allergy/Immunology', 'Otolaryngology', 'Psychiatry & Neurology'$ , $'Rheumatology', 'Dermatology', 'Obstetrics/Gynecology'$"
   ]
  },
  {
   "cell_type": "code",
   "execution_count": 1,
   "metadata": {},
   "outputs": [
    {
     "name": "stderr",
     "output_type": "stream",
     "text": [
      "Using TensorFlow backend.\n"
     ]
    }
   ],
   "source": [
    "# Import Libraries \n",
    "\n",
    "import pandas as pd\n",
    "import numpy as np\n",
    "import seaborn as sns\n",
    "import matplotlib.pyplot as plt\n",
    "import re\n",
    "\n",
    "#Importing Machine learning libraries\n",
    "from sklearn.ensemble import BaggingClassifier, RandomForestClassifier,ExtraTreesClassifier, BaggingRegressor, RandomForestRegressor,  AdaBoostClassifier, AdaBoostRegressor\n",
    "from sklearn.pipeline import Pipeline, FeatureUnion\n",
    "from sklearn.tree import DecisionTreeClassifier, DecisionTreeRegressor\n",
    "from sklearn.preprocessing import StandardScaler\n",
    "from sklearn.neighbors import KNeighborsRegressor, KNeighborsClassifier\n",
    "from sklearn.model_selection import train_test_split, GridSearchCV, cross_val_score,StratifiedKFold\n",
    "from sklearn.linear_model import LogisticRegression, LinearRegression\n",
    "# importing NN and Keras library\n",
    "from keras.models import Sequential\n",
    "from keras.layers import Dense\n",
    "from sklearn import preprocessing\n",
    "from keras.callbacks import EarlyStopping\n",
    "from sklearn.preprocessing import LabelEncoder\n",
    "from keras.wrappers.scikit_learn import KerasClassifier\n",
    "from sklearn import metrics\n",
    "from sklearn import svm\n",
    "np.random.seed(2018)\n",
    "# Configure visual settings:\n",
    "plt.style.use('fivethirtyeight')\n",
    "sns.set(font_scale=2)\n",
    "cmap = sns.diverging_palette(220, 10, as_cmap=True) # one of the many color mappings\n",
    "sns.set_style('whitegrid')\n",
    "plt.rcParams['figure.figsize'] = (10.0, 8.0) \n",
    "%config InlineBackend.figure_format = 'retina'\n",
    "%matplotlib inline"
   ]
  },
  {
   "cell_type": "code",
   "execution_count": 2,
   "metadata": {},
   "outputs": [],
   "source": [
    "prescriber_df = pd.read_csv('./inputs/prescribers_clean832.csv')"
   ]
  },
  {
   "cell_type": "code",
   "execution_count": 3,
   "metadata": {},
   "outputs": [
    {
     "data": {
      "text/plain": [
       "(24237, 355)"
      ]
     },
     "execution_count": 3,
     "metadata": {},
     "output_type": "execute_result"
    }
   ],
   "source": [
    "prescriber_df.shape"
   ]
  },
  {
   "cell_type": "code",
   "execution_count": 4,
   "metadata": {
    "scrolled": true
   },
   "outputs": [
    {
     "data": {
      "text/html": [
       "<div>\n",
       "<style scoped>\n",
       "    .dataframe tbody tr th:only-of-type {\n",
       "        vertical-align: middle;\n",
       "    }\n",
       "\n",
       "    .dataframe tbody tr th {\n",
       "        vertical-align: top;\n",
       "    }\n",
       "\n",
       "    .dataframe thead th {\n",
       "        text-align: right;\n",
       "    }\n",
       "</style>\n",
       "<table border=\"1\" class=\"dataframe\">\n",
       "  <thead>\n",
       "    <tr style=\"text-align: right;\">\n",
       "      <th></th>\n",
       "      <th>Unnamed: 0</th>\n",
       "      <th>ABILIFY</th>\n",
       "      <th>ACETAMINOPHEN.CODEINE</th>\n",
       "      <th>ACYCLOVIR</th>\n",
       "      <th>ADVAIR.DISKUS</th>\n",
       "      <th>AGGRENOX</th>\n",
       "      <th>ALENDRONATE.SODIUM</th>\n",
       "      <th>ALLOPURINOL</th>\n",
       "      <th>ALPRAZOLAM</th>\n",
       "      <th>AMIODARONE.HCL</th>\n",
       "      <th>...</th>\n",
       "      <th>State_TX</th>\n",
       "      <th>State_UT</th>\n",
       "      <th>State_VA</th>\n",
       "      <th>State_VI</th>\n",
       "      <th>State_VT</th>\n",
       "      <th>State_WA</th>\n",
       "      <th>State_WI</th>\n",
       "      <th>State_WV</th>\n",
       "      <th>State_WY</th>\n",
       "      <th>State_ZZ</th>\n",
       "    </tr>\n",
       "  </thead>\n",
       "  <tbody>\n",
       "    <tr>\n",
       "      <th>0</th>\n",
       "      <td>0</td>\n",
       "      <td>0</td>\n",
       "      <td>0</td>\n",
       "      <td>0</td>\n",
       "      <td>0</td>\n",
       "      <td>0</td>\n",
       "      <td>0</td>\n",
       "      <td>0</td>\n",
       "      <td>0</td>\n",
       "      <td>0</td>\n",
       "      <td>...</td>\n",
       "      <td>1</td>\n",
       "      <td>0</td>\n",
       "      <td>0</td>\n",
       "      <td>0</td>\n",
       "      <td>0</td>\n",
       "      <td>0</td>\n",
       "      <td>0</td>\n",
       "      <td>0</td>\n",
       "      <td>0</td>\n",
       "      <td>0</td>\n",
       "    </tr>\n",
       "    <tr>\n",
       "      <th>1</th>\n",
       "      <td>1</td>\n",
       "      <td>0</td>\n",
       "      <td>0</td>\n",
       "      <td>0</td>\n",
       "      <td>0</td>\n",
       "      <td>0</td>\n",
       "      <td>0</td>\n",
       "      <td>0</td>\n",
       "      <td>134</td>\n",
       "      <td>0</td>\n",
       "      <td>...</td>\n",
       "      <td>0</td>\n",
       "      <td>0</td>\n",
       "      <td>0</td>\n",
       "      <td>0</td>\n",
       "      <td>0</td>\n",
       "      <td>0</td>\n",
       "      <td>0</td>\n",
       "      <td>0</td>\n",
       "      <td>0</td>\n",
       "      <td>0</td>\n",
       "    </tr>\n",
       "    <tr>\n",
       "      <th>2</th>\n",
       "      <td>2</td>\n",
       "      <td>0</td>\n",
       "      <td>0</td>\n",
       "      <td>0</td>\n",
       "      <td>0</td>\n",
       "      <td>0</td>\n",
       "      <td>0</td>\n",
       "      <td>0</td>\n",
       "      <td>0</td>\n",
       "      <td>0</td>\n",
       "      <td>...</td>\n",
       "      <td>0</td>\n",
       "      <td>0</td>\n",
       "      <td>0</td>\n",
       "      <td>0</td>\n",
       "      <td>0</td>\n",
       "      <td>0</td>\n",
       "      <td>0</td>\n",
       "      <td>0</td>\n",
       "      <td>0</td>\n",
       "      <td>0</td>\n",
       "    </tr>\n",
       "    <tr>\n",
       "      <th>3</th>\n",
       "      <td>3</td>\n",
       "      <td>0</td>\n",
       "      <td>43</td>\n",
       "      <td>0</td>\n",
       "      <td>0</td>\n",
       "      <td>0</td>\n",
       "      <td>21</td>\n",
       "      <td>0</td>\n",
       "      <td>0</td>\n",
       "      <td>0</td>\n",
       "      <td>...</td>\n",
       "      <td>0</td>\n",
       "      <td>0</td>\n",
       "      <td>0</td>\n",
       "      <td>0</td>\n",
       "      <td>0</td>\n",
       "      <td>0</td>\n",
       "      <td>0</td>\n",
       "      <td>0</td>\n",
       "      <td>0</td>\n",
       "      <td>0</td>\n",
       "    </tr>\n",
       "    <tr>\n",
       "      <th>4</th>\n",
       "      <td>4</td>\n",
       "      <td>0</td>\n",
       "      <td>0</td>\n",
       "      <td>0</td>\n",
       "      <td>0</td>\n",
       "      <td>0</td>\n",
       "      <td>0</td>\n",
       "      <td>0</td>\n",
       "      <td>0</td>\n",
       "      <td>0</td>\n",
       "      <td>...</td>\n",
       "      <td>0</td>\n",
       "      <td>0</td>\n",
       "      <td>0</td>\n",
       "      <td>0</td>\n",
       "      <td>0</td>\n",
       "      <td>0</td>\n",
       "      <td>0</td>\n",
       "      <td>0</td>\n",
       "      <td>0</td>\n",
       "      <td>0</td>\n",
       "    </tr>\n",
       "  </tbody>\n",
       "</table>\n",
       "<p>5 rows × 355 columns</p>\n",
       "</div>"
      ],
      "text/plain": [
       "   Unnamed: 0  ABILIFY  ACETAMINOPHEN.CODEINE  ACYCLOVIR  ADVAIR.DISKUS  \\\n",
       "0           0        0                      0          0              0   \n",
       "1           1        0                      0          0              0   \n",
       "2           2        0                      0          0              0   \n",
       "3           3        0                     43          0              0   \n",
       "4           4        0                      0          0              0   \n",
       "\n",
       "   AGGRENOX  ALENDRONATE.SODIUM  ALLOPURINOL  ALPRAZOLAM  AMIODARONE.HCL  \\\n",
       "0         0                   0            0           0               0   \n",
       "1         0                   0            0         134               0   \n",
       "2         0                   0            0           0               0   \n",
       "3         0                  21            0           0               0   \n",
       "4         0                   0            0           0               0   \n",
       "\n",
       "     ...     State_TX  State_UT  State_VA  State_VI  State_VT  State_WA  \\\n",
       "0    ...            1         0         0         0         0         0   \n",
       "1    ...            0         0         0         0         0         0   \n",
       "2    ...            0         0         0         0         0         0   \n",
       "3    ...            0         0         0         0         0         0   \n",
       "4    ...            0         0         0         0         0         0   \n",
       "\n",
       "   State_WI  State_WV  State_WY  State_ZZ  \n",
       "0         0         0         0         0  \n",
       "1         0         0         0         0  \n",
       "2         0         0         0         0  \n",
       "3         0         0         0         0  \n",
       "4         0         0         0         0  \n",
       "\n",
       "[5 rows x 355 columns]"
      ]
     },
     "execution_count": 4,
     "metadata": {},
     "output_type": "execute_result"
    }
   ],
   "source": [
    "prescriber_df.head()"
   ]
  },
  {
   "cell_type": "code",
   "execution_count": null,
   "metadata": {},
   "outputs": [],
   "source": []
  },
  {
   "cell_type": "code",
   "execution_count": 5,
   "metadata": {},
   "outputs": [],
   "source": [
    "#prescriber_df = pd.get_dummies(prescriber_df, columns=['Credentials', 'Specialty','State', 'Abbrev'], drop_first=True)"
   ]
  },
  {
   "cell_type": "markdown",
   "metadata": {},
   "source": [
    "### Setting up for Classification "
   ]
  },
  {
   "cell_type": "code",
   "execution_count": 6,
   "metadata": {},
   "outputs": [],
   "source": [
    "# Setting up for train test split\n",
    "\n",
    "X = prescriber_df.drop(['Opioid.Prescriber'], axis = 1).values.astype(float)\n",
    "y = prescriber_df['Opioid.Prescriber'].values"
   ]
  },
  {
   "cell_type": "code",
   "execution_count": 7,
   "metadata": {},
   "outputs": [],
   "source": [
    "# train and test split\n",
    "\n",
    "X_train, X_test, y_train, y_test = train_test_split(X, y, test_size=0.3, random_state=42)"
   ]
  },
  {
   "cell_type": "code",
   "execution_count": 8,
   "metadata": {},
   "outputs": [
    {
     "name": "stdout",
     "output_type": "stream",
     "text": [
      "0.9268426842684269\n",
      "0.9257294429708223\n"
     ]
    }
   ],
   "source": [
    "# Logistic Regression \n",
    "\n",
    "# Set up pipeline \n",
    "ss = StandardScaler()\n",
    "logreg = LogisticRegression()\n",
    "pipes = Pipeline([('ss', ss), ('logreg', logreg)])\n",
    "\n",
    "# Fit pipeline \n",
    "pipes.fit(X_train, y_train)\n",
    "print(pipes.score(X_test, y_test))\n",
    "print(pipes.score(X_train, y_train))"
   ]
  },
  {
   "cell_type": "code",
   "execution_count": 9,
   "metadata": {},
   "outputs": [
    {
     "name": "stdout",
     "output_type": "stream",
     "text": [
      "0.7376237623762376\n",
      "0.832124963159446\n"
     ]
    }
   ],
   "source": [
    "# KNN \n",
    "\n",
    "knn = KNeighborsClassifier()\n",
    "knn.fit(X_train, y_train)\n",
    "print(knn.score(X_test, y_test)) \n",
    "print(knn.score(X_train, y_train))"
   ]
  },
  {
   "cell_type": "code",
   "execution_count": 10,
   "metadata": {},
   "outputs": [
    {
     "name": "stdout",
     "output_type": "stream",
     "text": [
      "0.903052805280528\n",
      "1.0\n"
     ]
    }
   ],
   "source": [
    "# Decision Tree \n",
    "decisiontree = DecisionTreeClassifier()\n",
    "model = decisiontree.fit(X_train, y_train)\n",
    "print(model.score(X_test, y_test))\n",
    "print(model.score(X_train, y_train))"
   ]
  },
  {
   "cell_type": "code",
   "execution_count": 11,
   "metadata": {},
   "outputs": [
    {
     "name": "stdout",
     "output_type": "stream",
     "text": [
      "0.9276677667766776\n",
      "0.9908045977011494\n"
     ]
    }
   ],
   "source": [
    "# Bagged Decision\n",
    "bagging = BaggingClassifier()\n",
    "bagging.fit(X_train, y_train)\n",
    "print(bagging.score(X_test, y_test))\n",
    "print(bagging.score(X_train, y_train))"
   ]
  },
  {
   "cell_type": "code",
   "execution_count": 12,
   "metadata": {},
   "outputs": [
    {
     "name": "stdout",
     "output_type": "stream",
     "text": [
      "0.9253300330033003\n",
      "0.9930445033893309\n"
     ]
    }
   ],
   "source": [
    "# Random Forest\n",
    "rf = RandomForestClassifier()\n",
    "rf.fit(X_train, y_train)\n",
    "print(rf.score(X_test, y_test))\n",
    "print(rf.score(X_train, y_train))"
   ]
  },
  {
   "cell_type": "code",
   "execution_count": 13,
   "metadata": {},
   "outputs": [
    {
     "name": "stdout",
     "output_type": "stream",
     "text": [
      "0.9335808580858086\n",
      "0.928676687297377\n"
     ]
    }
   ],
   "source": [
    "# Adaboost\n",
    "\n",
    "abr = AdaBoostClassifier()\n",
    "abr.fit(X_train, y_train)\n",
    "print(abr.score(X_test, y_test))\n",
    "print(abr.score(X_train, y_train))\n",
    "\n",
    "# This model is overfitting, I think "
   ]
  },
  {
   "cell_type": "markdown",
   "metadata": {},
   "source": [
    "### EVALUATING MODELS \n"
   ]
  },
  {
   "cell_type": "code",
   "execution_count": 14,
   "metadata": {},
   "outputs": [],
   "source": [
    "# Define f1-score function\n",
    "def f1(model, X, y):\n",
    "    y_pred = model.predict(X)\n",
    "    f1 = metrics.f1_score(y, y_pred) \n",
    "    return f1"
   ]
  },
  {
   "cell_type": "code",
   "execution_count": 15,
   "metadata": {},
   "outputs": [
    {
     "data": {
      "text/plain": [
       "(0.935919055649241, 0.9340106839844978)"
      ]
     },
     "execution_count": 15,
     "metadata": {},
     "output_type": "execute_result"
    }
   ],
   "source": [
    "# Logistic Regression Evaluation\n",
    "\n",
    "f1(pipes, X_test, y_test), f1(pipes, X_train, y_train)"
   ]
  },
  {
   "cell_type": "code",
   "execution_count": 16,
   "metadata": {},
   "outputs": [
    {
     "data": {
      "text/plain": [
       "(0.7611417125688533, 0.848025613660619)"
      ]
     },
     "execution_count": 16,
     "metadata": {},
     "output_type": "execute_result"
    }
   ],
   "source": [
    "# KNN Evaluation \n",
    "\n",
    "f1(knn, X_test, y_test), f1(knn, X_train, y_train)"
   ]
  },
  {
   "cell_type": "code",
   "execution_count": 17,
   "metadata": {},
   "outputs": [
    {
     "data": {
      "text/plain": [
       "(0.9181279758448495, 1.0)"
      ]
     },
     "execution_count": 17,
     "metadata": {},
     "output_type": "execute_result"
    }
   ],
   "source": [
    "# Decision Tree Evaluation\n",
    "f1(decisiontree, X_test, y_test), f1(decisiontree, X_train, y_train)"
   ]
  },
  {
   "cell_type": "code",
   "execution_count": 18,
   "metadata": {},
   "outputs": [
    {
     "data": {
      "text/plain": [
       "(0.9354416835096897, 0.9940584088620343)"
      ]
     },
     "execution_count": 18,
     "metadata": {},
     "output_type": "execute_result"
    }
   ],
   "source": [
    "# Random Forest Evaluation \n",
    "\n",
    "f1(rf, X_test, y_test), f1(rf, X_train, y_train)"
   ]
  },
  {
   "cell_type": "code",
   "execution_count": 19,
   "metadata": {},
   "outputs": [
    {
     "data": {
      "text/plain": [
       "(0.9418142392482833, 0.9366691091803622)"
      ]
     },
     "execution_count": 19,
     "metadata": {},
     "output_type": "execute_result"
    }
   ],
   "source": [
    "# ADA Evaluation\n",
    "\n",
    "f1(abr, X_test, y_test), f1(abr, X_train, y_train)"
   ]
  },
  {
   "cell_type": "markdown",
   "metadata": {},
   "source": [
    "### Creating/Evaluating Model with Cross Validation "
   ]
  },
  {
   "cell_type": "code",
   "execution_count": 20,
   "metadata": {},
   "outputs": [],
   "source": [
    "# Encoding class values as integers \n",
    "encoder = LabelEncoder()\n",
    "encoder.fit(y)\n",
    "encoded_y = encoder.transform(y)"
   ]
  },
  {
   "cell_type": "code",
   "execution_count": 21,
   "metadata": {},
   "outputs": [],
   "source": [
    "def create_baseline():  # defining a function, which as my baseline\n",
    "    # Build model \n",
    "    model = Sequential()    #first layer defines the shape of the input which is X_train.shape:354\n",
    "    model.add(Dense(60, input_dim = 354, kernel_initializer= 'normal', activation = 'relu'))\n",
    "    ##then add a layer defining the activation function - relu is on of the most popular\n",
    "    #activation - should the neuron be fired or not - relu is quite efficient.\n",
    "    #A dense layer is a classic fully connected neural network layer(60) : each input node is connected to each output node.\n",
    "    \n",
    "    model.add(Dense(1, kernel_initializer = 'normal', activation = 'sigmoid'))\n",
    "    #for this layer use the sigmoid activation function\n",
    "    #sigmoid will assign a propability to each tag (total output = 1) since its a classification problem\n",
    "    # Compile Model \n",
    "    model.compile(loss = 'binary_crossentropy', optimizer = 'adam', metrics = ['accuracy'])\n",
    "    # optimizer is the function used to search for the right weights\n",
    "    #here we are using Adaptive Moment Estimation (Adam) that also uses adaptive learning rates\n",
    "    #The loss function, also called the objective function is the evaluation of the model used by the optimizer \n",
    "    # to navigate the weight space; only accuracy is supported at the moment for metrics.\n",
    "    return model"
   ]
  },
  {
   "cell_type": "code",
   "execution_count": 22,
   "metadata": {},
   "outputs": [
    {
     "name": "stdout",
     "output_type": "stream",
     "text": [
      "Epoch 1/1\n",
      "21812/21812 [==============================] - 10s 457us/step - loss: 3.1461 - acc: 0.7196\n",
      "2425/2425 [==============================] - 0s 178us/step\n",
      "Epoch 1/1\n",
      "21813/21813 [==============================] - 10s 453us/step - loss: 6.4176 - acc: 0.5855\n",
      "2424/2424 [==============================] - 0s 187us/step\n",
      "Epoch 1/1\n",
      "21813/21813 [==============================] - 10s 464us/step - loss: 6.2699 - acc: 0.5974\n",
      "2424/2424 [==============================] - 0s 194us/step\n",
      "Epoch 1/1\n",
      "21813/21813 [==============================] - 10s 457us/step - loss: 5.3807 - acc: 0.6323\n",
      "2424/2424 [==============================] - 0s 187us/step\n",
      "Epoch 1/1\n",
      "21813/21813 [==============================] - 10s 472us/step - loss: 1.6460 - acc: 0.76521s - loss - ETA: 0s - loss: 1\n",
      "2424/2424 [==============================] - 1s 360us/step\n",
      "Epoch 1/1\n",
      "21813/21813 [==============================] - 13s 594us/step - loss: 6.6290 - acc: 0.5798\n",
      "2424/2424 [==============================] - 1s 245us/step\n",
      "Epoch 1/1\n",
      "21814/21814 [==============================] - 12s 551us/step - loss: 5.7322 - acc: 0.6195\n",
      "2423/2423 [==============================] - 1s 277us/step\n",
      "Epoch 1/1\n",
      "21814/21814 [==============================] - 12s 554us/step - loss: 6.3298 - acc: 0.58730s - loss: 6.3095 -\n",
      "2423/2423 [==============================] - 1s 399us/step\n",
      "Epoch 1/1\n",
      "21814/21814 [==============================] - 12s 550us/step - loss: 6.0110 - acc: 0.6066\n",
      "2423/2423 [==============================] - 1s 277us/step\n",
      "Epoch 1/1\n",
      "21814/21814 [==============================] - 12s 544us/step - loss: 2.6170 - acc: 0.7344\n",
      "2423/2423 [==============================] - 1s 321us/step\n",
      "Results: 69.53% (11.49%)\n"
     ]
    }
   ],
   "source": [
    "# Evaluating model after standardizing the standardized dataset \n",
    "# early_stop = EarlyStopping(monitor='val_loss', min_delta=0) \n",
    "# callbacks=[early_stop])\n",
    "estimator = KerasClassifier(build_fn = create_baseline, nb_epoch = 100, batch_size = 5, verbose = 1)\n",
    "kfold = StratifiedKFold(n_splits = 10, shuffle = True, random_state = 42)\n",
    "results = cross_val_score(estimator, X, encoded_y, cv = kfold)\n",
    "print(\"Results: %.2f%% (%.2f%%)\" % (results.mean()*100, results.std()*100))"
   ]
  },
  {
   "cell_type": "code",
   "execution_count": 23,
   "metadata": {},
   "outputs": [
    {
     "name": "stdout",
     "output_type": "stream",
     "text": [
      "Epoch 1/20\n",
      " - 11s - loss: 0.3706 - acc: 0.8286\n",
      "Epoch 2/20\n",
      " - 10s - loss: 0.2939 - acc: 0.8691\n",
      "Epoch 3/20\n",
      " - 11s - loss: 0.2575 - acc: 0.8882\n",
      "Epoch 4/20\n",
      " - 12s - loss: 0.2324 - acc: 0.9007\n",
      "Epoch 5/20\n",
      " - 12s - loss: 0.2151 - acc: 0.9101\n",
      "Epoch 6/20\n",
      " - 12s - loss: 0.2017 - acc: 0.9167\n",
      "Epoch 7/20\n",
      " - 12s - loss: 0.1897 - acc: 0.9209\n",
      "Epoch 8/20\n",
      " - 11s - loss: 0.1796 - acc: 0.9244\n",
      "Epoch 9/20\n",
      " - 10s - loss: 0.1726 - acc: 0.9301\n",
      "Epoch 10/20\n",
      " - 10s - loss: 0.1636 - acc: 0.9344\n",
      "Epoch 11/20\n",
      " - 10s - loss: 0.1635 - acc: 0.9354\n",
      "Epoch 12/20\n",
      " - 11s - loss: 0.1532 - acc: 0.9404\n",
      "Epoch 13/20\n",
      " - 11s - loss: 0.1479 - acc: 0.9413\n",
      "Epoch 14/20\n",
      " - 11s - loss: 0.1418 - acc: 0.9450\n",
      "Epoch 15/20\n",
      " - 11s - loss: 0.1398 - acc: 0.9442\n",
      "Epoch 16/20\n",
      " - 11s - loss: 0.1349 - acc: 0.9459\n",
      "Epoch 17/20\n",
      " - 11s - loss: 0.1289 - acc: 0.9482\n",
      "Epoch 18/20\n",
      " - 11s - loss: 0.1276 - acc: 0.9501\n",
      "Epoch 19/20\n",
      " - 11s - loss: 0.1215 - acc: 0.9524\n",
      "Epoch 20/20\n",
      " - 12s - loss: 0.1211 - acc: 0.9531\n",
      "Epoch 1/20\n",
      " - 13s - loss: 0.3702 - acc: 0.8290\n",
      "Epoch 2/20\n",
      " - 11s - loss: 0.2932 - acc: 0.8678\n",
      "Epoch 3/20\n",
      " - 11s - loss: 0.2576 - acc: 0.8866\n",
      "Epoch 4/20\n",
      " - 12s - loss: 0.2330 - acc: 0.8997\n",
      "Epoch 5/20\n",
      " - 12s - loss: 0.2156 - acc: 0.9065\n",
      "Epoch 6/20\n",
      " - 12s - loss: 0.2020 - acc: 0.9141\n",
      "Epoch 7/20\n",
      " - 13s - loss: 0.1928 - acc: 0.9191\n",
      "Epoch 8/20\n",
      " - 13s - loss: 0.1786 - acc: 0.9266\n",
      "Epoch 9/20\n",
      " - 12s - loss: 0.1710 - acc: 0.9309\n",
      "Epoch 10/20\n",
      " - 11s - loss: 0.1637 - acc: 0.9337\n",
      "Epoch 11/20\n",
      " - 12s - loss: 0.1587 - acc: 0.9343\n",
      "Epoch 12/20\n",
      " - 11s - loss: 0.1529 - acc: 0.9381\n",
      "Epoch 13/20\n",
      " - 12s - loss: 0.1458 - acc: 0.9408\n",
      "Epoch 14/20\n",
      " - 11s - loss: 0.1422 - acc: 0.9429\n",
      "Epoch 15/20\n",
      " - 11s - loss: 0.1377 - acc: 0.9451\n",
      "Epoch 16/20\n",
      " - 11s - loss: 0.1329 - acc: 0.9461\n",
      "Epoch 17/20\n",
      " - 11s - loss: 0.1298 - acc: 0.9480\n",
      "Epoch 18/20\n",
      " - 11s - loss: 0.1270 - acc: 0.9510\n",
      "Epoch 19/20\n",
      " - 11s - loss: 0.1259 - acc: 0.9509\n",
      "Epoch 20/20\n",
      " - 11s - loss: 0.1229 - acc: 0.9524\n",
      "Epoch 1/20\n",
      " - 12s - loss: 0.3685 - acc: 0.8296\n",
      "Epoch 2/20\n",
      " - 12s - loss: 0.2907 - acc: 0.8715\n",
      "Epoch 3/20\n",
      " - 10s - loss: 0.2558 - acc: 0.8903\n",
      "Epoch 4/20\n",
      " - 10s - loss: 0.2323 - acc: 0.9012\n",
      "Epoch 5/20\n",
      " - 10s - loss: 0.2145 - acc: 0.9091\n",
      "Epoch 6/20\n",
      " - 10s - loss: 0.2039 - acc: 0.9144\n",
      "Epoch 7/20\n",
      " - 9s - loss: 0.1911 - acc: 0.9221\n",
      "Epoch 8/20\n",
      " - 10s - loss: 0.1801 - acc: 0.9257\n",
      "Epoch 9/20\n",
      " - 10s - loss: 0.1741 - acc: 0.9290\n",
      "Epoch 10/20\n",
      " - 10s - loss: 0.1645 - acc: 0.9341\n",
      "Epoch 11/20\n",
      " - 10s - loss: 0.1606 - acc: 0.9357\n",
      "Epoch 12/20\n",
      " - 10s - loss: 0.1544 - acc: 0.9398\n",
      "Epoch 13/20\n",
      " - 10s - loss: 0.1460 - acc: 0.9414\n",
      "Epoch 14/20\n",
      " - 11s - loss: 0.1419 - acc: 0.9432\n",
      "Epoch 15/20\n",
      " - 10s - loss: 0.1396 - acc: 0.9444\n",
      "Epoch 16/20\n",
      " - 10s - loss: 0.1385 - acc: 0.9455\n",
      "Epoch 17/20\n",
      " - 10s - loss: 0.1321 - acc: 0.9466\n",
      "Epoch 18/20\n",
      " - 10s - loss: 0.1269 - acc: 0.9491\n",
      "Epoch 19/20\n",
      " - 10s - loss: 0.1239 - acc: 0.9505\n",
      "Epoch 20/20\n",
      " - 10s - loss: 0.1217 - acc: 0.9525\n",
      "Epoch 1/20\n",
      " - 10s - loss: 0.3633 - acc: 0.8314\n",
      "Epoch 2/20\n",
      " - 10s - loss: 0.2893 - acc: 0.8713\n",
      "Epoch 3/20\n",
      " - 10s - loss: 0.2540 - acc: 0.8883\n",
      "Epoch 4/20\n",
      " - 11s - loss: 0.2275 - acc: 0.9046\n",
      "Epoch 5/20\n",
      " - 11s - loss: 0.2110 - acc: 0.9093\n",
      "Epoch 6/20\n",
      " - 10s - loss: 0.2001 - acc: 0.9178\n",
      "Epoch 7/20\n",
      " - 11s - loss: 0.1895 - acc: 0.9227\n",
      "Epoch 8/20\n",
      " - 10s - loss: 0.1830 - acc: 0.9258\n",
      "Epoch 9/20\n",
      " - 10s - loss: 0.1724 - acc: 0.9304\n",
      "Epoch 10/20\n",
      " - 10s - loss: 0.1644 - acc: 0.9341\n",
      "Epoch 11/20\n",
      " - 10s - loss: 0.1609 - acc: 0.9360\n",
      "Epoch 12/20\n",
      " - 10s - loss: 0.1515 - acc: 0.9410\n",
      "Epoch 13/20\n",
      " - 10s - loss: 0.1482 - acc: 0.9429\n",
      "Epoch 14/20\n",
      " - 10s - loss: 0.1432 - acc: 0.9435\n",
      "Epoch 15/20\n",
      " - 9s - loss: 0.1399 - acc: 0.9445\n",
      "Epoch 16/20\n",
      " - 9s - loss: 0.1363 - acc: 0.9469\n",
      "Epoch 17/20\n",
      " - 10s - loss: 0.1327 - acc: 0.9469\n",
      "Epoch 18/20\n",
      " - 10s - loss: 0.1279 - acc: 0.9479\n",
      "Epoch 19/20\n",
      " - 9s - loss: 0.1235 - acc: 0.9516\n",
      "Epoch 20/20\n",
      " - 9s - loss: 0.1235 - acc: 0.9518\n",
      "Epoch 1/20\n",
      " - 10s - loss: 0.3712 - acc: 0.8249\n",
      "Epoch 2/20\n",
      " - 9s - loss: 0.2922 - acc: 0.8708\n",
      "Epoch 3/20\n",
      " - 9s - loss: 0.2561 - acc: 0.8884\n",
      "Epoch 4/20\n",
      " - 9s - loss: 0.2341 - acc: 0.8988\n",
      "Epoch 5/20\n",
      " - 10s - loss: 0.2135 - acc: 0.9073\n",
      "Epoch 6/20\n",
      " - 9s - loss: 0.2022 - acc: 0.9150\n",
      "Epoch 7/20\n",
      " - 9s - loss: 0.1918 - acc: 0.9212\n",
      "Epoch 8/20\n",
      " - 10s - loss: 0.1819 - acc: 0.9258\n",
      "Epoch 9/20\n",
      " - 10s - loss: 0.1747 - acc: 0.9278\n",
      "Epoch 10/20\n",
      " - 10s - loss: 0.1673 - acc: 0.9318\n",
      "Epoch 11/20\n",
      " - 9s - loss: 0.1607 - acc: 0.9374\n",
      "Epoch 12/20\n",
      " - 9s - loss: 0.1513 - acc: 0.9380\n",
      "Epoch 13/20\n",
      " - 10s - loss: 0.1453 - acc: 0.9406\n",
      "Epoch 14/20\n",
      " - 9s - loss: 0.1427 - acc: 0.9429\n",
      "Epoch 15/20\n",
      " - 9s - loss: 0.1371 - acc: 0.9459\n",
      "Epoch 16/20\n",
      " - 9s - loss: 0.1340 - acc: 0.9457\n",
      "Epoch 17/20\n",
      " - 9s - loss: 0.1318 - acc: 0.9473\n",
      "Epoch 18/20\n",
      " - 9s - loss: 0.1292 - acc: 0.9480\n",
      "Epoch 19/20\n",
      " - 9s - loss: 0.1232 - acc: 0.9513\n",
      "Epoch 20/20\n",
      " - 9s - loss: 0.1226 - acc: 0.9531\n",
      "Epoch 1/20\n",
      " - 10s - loss: 0.3672 - acc: 0.8283\n",
      "Epoch 2/20\n",
      " - 10s - loss: 0.2897 - acc: 0.8716\n",
      "Epoch 3/20\n",
      " - 10s - loss: 0.2543 - acc: 0.8905\n",
      "Epoch 4/20\n",
      " - 9s - loss: 0.2275 - acc: 0.9036\n",
      "Epoch 5/20\n",
      " - 9s - loss: 0.2121 - acc: 0.9110\n",
      "Epoch 6/20\n",
      " - 10s - loss: 0.1979 - acc: 0.9170\n",
      "Epoch 7/20\n",
      " - 9s - loss: 0.1870 - acc: 0.9223\n",
      "Epoch 8/20\n",
      " - 10s - loss: 0.1784 - acc: 0.9276\n",
      "Epoch 9/20\n",
      " - 9s - loss: 0.1678 - acc: 0.9323\n",
      "Epoch 10/20\n",
      " - 10s - loss: 0.1637 - acc: 0.9339\n",
      "Epoch 11/20\n",
      " - 10s - loss: 0.1573 - acc: 0.9362\n",
      "Epoch 12/20\n",
      " - 10s - loss: 0.1509 - acc: 0.9387\n",
      "Epoch 13/20\n",
      " - 9s - loss: 0.1464 - acc: 0.9428\n",
      "Epoch 14/20\n",
      " - 10s - loss: 0.1412 - acc: 0.9430\n",
      "Epoch 15/20\n",
      " - 9s - loss: 0.1369 - acc: 0.9458\n",
      "Epoch 16/20\n",
      " - 9s - loss: 0.1309 - acc: 0.9483\n",
      "Epoch 17/20\n",
      " - 10s - loss: 0.1312 - acc: 0.9480\n",
      "Epoch 18/20\n",
      " - 10s - loss: 0.1253 - acc: 0.9510\n",
      "Epoch 19/20\n",
      " - 10s - loss: 0.1217 - acc: 0.9532\n",
      "Epoch 20/20\n",
      " - 10s - loss: 0.1220 - acc: 0.9529\n",
      "Epoch 1/20\n",
      " - 10s - loss: 0.3786 - acc: 0.8230\n",
      "Epoch 2/20\n",
      " - 10s - loss: 0.2976 - acc: 0.8665\n",
      "Epoch 3/20\n",
      " - 10s - loss: 0.2591 - acc: 0.8855\n",
      "Epoch 4/20\n",
      " - 10s - loss: 0.2342 - acc: 0.9012\n",
      "Epoch 5/20\n",
      " - 10s - loss: 0.2173 - acc: 0.9105\n",
      "Epoch 6/20\n",
      " - 10s - loss: 0.2044 - acc: 0.9136\n",
      "Epoch 7/20\n",
      " - 10s - loss: 0.1949 - acc: 0.9199\n",
      "Epoch 8/20\n",
      " - 10s - loss: 0.1844 - acc: 0.9244\n",
      "Epoch 9/20\n",
      " - 9s - loss: 0.1743 - acc: 0.9303\n",
      "Epoch 10/20\n",
      " - 9s - loss: 0.1687 - acc: 0.9308\n",
      "Epoch 11/20\n",
      " - 9s - loss: 0.1633 - acc: 0.9342\n",
      "Epoch 12/20\n",
      " - 9s - loss: 0.1546 - acc: 0.9386\n",
      "Epoch 13/20\n",
      " - 9s - loss: 0.1489 - acc: 0.9405\n",
      "Epoch 14/20\n",
      " - 9s - loss: 0.1459 - acc: 0.9425\n",
      "Epoch 15/20\n",
      " - 9s - loss: 0.1436 - acc: 0.9432\n",
      "Epoch 16/20\n",
      " - 9s - loss: 0.1350 - acc: 0.9465\n",
      "Epoch 17/20\n",
      " - 9s - loss: 0.1317 - acc: 0.9472\n",
      "Epoch 18/20\n",
      " - 9s - loss: 0.1283 - acc: 0.9487\n",
      "Epoch 19/20\n",
      " - 9s - loss: 0.1261 - acc: 0.9499\n",
      "Epoch 20/20\n",
      " - 9s - loss: 0.1228 - acc: 0.9514\n",
      "Epoch 1/20\n",
      " - 10s - loss: 0.3727 - acc: 0.8279\n",
      "Epoch 2/20\n",
      " - 10s - loss: 0.2957 - acc: 0.8657\n",
      "Epoch 3/20\n",
      " - 10s - loss: 0.2598 - acc: 0.8858\n",
      "Epoch 4/20\n",
      " - 10s - loss: 0.2336 - acc: 0.8995\n",
      "Epoch 5/20\n",
      " - 10s - loss: 0.2163 - acc: 0.9094\n",
      "Epoch 6/20\n",
      " - 10s - loss: 0.2035 - acc: 0.9158\n",
      "Epoch 7/20\n",
      " - 10s - loss: 0.1909 - acc: 0.9213\n",
      "Epoch 8/20\n",
      " - 10s - loss: 0.1813 - acc: 0.9255\n",
      "Epoch 9/20\n",
      " - 10s - loss: 0.1721 - acc: 0.9298\n",
      "Epoch 10/20\n",
      " - 10s - loss: 0.1664 - acc: 0.9320\n",
      "Epoch 11/20\n",
      " - 10s - loss: 0.1583 - acc: 0.9369\n",
      "Epoch 12/20\n",
      " - 10s - loss: 0.1542 - acc: 0.9377\n",
      "Epoch 13/20\n",
      " - 10s - loss: 0.1510 - acc: 0.9417\n",
      "Epoch 14/20\n",
      " - 10s - loss: 0.1429 - acc: 0.9433\n",
      "Epoch 15/20\n",
      " - 10s - loss: 0.1377 - acc: 0.9462\n",
      "Epoch 16/20\n",
      " - 10s - loss: 0.1344 - acc: 0.9472\n",
      "Epoch 17/20\n",
      " - 10s - loss: 0.1295 - acc: 0.9480\n",
      "Epoch 18/20\n",
      " - 10s - loss: 0.1297 - acc: 0.9494\n",
      "Epoch 19/20\n",
      " - 10s - loss: 0.1232 - acc: 0.9527\n",
      "Epoch 20/20\n",
      " - 10s - loss: 0.1194 - acc: 0.9538\n",
      "Epoch 1/20\n",
      " - 10s - loss: 0.3675 - acc: 0.8305\n",
      "Epoch 2/20\n",
      " - 10s - loss: 0.2935 - acc: 0.8674\n",
      "Epoch 3/20\n",
      " - 10s - loss: 0.2559 - acc: 0.8887\n",
      "Epoch 4/20\n",
      " - 10s - loss: 0.2334 - acc: 0.8988\n",
      "Epoch 5/20\n",
      " - 10s - loss: 0.2144 - acc: 0.9075\n",
      "Epoch 6/20\n",
      " - 10s - loss: 0.2036 - acc: 0.9136\n",
      "Epoch 7/20\n",
      " - 10s - loss: 0.1888 - acc: 0.9225\n",
      "Epoch 8/20\n",
      " - 9s - loss: 0.1797 - acc: 0.9263\n",
      "Epoch 9/20\n",
      " - 10s - loss: 0.1718 - acc: 0.9305\n",
      "Epoch 10/20\n",
      " - 9s - loss: 0.1625 - acc: 0.9348\n",
      "Epoch 11/20\n",
      " - 10s - loss: 0.1579 - acc: 0.9362\n",
      "Epoch 12/20\n",
      " - 10s - loss: 0.1539 - acc: 0.9381\n",
      "Epoch 13/20\n",
      " - 10s - loss: 0.1464 - acc: 0.9418\n",
      "Epoch 14/20\n"
     ]
    },
    {
     "name": "stdout",
     "output_type": "stream",
     "text": [
      " - 9s - loss: 0.1451 - acc: 0.9426\n",
      "Epoch 15/20\n",
      " - 10s - loss: 0.1378 - acc: 0.9442\n",
      "Epoch 16/20\n",
      " - 10s - loss: 0.1345 - acc: 0.9470\n",
      "Epoch 17/20\n",
      " - 9s - loss: 0.1312 - acc: 0.9472\n",
      "Epoch 18/20\n",
      " - 10s - loss: 0.1278 - acc: 0.9492\n",
      "Epoch 19/20\n",
      " - 10s - loss: 0.1266 - acc: 0.9505\n",
      "Epoch 20/20\n",
      " - 10s - loss: 0.1209 - acc: 0.9533\n",
      "Epoch 1/20\n",
      " - 11s - loss: 0.3728 - acc: 0.8276\n",
      "Epoch 2/20\n",
      " - 10s - loss: 0.2941 - acc: 0.8686\n",
      "Epoch 3/20\n",
      " - 10s - loss: 0.2585 - acc: 0.8864\n",
      "Epoch 4/20\n",
      " - 10s - loss: 0.2359 - acc: 0.8984\n",
      "Epoch 5/20\n",
      " - 10s - loss: 0.2182 - acc: 0.9090\n",
      "Epoch 6/20\n",
      " - 10s - loss: 0.2042 - acc: 0.9151\n",
      "Epoch 7/20\n",
      " - 10s - loss: 0.1944 - acc: 0.9203\n",
      "Epoch 8/20\n",
      " - 10s - loss: 0.1826 - acc: 0.9261\n",
      "Epoch 9/20\n",
      " - 10s - loss: 0.1758 - acc: 0.9303\n",
      "Epoch 10/20\n",
      " - 10s - loss: 0.1708 - acc: 0.9321\n",
      "Epoch 11/20\n",
      " - 10s - loss: 0.1631 - acc: 0.9355\n",
      "Epoch 12/20\n",
      " - 10s - loss: 0.1556 - acc: 0.9375\n",
      "Epoch 13/20\n",
      " - 10s - loss: 0.1493 - acc: 0.9396\n",
      "Epoch 14/20\n",
      " - 10s - loss: 0.1438 - acc: 0.9427\n",
      "Epoch 15/20\n",
      " - 10s - loss: 0.1418 - acc: 0.9443\n",
      "Epoch 16/20\n",
      " - 10s - loss: 0.1380 - acc: 0.9460\n",
      "Epoch 17/20\n",
      " - 10s - loss: 0.1337 - acc: 0.9462\n",
      "Epoch 18/20\n",
      " - 10s - loss: 0.1326 - acc: 0.9483\n",
      "Epoch 19/20\n",
      " - 10s - loss: 0.1279 - acc: 0.9480\n",
      "Epoch 20/20\n",
      " - 10s - loss: 0.1250 - acc: 0.9502\n",
      "Standardized: 88.77% (1.02%)\n"
     ]
    }
   ],
   "source": [
    "#Evaluatig  baseline Neural network model with standardized dataset \n",
    "# if you have patience to wait  35-45 minutes then re-run this, it needs ver very longer time to process.\n",
    "estimators = []\n",
    "estimators.append(('standardize', StandardScaler()))\n",
    "estimators.append(('mlp', KerasClassifier(build_fn=create_baseline, epochs = 20, batch_size = 5, verbose = 2)))\n",
    "pipeline = Pipeline(estimators)\n",
    "kfold = StratifiedKFold(n_splits = 10, shuffle = True, random_state = 42)\n",
    "results = cross_val_score(pipeline, X, y, cv = kfold)\n",
    "print(\"Standardized: %.2f%% (%.2f%%)\" % (results.mean()*100, results.std()*100))"
   ]
  },
  {
   "cell_type": "code",
   "execution_count": 24,
   "metadata": {},
   "outputs": [
    {
     "name": "stdout",
     "output_type": "stream",
     "text": [
      "On cross validation model gives accuracy of: 88.77% with a std of (1.02%)\n"
     ]
    }
   ],
   "source": [
    "print(\"On cross validation model gives accuracy of: %.2f%% with a std of (%.2f%%)\" % (results.mean()*100, results.std()*100))"
   ]
  },
  {
   "cell_type": "markdown",
   "metadata": {},
   "source": [
    "## Conclusive Models "
   ]
  },
  {
   "cell_type": "code",
   "execution_count": 25,
   "metadata": {},
   "outputs": [],
   "source": [
    "def create_baseline():  # defining a function, which as my baseline\n",
    "    # Build model \n",
    "    model = Sequential()    #first layer defines the shape of the input which is X_train.shape:354\n",
    "    model.add(Dense(60, input_dim = 354, kernel_initializer= 'normal', activation = 'relu'))\n",
    "    ##then add a layer defining the activation function - relu is on of the most popular\n",
    "    #activation - should the neuron be fired or not - relu is quite efficient.\n",
    "    #A dense layer is a classic fully connected neural network layer(60) : each input node is connected to each output node.\n",
    "    \n",
    "    model.add(Dense(1, kernel_initializer = 'normal', activation = 'sigmoid'))\n",
    "    #for this layer use the sigmoid activation function\n",
    "    #sigmoid will assign a propability to each tag (total output = 1) since its a classification problem\n",
    "    # Compile Model \n",
    "    model.compile(loss = 'binary_crossentropy', optimizer = 'adam', metrics = ['accuracy'])\n",
    "    # optimizer is the function used to search for the right weights\n",
    "    #here we are using Adaptive Moment Estimation (Adam) that also uses adaptive learning rates\n",
    "    #The loss function, also called the objective function is the evaluation of the model used by the optimizer \n",
    "    # to navigate the weight space; only accuracy is supported at the moment for metrics.\n",
    "    return model"
   ]
  },
  {
   "cell_type": "code",
   "execution_count": 26,
   "metadata": {},
   "outputs": [],
   "source": [
    "model = Sequential()    #first layer defines the shape of the input which is X_train.shape:354\n",
    "##then add a layer defining the activation function - relu is on of the most popular\n",
    "#activation - should the neuron be fired or not - relu is quite efficient.\n",
    "#A dense layer is a classic fully connected neural network layer(60) : each input node is connected to each output node.\n",
    "    \n",
    "model.add(Dense(60, input_dim = 354, kernel_initializer = 'normal', activation = 'relu'))\n",
    "#for this layer use the sigmoid activation function\n",
    "#sigmoid will assign a propability to each tag (total output = 1) since its a classification problem\n",
    "model.add(Dense(1, kernel_initializer = 'normal', activation = 'sigmoid'))\n",
    "\n",
    "# Compiling Model \n",
    "\n",
    "earlystop = EarlyStopping(monitor = 'val_loss', min_delta = 0, patience = 2, verbose = 0, mode = 'auto')\n",
    "callbacks_list = [earlystop]\n",
    "model.compile(loss = 'binary_crossentropy', optimizer = 'adam', metrics = ['accuracy'])\n",
    "# optimizer is the function used to search for the right weights\n",
    "#here we are using Adaptive Moment Estimation (Adam) that also uses adaptive learning rates\n",
    " #The loss function, also called the objective function is the evaluation of the model used by the optimizer \n",
    "# to navigate the weight space; only accuracy is supported at the moment for metrics."
   ]
  },
  {
   "cell_type": "code",
   "execution_count": 27,
   "metadata": {},
   "outputs": [
    {
     "name": "stdout",
     "output_type": "stream",
     "text": [
      "Train on 21813 samples, validate on 2424 samples\n",
      "Epoch 1/20\n",
      " - 11s - loss: 4.0963 - acc: 0.6854 - val_loss: 6.4082 - val_acc: 0.5957\n",
      "Epoch 2/20\n",
      " - 11s - loss: 2.2342 - acc: 0.7976 - val_loss: 1.3709 - val_acc: 0.8317\n",
      "Epoch 3/20\n",
      " - 11s - loss: 0.5032 - acc: 0.8770 - val_loss: 0.3846 - val_acc: 0.7240\n",
      "Epoch 4/20\n",
      " - 11s - loss: 0.2883 - acc: 0.8963 - val_loss: 0.3006 - val_acc: 0.8894\n",
      "Epoch 5/20\n",
      " - 11s - loss: 0.2634 - acc: 0.9008 - val_loss: 0.2714 - val_acc: 0.8944\n",
      "Epoch 6/20\n",
      " - 11s - loss: 0.2453 - acc: 0.9070 - val_loss: 0.2389 - val_acc: 0.9097\n",
      "Epoch 7/20\n",
      " - 11s - loss: 0.2342 - acc: 0.9116 - val_loss: 0.3404 - val_acc: 0.7574\n",
      "Epoch 8/20\n",
      " - 11s - loss: 0.2333 - acc: 0.9144 - val_loss: 0.2147 - val_acc: 0.9175\n",
      "Epoch 9/20\n",
      " - 11s - loss: 0.2293 - acc: 0.9165 - val_loss: 0.2273 - val_acc: 0.9130\n",
      "Epoch 10/20\n",
      " - 11s - loss: 0.2305 - acc: 0.9168 - val_loss: 0.2919 - val_acc: 0.8833\n"
     ]
    }
   ],
   "source": [
    "history = model.fit(X, y, validation_split = 0.1, epochs = 20, batch_size = 5, verbose = 2, callbacks = callbacks_list)"
   ]
  },
  {
   "cell_type": "code",
   "execution_count": 28,
   "metadata": {},
   "outputs": [
    {
     "name": "stdout",
     "output_type": "stream",
     "text": [
      "24237/24237 [==============================] - 1s 38us/step\n"
     ]
    }
   ],
   "source": [
    "loss, accuracy = model.evaluate(X, y)"
   ]
  },
  {
   "cell_type": "code",
   "execution_count": 29,
   "metadata": {},
   "outputs": [
    {
     "data": {
      "text/plain": [
       "0.9148409456665103"
      ]
     },
     "execution_count": 29,
     "metadata": {},
     "output_type": "execute_result"
    }
   ],
   "source": [
    "accuracy"
   ]
  },
  {
   "cell_type": "code",
   "execution_count": 30,
   "metadata": {},
   "outputs": [
    {
     "data": {
      "text/plain": [
       "0.23092762610008993"
      ]
     },
     "execution_count": 30,
     "metadata": {},
     "output_type": "execute_result"
    }
   ],
   "source": [
    "loss"
   ]
  },
  {
   "cell_type": "markdown",
   "metadata": {},
   "source": [
    "### Standardize variables or  Features of the dataset "
   ]
  },
  {
   "cell_type": "code",
   "execution_count": 31,
   "metadata": {},
   "outputs": [],
   "source": [
    "min_max_scaler = preprocessing.MinMaxScaler()\n",
    "x_minmax = min_max_scaler.fit_transform(X)\n",
    "X_test_minmax = min_max_scaler.transform(X_test)\n",
    "\n",
    "scaler = StandardScaler()\n",
    "scaler.fit(X)\n",
    "X_scaled = scaler.transform(X)"
   ]
  },
  {
   "cell_type": "code",
   "execution_count": 32,
   "metadata": {},
   "outputs": [
    {
     "name": "stdout",
     "output_type": "stream",
     "text": [
      "Train on 18177 samples, validate on 6060 samples\n",
      "Epoch 1/20\n",
      " - 10s - loss: 0.3745 - acc: 0.8300 - val_loss: 0.3668 - val_acc: 0.8252\n",
      "Epoch 2/20\n",
      " - 10s - loss: 0.3045 - acc: 0.8633 - val_loss: 0.3197 - val_acc: 0.8655\n",
      "Epoch 3/20\n",
      " - 10s - loss: 0.2674 - acc: 0.8833 - val_loss: 0.3026 - val_acc: 0.8762\n",
      "Epoch 4/20\n",
      " - 10s - loss: 0.2380 - acc: 0.8968 - val_loss: 0.3037 - val_acc: 0.8746\n",
      "Epoch 5/20\n",
      " - 10s - loss: 0.2163 - acc: 0.9093 - val_loss: 0.3061 - val_acc: 0.8805\n"
     ]
    }
   ],
   "source": [
    "history = model.fit(X_scaled, y, validation_split = 0.25, epochs = 20, batch_size = 5, verbose = 2, callbacks = callbacks_list)"
   ]
  },
  {
   "cell_type": "code",
   "execution_count": 33,
   "metadata": {},
   "outputs": [
    {
     "name": "stdout",
     "output_type": "stream",
     "text": [
      "24237/24237 [==============================] - 1s 40us/step\n"
     ]
    }
   ],
   "source": [
    "loss, accuracy = model.evaluate(X_scaled, y)"
   ]
  },
  {
   "cell_type": "code",
   "execution_count": 34,
   "metadata": {},
   "outputs": [
    {
     "data": {
      "text/plain": [
       "0.914057020260742"
      ]
     },
     "execution_count": 34,
     "metadata": {},
     "output_type": "execute_result"
    }
   ],
   "source": [
    "accuracy"
   ]
  },
  {
   "cell_type": "code",
   "execution_count": 35,
   "metadata": {},
   "outputs": [
    {
     "data": {
      "text/plain": [
       "0.21761873970682405"
      ]
     },
     "execution_count": 35,
     "metadata": {},
     "output_type": "execute_result"
    }
   ],
   "source": [
    "loss"
   ]
  },
  {
   "cell_type": "code",
   "execution_count": 36,
   "metadata": {},
   "outputs": [
    {
     "name": "stdout",
     "output_type": "stream",
     "text": [
      "dict_keys(['val_loss', 'val_acc', 'loss', 'acc'])\n"
     ]
    },
    {
     "data": {
      "image/png": "[encoded data removed]",
      "text/plain": [
       "<Figure size 432x288 with 1 Axes>"
      ]
     },
     "metadata": {
      "image/png": {
       "height": 304,
       "width": 448
      }
     },
     "output_type": "display_data"
    },
    {
     "data": {
      "image/png": "[encoded data removed]",
      "text/plain": [
       "<Figure size 432x288 with 1 Axes>"
      ]
     },
     "metadata": {
      "image/png": {
       "height": 304,
       "width": 449
      }
     },
     "output_type": "display_data"
    }
   ],
   "source": [
    "# formula adapted from Justin Lecture notes and python machin learning packtbooks online\n",
    "print(history.history.keys())\n",
    "# summarize history for accuracy\n",
    "plt.plot(history.history['acc'])\n",
    "plt.plot(history.history['val_acc'])\n",
    "plt.title('model accuracy')\n",
    "plt.ylabel('accuracy')\n",
    "plt.xlabel('epoch')\n",
    "plt.ylim(0.7,1)\n",
    "plt.legend(['train', 'test'], loc='upper right')\n",
    "plt.show()\n",
    "# summarize history for loss\n",
    "plt.plot(history.history['loss'])\n",
    "plt.plot(history.history['val_loss'])\n",
    "plt.title('model loss')\n",
    "plt.ylabel('loss')\n",
    "plt.xlabel('epoch')\n",
    "plt.ylim(0,0.7)\n",
    "plt.legend(['train', 'test'], loc='upper right')\n",
    "plt.show()"
   ]
  },
  {
   "cell_type": "code",
   "execution_count": 37,
   "metadata": {},
   "outputs": [
    {
     "name": "stdout",
     "output_type": "stream",
     "text": [
      "Train on 16965 samples, validate on 7272 samples\n",
      "Epoch 1/30\n",
      " - 16s - loss: 6.5879 - acc: 0.5861 - val_loss: 6.5024 - val_acc: 0.5921\n",
      "Epoch 2/30\n",
      " - 14s - loss: 6.6163 - acc: 0.5849 - val_loss: 6.4980 - val_acc: 0.5923\n",
      "Epoch 3/30\n",
      " - 14s - loss: 6.5284 - acc: 0.5905 - val_loss: 6.4801 - val_acc: 0.5935\n",
      "Epoch 4/30\n",
      " - 14s - loss: 7.9655 - acc: 0.5038 - val_loss: 8.8759 - val_acc: 0.4491\n",
      "Epoch 5/30\n",
      " - 14s - loss: 7.7084 - acc: 0.5195 - val_loss: 6.4774 - val_acc: 0.5935\n",
      "Epoch 6/30\n",
      " - 14s - loss: 6.5002 - acc: 0.5922 - val_loss: 6.4747 - val_acc: 0.5938\n",
      "Epoch 7/30\n",
      " - 14s - loss: 8.3948 - acc: 0.4785 - val_loss: 9.0143 - val_acc: 0.4405\n",
      "Epoch 8/30\n",
      " - 14s - loss: 7.0827 - acc: 0.5576 - val_loss: 8.0303 - val_acc: 0.5017\n"
     ]
    }
   ],
   "source": [
    "from keras import regularizers\n",
    "import numpy as np\n",
    "from keras.layers import Dropout\n",
    "from keras.callbacks import EarlyStopping\n",
    "np.random.seed(2018)\n",
    "\n",
    "model= Sequential()\n",
    "n_input = X_train.shape[1]\n",
    "n_hidden = n_input\n",
    "n_output = 1\n",
    "#first layer defines the shape of the input which is X_train.shape\n",
    "#then add a layer defining the activation function - relu is on of the most popular\n",
    "#activation - should the neuron be fired or not - relu is quite efficient.\n",
    "model.add(Dense(n_hidden, input_dim=n_input, activation='relu'))\n",
    "#A dense layer is a classic fully connected neural network layer : each input node is connected to each output node.\n",
    "#for this layer use the sigmoid activation function\n",
    "#sigmoid will assign a propability to each tag (total output = 1) since its a classification problem\n",
    "model.add(Dense(n_output, activation='sigmoid'))\n",
    "\n",
    "#now we compile the model\n",
    "#optimizer is the function used to search for the right weights\n",
    "#here we are using Adaptive Moment Estimation (Adam) that also uses adaptive learning rates\n",
    "#The loss function, also called the objective function is the evaluation of the model used by the optimizer \n",
    "# to navigate the weight space; only accuracy is supported at the moment for metrics.\n",
    "\n",
    "earlystop = EarlyStopping(monitor = 'val_loss', min_delta = 0, patience = 2, verbose = 0, mode = 'auto')\n",
    "callbacks_list = [earlystop]\n",
    "model.compile(loss='binary_crossentropy', optimizer='adam', \n",
    "                metrics=['acc'])\n",
    "\n",
    "#early_stop = EarlyStopping(monitor='val_loss', min_delta=0) \n",
    "\n",
    "history = model.fit(X_train, y_train, validation_data=(X_test, y_test),\n",
    "                      epochs=30, batch_size= 5,verbose =2,callbacks = callbacks_list)"
   ]
  },
  {
   "cell_type": "code",
   "execution_count": 38,
   "metadata": {},
   "outputs": [
    {
     "data": {
      "text/plain": [
       "<matplotlib.legend.Legend at 0x1a3a63a828>"
      ]
     },
     "execution_count": 38,
     "metadata": {},
     "output_type": "execute_result"
    },
    {
     "data": {
      "image/png": "[encoded data removed]",
      "text/plain": [
       "<Figure size 432x288 with 1 Axes>"
      ]
     },
     "metadata": {
      "image/png": {
       "height": 256,
       "width": 408
      }
     },
     "output_type": "display_data"
    }
   ],
   "source": [
    "train_loss = history.history['loss']\n",
    "test_loss = history.history['val_loss']\n",
    "plt.plot(train_loss, label='Training loss')\n",
    "plt.plot(test_loss, label='Testing loss')\n",
    "plt.legend()"
   ]
  },
  {
   "cell_type": "code",
   "execution_count": 39,
   "metadata": {},
   "outputs": [
    {
     "data": {
      "text/plain": [
       "(0.5576186388941806, 0.5016501766718654)"
      ]
     },
     "execution_count": 39,
     "metadata": {},
     "output_type": "execute_result"
    }
   ],
   "source": [
    "history.history['acc'][-1], history.history['val_acc'][-1]"
   ]
  },
  {
   "cell_type": "code",
   "execution_count": 40,
   "metadata": {},
   "outputs": [
    {
     "name": "stdout",
     "output_type": "stream",
     "text": [
      "24237/24237 [==============================] - 1s 52us/step\n"
     ]
    }
   ],
   "source": [
    "loss, accuracy = model.evaluate(X_scaled, y)"
   ]
  },
  {
   "cell_type": "code",
   "execution_count": 41,
   "metadata": {},
   "outputs": [
    {
     "data": {
      "text/plain": [
       "0.5752362091054753"
      ]
     },
     "execution_count": 41,
     "metadata": {},
     "output_type": "execute_result"
    }
   ],
   "source": [
    "accuracy"
   ]
  },
  {
   "cell_type": "code",
   "execution_count": 42,
   "metadata": {},
   "outputs": [
    {
     "data": {
      "text/plain": [
       "6.493203932712607"
      ]
     },
     "execution_count": 42,
     "metadata": {},
     "output_type": "execute_result"
    }
   ],
   "source": [
    "loss"
   ]
  },
  {
   "cell_type": "code",
   "execution_count": 43,
   "metadata": {},
   "outputs": [
    {
     "name": "stdout",
     "output_type": "stream",
     "text": [
      "dict_keys(['val_loss', 'val_acc', 'loss', 'acc'])\n"
     ]
    },
    {
     "data": {
      "image/png": "[encoded data removed]",
      "text/plain": [
       "<Figure size 432x288 with 1 Axes>"
      ]
     },
     "metadata": {
      "image/png": {
       "height": 304,
       "width": 448
      }
     },
     "output_type": "display_data"
    },
    {
     "data": {
      "image/png": "[encoded data removed]",
      "text/plain": [
       "<Figure size 432x288 with 1 Axes>"
      ]
     },
     "metadata": {
      "image/png": {
       "height": 304,
       "width": 449
      }
     },
     "output_type": "display_data"
    }
   ],
   "source": [
    "# formula adapted from Justin Lecture notes and python machin learning packtbooks online\n",
    "print(history.history.keys())\n",
    "# summarize history for accuracy\n",
    "plt.plot(history.history['acc'])\n",
    "plt.plot(history.history['val_acc'])\n",
    "plt.title('model accuracy')\n",
    "plt.ylabel('accuracy')\n",
    "plt.xlabel('epoch')\n",
    "plt.ylim(0.7,1)\n",
    "plt.legend(['train', 'test'], loc='upper right')\n",
    "plt.show()\n",
    "# summarize history for loss\n",
    "plt.plot(history.history['loss'])\n",
    "plt.plot(history.history['val_loss'])\n",
    "plt.title('model loss')\n",
    "plt.ylabel('loss')\n",
    "plt.xlabel('epoch')\n",
    "plt.ylim(0,0.7)\n",
    "plt.legend(['train', 'test'], loc='upper right')\n",
    "plt.show()"
   ]
  },
  {
   "cell_type": "code",
   "execution_count": null,
   "metadata": {},
   "outputs": [],
   "source": []
  }
 ],
 "metadata": {
  "kernelspec": {
   "display_name": "Python 3",
   "language": "python",
   "name": "python3"
  },
  "language_info": {
   "codemirror_mode": {
    "name": "ipython",
    "version": 3
   },
   "file_extension": ".py",
   "mimetype": "text/x-python",
   "name": "python",
   "nbconvert_exporter": "python",
   "pygments_lexer": "ipython3",
   "version": "3.6.5"
  }
 },
 "nbformat": 4,
 "nbformat_minor": 2
}
